{
 "cells": [
  {
   "cell_type": "markdown",
   "id": "60d21816-aec6-44a1-a80c-611da609e1be",
   "metadata": {},
   "source": [
    "## Observing how other institutions are handeling sensitive, derogatory, or racist data\n",
    "\n",
    "## The Metropolitan Museum of Art"
   ]
  },
  {
   "cell_type": "code",
   "execution_count": 5,
   "id": "2fb6bc7a-4f64-4fbe-8dbb-0b3c7e1f362d",
   "metadata": {
    "jupyter": {
     "source_hidden": true
    }
   },
   "outputs": [],
   "source": [
    "# import libraries\n",
    "\n",
    "import pandas as pd\n",
    "import numpy as np\n",
    "import requests\n",
    "import warnings\n",
    "import matplotlib.pyplot as plt\n",
    "import seaborn as sns\n",
    "import re\n",
    "from IPython.display import display, Image\n",
    "\n",
    "# set options\n",
    "pd.set_option('display.max_columns', None)\n",
    "pd.set_option('display.max_colwidth',None)\n",
    "pd.set_option('display.max_rows', None)\n",
    "import warnings \n",
    "  \n",
    "\n",
    "warnings.filterwarnings('ignore') "
   ]
  },
  {
   "cell_type": "code",
   "execution_count": 7,
   "id": "3d0bc28e-3f19-4a96-a3f4-4cffe7a68b6b",
   "metadata": {},
   "outputs": [
    {
     "data": {
      "text/html": [
       "<img src=\"Screenshot 2025-04-15 at 4.44.56 PM.png\" width=\"600\"/>"
      ],
      "text/plain": [
       "<IPython.core.display.Image object>"
      ]
     },
     "metadata": {},
     "output_type": "display_data"
    },
    {
     "data": {
      "text/html": [
       "<img src=\"Screenshot 2025-04-15 at 4.39.47 PM.png\" width=\"600\"/>"
      ],
      "text/plain": [
       "<IPython.core.display.Image object>"
      ]
     },
     "metadata": {},
     "output_type": "display_data"
    }
   ],
   "source": [
    "image_path_1 = 'Screenshot 2025-04-15 at 4.44.56 PM.png'\n",
    "image_path_2 = 'Screenshot 2025-04-15 at 4.39.47 PM.png'\n",
    "display(Image(url = image_path_1, width = 600))\n",
    "display(Image(url = image_path_2, width = 600))"
   ]
  },
  {
   "cell_type": "markdown",
   "id": "d17ce501-e0ca-4646-a0d6-b7a99f439c1f",
   "metadata": {},
   "source": [
    "## The National Museum of African American History and Culture (NMAAHC)\n",
    "[https://nmaahc.si.edu/object/nmaahc_2013.68.52?destination=/explore/collection/search%3Fedan_q%3Dnigger]\n",
    "\n",
    "## British Museum / Victoria & Albert Museum (V&A)\n",
    "[https://collections.vam.ac.uk/item/O1274178/oh-england-is-de-grand-sheet-music-bunn-alfred/]\n",
    "\n",
    "## Peabody Museum of Archaeology & Ethnology (Harvard)\n",
    "[https://collections.peabody.harvard.edu/objects/details/668205?ctx=9bb669790362214e8be36feb3f41ea1284cee50b]\n",
    "\n",
    "## Rijksmuseum (Netherlands) – \"Adjustment of Colonial Terminology\"\n",
    "* 2015, Renamed artworks with offensive titles (e.g., changing \"Negro\" to \"Black\" in descriptions)."
   ]
  },
  {
   "cell_type": "markdown",
   "id": "2bc8aebc-5304-4ce0-b3f2-b73cce2e2779",
   "metadata": {},
   "source": [
    "## Smithsonian"
   ]
  },
  {
   "cell_type": "code",
   "execution_count": 15,
   "id": "4e040d6a-8b22-4412-8768-6b8bcbe177dd",
   "metadata": {},
   "outputs": [
    {
     "data": {
      "text/html": [
       "<img src=\"Screenshot 2025-04-15 at 4.03.38 PM.png\" width=\"600\"/>"
      ],
      "text/plain": [
       "<IPython.core.display.Image object>"
      ]
     },
     "metadata": {},
     "output_type": "display_data"
    }
   ],
   "source": [
    "image_path = 'Screenshot 2025-04-15 at 4.03.38 PM.png'\n",
    "display(Image(url = image_path, width = 600))"
   ]
  },
  {
   "cell_type": "markdown",
   "id": "102f9e99-4efb-4264-a235-4097afcf045e",
   "metadata": {},
   "source": [
    "## EU sponsored Europeana \n",
    "* empowers the cultural heritage sector in its digital transformation. We develop expertise, tools and policies to embrace digital change and encourage partnerships that foster innovation."
   ]
  },
  {
   "cell_type": "code",
   "execution_count": 18,
   "id": "3dc12ad4-9c7c-49d7-812e-6f03d3427311",
   "metadata": {},
   "outputs": [
    {
     "data": {
      "text/html": [
       "<img src=\"Screenshot 2025-04-15 at 5.17.13 PM.png\" width=\"600\"/>"
      ],
      "text/plain": [
       "<IPython.core.display.Image object>"
      ]
     },
     "metadata": {},
     "output_type": "display_data"
    }
   ],
   "source": [
    "image_path = 'Screenshot 2025-04-15 at 5.17.13 PM.png'\n",
    "display(Image(url = image_path, width = 600))"
   ]
  },
  {
   "cell_type": "markdown",
   "id": "f97662de-e312-44ea-98eb-3490dc05eb8c",
   "metadata": {},
   "source": [
    "## Questions\n",
    "\n",
    "what is the culture of women artists?\n",
    "what artists are collected over time?\n",
    "who are biggest named donors? Where are they from? What are the cominalities of the work? Alum?\n",
    "\n",
    "mine publicaitons field\n",
    "\n",
    "AI\n",
    "use tags by year to find out:\n",
    "what genere/gender/subject is collected over time?\n",
    "\n",
    "what genere is made over time?\n",
    "\n",
    "what direction are women looking?\n",
    "what direction are men looking?\n",
    "\n",
    "future project:\n",
    "build model based on image text pairs- what bias is there when it evaluates?"
   ]
  }
 ],
 "metadata": {
  "kernelspec": {
   "display_name": "Python (myenv)",
   "language": "python",
   "name": "myenv"
  },
  "language_info": {
   "codemirror_mode": {
    "name": "ipython",
    "version": 3
   },
   "file_extension": ".py",
   "mimetype": "text/x-python",
   "name": "python",
   "nbconvert_exporter": "python",
   "pygments_lexer": "ipython3",
   "version": "3.12.2"
  }
 },
 "nbformat": 4,
 "nbformat_minor": 5
}
