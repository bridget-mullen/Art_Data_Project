{
 "cells": [
  {
   "cell_type": "markdown",
   "id": "5fa751c4-4b4c-4092-89fe-2b361af44c19",
   "metadata": {},
   "source": [
    "\n",
    "\n",
    "# Harvard Art Museum Dynamic Image Search and Recommendation\n",
    "Final Project CSCI S-108 Data Mining, Discovery, and Exploration\n",
    "\n",
    "Bridget Atchison-Nevel\n",
    "\n",
    "Professor: Stephen Elston\n",
    "\n",
    " May 2025\n",
    "\n",
    "## Executive summary\n",
    "---\n",
    "\n",
    "### Problem Statement:\n",
    "The Harvard Art Museums Collection's Catalog is a a digital repository of all 250,000 art objects contained in the collection. The current public access point for searching this extensive collection is a search bar on the HAM website that performs a keyword search, often yielding less-than-optimal results.\n",
    "\n",
    "The current search is performed by a SQL-style based lookup call to the database. However, such a lookup frequently fails to return relevant results when the keywords are visual in nature. For instance, the search term ‘blue painting’ returns both non-painting items and paintings that aren’t blue. Another issue is that the search seems to be strict, as ‘ancient Chinese vase’ returns no records, while ‘Chinese vase’ returns 132 items, many of which are ancient. Furthermore, any mistyping or spelling error in the search terms results in no records because there’s no natural language processing (NLP) applied to the search terms, causing ‘photo’ and ‘photograph’ to return vastly different numbers of items.\n",
    "\n",
    "This limited search approach is inadequate for anyone seeking to perform a search based on visual elements. My objective is to develop a search and recommendation system that returns relevant items and enables users to ‘like’ their preferred images. The recommender will then return images that closely resemble ‘liked’ images. Initially, this search will begin with a user generated query and then will continue to be driven by user preferences. \n",
    "\n",
    "### Value of Project\n",
    "The Harvard Museum Collections provide a digital platform for anyone interested in exploring their extensive collection. Users can browse curated collections or use the search bar to find specific items. However, the search function is limited and lacks the ability to prioritize personal preferences. As consumers accustomed to algorithmic searches, we often overlook systems without optimized search or recommendation features.\n",
    "\n",
    "One challenge is that cultural institutions like museums, libraries, and public archives are not consumer-driven and lack the financial resources to develop these tools. In our increasingly capitalist society, AI resources are heavily focused on corporate escapes, leaving institutions serving the arts behind.\n",
    "\n",
    "This project is crucial because it serves individuals seeking art for academic or personal reasons. While there’s no financial incentive, investing in this project is essential.\n",
    "\n",
    "### Results  \n",
    "I have created a dynamic system that successfully collects a user query and returns images of the most similar objects in the database. I have provided a Jupyter notebook widget-based UI where the user is able to click on images to 'like' them. Clicking again will unlike the images. At any point, the user is able to query the database for new recommendations based on their liked images. There is a button to clear all likes. The search bar additionally remains throughout the process, and a new query-based search can be performed at any time.\n",
    "\n",
    "\n",
    "## Discussion of Techniques Employed\n",
    "---\n",
    "### Data Selection \n",
    "I have used the 'object' table of the HAM database as well as the ‘annotations' table. There are approximately 250,000 object records. I excluded objects that did not have Machine Generated Descriptions. The final count of objects available for my recommender query is 117,243.  Each object record has 79 fields. I spent a considerable amount of time exploring the ability of available fields to identify the objects. I began working with a toy version of the data, 24,000 records long and eventually pulled all 117,243 records into the recommender.\n",
    "\n",
    "In the final product, each object is represented as both an image: CLIP embedded image vector, \n",
    "and as a text: a tf-idf matrix vector (created from the merged Machine generated annotations and record text fields. )\n",
    "\n",
    "### Embedding with CLIP\n",
    "I used OpenAI’s CLIP (Contrastive Language–Image Pre-training) to vectorize the images. CLIP is a joint image and text embedding model trained using 400 million image and text pairs in a self-supervised way. This model has image processing capabilities similar to ImageNet and ResNet but performs better with high level sematics and is known to be better at processing artwork.(Conde and Turgutlu, 2021) I had originally planned to embed the query text with CLIP and be able to search the image space with the text. This approach did not return good results. The problem may have been that often the user query text is just a few words. This approach may work better with longer search queries. \n",
    "\n",
    "Once embedded using CLIP, the HAM art objects were easy to compare via cosine similarity. The results were quite stunning.\n",
    "\n",
    "### Embedding with TF-IDF using HAM ML Annotations\n",
    "To create a text embedding, I merged the AI-generated descriptions with the object record fields: title, period, classification, division, data, department, artist, culture, and medium. The AI annotations are rich descriptions of object images but lack historical data like artist and date, so appending these fields creates a more complete representation to be used for text search.  I then chose Tf-Idf (Term Frequency Inverse Document Frequency) as the text transformation to use for comparison. This approach made sense. Tfidf has been successfully used in other search engines as well as text classification. Ultimately, these text vectors are compared using cosine similarity for a similarity metric.\n",
    "\n",
    "### Similarity Searches and Vector Store FAISS\n",
    "I indexed each of my embedding sets with Faiss (Facebook AI Similarity Search). This library allows a nearest neighbor search over a large set at some amazing speeds. There are options to use L2 norms, or cosine distance for similarity, and techniques like LSH or Hierarchical Navigable Small World graph exploration. There are options to encode vectors with different levels of compression, trading for speed and size. I explored these options and found that for my dataset size, the standard FlatIndex search with cosine similarity metrics was the best option.\n",
    "\n",
    "###\n",
    "\n",
    "## Flow for Dynamic Search and Recommedation System\n",
    "---\n",
    "* After much consideration and trial and error, I have transformed each art object record into just 2 metrics that will be used within the recommendation process:\n",
    "\n",
    "\n",
    "  1. CLIP-based image vectors (using FAISS flat index cosine similarity search for comparison) \n",
    "  2. Textual data (title, artist, data, division, culture, etc.), concatenated with ML-created annotations and then vectorized with TF-IDF.  (again using FAISS flat index cosine similarity search for comparison) \n",
    "\n",
    "\n",
    "The image search and recommendation flow will be:\n",
    "\n",
    "- User is prompted for a text query\n",
    "\n",
    "\t1. The query is used to search the vector database; top 12 matching images are displayed. Each is displayed with a measure of its similarity for demonstration purposes.\n",
    "       \n",
    "\n",
    "- User then may choose to like images (with heart), enter a different search term, get recommendations based on likes or to clear the search \n",
    "\n",
    "- Options:\n",
    "\t1. User selects liked images by **clicking on hearts**. Likes are then saved to an internal class list. Likes can also be un-clicked and removed from list.\n",
    "    2. **Get recommendations based on likes**. The image vectors of the liked images are averaged and then a search is run in the faiss vector store for the most similar images to the mean vector. The top 12 which have not already been seen are displayed.\n",
    "    3. **Clear Likes** will clear the past liked list so that future recommendations are not based on the cleared likes.\n",
    "    4. At any point, the user can enter a **new text search** and continue liking images for more recommendations.\n",
    "       \n",
    "This flow becomes a dynamic search. New search terms can be input, likes can be manually liked or unliked, or all cleared. Past displayed images are always available, and new recommendation queries are always possible. \n",
    "\n",
    "## Methods attempted with less than optimal results\n",
    "---\n",
    "- I tried a number of strategies in processing the data, including:\n",
    "       \n",
    "    1. Transforming database Hex colors into RGB format and then transforming the RGB values and percentages into weighted histograms. I compared the histograms using cosine similarity. The results of this technique were just okay. Using CLIP embedded images worked far better, so I stuck with that technique.\n",
    "\n",
    "    2. Encoding text fields from each image into CLIP to make an embedding of the text. In theory, these embeddings should be in a shared space with images. I hoped that I could embed the query text with CLIP and search the embedded text fields for nearest neighbors. This did not work well at all. The problem was likely that there was not enough database nor query text to make robust embeddings.\n",
    "\n",
    "    3. I made an extensive list of art-based terms and gave this to a BERT transformer to use to label art images. I thought that I could use the labels to compare art. This was okay, but did not work as well as my other techniques.\n",
    "\n",
    "    4. Turned HEX colors into color names using a package. I was going to try to compare image colors by these lists of color names. The results here were also not very useful. Using the colors given in the ML-created annotations seemed to work better.\n",
    "\n",
    "## Ideas for future implementations\n",
    "---\n",
    "- Possible Improvements:\n",
    "\n",
    "    1. Order recommendations by popularity rank. (or inverse) \n",
    "    2. Cluster Liked images then average the embeddings from each cluster. Use the cluster mean vectors to search for recommendations. This technique would allow users to be recommended different categories of images from the same query.\n",
    "    3. Query image embedding index for each liked image and then randomly display results. This would take more compute and time, but with under one million images, I think the difference in time would be negligible. As I show below, The Faiss Flat Index query for 117 thousand images was just 0.005 seconds.\n",
    "\n",
    "       \n",
    "- Limitations:\n",
    "\n",
    "  When for merging AI annotations with objects, I chose to append all available annotations to each id. Using tfidf this technique poses a problem. I noticed that some images happen to have more annotations generated than others, meaning that some key words will have a higher term frequency if they have more annotations. This creates a bias in my recommender. To remedy this, I should annotate each image with just one annotation instead of multiple. \n",
    "\n",
    "## Conclusion\n",
    "---\n",
    "The use of Machine Learning Models to create text captions and descriptions of objects is useful for creating quick keyword searches over vast spaces.  Using the well-understood and frequently used Tf-idf to search through AI annotations is a useful blend of old and new technology. Additionaly using a vison model like CLIP to embed visual art images provides a robust means to represent images for fast comparison. While the embedding process is time consuming (with a MAC M4 chip about 1200 image per hour.) After embeddings are created, using a vector store like FAISS for similarity searches is very fast. I would love to work more with these embeddings using clustering to gain insights into the collections. \n",
    "\n",
    "    \n",
    "### Use of Machine Generated Code\n",
    "\n",
    "The model Deepseek was used to debug code as well as to generate a portion of the UI for the recommendation system, namely the image cards and the accordion sections in the recommendation class. The validation of this code involves using the Recommender. I have performed approximately 50 searches post-building and have not seen any bugs or unusual behavior in the UI. The prompts used included: \"I have this code (paste code) and I would like to put like buttons with my images that will save the liked indexes to my class variable.\", also \"I would like to try to find a way to display all history of search but make it collapsible. (paste code)\"\n",
    "\n",
    "Validation of machine-generated annotations :\n",
    "\n",
    "I visually compared about 30 of the AI-generated annotations. Most were complete and accurate descriptions. There were a few mistakes, for instance, reporting that a sketch of a head was a hand in the corner of a drawing.  Because these mistakes were few and minor, I feel comfortable using the annotations with tfidf. I feel the length and depth of the descriptions outweigh minor mistakes when using an embedding like tfidf.\n"
   ]
  },
  {
   "cell_type": "code",
   "execution_count": 11,
   "id": "045bcd95-6f67-497f-808a-4606f64a7f65",
   "metadata": {},
   "outputs": [],
   "source": [
    "\n",
    "# import standard libraries\n",
    "import pandas as pd\n",
    "import numpy as np\n",
    "import requests\n",
    "import warnings\n",
    "import matplotlib.pyplot as plt\n",
    "import seaborn as sns\n",
    "import re\n",
    "import os\n",
    "from dotenv import load_dotenv\n",
    "from io import BytesIO \n",
    "from joblib import dump, load\n",
    "import threading\n",
    "from concurrent.futures import ThreadPoolExecutor\n",
    "import time\n",
    "\n",
    "\n",
    "# ML libaries\n",
    "from transformers import CLIPProcessor, CLIPModel\n",
    "import clip\n",
    "import torch\n",
    "from sklearn.preprocessing import normalize\n",
    "from sklearn.metrics.pairwise import cosine_similarity\n",
    "from sklearn.feature_extraction.text import TfidfVectorizer\n",
    "from sklearn.metrics.pairwise import cosine_similarity\n",
    "from tqdm import tqdm\n",
    "import faiss\n",
    "from sklearn.model_selection import ParameterGrid\n",
    "\n",
    "# for displaying Images\n",
    "from PIL import Image\n",
    "from IPython.display import display,  clear_output\n",
    "from IPython.display import Image as Image_show\n",
    "import ipywidgets as widgets\n",
    "\n",
    "# for processing text \n",
    "import spacy\n",
    "from textblob import TextBlob\n",
    "from gensim.models import KeyedVectors\n",
    "import gensim.downloader as api\n",
    "import json\n",
    "import ast \n",
    "\n",
    "# set options\n",
    "pd.set_option('display.max_columns', None)\n",
    "pd.set_option('display.max_colwidth', None)\n",
    "import warnings \n",
    "warnings.filterwarnings('ignore') \n",
    "\n",
    "# Load the .env file\n",
    "load_dotenv()\n",
    "\n",
    "api_key = os.environ.get(\"API_KEY\") "
   ]
  },
  {
   "cell_type": "markdown",
   "id": "d59b43f9-0395-4f48-b9fa-f18cad07c765",
   "metadata": {
    "tags": []
   },
   "source": [
    "# Data Extraction and Processing\n",
    "### Code to extract and format object records from database\n",
    "The database itself is a relational database called TMS (The Museum System.) I have been told by Harvard Museum staff that there is a SQL wrapper that allows SQL like lookups via an API call. ‘The Harvard Art Museums API is a REST-style service designed for developers who wish to explore and integrate the museums’ collections in their projects. The API provides direct access to the data that powers the museums' website and many other aspects of the museums.’ The format of API calls is as follows:\n",
    "\n",
    "https://api.harvardartmuseums.org/RESOURCE_TYPE?apikey=YOUR_API_KEY\n",
    "\n",
    "Data is returned in JSON format. With a limit of 100 records per page. Through next and prev fields in the JSON info block I am able to page through records and load them all into a single dataframe."
   ]
  },
  {
   "cell_type": "code",
   "execution_count": null,
   "id": "d8c4d6e1-23c2-4961-923f-4216aaa592b4",
   "metadata": {
    "scrolled": true
   },
   "outputs": [],
   "source": [
    "def append_records(df, url):\n",
    "    \"\"\"\n",
    "    Loads one page of records from Harvard Art database and appends to a dataframe. \n",
    "    Usage:\n",
    "    while url:\n",
    "    df, url = append_records(df, url)\n",
    "\n",
    "    Args:\n",
    "        df: dataframe to append new records to\n",
    "        url: url page to pull new records from\n",
    "\n",
    "    Returns:\n",
    "        df: new dataframe with added records\n",
    "        url: url if next page is available, else None\n",
    "    \"\"\"\n",
    "    \n",
    "    r = requests.get(url)\n",
    "\n",
    "    # Convert data to JSON format\n",
    "    data = r.json()\n",
    "    \n",
    "    # Extract the info \n",
    "    info = data['info']\n",
    "\n",
    "    # concat dataframe\n",
    "    df2 = pd.DataFrame(data['records'])\n",
    "    df = pd.concat([df, df2], axis = 0)\n",
    "\n",
    "    \n",
    "    # test if at the end of data\n",
    "    try:\n",
    "        if (info['next']):\n",
    "            url = info['next']\n",
    "    except:\n",
    "        return df, None\n",
    "    return df, url\n",
    "\n",
    "\n",
    "# create inital dataframe\n",
    "df = pd.DataFrame()\n",
    "    \n",
    "# Extract all fields of all records\n",
    "url = 'https://api.harvardartmuseums.org/object?fields=*&apikey=' + api_key + '&size=100'\n",
    "\n",
    "# build dataframe from query\n",
    "while url:\n",
    "    df, url = append_records(df, url) \n",
    "df.to_csv('art_objects.csv')    "
   ]
  },
  {
   "cell_type": "code",
   "execution_count": 216,
   "id": "2b24747c-14f8-4095-b1f0-4c1a57872be2",
   "metadata": {},
   "outputs": [
    {
     "name": "stdout",
     "output_type": "stream",
     "text": [
      "The size of the dataframe is (245924, 79)\n"
     ]
    }
   ],
   "source": [
    "# load to dataframe\n",
    "df = pd.read_csv('art_objects.csv')\n",
    "print(f'The size of the dataframe is {df.shape}')"
   ]
  },
  {
   "cell_type": "markdown",
   "id": "bceb2507-aed3-4d08-84ff-44955a60a50b",
   "metadata": {},
   "source": [
    "### Here I am keeping a subset of the records the subset includes text based information, an image url, and a popularity metric\n"
   ]
  },
  {
   "cell_type": "code",
   "execution_count": 217,
   "id": "3d38994b-db08-485d-b0cd-5b9cb41f6c85",
   "metadata": {},
   "outputs": [
    {
     "data": {
      "text/plain": [
       "(245924, 19)"
      ]
     },
     "execution_count": 217,
     "metadata": {},
     "output_type": "execute_result"
    }
   ],
   "source": [
    "keep_list = ['id', 'objectid', 'images','division', 'images','colorcount', 'period', 'classification', 'technique', \n",
    "             'medium', 'title', 'colors', 'dated', 'dateend', 'department', 'people',  \n",
    "             'primaryimageurl', 'url', 'rank'\n",
    "             ]\n",
    "df = df[keep_list]\n",
    "df.shape"
   ]
  },
  {
   "cell_type": "markdown",
   "id": "be8734a1-ca38-4544-a1c6-8731a016bb25",
   "metadata": {},
   "source": [
    "### I am extracting an imageid from a column so that I can merge AI generated annotations indexed by the imageid from a different part of the HAM database."
   ]
  },
  {
   "cell_type": "code",
   "execution_count": 218,
   "id": "133ce10a-14a0-43f9-9327-3964bf49bef7",
   "metadata": {},
   "outputs": [],
   "source": [
    "imageid_list = []\n",
    "for i, row in df.iterrows():\n",
    "    try:\n",
    "        data = ast.literal_eval(row['images'].iloc[0])\n",
    "\n",
    "        imageid_list.append(data[0]['imageid'])\n",
    "    except:\n",
    "        imageid_list.append(np.nan)\n",
    "df['imageid'] = imageid_list\n",
    "df.drop('images', axis=1, inplace=True)"
   ]
  },
  {
   "cell_type": "code",
   "execution_count": 219,
   "id": "7bc0e92d-3a7a-44b3-90d5-382d2479daea",
   "metadata": {},
   "outputs": [
    {
     "data": {
      "text/html": [
       "<div>\n",
       "<style scoped>\n",
       "    .dataframe tbody tr th:only-of-type {\n",
       "        vertical-align: middle;\n",
       "    }\n",
       "\n",
       "    .dataframe tbody tr th {\n",
       "        vertical-align: top;\n",
       "    }\n",
       "\n",
       "    .dataframe thead th {\n",
       "        text-align: right;\n",
       "    }\n",
       "</style>\n",
       "<table border=\"1\" class=\"dataframe\">\n",
       "  <thead>\n",
       "    <tr style=\"text-align: right;\">\n",
       "      <th></th>\n",
       "      <th>id</th>\n",
       "      <th>objectid</th>\n",
       "      <th>division</th>\n",
       "      <th>colorcount</th>\n",
       "      <th>period</th>\n",
       "      <th>classification</th>\n",
       "      <th>technique</th>\n",
       "      <th>medium</th>\n",
       "      <th>title</th>\n",
       "      <th>colors</th>\n",
       "      <th>dated</th>\n",
       "      <th>dateend</th>\n",
       "      <th>department</th>\n",
       "      <th>people</th>\n",
       "      <th>primaryimageurl</th>\n",
       "      <th>url</th>\n",
       "      <th>rank</th>\n",
       "      <th>imageid</th>\n",
       "    </tr>\n",
       "  </thead>\n",
       "  <tbody>\n",
       "    <tr>\n",
       "      <th>0</th>\n",
       "      <td>36091</td>\n",
       "      <td>36091</td>\n",
       "      <td>Modern and Contemporary Art</td>\n",
       "      <td>5</td>\n",
       "      <td>NaN</td>\n",
       "      <td>Photographs</td>\n",
       "      <td>Negative, gelatin silver (35mm film)</td>\n",
       "      <td>NaN</td>\n",
       "      <td>[New York City skyline with people on ship deck]</td>\n",
       "      <td>[{'color': '#191919', 'spectrum': '#1eb264', 'hue': 'Grey', 'percent': 0.4116666666666667, 'css3': '#000000'}, {'color': '#323232', 'spectrum': '#2eb45d', 'hue': 'Grey', 'percent': 0.35546666666666665, 'css3': '#2f4f4f'}, {'color': '#4b4b4b', 'spectrum': '#3db657', 'hue': 'Grey', 'percent': 0.11113333333333333, 'css3': '#2f4f4f'}, {'color': '#000000', 'spectrum': '#1eb264', 'hue': 'Black', 'percent': 0.09266666666666666, 'css3': '#000000'}, {'color': '#7d7d7d', 'spectrum': '#8362aa', 'hue': 'Grey', 'percent': 0.029066666666666668, 'css3': '#808080'}]</td>\n",
       "      <td>1936</td>\n",
       "      <td>1936</td>\n",
       "      <td>Busch-Reisinger Museum</td>\n",
       "      <td>[{'role': 'Artist', 'birthplace': 'New York, NY', 'gender': 'male', 'displaydate': '1871 - 1956', 'prefix': None, 'culture': 'American', 'displayname': 'Lyonel Feininger', 'alphasort': 'Feininger, Lyonel', 'name': 'Lyonel Feininger', 'personid': 20002, 'deathplace': 'New York, NY', 'displayorder': 1}]</td>\n",
       "      <td>https://nrs.harvard.edu/urn-3:HUAM:INV207929C_dynmc</td>\n",
       "      <td>https://www.harvardartmuseums.org/collections/object/36091</td>\n",
       "      <td>191025</td>\n",
       "      <td>379813.0</td>\n",
       "    </tr>\n",
       "  </tbody>\n",
       "</table>\n",
       "</div>"
      ],
      "text/plain": [
       "      id  objectid                     division  colorcount period  \\\n",
       "0  36091     36091  Modern and Contemporary Art           5    NaN   \n",
       "\n",
       "  classification                             technique medium  \\\n",
       "0    Photographs  Negative, gelatin silver (35mm film)    NaN   \n",
       "\n",
       "                                              title  \\\n",
       "0  [New York City skyline with people on ship deck]   \n",
       "\n",
       "                                                                                                                                                                                                                                                                                                                                                                                                                                                                                                                                                                         colors  \\\n",
       "0  [{'color': '#191919', 'spectrum': '#1eb264', 'hue': 'Grey', 'percent': 0.4116666666666667, 'css3': '#000000'}, {'color': '#323232', 'spectrum': '#2eb45d', 'hue': 'Grey', 'percent': 0.35546666666666665, 'css3': '#2f4f4f'}, {'color': '#4b4b4b', 'spectrum': '#3db657', 'hue': 'Grey', 'percent': 0.11113333333333333, 'css3': '#2f4f4f'}, {'color': '#000000', 'spectrum': '#1eb264', 'hue': 'Black', 'percent': 0.09266666666666666, 'css3': '#000000'}, {'color': '#7d7d7d', 'spectrum': '#8362aa', 'hue': 'Grey', 'percent': 0.029066666666666668, 'css3': '#808080'}]   \n",
       "\n",
       "  dated  dateend              department  \\\n",
       "0  1936     1936  Busch-Reisinger Museum   \n",
       "\n",
       "                                                                                                                                                                                                                                                                                                           people  \\\n",
       "0  [{'role': 'Artist', 'birthplace': 'New York, NY', 'gender': 'male', 'displaydate': '1871 - 1956', 'prefix': None, 'culture': 'American', 'displayname': 'Lyonel Feininger', 'alphasort': 'Feininger, Lyonel', 'name': 'Lyonel Feininger', 'personid': 20002, 'deathplace': 'New York, NY', 'displayorder': 1}]   \n",
       "\n",
       "                                       primaryimageurl  \\\n",
       "0  https://nrs.harvard.edu/urn-3:HUAM:INV207929C_dynmc   \n",
       "\n",
       "                                                          url    rank  \\\n",
       "0  https://www.harvardartmuseums.org/collections/object/36091  191025   \n",
       "\n",
       "    imageid  \n",
       "0  379813.0  "
      ]
     },
     "execution_count": 219,
     "metadata": {},
     "output_type": "execute_result"
    }
   ],
   "source": [
    "df.head(1)"
   ]
  },
  {
   "cell_type": "markdown",
   "id": "03af27e8-484f-42c8-863b-e8060c2758a9",
   "metadata": {},
   "source": [
    "## Loading AI annotations and adding to the primary dataframe\n",
    "The AI annotation database is a group of 67,313,736 publicly accessible machine-generated annotations covering 402,949 images. Annotations are generated from 5 computer vision services and 6 large language models. See References for a full list. The types of annotations available are description, face, tag, and text. For my purposes, I pulled about 400,000 description annotations and linked them with the objects that they reference. These descriptions are at the core of my text-based image lookup function. The descriptions themselves come from models: Amazon Nova, Anthropic Claude, \tAzure OpenAI GPT, Clarifai, and Google Gemini. Annotations date from 2018-02-08 to 2025-05-06. \n",
    "\n",
    "You can read more about the annotations here [https://ai.harvardartmuseums.org/statistics]"
   ]
  },
  {
   "cell_type": "code",
   "execution_count": 220,
   "id": "8dfd51dd-5af1-4fdc-9167-af6019714db6",
   "metadata": {},
   "outputs": [],
   "source": [
    "# loading ml annotations extracted from the HAM database\n",
    "desc_df = pd.read_csv(\"an_descriptions.csv\")"
   ]
  },
  {
   "cell_type": "code",
   "execution_count": 221,
   "id": "26a1572d-1df8-49a8-b623-14b5a08de444",
   "metadata": {},
   "outputs": [],
   "source": [
    "# extract just description and id\n",
    "desc_df = desc_df[['imageid', 'body']].copy()\n",
    "\n",
    "# aggregate multiple image descriptions into one record\n",
    "agg_functions = {'body': lambda x: ' '.join(str(s) for s in x if pd.notna(s))}\n",
    "\n",
    "# Create new dataframe\n",
    "df_new = desc_df.groupby('imageid', as_index=False).aggregate(agg_functions)"
   ]
  },
  {
   "cell_type": "code",
   "execution_count": 222,
   "id": "8d0f6212-7b5a-45db-ac72-48624eed9d2f",
   "metadata": {},
   "outputs": [],
   "source": [
    "# add descriptions to main dataframe\n",
    "df['imageid'] = pd.to_numeric(df['imageid'], errors='coerce').astype('Int64')\n",
    "df = df.merge(df_new, on='imageid', how = 'left')"
   ]
  },
  {
   "cell_type": "code",
   "execution_count": 223,
   "id": "85accab0-6a47-4a97-99c4-bed2bbff5759",
   "metadata": {},
   "outputs": [
    {
     "data": {
      "text/plain": [
       "(117243, 19)"
      ]
     },
     "execution_count": 223,
     "metadata": {},
     "output_type": "execute_result"
    }
   ],
   "source": [
    "df[~df.body.isna()].shape"
   ]
  },
  {
   "cell_type": "markdown",
   "id": "008f3055-560d-463a-af32-c3afd665cb63",
   "metadata": {},
   "source": [
    "### Dropping records with no annotations well as creating a toy version (20%) of the dataset to work with\n",
    "We have 117,243 records with descriptions to work with. I started with 24,000 images and built the system. Once everything was working I added 30,000 images at a time until I was using all 117,234."
   ]
  },
  {
   "cell_type": "code",
   "execution_count": 224,
   "id": "2d5ddbc3-539f-4505-9c8f-d6db6f5901a3",
   "metadata": {},
   "outputs": [
    {
     "name": "stdout",
     "output_type": "stream",
     "text": [
      "(117243, 19)\n"
     ]
    }
   ],
   "source": [
    "# dropping images without descriptions\n",
    "new_df = df[~df['body'].isna()]\n",
    "print(new_df.shape)"
   ]
  },
  {
   "cell_type": "code",
   "execution_count": null,
   "id": "c21f1001-50e1-42f0-ab57-649252311d5a",
   "metadata": {},
   "outputs": [],
   "source": [
    "# do not rerun this!\n",
    "#toy_df = new_df.sample(n = 24000)\n",
    "#toy_df.to_csv(\"unaltered_toy_df.csv\")"
   ]
  },
  {
   "cell_type": "code",
   "execution_count": 172,
   "id": "de61a845-2da2-4689-b00a-0d19a90fc96e",
   "metadata": {},
   "outputs": [],
   "source": [
    "# load 20000 sampled records\n",
    "sample1_df = pd.read_csv(\"unaltered_toy_df.csv\")"
   ]
  },
  {
   "cell_type": "code",
   "execution_count": 13,
   "id": "ac9a9332-d7d1-40db-bd9b-a5ef50a3ec26",
   "metadata": {},
   "outputs": [],
   "source": [
    "# get the remainder of unsampled records to process next sample\n",
    "next_df = new_df[~new_df['id'].isin(sample1_df['id'])]"
   ]
  },
  {
   "cell_type": "code",
   "execution_count": 14,
   "id": "a521116c-2d9a-4f7e-aa25-a878cb8f6cef",
   "metadata": {},
   "outputs": [
    {
     "name": "stdout",
     "output_type": "stream",
     "text": [
      "(93245, 19)\n"
     ]
    }
   ],
   "source": [
    "# sample next set of 30000 images\n",
    "print(next_df.shape)\n",
    "sample2_df = next_df.sample(n = 30000)"
   ]
  },
  {
   "cell_type": "code",
   "execution_count": 15,
   "id": "76f6c8b8-4de8-466c-94df-ee0f521ac311",
   "metadata": {},
   "outputs": [],
   "source": [
    "# do not rerun this!\n",
    "#sample2_df.to_csv(\"unaltered_toy_df2.csv\")"
   ]
  },
  {
   "cell_type": "code",
   "execution_count": 176,
   "id": "a5c11b8f-dbec-4d8c-8a38-8ac62188a133",
   "metadata": {},
   "outputs": [],
   "source": [
    "# sample next set of 30000 images\n",
    "next_df = new_df[~new_df['id'].isin(sample1_df['id'])]\n",
    "next_df = next_df[~next_df['id'].isin(sample2_df['id'])]\n",
    "sample3_df = next_df.sample(n = 30000)                    "
   ]
  },
  {
   "cell_type": "code",
   "execution_count": 177,
   "id": "0afeaf7a-8a7b-4f74-abeb-cf225e6f04be",
   "metadata": {},
   "outputs": [],
   "source": [
    "# do not rerun this!\n",
    "# sample3_df.to_csv(\"unaltered_toy_df3.csv\")"
   ]
  },
  {
   "cell_type": "code",
   "execution_count": 178,
   "id": "d19c25c4-b146-40af-a882-b73e2d5a2938",
   "metadata": {},
   "outputs": [
    {
     "data": {
      "text/plain": [
       "(30000, 19)"
      ]
     },
     "execution_count": 178,
     "metadata": {},
     "output_type": "execute_result"
    }
   ],
   "source": [
    "sample3_df.shape"
   ]
  },
  {
   "cell_type": "code",
   "execution_count": 226,
   "id": "5c626a0c-bb3b-492d-9632-d71e6095060a",
   "metadata": {},
   "outputs": [
    {
     "name": "stdout",
     "output_type": "stream",
     "text": [
      "(33245, 19)\n"
     ]
    }
   ],
   "source": [
    "# grab last 33245 images\n",
    "sample1_df = pd.read_csv(\"unaltered_toy_df.csv\")\n",
    "sample2_df = pd.read_csv(\"unaltered_toy_df2.csv\")\n",
    "sample3_df.to_csv(\"unaltered_toy_df3.csv\")\n",
    "exclude_dfs = [sample1_df, sample2_df, sample3_df]  \n",
    "\n",
    "exclude_ids = pd.concat([df['id'] for df in exclude_dfs]).unique()\n",
    "sample4_df = new_df[~new_df['id'].isin(exclude_ids)]\n",
    "print(sample4_df.shape)"
   ]
  },
  {
   "cell_type": "code",
   "execution_count": 227,
   "id": "b16addfb-8882-441c-8b2c-aa69caa80385",
   "metadata": {},
   "outputs": [],
   "source": [
    "# do not rerun this!\n",
    "#sample4_df.to_csv(\"unaltered_toy_df4.csv\")"
   ]
  },
  {
   "cell_type": "markdown",
   "id": "e48c3eef-afaa-48ab-b8d3-5ab9023c0e26",
   "metadata": {
    "tags": []
   },
   "source": [
    "# Processing Images\n",
    "---\n",
    "### I embed the images with OpenAI’s CLIP model, store them in Facebook's FAISS using a flat index cosine similarity search to find similar images.\n",
    "* Here I use some optimizations for my Apple M4 chip to speed up the vectorizing process. The bottleneck here is the amount of time that it takes to download each image from the Harvard URL. I used Python’s threadpooling to download multiple URLs at once. This process took about 2 hours for 24,000 images.\n",
    "* As I develop the project, I am adding additional records and embedding more images. The code is below."
   ]
  },
  {
   "cell_type": "code",
   "execution_count": 19,
   "id": "d654f633-d389-4609-a4e6-dfc0719a747b",
   "metadata": {},
   "outputs": [],
   "source": [
    "device = (\n",
    "    \"mps\" if torch.backends.mps.is_available() \n",
    "    else \"cpu\"\n",
    ")\n",
    "\n",
    "# Load CLIP \n",
    "model, preprocess = clip.load(\"ViT-B/32\", device=device)\n",
    "\n",
    "if device == \"mps\":\n",
    "    # Use float16 to improve speed\n",
    "    model = model.half()  \n",
    "    \n",
    "\n",
    "def download_image(url, timeout=20):\n",
    "    \"\"\"Download image with timeout setting\"\"\"\n",
    "    try:\n",
    "        response = requests.get(url, timeout=timeout, stream=True)\n",
    "        response.raise_for_status()\n",
    "        return Image.open(BytesIO(response.content)).convert(\"RGB\")\n",
    "    except Exception as e:\n",
    "        print(f\"Failed to download {url}: {str(e)}\")\n",
    "        return None\n",
    "\n",
    "def embed_image(image, batch_size=32):\n",
    "    \"\"\"Process single image\"\"\"\n",
    "    \n",
    "     # Return zero vector for missing images\n",
    "    if image is None:\n",
    "        return np.zeros(512, dtype=np.float32) \n",
    "    \n",
    "    with torch.no_grad():\n",
    "        image_tensor = preprocess(image).unsqueeze(0).to(device)\n",
    "        if device == \"mps\":\n",
    "            image_tensor = image_tensor.half()\n",
    "        return model.encode_image(image_tensor).cpu().numpy().flatten()\n",
    "\n",
    "def process_batch(urls):\n",
    "    \"\"\"Process batch of URLs in parallel\"\"\"\n",
    "    \n",
    "    # use threadpool to process multiple images at once for speed\n",
    "    with ThreadPoolExecutor(max_workers=8) as executor:\n",
    "        images = list(tqdm(executor.map(download_image, urls), total=len(urls)))\n",
    "    return [embed_image(img) for img in images]\n"
   ]
  },
  {
   "cell_type": "code",
   "execution_count": null,
   "id": "07173ef9-49f0-4862-826d-89386eed74d0",
   "metadata": {
    "scrolled": true
   },
   "outputs": [],
   "source": [
    "# Process first sample of data  in batches\n",
    "batch_size = 64\n",
    "all_embeddings = []\n",
    "\n",
    "for i in tqdm(range(0, len(df), batch_size)):\n",
    "    batch_urls = df['primaryimageurl'].iloc[i:i+batch_size].tolist()\n",
    "    batch_embeddings = process_batch(batch_urls)\n",
    "    all_embeddings.extend(batch_embeddings)\n",
    "\n",
    "df['image_embedding'] = all_embeddings\n"
   ]
  },
  {
   "cell_type": "code",
   "execution_count": 179,
   "id": "184ef77c-5e8d-4ccb-b020-616b94da3c76",
   "metadata": {},
   "outputs": [],
   "source": [
    "# do not overwrite this!!\n",
    "#df.to_csv(\"toy_image_emb2.csv\")"
   ]
  },
  {
   "cell_type": "code",
   "execution_count": null,
   "id": "350356ae-8e65-4844-b08c-82baf83d3067",
   "metadata": {
    "scrolled": true
   },
   "outputs": [],
   "source": [
    "# Process second sample of DataFrame in batches\n",
    "batch_size = 64\n",
    "all_embeddings = []\n",
    "\n",
    "for i in tqdm(range(0, len(sample2_df), batch_size)):\n",
    "    batch_urls = sample2_df['primaryimageurl'].iloc[i:i+batch_size].tolist()\n",
    "    batch_embeddings = process_batch(batch_urls)\n",
    "    all_embeddings.extend(batch_embeddings)\n",
    "\n",
    "sample2_df['image_embedding'] = all_embeddings\n",
    "sample2_df.to_csv(\"toy_image_emb3.csv\")"
   ]
  },
  {
   "cell_type": "code",
   "execution_count": null,
   "id": "81874dc4-646c-4d3f-97c0-06cf195e409f",
   "metadata": {
    "scrolled": true
   },
   "outputs": [],
   "source": [
    "# Process second sample of DataFrame in batches\n",
    "batch_size = 64\n",
    "all_embeddings = []\n",
    "\n",
    "for i in tqdm(range(0, len(sample3_df), batch_size)):\n",
    "    batch_urls = sample3_df['primaryimageurl'].iloc[i:i+batch_size].tolist()\n",
    "    batch_embeddings = process_batch(batch_urls)\n",
    "    all_embeddings.extend(batch_embeddings)\n",
    "\n",
    "sample3_df['image_embedding'] = all_embeddings\n",
    "#sample3_df.to_csv(\"toy_image_emb4.csv\")"
   ]
  },
  {
   "cell_type": "code",
   "execution_count": null,
   "id": "a00af58d-f719-4e69-ad02-96d71adbdfd6",
   "metadata": {},
   "outputs": [],
   "source": [
    "# Process second sample of DataFrame in batches\n",
    "batch_size = 64\n",
    "all_embeddings = []\n",
    "\n",
    "for i in tqdm(range(0, len(sample4_df), batch_size)):\n",
    "    batch_urls = sample4_df['primaryimageurl'].iloc[i:i+batch_size].tolist()\n",
    "    batch_embeddings = process_batch(batch_urls)\n",
    "    all_embeddings.extend(batch_embeddings)\n",
    "\n",
    "sample4_df['image_embedding'] = all_embeddings\n",
    "sample4_df.to_csv(\"toy_image_emb5.csv\")"
   ]
  },
  {
   "cell_type": "code",
   "execution_count": 12,
   "id": "6e78f769-2b97-49bc-abe2-ea239c3a9902",
   "metadata": {},
   "outputs": [
    {
     "data": {
      "text/plain": [
       "(117245, 26)"
      ]
     },
     "execution_count": 12,
     "metadata": {},
     "output_type": "execute_result"
    }
   ],
   "source": [
    "import pandas as pd\n",
    "df_1 = pd.read_csv(\"toy_image_emb2.csv\")\n",
    "df_2 = pd.read_csv(\"toy_image_emb3.csv\")\n",
    "df_3 = pd.read_csv(\"toy_image_emb4.csv\")\n",
    "df_4 = pd.read_csv(\"toy_image_emb5.csv\")\n",
    "\n",
    "df = pd.concat([df_1, df_2, df_3, df_4])\n",
    "df.shape"
   ]
  },
  {
   "cell_type": "markdown",
   "id": "3ccb993d-4ce1-4d69-92fe-4eca61cbc074",
   "metadata": {},
   "source": [
    "## Creating a Faiss Flat Index from the Image Embeddings\n",
    "* I reformat the embeddings that were saved as csvs into floats so that they can be put into the Faiss index\n",
    "* Create a Faiss FlatIndex Faiss using the IP option that will compute cosine similarity as long as all vectors are normalized before adding to the index. I save this index to file to be used later by the recommender."
   ]
  },
  {
   "cell_type": "code",
   "execution_count": 26,
   "id": "89fc3cd6-b010-43d3-b8e3-a4332b6583c9",
   "metadata": {},
   "outputs": [
    {
     "name": "stdout",
     "output_type": "stream",
     "text": [
      "Min norm: 0.0 Max norm: 13.022693\n",
      "(117245, 512)\n"
     ]
    }
   ],
   "source": [
    "def convert_embedding(x):\n",
    "    ''' Converts embeddings saved as cvs from strings back into floats'''\n",
    "    \n",
    "    if pd.isna(x) or x is None: \n",
    "        return []\n",
    "    try:\n",
    "        # Remove brackets and split into numbers\n",
    "        nums = re.sub(r'[\\[\\]]', '', str(x)).split()  \n",
    "        return [float(num) for num in nums]  \n",
    "    except:\n",
    "        return []  \n",
    "\n",
    "\n",
    "# Apply conversion\n",
    "df[\"image_embedding\"] = df[\"image_embedding\"].apply(convert_embedding)\n",
    "\n",
    "# Convert embeddings to numpy arrays to give to faiss \n",
    "image_embeddings = np.array(df[\"image_embedding\"].tolist(), dtype=\"float32\")\n",
    "\n",
    "# check to make sure embeddings are normalized so that IP computes cosine similarity\n",
    "norms = np.linalg.norm(image_embeddings, axis=1)  # Compute L2 norms\n",
    "print(\"Min norm:\", np.min(norms), \"Max norm:\", np.max(norms))\n",
    "# normalize to get best results\n",
    "faiss.normalize_L2(image_embeddings)\n",
    "\n",
    "# Create Faiss Flat index\n",
    "dim = image_embeddings.shape[1]\n",
    "n_bits = 8  # Balance speed/accuracy\n",
    "image_index = faiss.IndexFlatIP(dim)\n",
    "image_index.add(image_embeddings)\n",
    "\n",
    "# Save Index to be used later in recommender\n",
    "faiss.write_index(image_index, \"image_index4.faiss\")\n",
    "print(image_embeddings.shape)"
   ]
  },
  {
   "cell_type": "markdown",
   "id": "c51a559b-b90d-4574-9fc9-8848aac112e8",
   "metadata": {},
   "source": [
    "## Here I check to see what kind of results the search for similar images returns using the CLIP embedded images and the FAISS  index\n",
    "The image that i randomly choose looks like an Asian painting of a branch with caligraphy. The returned images are very similar. This technique works really well!"
   ]
  },
  {
   "cell_type": "code",
   "execution_count": 29,
   "id": "d6f151e8-5e56-4b74-8ca4-aeccfbf9b71f",
   "metadata": {},
   "outputs": [
    {
     "name": "stdout",
     "output_type": "stream",
     "text": [
      "Search Image:\n"
     ]
    },
    {
     "data": {
      "text/html": [
       "<img src=\"https://nrs.harvard.edu/urn-3:HUAM:73805_dynmc\" width=\"300\"/>"
      ],
      "text/plain": [
       "<IPython.core.display.Image object>"
      ]
     },
     "metadata": {},
     "output_type": "display_data"
    },
    {
     "name": "stdout",
     "output_type": "stream",
     "text": [
      "Returned Indices: [[    64  48037 112874  90819  84852]]\n",
      " Returned Images:\n"
     ]
    },
    {
     "data": {
      "text/html": [
       "<img src=\"https://nrs.harvard.edu/urn-3:HUAM:INV004223_dynmc\" width=\"300\"/>"
      ],
      "text/plain": [
       "<IPython.core.display.Image object>"
      ]
     },
     "metadata": {},
     "output_type": "display_data"
    },
    {
     "data": {
      "text/html": [
       "<img src=\"https://nrs.harvard.edu/urn-3:HUAM:DDC108833_dynmc\" width=\"300\"/>"
      ],
      "text/plain": [
       "<IPython.core.display.Image object>"
      ]
     },
     "metadata": {},
     "output_type": "display_data"
    },
    {
     "data": {
      "text/html": [
       "<img src=\"https://nrs.harvard.edu/urn-3:HUAM:794619\" width=\"300\"/>"
      ],
      "text/plain": [
       "<IPython.core.display.Image object>"
      ]
     },
     "metadata": {},
     "output_type": "display_data"
    },
    {
     "data": {
      "text/html": [
       "<img src=\"https://nrs.harvard.edu/urn-3:HUAM:73824_dynmc\" width=\"300\"/>"
      ],
      "text/plain": [
       "<IPython.core.display.Image object>"
      ]
     },
     "metadata": {},
     "output_type": "display_data"
    }
   ],
   "source": [
    "# Start with random image at location index 64 \n",
    "idx = 64\n",
    "image_embedding =[]\n",
    "url = df.iloc[64]['primaryimageurl']\n",
    "print(\"Search Image:\")\n",
    "display(Image_show(url = url, width = 300))\n",
    "\n",
    "\n",
    "indices = []\n",
    "# Query\n",
    "k = 5\n",
    "image_embedding = np.ascontiguousarray(\n",
    "    [df.iloc[idx]['image_embedding']], \n",
    "    dtype=\"float32\"\n",
    ")\n",
    "faiss.normalize_L2(image_embedding)\n",
    "\n",
    "# query the faiss index to find most similar images\n",
    "distances, indices = image_index.search(image_embedding, k)\n",
    "print(f\"Returned Indices: {indices}\\n Returned Images:\")\n",
    "\n",
    "for i in indices[0][1:]:\n",
    "    url = df.iloc[i]['primaryimageurl']\n",
    "    display(Image_show(url = url, width = 300))\n"
   ]
  },
  {
   "cell_type": "markdown",
   "id": "d653f90e-31af-4763-93bf-21e3dec11c20",
   "metadata": {},
   "source": [
    "### Another Example\n",
    "Here the randomly chosen image is a sepia image of a person with their hands outstretched looking to the sky. Again all of the returned images look very similar to the query."
   ]
  },
  {
   "cell_type": "code",
   "execution_count": 30,
   "id": "a1c8ba24-e402-45ca-a76a-f47f55b93aea",
   "metadata": {},
   "outputs": [
    {
     "name": "stdout",
     "output_type": "stream",
     "text": [
      "Search Image:\n"
     ]
    },
    {
     "data": {
      "text/html": [
       "<img src=\"https://nrs.harvard.edu/urn-3:HUAM:INV194659_dynmc\" width=\"300\"/>"
      ],
      "text/plain": [
       "<IPython.core.display.Image object>"
      ]
     },
     "metadata": {},
     "output_type": "display_data"
    },
    {
     "name": "stdout",
     "output_type": "stream",
     "text": [
      "Returned Indices: [[ 18901 108368  99605  54417  98709 106333  26451  27944  68702 100739]]\n",
      " Returned Images:\n"
     ]
    },
    {
     "data": {
      "text/html": [
       "<img src=\"https://nrs.harvard.edu/urn-3:HUAM:72173_dynmc\" width=\"300\"/>"
      ],
      "text/plain": [
       "<IPython.core.display.Image object>"
      ]
     },
     "metadata": {},
     "output_type": "display_data"
    },
    {
     "data": {
      "text/html": [
       "<img src=\"https://nrs.harvard.edu/urn-3:HUAM:INV196262_dynmc\" width=\"300\"/>"
      ],
      "text/plain": [
       "<IPython.core.display.Image object>"
      ]
     },
     "metadata": {},
     "output_type": "display_data"
    },
    {
     "data": {
      "text/html": [
       "<img src=\"https://nrs.harvard.edu/urn-3:HUAM:DDC101671_dynmc\" width=\"300\"/>"
      ],
      "text/plain": [
       "<IPython.core.display.Image object>"
      ]
     },
     "metadata": {},
     "output_type": "display_data"
    },
    {
     "data": {
      "text/html": [
       "<img src=\"https://nrs.harvard.edu/urn-3:HUAM:INV112179_dynmc\" width=\"300\"/>"
      ],
      "text/plain": [
       "<IPython.core.display.Image object>"
      ]
     },
     "metadata": {},
     "output_type": "display_data"
    },
    {
     "data": {
      "text/html": [
       "<img src=\"https://nrs.harvard.edu/urn-3:HUAM:INV114590_dynmc\" width=\"300\"/>"
      ],
      "text/plain": [
       "<IPython.core.display.Image object>"
      ]
     },
     "metadata": {},
     "output_type": "display_data"
    },
    {
     "data": {
      "text/html": [
       "<img src=\"https://nrs.harvard.edu/urn-3:HUAM:INV153129_dynmc\" width=\"300\"/>"
      ],
      "text/plain": [
       "<IPython.core.display.Image object>"
      ]
     },
     "metadata": {},
     "output_type": "display_data"
    },
    {
     "data": {
      "text/html": [
       "<img src=\"https://nrs.harvard.edu/urn-3:HUAM:INV171876_dynmc\" width=\"300\"/>"
      ],
      "text/plain": [
       "<IPython.core.display.Image object>"
      ]
     },
     "metadata": {},
     "output_type": "display_data"
    },
    {
     "data": {
      "text/html": [
       "<img src=\"https://nrs.harvard.edu/urn-3:HUAM:INV189502_dynmc\" width=\"300\"/>"
      ],
      "text/plain": [
       "<IPython.core.display.Image object>"
      ]
     },
     "metadata": {},
     "output_type": "display_data"
    },
    {
     "data": {
      "text/html": [
       "<img src=\"https://nrs.harvard.edu/urn-3:HUAM:759828\" width=\"300\"/>"
      ],
      "text/plain": [
       "<IPython.core.display.Image object>"
      ]
     },
     "metadata": {},
     "output_type": "display_data"
    }
   ],
   "source": [
    "idx = 18901\n",
    "url = df.iloc[18901]['primaryimageurl']\n",
    "print(\"Search Image:\")\n",
    "display(Image_show(url = url, width = 300))\n",
    "image_embedding = df.iloc[18901]['image_embedding']\n",
    "\n",
    "\n",
    "indices = []\n",
    "# Query\n",
    "k = 10  \n",
    "\n",
    "image_embedding = np.ascontiguousarray(\n",
    "    [df.iloc[idx]['image_embedding']], \n",
    "    dtype=\"float32\"\n",
    ")\n",
    "faiss.normalize_L2(image_embedding)\n",
    "distances, indices = image_index.search(image_embedding, k)\n",
    "print(f\"Returned Indices: {indices}\\n Returned Images:\")\n",
    "\n",
    "for i in indices[0][1:]:\n",
    "    url = df.iloc[i]['primaryimageurl']\n",
    "    display(Image_show(url = url, width = 300))"
   ]
  },
  {
   "cell_type": "markdown",
   "id": "2a1fee21-0a87-4abd-b5eb-f057ade98407",
   "metadata": {},
   "source": [
    "## Let’s look at the speed and accuracy of the different FAISS search techniques.\n",
    "Surprisingly, all four of the indexes that I tested produced the exact same results as the Flat index, which is considered to be ground truth for accuracy. They had slightly different speeds. I plot them below."
   ]
  },
  {
   "cell_type": "code",
   "execution_count": 8,
   "id": "1390f325-bef5-411c-88d2-af03b66eadc7",
   "metadata": {},
   "outputs": [
    {
     "name": "stdout",
     "output_type": "stream",
     "text": [
      "Elasped time for Flat Search is 0.004984855651855469 seconds.\n"
     ]
    }
   ],
   "source": [
    "k = 100\n",
    "idx = 200\n",
    "dim = image_embeddings.shape[1]\n",
    "\n",
    "# normalize query vector\n",
    "image_embedding = np.ascontiguousarray(\n",
    "    [df.iloc[idx]['image_embedding']], \n",
    "    dtype=\"float32\"\n",
    ")\n",
    "faiss.normalize_L2(image_embedding)\n",
    "\n",
    "\n",
    "\n",
    "# test 4 different FAISS Indicies for speed and acuracy\n",
    "results = []\n",
    "\n",
    "# Flat index will be the baseline\n",
    "image_index = faiss.IndexFlatIP(dim)\n",
    "image_index.add(image_embeddings)\n",
    "start_time = time.time()\n",
    "distances, ground_truth_flat_indices = image_index.search(image_embedding, k)\n",
    "end_time = time.time()\n",
    "elapsed_time = end_time - start_time\n",
    "print(f\"Elasped time for Flat Search is {elapsed_time} seconds.\")\n",
    "results.append(['Flat', elapsed_time, k])\n",
    "\n",
    "# Hierarchical Navigable Small World\n",
    "index = faiss.IndexHNSWFlat(dim, 32)  # dim, M\n",
    "index.hnsw.metric_type = faiss.METRIC_INNER_PRODUCT\n",
    "index.hnsw.efConstruction = 40\n",
    "index.add(image_embeddings)\n",
    "start_time = time.time()\n",
    "distances, indices = image_index.search(image_embedding, k)\n",
    "end_time = time.time()\n",
    "elapsed_time = end_time - start_time\n",
    "accuracy = len(set(ground_truth_flat_indices[0]) & set(indices[0]))\n",
    "results.append(['Hierarchical Navigable Small World',elapsed_time, accuracy])\n",
    "\n",
    "# Locally Sensitve Hash\n",
    "index = faiss.IndexLSH(dim, 512)\n",
    "index.add(image_embeddings)\n",
    "start_time = time.time()\n",
    "distances, indices = image_index.search(image_embedding, k)\n",
    "end_time = time.time()\n",
    "elapsed_time = end_time - start_time\n",
    "accuracy = len(set(ground_truth_flat_indices[0]) & set(indices[0]))\n",
    "results.append(['LSH', elapsed_time, accuracy])\n",
    "\n",
    "# IVFADC (coarse quantizer+PQ on residuals)\n",
    "quantizer = faiss.IndexFlatL2(dim)  # Quantizer must be provided\n",
    "index = faiss.IndexIVFPQ(quantizer, dim, 100, 32, 8)\n",
    "index.train(image_embeddings)\n",
    "index.add(image_embeddings)\n",
    "start_time = time.time()\n",
    "distances, indices = image_index.search(image_embedding, k)\n",
    "end_time = time.time()\n",
    "elapsed_time = end_time - start_time\n",
    "accuracy = len(set(ground_truth_flat_indices[0]) & set(indices[0]))\n",
    "results.append(['IVFADC (coarse quantizer+PQ on residuals)',elapsed_time, accuracy])\n"
   ]
  },
  {
   "cell_type": "code",
   "execution_count": 9,
   "id": "c2e87342-a5f7-48dd-ae87-3cb08046321e",
   "metadata": {},
   "outputs": [
    {
     "data": {
      "text/html": [
       "<div>\n",
       "<style scoped>\n",
       "    .dataframe tbody tr th:only-of-type {\n",
       "        vertical-align: middle;\n",
       "    }\n",
       "\n",
       "    .dataframe tbody tr th {\n",
       "        vertical-align: top;\n",
       "    }\n",
       "\n",
       "    .dataframe thead th {\n",
       "        text-align: right;\n",
       "    }\n",
       "</style>\n",
       "<table border=\"1\" class=\"dataframe\">\n",
       "  <thead>\n",
       "    <tr style=\"text-align: right;\">\n",
       "      <th></th>\n",
       "      <th>Type</th>\n",
       "      <th>Time</th>\n",
       "      <th>Accuracy</th>\n",
       "    </tr>\n",
       "  </thead>\n",
       "  <tbody>\n",
       "    <tr>\n",
       "      <th>0</th>\n",
       "      <td>Flat</td>\n",
       "      <td>0.004985</td>\n",
       "      <td>100</td>\n",
       "    </tr>\n",
       "    <tr>\n",
       "      <th>1</th>\n",
       "      <td>Hierarchical Navigable Small World</td>\n",
       "      <td>0.003381</td>\n",
       "      <td>100</td>\n",
       "    </tr>\n",
       "    <tr>\n",
       "      <th>2</th>\n",
       "      <td>LSH</td>\n",
       "      <td>0.003214</td>\n",
       "      <td>100</td>\n",
       "    </tr>\n",
       "    <tr>\n",
       "      <th>3</th>\n",
       "      <td>IVFADC (coarse quantizer+PQ on residuals)</td>\n",
       "      <td>0.003403</td>\n",
       "      <td>100</td>\n",
       "    </tr>\n",
       "  </tbody>\n",
       "</table>\n",
       "</div>"
      ],
      "text/plain": [
       "                                        Type      Time  Accuracy\n",
       "0                                       Flat  0.004985       100\n",
       "1         Hierarchical Navigable Small World  0.003381       100\n",
       "2                                        LSH  0.003214       100\n",
       "3  IVFADC (coarse quantizer+PQ on residuals)  0.003403       100"
      ]
     },
     "metadata": {},
     "output_type": "display_data"
    },
    {
     "data": {
      "image/png": "[encoded data removed]",
      "text/plain": [
       "<Figure size 640x480 with 1 Axes>"
      ]
     },
     "metadata": {},
     "output_type": "display_data"
    }
   ],
   "source": [
    "results_df = pd.DataFrame(results, columns = [\"Type\", \"Time\", \"Accuracy\"])\n",
    "display(results_df)\n",
    "sns.barplot(data= results_df, y = 'Type', x = 'Time')\n",
    "plt.title(\"Time to return top 100 nearest neighbors in Index of Size 117,245.\")\n",
    "plt.xlabel(\"Time in seconds\")\n",
    "plt.xticks(rotation= 60)\n",
    "plt.show()"
   ]
  },
  {
   "cell_type": "markdown",
   "id": "b42183ce-05e6-457f-936d-296835ab3279",
   "metadata": {
    "tags": []
   },
   "source": [
    "# Processing Text Fields\n",
    "\n",
    "### Failed attempt\n",
    "Originally, I vectorized these text entries with CLIP and tried to use the resulting vectors in my similarity search for the original text query string. This did not work well at all. There just wasn't enough information in the object text fields, and using the LLM was time-consuming and bulky.\n",
    "\n",
    "\n",
    "### Best approach\n",
    "Instead, I went back to the HAM database and pulled existing AI-generated annotations. I concatenated these with the database text fields, such as artist, title, etc. I then used TF-IDF via scikit-learn’s tfidf_vectorizer to compare the images with a text query using cosine similarity. This worked very well. I put the tfidf matrix into a Faiss vector store for quick comparison using a Flat Index.\n",
    "\n",
    "Below, I am cleaning extra characters from fields, combining two date columns to make one complete date field, and pulling people’s qualities, such as name and culture, from the people dictionary. "
   ]
  },
  {
   "cell_type": "code",
   "execution_count": 13,
   "id": "bfd1de10-8463-4c4d-932b-254e77b3cc30",
   "metadata": {},
   "outputs": [],
   "source": [
    "# remove 'Department of\"\n",
    "df['department'] = df['department'].str.replace('Department of ', '')\n",
    "\n",
    "# remove extra characters\n",
    "df['period'] = df['period'].str.replace('c.|\\(|\\)', '', regex=True)\n",
    "\n",
    "# merge two date columns to get a complete date columns\n",
    "df['date'] = np.where(df['dateend'] == 0, df['dated'], df['dateend'])\n",
    "\n",
    "def extract_from_people(people_entry, field):\n",
    "    \"\"\" Extract field information from people field.\"\"\"\n",
    "    \n",
    "    try:\n",
    "        if isinstance(people_entry, str):\n",
    "            # Safely evaluate string to Python object\n",
    "            data = ast.literal_eval(people_entry)\n",
    "        else:\n",
    "            # Already in object form\n",
    "            data = people_entry\n",
    "        \n",
    "        # Handle case where data is a list of dictionaries\n",
    "        if isinstance(data, list):\n",
    "            for item in data:\n",
    "                if isinstance(item, dict) and field in item:\n",
    "                    return item[field]\n",
    "        \n",
    "        # Handle case where data is a single dictionary\n",
    "        elif isinstance(data, dict) and field in data:\n",
    "            return data[field]\n",
    "            \n",
    "        return None\n",
    "    except (ValueError, SyntaxError):\n",
    "        return None\n",
    "\n",
    "# create artist name and culture fields by extracting from the people field\n",
    "person_fields =  ['name', 'culture']       \n",
    "for field in person_fields: \n",
    "    df['artist_' + field] = df['people'].apply(extract_from_people, args = (field,))"
   ]
  },
  {
   "cell_type": "code",
   "execution_count": 14,
   "id": "27d0f0f9-20a0-41f8-8918-0ce819bab6d0",
   "metadata": {
    "scrolled": true
   },
   "outputs": [
    {
     "data": {
      "text/html": [
       "<div>\n",
       "<style scoped>\n",
       "    .dataframe tbody tr th:only-of-type {\n",
       "        vertical-align: middle;\n",
       "    }\n",
       "\n",
       "    .dataframe tbody tr th {\n",
       "        vertical-align: top;\n",
       "    }\n",
       "\n",
       "    .dataframe thead th {\n",
       "        text-align: right;\n",
       "    }\n",
       "</style>\n",
       "<table border=\"1\" class=\"dataframe\">\n",
       "  <thead>\n",
       "    <tr style=\"text-align: right;\">\n",
       "      <th></th>\n",
       "      <th>search_text</th>\n",
       "    </tr>\n",
       "  </thead>\n",
       "  <tbody>\n",
       "    <tr>\n",
       "      <th>0</th>\n",
       "      <td>Friedrich Wilhelm von Schadow in His Studio, Painting \"The Ascension of Mary\" | Prints | European and American Art | 1845 | Prints | Henry Ritter | German | Lithograph, chine collé, on off-white wove paper</td>\n",
       "    </tr>\n",
       "    <tr>\n",
       "      <th>1</th>\n",
       "      <td>Studies of Women and Lokapurusha | Drawings | Asian and Mediterranean Art | 1855 | Islamic &amp; Later Indian Art | | Gray-black and brown inks and watercolor on beige laid paper</td>\n",
       "    </tr>\n",
       "    <tr>\n",
       "      <th>2</th>\n",
       "      <td>Ceiling Fixture | Drawings | Modern and Contemporary Art | 1994 | Drawings | Catherine Murphy | American | Graphite on off-white wove paper</td>\n",
       "    </tr>\n",
       "    <tr>\n",
       "      <th>3</th>\n",
       "      <td>Branch of Plum Blossoms -- Illustration from the Ten Bamboo Studio Manual of Calligraphy and Painting (Shizhuzhai shuhua pu) | Ming 1368-1644 to Qing 1644-1911 dynasty | Prints | Asian and Mediterranean Art | 1703 | Asian Art | Hu Zhengyan 胡正言 | Chinese | One page from a woodblock printed book mounted as an album leaf; ink and color on paper</td>\n",
       "    </tr>\n",
       "    <tr>\n",
       "      <th>4</th>\n",
       "      <td>Spinner at the Door of the House | Prints | European and American Art | 1689 | Prints | Adriaen van Ostade | Dutch</td>\n",
       "    </tr>\n",
       "  </tbody>\n",
       "</table>\n",
       "</div>"
      ],
      "text/plain": [
       "                                                                                                                                                                                                                                                                                                                                               search_text\n",
       "0                                                                                                                                            Friedrich Wilhelm von Schadow in His Studio, Painting \"The Ascension of Mary\" | Prints | European and American Art | 1845 | Prints | Henry Ritter | German | Lithograph, chine collé, on off-white wove paper\n",
       "1                                                                                                                                                                           Studies of Women and Lokapurusha | Drawings | Asian and Mediterranean Art | 1855 | Islamic & Later Indian Art | | Gray-black and brown inks and watercolor on beige laid paper\n",
       "2                                                                                                                                                                                                              Ceiling Fixture | Drawings | Modern and Contemporary Art | 1994 | Drawings | Catherine Murphy | American | Graphite on off-white wove paper\n",
       "3  Branch of Plum Blossoms -- Illustration from the Ten Bamboo Studio Manual of Calligraphy and Painting (Shizhuzhai shuhua pu) | Ming 1368-1644 to Qing 1644-1911 dynasty | Prints | Asian and Mediterranean Art | 1703 | Asian Art | Hu Zhengyan 胡正言 | Chinese | One page from a woodblock printed book mounted as an album leaf; ink and color on paper\n",
       "4                                                                                                                                                                                                                                       Spinner at the Door of the House | Prints | European and American Art | 1689 | Prints | Adriaen van Ostade | Dutch"
      ]
     },
     "metadata": {},
     "output_type": "display_data"
    }
   ],
   "source": [
    "# Create one field that will hold all of the text data for tfidf \n",
    "df[\"search_text\"] = (\n",
    "    df[\"title\"].fillna(\" \") + \" | \" + \n",
    "    df[\"period\"].fillna(\" \") + \" | \" + \n",
    "    df[\"classification\"].fillna(\" \") + \" | \" + \n",
    "    df[\"division\"].fillna(\" \") + \" | \" + \n",
    "    df[\"date\"].astype(str).replace(\"nan\", \" \") + \" | \" + \n",
    "    df[\"department\"].fillna(\" \") + \" | \" + \n",
    "    df[\"artist_name\"].fillna(\" \") + \" | \" + \n",
    "    df[\"artist_culture\"].fillna(\" \") + \" | \" + \n",
    "    df[\"medium\"].fillna(\" \")\n",
    ")\n",
    "\n",
    "# remove extra separators\n",
    "df[\"search_text\"] = df[\"search_text\"].str.replace(r\"\\s*\\|\\s*\\|\\s*\", \" | \", regex=True).str.strip(\"| \")\n",
    "\n",
    "display(df[['search_text']][:5])"
   ]
  },
  {
   "cell_type": "code",
   "execution_count": 16,
   "id": "b88b91ff-413a-4fb0-9a65-3b5c839f81f5",
   "metadata": {},
   "outputs": [
    {
     "data": {
      "text/html": [
       "<div>\n",
       "<style scoped>\n",
       "    .dataframe tbody tr th:only-of-type {\n",
       "        vertical-align: middle;\n",
       "    }\n",
       "\n",
       "    .dataframe tbody tr th {\n",
       "        vertical-align: top;\n",
       "    }\n",
       "\n",
       "    .dataframe thead th {\n",
       "        text-align: right;\n",
       "    }\n",
       "</style>\n",
       "<table border=\"1\" class=\"dataframe\">\n",
       "  <thead>\n",
       "    <tr style=\"text-align: right;\">\n",
       "      <th></th>\n",
       "      <th>body</th>\n",
       "    </tr>\n",
       "  </thead>\n",
       "  <tbody>\n",
       "    <tr>\n",
       "      <th>0</th>\n",
       "      <td>The image depicts an artist's studio or workspace. In the center, an older man is seated in a chair, appearing to be an artist working on a painting or drawing. Behind him, there is a partially completed painting or artwork on an easel. In the background, a figure, likely a person, is standing and observing the artist at work. The room contains various artistic supplies, tools, and furnishings typical of a studio setting. This is a detailed pencil or lithograph drawing of what appears to be an artist's studio. The main focus is on an artist sitting in a relaxed position in front of a large canvas or painting. He's wearing a top hat and coat, and appears to be taking a break or contemplating his work. On the canvas, there's a sketch or outline of what looks like a religious figure. The studio space includes a window with panes on the left, some curtains, and various artist's materials and supplies scattered about, including what seems to be a table with tools or materials. In the background, there's another figure standing near a doorway. The drawing has a casual, candid quality that captures a moment in the daily life of an artist at work. The title or signature at the bottom appears to read \"M. Sébastien.\"Friedrich Wilhelm von Schadow in His Studio, Painting \"The Ascension of Mary\" | Prints | European and American Art | 1845 | Prints | Henry Ritter | German | Lithograph, chine collé, on off-white wove paperFriedrich Wilhelm von Schadow in His Studio, Painting \"The Ascension of Mary\" | Prints | European and American Art | 1845 | Prints | Henry Ritter | German | Lithograph, chine collé, on off-white wove paper</td>\n",
       "    </tr>\n",
       "    <tr>\n",
       "      <th>1</th>\n",
       "      <td>The image appears to be a surreal, abstract drawing or sketch. It contains various elements, including human figures, architectural structures, and abstract shapes and patterns. The style is loose and expressive, with a mixture of pencil, ink, and color markings. The overall composition is complex and layered, creating a dreamlike or subconscious atmosphere. There are no identifiable individuals in the image, only suggestive human forms and faces. This appears to be a historical sketch or drawing with multiple elements. The main figure in the lower left portion is drawn in a dynamic pose. The sketch includes various decorative elements in the upper right, including what appears to be architectural details with arches and ornamental designs. There are also small animal figures, possibly elephants, sketched in the upper portion of the drawing. The artwork has a loose, gestural quality with lines in different colors including red, black, blue and green. The paper appears aged, with a beige or off-white tone. The composition has a somewhat chaotic or energetic feel, with multiple figures and elements arranged across the page in what seems to be a preparatory or study drawing.Studies of Women and Lokapurusha | Drawings | Asian and Mediterranean Art | 1855 | Islamic &amp; Later Indian Art | | Gray-black and brown inks and watercolor on beige laid paperStudies of Women and Lokapurusha | Drawings | Asian and Mediterranean Art | 1855 | Islamic &amp; Later Indian Art | | Gray-black and brown inks and watercolor on beige laid paper</td>\n",
       "    </tr>\n",
       "    <tr>\n",
       "      <th>2</th>\n",
       "      <td>This black and white image shows a ceiling light fixture with a round, dome-shaped cover. The ceiling has a heavily textured, popcorn-like surface. There appears to be a pull cord or chain hanging down from one side of the fixture with a circular pull ring at the end. The light fixture itself looks somewhat aged or worn, with some visible marks or discoloration on its surface. The composition is simple and straightforward, shot from below looking directly up at the ceiling light. The image appears to be a black and white photograph depicting a circular object, likely a mirror or lens, set against a textured, abstract background. The background has a rough, granular texture, creating an interesting visual contrast with the smooth, reflective surface of the circular object in the center. The image has a somewhat surreal, dreamlike quality to it, with the isolated, centrally-placed circular form drawing the viewer's attention.Ceiling Fixture | Drawings | Modern and Contemporary Art | 1994 | Drawings | Catherine Murphy | American | Graphite on off-white wove paperCeiling Fixture | Drawings | Modern and Contemporary Art | 1994 | Drawings | Catherine Murphy | American | Graphite on off-white wove paper</td>\n",
       "    </tr>\n",
       "  </tbody>\n",
       "</table>\n",
       "</div>"
      ],
      "text/plain": [
       "                                                                                                                                                                                                                                                                                                                                                                                                                                                                                                                                                                                                                                                                                                                                                                                                                                                                                                                                                                                                                                                                                                                                                                                                                                                                                                                                                                                                                                                                                                                                                                                                                                                                                                   body\n",
       "0  The image depicts an artist's studio or workspace. In the center, an older man is seated in a chair, appearing to be an artist working on a painting or drawing. Behind him, there is a partially completed painting or artwork on an easel. In the background, a figure, likely a person, is standing and observing the artist at work. The room contains various artistic supplies, tools, and furnishings typical of a studio setting. This is a detailed pencil or lithograph drawing of what appears to be an artist's studio. The main focus is on an artist sitting in a relaxed position in front of a large canvas or painting. He's wearing a top hat and coat, and appears to be taking a break or contemplating his work. On the canvas, there's a sketch or outline of what looks like a religious figure. The studio space includes a window with panes on the left, some curtains, and various artist's materials and supplies scattered about, including what seems to be a table with tools or materials. In the background, there's another figure standing near a doorway. The drawing has a casual, candid quality that captures a moment in the daily life of an artist at work. The title or signature at the bottom appears to read \"M. Sébastien.\"Friedrich Wilhelm von Schadow in His Studio, Painting \"The Ascension of Mary\" | Prints | European and American Art | 1845 | Prints | Henry Ritter | German | Lithograph, chine collé, on off-white wove paperFriedrich Wilhelm von Schadow in His Studio, Painting \"The Ascension of Mary\" | Prints | European and American Art | 1845 | Prints | Henry Ritter | German | Lithograph, chine collé, on off-white wove paper\n",
       "1                                                                                                    The image appears to be a surreal, abstract drawing or sketch. It contains various elements, including human figures, architectural structures, and abstract shapes and patterns. The style is loose and expressive, with a mixture of pencil, ink, and color markings. The overall composition is complex and layered, creating a dreamlike or subconscious atmosphere. There are no identifiable individuals in the image, only suggestive human forms and faces. This appears to be a historical sketch or drawing with multiple elements. The main figure in the lower left portion is drawn in a dynamic pose. The sketch includes various decorative elements in the upper right, including what appears to be architectural details with arches and ornamental designs. There are also small animal figures, possibly elephants, sketched in the upper portion of the drawing. The artwork has a loose, gestural quality with lines in different colors including red, black, blue and green. The paper appears aged, with a beige or off-white tone. The composition has a somewhat chaotic or energetic feel, with multiple figures and elements arranged across the page in what seems to be a preparatory or study drawing.Studies of Women and Lokapurusha | Drawings | Asian and Mediterranean Art | 1855 | Islamic & Later Indian Art | | Gray-black and brown inks and watercolor on beige laid paperStudies of Women and Lokapurusha | Drawings | Asian and Mediterranean Art | 1855 | Islamic & Later Indian Art | | Gray-black and brown inks and watercolor on beige laid paper\n",
       "2                                                                                                                                                                                                                                                                                                                                                                                                                                       This black and white image shows a ceiling light fixture with a round, dome-shaped cover. The ceiling has a heavily textured, popcorn-like surface. There appears to be a pull cord or chain hanging down from one side of the fixture with a circular pull ring at the end. The light fixture itself looks somewhat aged or worn, with some visible marks or discoloration on its surface. The composition is simple and straightforward, shot from below looking directly up at the ceiling light. The image appears to be a black and white photograph depicting a circular object, likely a mirror or lens, set against a textured, abstract background. The background has a rough, granular texture, creating an interesting visual contrast with the smooth, reflective surface of the circular object in the center. The image has a somewhat surreal, dreamlike quality to it, with the isolated, centrally-placed circular form drawing the viewer's attention.Ceiling Fixture | Drawings | Modern and Contemporary Art | 1994 | Drawings | Catherine Murphy | American | Graphite on off-white wove paperCeiling Fixture | Drawings | Modern and Contemporary Art | 1994 | Drawings | Catherine Murphy | American | Graphite on off-white wove paper"
      ]
     },
     "metadata": {},
     "output_type": "display_data"
    }
   ],
   "source": [
    "# combine formatted database text data with annotations \n",
    "df['body'] = (df['body'] + df['search_text'])\n",
    "display(df[['body']][:3])"
   ]
  },
  {
   "cell_type": "markdown",
   "id": "b27a28f6-a07f-4441-8d32-54c8fe04be87",
   "metadata": {},
   "source": [
    "## Creating TF-IDF matrix and using it for cosine similarity comparisons against text query\n",
    "\n",
    "I use scikit-learn’s TfidfVectorizer to transform each record into a vector that can be compared with the others based on the inclusion of words rare to the entire corpus. I did a grid search over possible hyperparameters. The difficulty with this technique is the absence of any natural ground truth.  To create a senerio where I could hand the grid search a ground truth to evaluate with I reandomly selected 100 image/description pairs and manually created queries that I thought should be of high cosine similarity to the description/image pair. This technique is flawed for a number of reasons, one my inupt is subjective and two I am only embedding a set of 100 text samples. My actual modle will be embedding 117,000 texts so may need different parameters for that reason alone. But the grid search returned optimal parameters: max_features = 10000, and ngram_range = (1, 1), upon inspection I can see that altering the min_df parameter selection did not affect the scoring at all.\n",
    "\n",
    "Upon seeing the results of the parameter grid search and trying different hyperparamters with my final recommender I decided to remove English stop words, use the ngram range of 1-2, meaning that I can capture just single words as well as phrases up to two words long. And I build a vocabulary that usses the top 15000 terms. This choice is appropriate for art terms and artist name queries, which are often 2 words or less. Here, I ignore words that are in less than two documents. \n"
   ]
  },
  {
   "cell_type": "code",
   "execution_count": 16,
   "id": "f72b517f-ecd1-4803-ad6e-ee2789157fbc",
   "metadata": {},
   "outputs": [
    {
     "name": "stderr",
     "output_type": "stream",
     "text": [
      "100%|███████████████████████████████████████████| 36/36 [12:52<00:00, 21.46s/it]"
     ]
    },
    {
     "name": "stdout",
     "output_type": "stream",
     "text": [
      "max_features       10000\n",
      "min_df                 1\n",
      "ngram_range       (1, 1)\n",
      "score           0.246763\n",
      "vocab_size         10000\n",
      "Name: 9, dtype: object\n"
     ]
    },
    {
     "name": "stderr",
     "output_type": "stream",
     "text": [
      "\n"
     ]
    },
    {
     "data": {
      "text/html": [
       "<div>\n",
       "<style scoped>\n",
       "    .dataframe tbody tr th:only-of-type {\n",
       "        vertical-align: middle;\n",
       "    }\n",
       "\n",
       "    .dataframe tbody tr th {\n",
       "        vertical-align: top;\n",
       "    }\n",
       "\n",
       "    .dataframe thead th {\n",
       "        text-align: right;\n",
       "    }\n",
       "</style>\n",
       "<table border=\"1\" class=\"dataframe\">\n",
       "  <thead>\n",
       "    <tr style=\"text-align: right;\">\n",
       "      <th></th>\n",
       "      <th>max_features</th>\n",
       "      <th>min_df</th>\n",
       "      <th>ngram_range</th>\n",
       "      <th>score</th>\n",
       "      <th>vocab_size</th>\n",
       "    </tr>\n",
       "  </thead>\n",
       "  <tbody>\n",
       "    <tr>\n",
       "      <th>9</th>\n",
       "      <td>10000</td>\n",
       "      <td>1</td>\n",
       "      <td>(1, 1)</td>\n",
       "      <td>0.246763</td>\n",
       "      <td>10000</td>\n",
       "    </tr>\n",
       "    <tr>\n",
       "      <th>15</th>\n",
       "      <td>10000</td>\n",
       "      <td>5</td>\n",
       "      <td>(1, 1)</td>\n",
       "      <td>0.246763</td>\n",
       "      <td>10000</td>\n",
       "    </tr>\n",
       "    <tr>\n",
       "      <th>12</th>\n",
       "      <td>10000</td>\n",
       "      <td>2</td>\n",
       "      <td>(1, 1)</td>\n",
       "      <td>0.246763</td>\n",
       "      <td>10000</td>\n",
       "    </tr>\n",
       "    <tr>\n",
       "      <th>18</th>\n",
       "      <td>15000</td>\n",
       "      <td>1</td>\n",
       "      <td>(1, 1)</td>\n",
       "      <td>0.244175</td>\n",
       "      <td>15000</td>\n",
       "    </tr>\n",
       "    <tr>\n",
       "      <th>24</th>\n",
       "      <td>15000</td>\n",
       "      <td>5</td>\n",
       "      <td>(1, 1)</td>\n",
       "      <td>0.244175</td>\n",
       "      <td>15000</td>\n",
       "    </tr>\n",
       "    <tr>\n",
       "      <th>21</th>\n",
       "      <td>15000</td>\n",
       "      <td>2</td>\n",
       "      <td>(1, 1)</td>\n",
       "      <td>0.244175</td>\n",
       "      <td>15000</td>\n",
       "    </tr>\n",
       "    <tr>\n",
       "      <th>33</th>\n",
       "      <td>20000</td>\n",
       "      <td>5</td>\n",
       "      <td>(1, 1)</td>\n",
       "      <td>0.242891</td>\n",
       "      <td>20000</td>\n",
       "    </tr>\n",
       "    <tr>\n",
       "      <th>30</th>\n",
       "      <td>20000</td>\n",
       "      <td>2</td>\n",
       "      <td>(1, 1)</td>\n",
       "      <td>0.242891</td>\n",
       "      <td>20000</td>\n",
       "    </tr>\n",
       "    <tr>\n",
       "      <th>27</th>\n",
       "      <td>20000</td>\n",
       "      <td>1</td>\n",
       "      <td>(1, 1)</td>\n",
       "      <td>0.242891</td>\n",
       "      <td>20000</td>\n",
       "    </tr>\n",
       "    <tr>\n",
       "      <th>0</th>\n",
       "      <td>5000</td>\n",
       "      <td>1</td>\n",
       "      <td>(1, 1)</td>\n",
       "      <td>0.233667</td>\n",
       "      <td>5000</td>\n",
       "    </tr>\n",
       "    <tr>\n",
       "      <th>3</th>\n",
       "      <td>5000</td>\n",
       "      <td>2</td>\n",
       "      <td>(1, 1)</td>\n",
       "      <td>0.233667</td>\n",
       "      <td>5000</td>\n",
       "    </tr>\n",
       "    <tr>\n",
       "      <th>6</th>\n",
       "      <td>5000</td>\n",
       "      <td>5</td>\n",
       "      <td>(1, 1)</td>\n",
       "      <td>0.233667</td>\n",
       "      <td>5000</td>\n",
       "    </tr>\n",
       "    <tr>\n",
       "      <th>7</th>\n",
       "      <td>5000</td>\n",
       "      <td>5</td>\n",
       "      <td>(1, 2)</td>\n",
       "      <td>0.194848</td>\n",
       "      <td>5000</td>\n",
       "    </tr>\n",
       "    <tr>\n",
       "      <th>1</th>\n",
       "      <td>5000</td>\n",
       "      <td>1</td>\n",
       "      <td>(1, 2)</td>\n",
       "      <td>0.194848</td>\n",
       "      <td>5000</td>\n",
       "    </tr>\n",
       "    <tr>\n",
       "      <th>4</th>\n",
       "      <td>5000</td>\n",
       "      <td>2</td>\n",
       "      <td>(1, 2)</td>\n",
       "      <td>0.194848</td>\n",
       "      <td>5000</td>\n",
       "    </tr>\n",
       "    <tr>\n",
       "      <th>5</th>\n",
       "      <td>5000</td>\n",
       "      <td>2</td>\n",
       "      <td>(1, 3)</td>\n",
       "      <td>0.184996</td>\n",
       "      <td>5000</td>\n",
       "    </tr>\n",
       "    <tr>\n",
       "      <th>8</th>\n",
       "      <td>5000</td>\n",
       "      <td>5</td>\n",
       "      <td>(1, 3)</td>\n",
       "      <td>0.184996</td>\n",
       "      <td>5000</td>\n",
       "    </tr>\n",
       "    <tr>\n",
       "      <th>2</th>\n",
       "      <td>5000</td>\n",
       "      <td>1</td>\n",
       "      <td>(1, 3)</td>\n",
       "      <td>0.184996</td>\n",
       "      <td>5000</td>\n",
       "    </tr>\n",
       "    <tr>\n",
       "      <th>10</th>\n",
       "      <td>10000</td>\n",
       "      <td>1</td>\n",
       "      <td>(1, 2)</td>\n",
       "      <td>0.182122</td>\n",
       "      <td>10000</td>\n",
       "    </tr>\n",
       "    <tr>\n",
       "      <th>13</th>\n",
       "      <td>10000</td>\n",
       "      <td>2</td>\n",
       "      <td>(1, 2)</td>\n",
       "      <td>0.182122</td>\n",
       "      <td>10000</td>\n",
       "    </tr>\n",
       "  </tbody>\n",
       "</table>\n",
       "</div>"
      ],
      "text/plain": [
       "    max_features  min_df ngram_range     score  vocab_size\n",
       "9          10000       1      (1, 1)  0.246763       10000\n",
       "15         10000       5      (1, 1)  0.246763       10000\n",
       "12         10000       2      (1, 1)  0.246763       10000\n",
       "18         15000       1      (1, 1)  0.244175       15000\n",
       "24         15000       5      (1, 1)  0.244175       15000\n",
       "21         15000       2      (1, 1)  0.244175       15000\n",
       "33         20000       5      (1, 1)  0.242891       20000\n",
       "30         20000       2      (1, 1)  0.242891       20000\n",
       "27         20000       1      (1, 1)  0.242891       20000\n",
       "0           5000       1      (1, 1)  0.233667        5000\n",
       "3           5000       2      (1, 1)  0.233667        5000\n",
       "6           5000       5      (1, 1)  0.233667        5000\n",
       "7           5000       5      (1, 2)  0.194848        5000\n",
       "1           5000       1      (1, 2)  0.194848        5000\n",
       "4           5000       2      (1, 2)  0.194848        5000\n",
       "5           5000       2      (1, 3)  0.184996        5000\n",
       "8           5000       5      (1, 3)  0.184996        5000\n",
       "2           5000       1      (1, 3)  0.184996        5000\n",
       "10         10000       1      (1, 2)  0.182122       10000\n",
       "13         10000       2      (1, 2)  0.182122       10000"
      ]
     },
     "metadata": {},
     "output_type": "display_data"
    }
   ],
   "source": [
    "# first do a grid search for parameters on a small version of dataset\n",
    "\n",
    "grid_df = pd.read_csv(\"ground_truth.csv\")\n",
    "# My ground truth sample queries\n",
    "queries = [\n",
    "    'Artist in studio', 'Still life fruit', 'Ornamental pattern', \n",
    "    '17th century portrait', 'Historic Battle Scene', 'Medieval carving',\n",
    "    'Watercolor of boats', 'Boats in water', 'Military scene',\n",
    "    'Engraving of festival', '17th century Islamic manuscript', \n",
    "    'Simple Sculpture', 'Art with buildings', 'Cubist animal sculpture',\n",
    "    'Jael Slaying Sisera', 'Shards of ancient clay pots', 'Nude figure',\n",
    "    'Roman painting fragment', 'Art gallery photographic image', \n",
    "    'Saint Francis artwork'\n",
    "]\n",
    "\n",
    "# Ground truth mapping (query index : document index)\n",
    "ground_truth = {\n",
    "    0: [0], 1: [8], 2: [11], 3: [12], 4: [13], 5: [15], 6: [17], 7: [69],\n",
    "    8: [22], 9: [25], 10: [30], 11: [35], 12: [59], 13: [52], 14: [61], \n",
    "    15: [62], 16: [65], 17: [77], 18: [3], 19: [86]\n",
    "}\n",
    "\n",
    "param_grid = {\n",
    "    'ngram_range': [(1, 1), (1, 2), (1, 3)],\n",
    "    'min_df': [1, 2, 5],\n",
    "    'max_features': [5000, 10000, 15000, 20000],\n",
    "}\n",
    "\n",
    "def evaluate_retrieval(tfidf, tfidf_matrix, queries, ground_truth):\n",
    "    \"\"\"Calculate average cosine similarity between queries and their ground truth indices.\"\"\"\n",
    "    query_vecs = tfidf.transform(queries)\n",
    "    scores = []\n",
    "    \n",
    "    for query_idx, doc_indices in ground_truth.items():\n",
    "       \n",
    "        # Get ground truth vectors\n",
    "        gt_vecs = tfidf_matrix[doc_indices]\n",
    "        \n",
    "        # Calculate similarity between query and its ground truth docs\n",
    "        sim = cosine_similarity(query_vecs[query_idx:query_idx+1], gt_vecs)\n",
    "        scores.append(np.mean(sim))\n",
    "    \n",
    "    return np.mean(scores)\n",
    "\n",
    "results = []\n",
    "for params in tqdm(ParameterGrid(param_grid)):\n",
    "    tfidf = TfidfVectorizer(**params)\n",
    "    tfidf_matrix = tfidf.fit_transform(grid_df['body']) \n",
    "    \n",
    "    score = evaluate_retrieval(tfidf, tfidf_matrix, queries, ground_truth)\n",
    "    \n",
    "    results.append({\n",
    "        **params,\n",
    "        'score': score,\n",
    "        'vocab_size': len(tfidf.get_feature_names_out())\n",
    "    })\n",
    "\n",
    "results_df = pd.DataFrame(results)\n",
    "best_params = results_df.loc[results_df['score'].idxmax()]\n",
    "print(best_params)\n",
    "display(results_df.sort_values('score', ascending = False).iloc[:20])"
   ]
  },
  {
   "cell_type": "code",
   "execution_count": 24,
   "id": "ca4e18bd-c9a2-4d81-a590-3ea0861d1388",
   "metadata": {},
   "outputs": [
    {
     "data": {
      "image/png": "[encoded data removed]",
      "text/plain": [
       "<Figure size 640x480 with 2 Axes>"
      ]
     },
     "metadata": {},
     "output_type": "display_data"
    }
   ],
   "source": [
    "\n",
    "heatmap_data = results_df.pivot_table(\n",
    "    index='ngram_range', \n",
    "    columns='max_features', \n",
    "    values='score',\n",
    "    aggfunc='mean'\n",
    ")\n",
    "\n",
    "sns.heatmap(heatmap_data, annot=True, fmt=\".2f\", cmap=\"YlGnBu\")\n",
    "plt.title('Score by ngram range and min df')\n",
    "plt.show()"
   ]
  },
  {
   "cell_type": "code",
   "execution_count": 22,
   "id": "c7310899-80ab-4850-9599-b388fa9fc09b",
   "metadata": {},
   "outputs": [
    {
     "data": {
      "text/plain": [
       "['tfidf_data_test.joblib']"
      ]
     },
     "execution_count": 22,
     "metadata": {},
     "output_type": "execute_result"
    }
   ],
   "source": [
    "# Create TF-IDF matrix this is the code that I use for the final product\n",
    "tfidf = TfidfVectorizer(\n",
    "    stop_words='english', # do not process common english words\n",
    "    ngram_range=(1, 1),  # capture single words and phrases\n",
    "\n",
    "\n",
    ")\n",
    "tfidf_matrix = tfidf.fit_transform(df['body'])\n",
    "\n",
    "# save the vectorizer and matrix to file to load in the recommender later\n",
    "dump({\"vectorizer\": tfidf, \"matrix\": tfidf_matrix}, \"tfidf_data_test.joblib\")\n",
    "\n",
    "\n",
    "\n"
   ]
  },
  {
   "cell_type": "code",
   "execution_count": null,
   "id": "20b12661-1ca8-4fea-9eaf-d8d8ea053263",
   "metadata": {},
   "outputs": [],
   "source": [
    "# I was using this for searching the tdif vector but it turns out that it is not necessary and takes too much space\n",
    "\n",
    "# convert sparse matrix to dense \n",
    "dense_matrix = tfidf_matrix.toarray().astype(\"float32\")\n",
    "\n",
    "# build the FAISS index\n",
    "tfidf_index = faiss.IndexFlatIP(dense_matrix.shape[1])  \n",
    "tfidf_index.add(dense_matrix)\n",
    "\n",
    "# save this vector store to file for later use in recommender\n",
    "faiss.write_index(tfidf_index, \"tfidf_index_test.faiss\")"
   ]
  },
  {
   "cell_type": "code",
   "execution_count": null,
   "id": "e27356ca-9f9d-49f0-a5af-bbdd2d76a998",
   "metadata": {},
   "outputs": [],
   "source": [
    "# Create TF-IDF matrix\n",
    "tfidf = TfidfVectorizer(\n",
    "    stop_words='english', # do not process common english words\n",
    "    ngram_range=(1, 1),  # capture single words and phrases \n",
    "    max_features = 30000\n",
    ")\n",
    "tfidf_matrix = tfidf.fit_transform(df['body'])\n",
    "\n",
    "# save the vectorizer and matrix to file to load in the recommender later\n",
    "dump({\"vectorizer\": tfidf, \"matrix\": tfidf_matrix}, \"tfidf_data_test.joblib\")\n",
    "\n",
    "d = dense_matrix.shape[1]  # TF-IDF dimension\n",
    "\n",
    "\n",
    "# Accuracy-focused parameters\n",
    "nlist = min(10000, int(np.sqrt(dense_matrix.shape[0])))  # More clusters for better accuracy\n",
    "m = min(30, d)  # Max sub-quantizers (up to 32)\n",
    "bits = 10  # Higher bit depth for better precision\n",
    "\n",
    "# Use OPQ preprocessing for better vector distribution\n",
    "opq_matrix = faiss.OPQMatrix(d, m)\n",
    "train_sample = dense_matrix[np.random.choice(dense_matrix.shape[0], \n",
    "                           min(200000, dense_matrix.shape[0]), \n",
    "                           replace=False)]\n",
    "opq_matrix.train(train_sample)\n",
    "dense_matrix_opq = opq_matrix.apply_py(dense_matrix)\n",
    "\n",
    "# Build the index\n",
    "quantizer = faiss.IndexFlatIP(d)  # Exact inner product\n",
    "index = faiss.IndexIVFPQ(quantizer, d, nlist, m, bits)\n",
    "\n",
    "# Train with more data\n",
    "index.train(dense_matrix_opq[train_sample])\n",
    "\n",
    "# Enable accuracy-enhancing options\n",
    "index.do_polysemous_training = True\n",
    "index.cp.min_points_per_centroid = 20  # Ensure good cluster coverage\n",
    "index.cp.max_points_per_centroid = 5000  # Allow large clusters\n",
    "\n",
    "index.add(dense_matrix_opq)\n",
    "faiss.write_index(index, \"tfidf_index_test.faiss\")\n"
   ]
  },
  {
   "cell_type": "code",
   "execution_count": 11,
   "id": "5cda9aa3-dc6b-4168-89f8-978b2ca76815",
   "metadata": {},
   "outputs": [],
   "source": [
    "d = dense_matrix.shape[1]\n",
    "m = 30\n",
    "index = faiss.IndexHNSWPQ(d, m, 8)\n",
    "index.train(dense_matrix)\n",
    "index.add(dense_matrix)\n",
    "# save this vector store to file for later use in recommender\n",
    "faiss.write_index(index, \"tfidf_index_test.faiss\")"
   ]
  },
  {
   "cell_type": "code",
   "execution_count": 9,
   "id": "b7e0f65f-1702-4576-8eb1-679ec5239c19",
   "metadata": {},
   "outputs": [
    {
     "data": {
      "text/plain": [
       "<bound method NDFrame.head of         Unnamed: 0  objectid  \\\n",
       "0                0    188623   \n",
       "1                1    217273   \n",
       "2                2    184460   \n",
       "3                3    205821   \n",
       "4                4    249077   \n",
       "...            ...       ...   \n",
       "117240       33240    386739   \n",
       "117241       33241    386741   \n",
       "117242       33242    386925   \n",
       "117243       33243    386929   \n",
       "117244       33244    387887   \n",
       "\n",
       "                                                                                                                                                                                                                                                                                                                                                                                                                                                                                      title  \\\n",
       "0                                                                                                                                                                                                                                                                                                                                                                                                             Friedrich Wilhelm von Schadow in His Studio, Painting \"The Ascension of Mary\"   \n",
       "1                                                                                                                                                                                                                                                                                                                                                                                                                                                          Studies of Women and Lokapurusha   \n",
       "2                                                                                                                                                                                                                                                                                                                                                                                                                                                                           Ceiling Fixture   \n",
       "3                                                                                                                                                                                                                                                                                                                                                              Branch of Plum Blossoms -- Illustration from the Ten Bamboo Studio Manual of Calligraphy and Painting (Shizhuzhai shuhua pu)   \n",
       "4                                                                                                                                                                                                                                                                                                                                                                                                                                                          Spinner at the Door of the House   \n",
       "...                                                                                                                                                                                                                                                                                                                                                                                                                                                                                     ...   \n",
       "117240                                                                                                                                                                                                                                                                                                                                                                                                                                                                    Inserted postcard   \n",
       "117241                                                                                                                                                                                                                                                                                                                                                                                                                                                                    Inserted postcard   \n",
       "117242                                                                                                                                                                                                                                                                                                   Grandma Emma: the artist's grandmother Emma Holmes Amos, part Cherokee, African, and Norwegian, c. 1898 when she had graduated from college and was a teacher in an Atlanta School   \n",
       "117243  Irene, India and Friends at Graduations: Irene Dobbs Jackson at twelve or thirteen in Atlanta. One of the five beautiful Dobbs sisters, including Mattiwilda, the Metropolitan Opera singer. Dr. Jackson is a retired Professor of French and the mother of Atlanta's Mayor Maynard Jackson. The young women on the porch are friends gathering after graduating from high school before going off to college. In the middle is India Amos and top left, Irene Dobbs, all eighteen.   \n",
       "117244                                                                                                                                                                                                                                                                                                                                                                                                                 Portfolio case for \"dé-coll/age/5, happenings pieces musical scores\"   \n",
       "\n",
       "                                           primaryimageurl    rank  imageid  \\\n",
       "0       https://nrs.harvard.edu/urn-3:HUAM:INV043609_dynmc  241152   176355   \n",
       "1           https://nrs.harvard.edu/urn-3:HUAM:71672_dynmc  134702    57157   \n",
       "2                https://nrs.harvard.edu/urn-3:HUAM:797681  121762   562184   \n",
       "3       https://nrs.harvard.edu/urn-3:HUAM:CARP07564_dynmc   65214    32828   \n",
       "4       https://nrs.harvard.edu/urn-3:HUAM:INV193037_dynmc  259602   309466   \n",
       "...                                                    ...     ...      ...   \n",
       "117240           https://nrs.harvard.edu/urn-3:HUAM:781705  149748   532000   \n",
       "117241           https://nrs.harvard.edu/urn-3:HUAM:781707  149750   532002   \n",
       "117242        https://nrs.harvard.edu/urn-3:HUAM:LEG282696  154960  1325379   \n",
       "117243        https://nrs.harvard.edu/urn-3:HUAM:LEG282700  154964  1325383   \n",
       "117244           https://nrs.harvard.edu/urn-3:HUAM:788461  116594   548758   \n",
       "\n",
       "                                                                                                                                                                                                                                                                                                                                                                                                                                                                                                                                                                                                                                                                                                                                                                                                                                                                                                                                                                                                                                                                                                                                                                                                                                                                                                                                                                                                                                                                                                                                                                                                                                                                                                                                                                                                                                                                                                                                                                                                                                                                                                                                                                                                                                                                                                                                                                                                                                                                                                                                                                                                                                                                                                                                                                                                                                                                                                                                                                                                                                                                                                                                                body  \\\n",
       "0                                                                                                                                                                                                                                                                                                                                                                                                                                                                                                                                                                                                                                                                                                                                                                                                                                                                                                                                                                                                                                                                                                                                                                                                                                                                                                                                                                                                                                                                                                                                                                                                                                                            The image depicts an artist's studio or workspace. In the center, an older man is seated in a chair, appearing to be an artist working on a painting or drawing. Behind him, there is a partially completed painting or artwork on an easel. In the background, a figure, likely a person, is standing and observing the artist at work. The room contains various artistic supplies, tools, and furnishings typical of a studio setting. This is a detailed pencil or lithograph drawing of what appears to be an artist's studio. The main focus is on an artist sitting in a relaxed position in front of a large canvas or painting. He's wearing a top hat and coat, and appears to be taking a break or contemplating his work. On the canvas, there's a sketch or outline of what looks like a religious figure. The studio space includes a window with panes on the left, some curtains, and various artist's materials and supplies scattered about, including what seems to be a table with tools or materials. In the background, there's another figure standing near a doorway. The drawing has a casual, candid quality that captures a moment in the daily life of an artist at work. The title or signature at the bottom appears to read \"M. Sébastien.\"Friedrich Wilhelm von Schadow in His Studio, Painting \"The Ascension of Mary\" | Prints | European and American Art | 1845 | Prints | Henry Ritter | German | Lithograph, chine collé, on off-white wove paper   \n",
       "1                                                                                                                                                                                                                                                                                                                                                                                                                                                                                                                                                                                                                                                                                                                                                                                                                                                                                                                                                                                                                                                                                                                                                                                                                                                                                                                                                                                                                                                                                                                                                                                                                                                                                                                               The image appears to be a surreal, abstract drawing or sketch. It contains various elements, including human figures, architectural structures, and abstract shapes and patterns. The style is loose and expressive, with a mixture of pencil, ink, and color markings. The overall composition is complex and layered, creating a dreamlike or subconscious atmosphere. There are no identifiable individuals in the image, only suggestive human forms and faces. This appears to be a historical sketch or drawing with multiple elements. The main figure in the lower left portion is drawn in a dynamic pose. The sketch includes various decorative elements in the upper right, including what appears to be architectural details with arches and ornamental designs. There are also small animal figures, possibly elephants, sketched in the upper portion of the drawing. The artwork has a loose, gestural quality with lines in different colors including red, black, blue and green. The paper appears aged, with a beige or off-white tone. The composition has a somewhat chaotic or energetic feel, with multiple figures and elements arranged across the page in what seems to be a preparatory or study drawing.Studies of Women and Lokapurusha | Drawings | Asian and Mediterranean Art | 1855 | Islamic & Later Indian Art | | Gray-black and brown inks and watercolor on beige laid paper   \n",
       "2                                                                                                                                                                                                                                                                                                                                                                                                                                                                                                                                                                                                                                                                                                                                                                                                                                                                                                                                                                                                                                                                                                                                                                                                                                                                                                                                                                                                                                                                                                                                                                                                                                                                                                                                                                                                                                                                                                                                                                                                                               This black and white image shows a ceiling light fixture with a round, dome-shaped cover. The ceiling has a heavily textured, popcorn-like surface. There appears to be a pull cord or chain hanging down from one side of the fixture with a circular pull ring at the end. The light fixture itself looks somewhat aged or worn, with some visible marks or discoloration on its surface. The composition is simple and straightforward, shot from below looking directly up at the ceiling light. The image appears to be a black and white photograph depicting a circular object, likely a mirror or lens, set against a textured, abstract background. The background has a rough, granular texture, creating an interesting visual contrast with the smooth, reflective surface of the circular object in the center. The image has a somewhat surreal, dreamlike quality to it, with the isolated, centrally-placed circular form drawing the viewer's attention.Ceiling Fixture | Drawings | Modern and Contemporary Art | 1994 | Drawings | Catherine Murphy | American | Graphite on off-white wove paper   \n",
       "3                                                                                                                                                                                                                                                                                                                                                                                                                                                                                                                                                                                                                                                                                                                                                                                                                                                                                                                                                                                                                                                                                                                                                                                                                                                                                                                                                                                                                                                                This image appears to be an East Asian-style ink painting, depicting a landscape with various plants and flowers. The painting features a tree or branch with delicate red blossoms, set against a muted, textured background. The style and composition suggest this is a traditional Chinese or Japanese style of painting, with a focus on capturing the essence and mood of the natural scene rather than precise realism. The calligraphy in the lower left corner adds an additional artistic element to the overall work. This is a traditional East Asian ink and watercolor painting depicting plum blossoms on a gnarled branch. The artwork shows a minimalist style characteristic of Chinese or Japanese brush painting. The composition features twisting branches painted in dark gray or black ink with delicate pink and white plum blossoms. There are also some fallen petals scattered below. The background is left bare, creating a sense of space and simplicity. The piece includes what appears to be an artist's seal and calligraphy in the lower left corner. The painting style emphasizes the natural beauty and graceful lines of the plum branch, which is a common motif in East Asian art and symbolizes perseverance and the arrival of spring, as plum trees bloom even in cold weather.Branch of Plum Blossoms -- Illustration from the Ten Bamboo Studio Manual of Calligraphy and Painting (Shizhuzhai shuhua pu) | Ming 1368-1644 to Qing 1644-1911 dynasty | Prints | Asian and Mediterranean Art | 1703 | Asian Art | Hu Zhengyan 胡正言 | Chinese | One page from a woodblock printed book mounted as an album leaf; ink and color on paper   \n",
       "4                                                                                                                                                                                                                                                                                                                                                                                                                                                                                                                                                                                                                                                                                                                                                                                                                                                                                                                                                                                                                                                                                                                                                                                                                                                                                                                                  This appears to be a historical etching or drawing showing a scene outside a building with diamond-paned windows. Two figures are depicted near the doorway - one standing and one seated. The architectural details suggest this is from a European setting, perhaps the 16th or 17th century. The building has decorative leaded glass windows and there appears to be a tree or vine growing along one side. In the foreground, there's what looks like a small animal, possibly a rabbit or cat. The style of the artwork is characteristic of period etchings, with fine crosshatching and detailed linework to create depth and shadows. This black and white sketch depicts two figures outside a rustic cottage or house. One figure appears to be standing at the doorway, while the other is sitting on the steps leading up to the door. The house has leaded glass windows and vines growing up the exterior walls, giving it an aged and naturalistic appearance. In the foreground, there are some rocks or stones. The overall scene has a peaceful, rural feeling to it based on the simple, countryside home and the relaxed poses of the two figures. The image depicts an outdoor scene of an old building, likely a cottage or small shop, set against a dense, overgrown backdrop. In the foreground, there are two figures - an older man with a walking stick and what appears to be a younger person, possibly a child or woman, resting on a bench or stool outside the building. The overall atmosphere of the scene is one of stillness and tranquility, with the intricate architectural details and the lush, shadowy vegetation creating a sense of timelessness.Spinner at the Door of the House | Prints | European and American Art | 1689 | Prints | Adriaen van Ostade | Dutch   \n",
       "...                                                                                                                                                                                                                                                                                                                                                                                                                                                                                                                                                                                                                                                                                                                                                                                                                                                                                                                                                                                                                                                                                                                                                                                                                                                                                                                                                                                                                                                                                                                                                                                                                                                                                                                                                                                                                                                                                                                                                                                                                                                                                                                                                                                                                                                                                                                                                                                                                                                                                                                                                                                                                                                                                                                                                                                                                                                                                                                                                                                                                                                                                                                                              ...   \n",
       "117240                                                                                                                                                                                                                                                                                                                                                                                                                                                                                                                                                                                                                                                                                                                                                                                                                                                                                                                                                                                                                                                                                                                                                                                                                                                                                                                                                                                                                                                                                                                                                                                                                                                                                                                                  The image shows a postcard featuring a scenic view of a city in Turkey. The postcard has the text \"Istanbul - Hagia Sophia\" printed on it, indicating that the image depicts the famous Hagia Sophia, a historical landmark in Istanbul. The image shows the iconic domed structure of the Hagia Sophia surrounded by lush greenery and a clear blue sky. No humans are visible in the image. The image shows an open book or photo album. On the right page is a postcard or photograph depicting a scenic view of a town or city square with old towers and minarets next to a body of water, likely Istanbul or somewhere in Turkey. The sky is blue with a few clouds. This image shows an open book or album with two postcards visible. On the left is the blank back side of a postcard showing typical postcard markings and layout. On the right is a scenic postcard of Istanbul, Turkey, as indicated by the Turkish flag in the corner. The postcard features the Hagia Sophia mosque with its distinctive minarets and domed architecture against a blue sky with white clouds. There's lush green vegetation in the foreground of the scene. The postcards appear to be mounted or displayed on white pages of what looks like a photo album or scrapbook.Inserted postcard | Archival Material | Modern and Contemporary Art | 2006 | Busch-Reisinger Museum | Otto Piene | German | Postcard   \n",
       "117241                                                                                                                                                                                                                                                                                                                                                                                                                                                                                                                                                                                                                                                                                                                                                                                                                                                                                                                                                                                                                                                                                                                                                                                                                                                                                                                                                                                                                                          The image shows a postcard or image insert inside an open book. The postcard depicts a scenic landscape with a body of water, trees, and buildings in the background. The landscape appears lush and vibrant, with green grass and colorful flowers or vegetation in the foreground. The sky is clear and blue, creating a serene and picturesque scene. The architectural structures in the background suggest this may be a scenic location or landmark. Overall, the image captures a peaceful, natural setting with a picturesque composition. The image shows an open book or brochure featuring a colorful photograph of a garden or park on the right page. The photograph depicts a grassy area lined with colorful flowers, plants and trees, as well as what appear to be fountains or water features. The sky is bright blue, suggesting a sunny day. On the left page of the open book, there is text providing details or a description related to the garden scene pictured. This image shows an open book or album with two sides visible. On the left side appears to be the back of a postcard or document with some printed text. On the right side is a colorful postcard showing the Blue Mosque in Istanbul, Turkey. The postcard captures the mosque's distinctive architecture with its multiple minarets against a bright blue sky. The mosque is surrounded by green gardens with what appears to be yellow flowers or plantings in the foreground. The photograph was taken on a clear day with white puffy clouds visible in the sky.Inserted postcard | Archival Material | Modern and Contemporary Art | 2006 | Busch-Reisinger Museum | Otto Piene | German | Postcard   \n",
       "117242                                                                                                                                                                                                                                                                                                                                                                                                                                                                                                                                                                                                                                                                                                                                                                                                                                                                                                                                                                               The image depicts a mixed-media artwork featuring a woman in a white dress, a man in a suit, and a building with trees in the background.\\n\\nThe woman is positioned on the left side of the image, within an oval frame that resembles a mirror. She has dark hair and wears a long-sleeved white dress with a high neckline and a bow at the collar. The frame is painted in shades of brown, blue, and red, with a blue bow at the top.\\n\\nTo the right of the woman, a man in a suit stands facing away from her, looking towards the building in the background. The building features arched windows and doors, with a staircase leading up to it. The background of the image includes trees and a blue sky with white clouds.\\n\\nThe overall atmosphere of the image suggests a sense of nostalgia and longing, as if the woman is reminiscing about a past event or memory. The use of muted colors and the dreamlike quality of the artwork contribute to this feeling. The image is a mixed-media artwork that combines painting and photography. The dominant feature is an oval-shaped photograph of a woman in a white dress, positioned on the left side of the image. She has dark hair and stands with her hands clasped in front of her.\\n\\nTo the right of the photograph, there are two figures: one appears to be a statue or sculpture, while the other is more abstract and less defined. In the background, there are trees, a building, and a road or path, all depicted in a loose, expressive style reminiscent of impressionist or post-impressionist art.\\n\\nThe overall effect of the image is one of nostalgia and wistfulness, evoking a sense of longing for a bygone era. The use of muted colors and soft brushstrokes adds to the dreamy, ethereal quality of the artwork.Grandma Emma: the artist's grandmother Emma Holmes Amos, part Cherokee, African, and Norwegian, c. 1898 when she had graduated from college and was a teacher in an Atlanta School | Prints | Modern and Contemporary Art | 1988 | Modern & Contemporary Art | Emma Amos | American | Monoprint with acrylic, glitter and photo transfer on paper   \n",
       "117243  The image presents a collage of two photographs, each depicting a group of young girls in white dresses, set against a backdrop of abstract brushstrokes and paint splatters.\\n\\n*   The top photograph features a group of approximately 12 girls standing on the steps of a house or porch, with some girls sitting on the steps and others standing behind them. They are all dressed in white dresses and appear to be posing for the camera.\\n    *   The girls in the top photograph are dressed in white dresses and appear to be posing for the camera.\\n    *   The background of the top photograph is a light-colored wall or building, with a few trees or bushes visible in the distance.\\n*   The bottom photograph shows a single girl standing in front of a wooden door or wall, holding a bouquet of flowers. She is also wearing a white dress and has long dark hair.\\n    *   The girl in the bottom photograph is standing in front of a wooden door or wall, holding a bouquet of flowers.\\n    *   The background of the bottom photograph is a light-colored wall or door, with some abstract brushstrokes and paint splatters visible.\\n*   The overall effect of the collage is one of nostalgia and simplicity, with the vintage photographs and abstract background creating a sense of timelessness and innocence.\\n    *   The collage has an overall effect of nostalgia and simplicity.\\n    *   The use of vintage photographs and abstract background creates a sense of timelessness and innocence.\\n\\nThe image is a poignant and evocative representation of childhood innocence and simplicity, with the vintage photographs and abstract background working together to create a sense of nostalgia and timelessness. The image presents a collage of photographs and paintings, featuring a group of young girls in white dresses. The main photograph is sepia-toned and depicts 13 girls standing on the steps of a house, with one girl sitting on the bottom step. The girls are all wearing white dresses, and some have their hair styled in bobbed cuts.\\n\\nIn the bottom-left corner of the image, there is a smaller photograph of a girl holding a bouquet of flowers. This photograph is also sepia-toned and features a diamond-shaped cutout.\\n\\nThe background of the image is white, with green and brown brushstrokes visible throughout. The overall effect is one of nostalgia and simplicity, evoking a sense of a bygone era.Irene, India and Friends at Graduations: Irene Dobbs Jackson at twelve or thirteen in Atlanta. One of the five beautiful Dobbs sisters, including Mattiwilda, the Metropolitan Opera singer. Dr. Jackson is a retired Professor of French and the mother of Atlanta's Mayor Maynard Jackson. The young women on the porch are friends gathering after graduating from high school before going off to college. In the middle is India Amos and top left, Irene Dobbs, all eighteen. | Prints | Modern and Contemporary Art | 1988 | Modern & Contemporary Art | Emma Amos | American | Monoprint with acrylic, glitter and photo transfer on paper   \n",
       "117244                                                                                                                                                                                                                                                                                                                                                                                                                                                                                                                                                                                                                                                                                                                                                                                                                                                                                                                                                                                                                                                                                                                                                                                                                                                                                                                                                                                                                                                                                                                                                                                                                                                                                                                                                                                                                                                                                                                                                                                         This image appears to be the cover or front page of a book or publication titled \"de·collage 5 happenings stücke partituren\" published in 1966. The image shows a plain, beige-colored background with some text and information about the publication. There are no human faces or identities visible in this image. This appears to be the cover or part of a publication titled \"de-collage/5 happenings stücke partituren\" from 1966. It has a minimalist design with beige/tan colored paper and black text. The text at the bottom includes publishing information in German, mentioning it was published in Cologne and New York in February 1966. There's a white paper or section visible in the middle of the image. The overall design is very clean and typographic, characteristic of mid-1960s modernist design aesthetics. The document appears to be related to artistic happenings and performances, as suggested by the terms in the title.Portfolio case for \"dé-coll/age/5, happenings pieces musical scores\" | Portfolios | Modern and Contemporary Art | 1966 | Busch-Reisinger Museum | Various Artists | Mixed media on paper   \n",
       "\n",
       "                                                                                                                                                                                                                                                                                                                                                                                                                                                                                                                                                                                                                                                                                                                                                                                                                                                                                                                                                                                                                                                                                                                                                                                                                                                                                                                                                                                                                                                                                                                                                                                                                                                                                                                                                                                                                                                                                                                                                                                                                                                                                                                                                                                                                                                                                                                                                                                                                                                                                                                                                                                                                                                                                                                                                                                                                                                                                                                                                                                                                                                                                                                                                                                                                                                                                                                                                                                                                                                                                                                                                                                                                                                                                                                                                                                                                                                                                                                                                                                                                                                                                                                                                                                                                                                                                                                                                                                                                                                                                                                                                                                                                                                                                                                                                                                                                                                                                                                                                                                                                                                                                                                                                                                                                                                                                                                                                                                                                                                                                                                                                                                                                                                                                                                                                                                                                                                                                                                                                                                                                                                                                                                                                                                                                                                                                                                                                                                                                                                                                                                                                                                                                                                                                                                                                                                                                                                                                                                                                                                                                                                                                                                                                                                                                                                                                                         image_embedding  \\\n",
       "0                                                               [-0.448359936, -0.0430605114, 0.369991869, 0.322968215, 0.0633042008, 0.0234595239, -0.054834906, 0.00334192137, -0.418513656, -0.043659322, 0.187765881, -0.278256029, 0.0804198831, -0.0914375335, 0.392653108, -0.382631093, -0.473456442, 0.192973837, 0.383145571, 0.0574331656, 1.25482595, 0.0794151202, -0.0928896368, 0.243215486, 0.197071582, 0.115928985, -0.118134312, -0.121818602, -0.333208144, -0.106439814, 0.130191624, 0.0336576365, -0.113670163, -0.281805158, -0.240987375, 0.128299817, -0.173882291, -0.214342803, 0.407455951, 0.769284725, -0.164247781, -0.257355869, 0.266577125, -0.679551363, 0.445816368, -1.43323827, -0.531031847, 0.317064703, 0.240323603, -0.081834048, 0.214021742, 0.0123030804, 0.0706541389, -0.26401481, -0.0674222857, 0.0766873136, -0.0288120881, -0.204142585, -0.47189346, 0.336064786, 0.635484338, 0.020102758, 0.679294527, 0.0788101703, -0.0484086797, 0.0852619708, 0.241920888, 0.178974643, -0.373536348, -0.0487884879, -0.18256107, 0.185385302, -0.219755113, 0.211238801, -0.115045778, 0.406136453, -0.196350425, 0.160727784, -0.0651768595, -0.613335013, -0.101937421, 0.245764434, -0.281557739, 0.328310937, 0.681900144, 0.37510255, 0.471389741, -0.193834662, -1.07033229, 0.151114985, 0.195648149, -0.101586379, -5.47819138, 0.573255837, 0.391116381, 0.435801268, 0.229012519, 0.395214766, 1.2794168, 0.0823265761, 0.560586274, -0.0124736307, -0.466742396, 0.575750589, 0.479281485, 0.0232543517, -1.73081565, -0.086803019, 0.0500885472, 0.610418081, -0.124317504, 0.0442212932, -0.349835485, 0.104898475, 0.138227418, -0.215798408, -0.347281963, 0.299144089, -0.169224814, 0.335940331, 0.168419927, -0.517890334, -0.0889281929, 0.163410559, -0.122743376, -0.369726837, 0.10844142, 0.0365348086, -0.316541642, -0.183344394, 0.329151601, -0.0577104278, 0.295598716, 0.719196379, 0.452133119, -0.0197502952, 0.0278550163, 0.427147299, 0.401723474, 0.424515754, -0.00837614946, 0.304415375, -0.827475131, -0.0385200754, -0.0445109084, 0.182833254, 0.19431822, 0.353466421, -0.276856601, 0.161233902, 0.380972624, -0.0132997744, 0.577073336, 0.218579903, 0.259353369, -0.303559273, -0.349179298, -0.216227114, 0.190646887, 0.505080283, 0.448460817, -0.20180054, -0.177259997, 0.131817445, 0.154605359, 0.647439241, -0.0411869809, -0.193742931, -0.216814354, -0.027546715, 0.0972485915, 0.379011512, 0.0548159666, -0.286132723, -0.288785011, 0.217487499, 0.613809764, 0.163903847, 0.639052749, 0.397692174, -0.109720521, 0.530176461, 0.354066461, 0.773959339, 0.0508325212, 0.0472996235, -0.140549749, -0.315522671, -0.0853168294, 0.357497662, 0.152178273, 0.0409216098, -0.234148487, -0.451822907, -0.301625282, 0.421446353, 0.323794216, -0.208739698, -1.06362057, 0.113190435, 0.377327323, -0.0516830906, 0.136656582, 0.356253922, 0.200020224, -0.230696306, -0.255793929, 0.147971302, -0.78629452, 0.28444773, -0.384738833, 0.557017744, -0.172924459, -0.426089227, 0.0415280685, -0.18663539, 0.612364471, -0.159333646, -0.890310645, 0.259944111, -0.0732830018, -0.535984993, 0.0530748889, -0.0753408, 0.49326238, -0.111109279, 0.0997576937, -0.0386887155, -0.252061427, -0.236551926, -0.00560962455, 0.137055263, -0.251276821, 0.0749256089, -0.0689838976, -0.417717695, -0.0699914694, -0.0216111988, 0.105433673, -0.199007466, 0.376483113, -0.293973476, 0.404916048, -0.0709928572, -0.0682890564, 0.474469274, 0.167411566, 0.100571677, 0.0389925241, -0.08240702, 0.0952264518, -0.578388155, 0.254395336, 0.149733454, 0.444697231, 0.365934938, 0.0391797684, 0.288740396, -0.78133738, 0.0997114033, 0.0938199684, 0.109005921, -0.281773478, 0.0787509382, 0.690787673, -0.278511763, 0.31570819, 0.0277395397, -0.478378087, 0.250132829, -0.27403456, -0.0377018936, 0.858969867, 0.208220363, -0.0188395474, -0.125390261, -0.403292507, -0.167967185, 0.120405443, -0.18817699, 0.130288363, -0.272610396, 0.653634489, 0.10990493, -0.277579308, -0.118036129, -1.41085327, -0.0693301037, -0.0821312144, 0.19669798, 0.536534131, -0.349876195, -0.147195429, 0.0369699523, -1.02796185, 0.636074781, 0.0371975414, 0.203318179, -0.247758195, 0.285048366, -0.16981338, -0.60583663, 0.17208153, 0.0506564379, 0.00820303708, -0.897106588, 0.483187467, 0.449355334, 0.0977967829, 0.137770191, -0.452226967, 0.673044741, 0.717555344, -0.118354447, -0.129089102, -0.297258466, 0.345988542, -0.230623081, 0.531764746, -0.632848442, 0.12969698, 0.488512546, 0.0012445749, -0.239683136, -0.109615505, 0.249609992, 0.128974691, -0.124244042, -0.291985422, -0.536277473, 0.097419478, 0.0765440688, 0.470128149, -0.00231454917, -0.596661389, -0.0951964557, 0.391141206, -0.0297622457, 0.213587686, 0.0320982672, -0.0978274345, -0.345131934, -0.0382823236, -0.082094796, 0.258693606, -0.266646206, -0.029655315, 0.136025801, 0.0192418117, -0.455535442, 0.33393237, 0.598678708, 0.587621391, -0.242294148, -0.577468336, 0.330069125, -0.507183194, -0.816877425, -0.275514603, 0.405594617, 0.0872911066, -0.262887239, 0.257306486, -0.153148308, -0.588791847, -0.171379805, 0.00044779625, 0.382604152, 0.484614342, 0.381724924, 0.18649067, -0.560858428, 0.0569827147, -0.0714436099, 0.0211124662, -0.26173526, 0.928957999, 0.054755602, 0.181630477, -0.283349305, 0.10978695, -0.00673559867, -0.150130451, -0.420155257, -0.00388002209, -0.274992406, -0.289523721, 0.00374918478, -0.845297456, 0.999655902, 0.274266481, 0.285190046, -0.21676825, 0.0797039717, -0.477893203, -0.209451884, -0.0571693406, 0.100234538, 0.270557523, -0.371974587, -0.203340024, -0.0407346338, -0.254366428, -0.304665416, -0.149846405, 0.030774653, -0.300457358, 0.0442209467, 0.52252686, -0.168789402, -0.0946672931, 0.318398863, -0.825390458, -0.00166894251, -0.151257113, -0.291775554, -0.043981351, -0.555256605, -0.151850536, -0.0430052802, 0.0781904757, -0.345217526, 0.0532639883, 0.536784351, -0.104805127, 0.1910685, 0.101535551, -0.185421512, 1.22381568, -0.264737308, -0.0620256513, 0.769074142, 0.89412117, -0.161241233, -0.0646107569, -0.0542941093, 0.0758381933, 0.113233753, -0.282752484, -0.15799506, 0.0392974727, 0.629662037, -0.27444756, 0.526476204, 0.559554577, -0.579398751, -0.101288192, -0.245011434, 0.144400761, 0.649444103, -0.49099046, 0.280663133, 0.151236087, 0.654047728, 0.0511135869, 0.315788239, 0.39795655, -0.276376009, 0.0197417215, -0.0629979223, 0.222815171, -0.159545377, -0.129059926, -0.188268647, -0.274698526, -0.246303782, 0.354853898, 0.374469787, -0.25705716, 0.166512996, 0.710474789, -0.679317892, -0.547082305, -0.28413856, 0.0968759656, -0.0453696661, 0.278211564, 0.0530329719, -0.307756692, -0.21820958, -0.416305631, -0.3164877, 0.49517104, -0.111945406, -0.00571892364, 0.1140396, -0.294878513, -0.0665759593, -0.240140751, -0.698343873, 0.0598551594, 0.309824675, 0.317714274, -0.571494043, 0.225812644, 0.551514268, 0.636013627, 0.311564237, 0.189413548, 0.18085283, 0.123276688, -0.212316558, -0.381544471, 0.0234909728, 0.814471424, 0.0520364866, -0.565607667, 0.476959258, 0.292352885, 0.23104924, -0.236820579, -0.267837524]   \n",
       "1                         [-0.286382645, -0.321023494, 0.141148448, 0.30744648, 0.357169449, 0.0839873627, 0.206677079, -0.0217397418, -0.683751643, -0.101616532, -0.130536586, -0.317287594, -0.0738115758, -0.0942552984, 0.256952226, -0.372250676, -1.02033174, -0.279224098, 0.00208104309, 0.128476158, -0.0615424179, 0.337820321, -0.0143363634, 0.551170349, 0.374348372, 0.442475468, -0.235753953, -0.155328318, 0.0630307123, -0.231818855, -0.180971265, -0.31640166, 0.0849548578, -0.570282459, -0.432404578, 0.0481693372, -0.127152652, 0.430127501, 0.443339825, -0.165445462, -0.115759149, -0.496550441, 0.39307192, -0.128686562, 0.464217365, -0.708030224, -0.296149641, 0.0319032297, 0.103878923, 0.118805058, 0.340658098, 0.00406124815, -0.0166983791, -0.0155721316, 0.031692151, -0.088264659, 0.183197781, -0.388622224, 0.00525753153, 0.381706893, -0.144991875, 0.00729740039, 0.466011286, 0.0344297774, -0.228388876, 0.111121356, -0.166543677, 0.486057758, -0.189700335, 0.279834151, -0.113893345, 0.0655927807, -0.222819954, 0.0919567123, 0.0195338428, -0.323227644, 0.0467351712, -0.00606846157, 0.0194174796, -0.270018786, -0.120334849, 0.377964556, 0.00655721687, 0.155503899, 0.102252021, 0.591727376, -0.131971031, -0.390903741, -0.706749558, -0.435703069, 0.0588553548, -0.149591893, -5.68113184, 0.630303144, 0.294304252, 0.356624931, 0.134896219, 0.350452662, 0.322916657, -0.0927435383, 0.573984325, 0.0908317566, 0.212606087, 0.36567089, -0.267865449, 0.255888045, -1.82593954, 0.361364275, -0.117760547, 0.211293876, -0.0145710642, -0.280266166, 0.0250399318, 0.0706324056, 0.604548156, 0.197221413, -0.0541219898, 0.183157131, 0.285814434, 0.4492625, 0.233262092, -0.734161437, -0.0367120504, 0.0176132992, -0.338367969, -0.479168832, -0.00755991228, 0.146548018, -0.109276243, 0.375229657, 0.356487751, 0.00153195672, 0.0652204901, 0.745951474, 0.0712414086, 0.292004496, 0.0894002318, -0.069328323, 0.102285966, 0.221091747, -0.0923077911, 0.242858738, -0.697657526, -0.159520879, -0.514622688, -0.148122877, 0.178659424, -0.154797778, 0.0923668221, 0.365478456, 0.0874148831, 0.374599785, -0.53481853, -0.0816356316, 0.0216904525, 0.0875961706, -0.453794807, -0.286815763, -0.441679716, 0.267144471, 0.275856137, 0.218987197, -0.160902157, 0.156263262, -0.18581818, 0.168448016, 0.108385667, 0.184104502, -0.254904777, -0.0186942071, 0.226392031, -0.314989418, -0.0197072998, 0.0305854622, -0.0952882841, -0.183710352, -0.648828506, -0.0098287724, 0.548600852, -0.132027477, 0.123390906, 0.259913564, 0.0858039111, 0.34363851, 0.174877599, 0.199277669, 0.206173226, 0.102415301, -0.0763254762, 0.110766865, -0.153937757, 0.225991145, 0.573733032, 0.132929608, 0.114004686, 0.472887188, 0.154290006, 0.119507641, -0.170520633, -0.0477666073, 0.352639884, -0.000196710418, -0.117753938, -0.194596529, 0.144600898, -0.44161883, -0.675118029, -0.0731279179, -0.425538987, 0.433532238, -0.675089359, 1.15680099, -0.0544943064, -0.0602233708, 0.416855425, -0.358918637, 0.210359201, 0.197644621, -0.348219514, 0.0381590798, -0.498973876, 0.245628506, -0.314461887, -0.652718842, 0.343756169, -0.15031743, -0.21757324, -0.0149053987, -0.406168967, 0.180971816, -0.0632674843, 0.336427629, -0.369753748, -0.336616576, -0.0370643288, -0.0199237671, 0.358963698, -0.0601436868, -0.326371014, -0.505136132, 0.39212358, 0.0978929773, 0.366812766, -0.660108924, -0.419804603, -0.314324677, 0.425263166, 0.198147893, 0.373671114, -0.364482433, 0.17035301, -0.123824373, 0.0785379559, -0.0572769158, 0.202619925, 0.370275348, -0.226430327, -0.0726809725, -0.779332757, 0.172671661, 0.18012087, 0.229583338, -0.0350011624, -0.620274305, 0.517991304, -0.120323442, 0.232609749, -0.0239173342, 0.162940249, -0.18182449, 0.330863804, -0.139249086, 0.516961992, 0.239123762, 0.265581131, -0.0946845263, -0.0436787009, -0.151413962, 0.147973403, -0.676787913, -0.519927561, -0.236648455, 0.675719142, 0.242833391, 0.148035511, -0.477373809, -1.44034207, 0.0118683325, -0.199326858, 0.103152394, 0.536589682, 0.0879958048, 0.332746446, 0.0814388171, -0.0203870703, 0.409650952, 0.68142122, -0.292401105, -0.194692671, -0.0145815518, -0.199172765, -0.22466661, -0.257308751, -0.405388117, 0.191677213, -0.0493841469, 0.325702876, 0.512733638, 0.588484764, 0.0486926325, -0.328644454, 0.357924968, 0.743315041, 0.253858209, -0.128872842, 0.189158991, 0.0455181003, 0.203595072, 0.505238891, -0.638493121, 0.0514316559, 1.65449488, -0.177103922, -0.542650461, 0.324962854, 0.0483979695, 0.0899074897, -0.0399987586, 0.214943781, -0.387751967, 0.0486490093, 0.0357142873, 0.547595799, -0.0495433919, -0.0910638049, 0.0324154049, 0.449619174, 0.0625652522, 0.379796684, -0.0194709003, -0.396707356, -0.489725024, 0.214779496, 0.144355372, 0.079594478, -0.2444776, 0.103277981, 0.071245119, 0.0107604219, -0.0379098728, 0.4511742, 0.272018075, 0.604566336, -0.216532245, -0.57926017, 0.326209217, 0.00373323401, -0.754770637, -0.305524498, -0.00239488599, 0.565041423, -0.0651328564, 0.0826734155, -0.898410797, -1.39162529, 0.0861219913, -0.498410583, -0.361946106, 0.108147718, 0.64689517, 0.265036315, -0.127938733, 0.102159046, -0.0207647681, 0.31719929, 0.200702071, 0.3798967, -0.0797947198, 0.235853806, -0.245449275, -0.166885599, -0.300240338, -0.225977659, -0.0617556013, -0.187997892, 0.197712973, 0.272070587, -0.174313366, -0.739990413, 1.98816645, 0.0964370593, 0.52296716, 0.345817834, -0.0337384231, -0.307549745, 0.143640742, -0.149695516, 0.126540288, 0.485801786, -0.441442877, 0.0144102788, -0.132048339, -0.265450895, -0.260558099, 0.199558586, -0.227905855, -0.358345568, 0.199839339, 0.822063327, -0.0484389514, 0.178627715, 0.0299290158, -0.491997331, -0.276945591, -0.428697914, -0.28554967, 0.144715711, 0.00850092061, -0.387910098, -0.23368521, -0.00687073823, -0.75372678, -0.166604176, 0.111454554, 0.030179318, -0.0401357636, -0.0175009947, -0.0608342253, 1.87681687, 0.109373569, 0.019592559, 0.590476274, 0.844492912, -0.290648818, 0.0973746106, -0.163862184, 0.0541437753, -0.229041979, -0.062697567, -0.0531571284, 0.0844774246, 0.408586204, -0.127611756, -0.0088230893, -0.0984224975, 0.0137294885, 0.0169766136, -0.343037367, 0.0632348359, 0.341711462, 0.250537634, 0.0873829648, 0.0911879167, 0.709718406, 0.0632234365, 0.26005587, -0.103130594, -0.259697169, 0.0687742308, -0.0473478138, 0.106114805, -0.17874752, 0.139509544, -0.525439084, -0.026428666, -0.154939711, -0.192993686, -0.455344468, -0.027306797, 0.434372604, 0.220374629, -0.0279525574, -0.144938648, 0.226350859, 0.296223074, -0.330198973, -0.178320736, -0.464038372, 0.306176513, 0.228978261, -0.240014344, -0.263463855, 0.0135139134, 0.212509319, 0.617059231, 0.333346188, 0.316446424, -0.292350769, -0.21564573, -0.271441936, 0.156260893, 0.21268788, -0.241542414, -0.753650248, -0.175046891, 0.0284377541, 0.247926667, -0.179874703, 0.0322530642, 0.463424742, -0.132919461, -0.277583301, -0.0229467489, -0.0858295262, 0.207733512, -0.100851394, -0.0399461128, 0.0941689536, -0.106392644, 0.704787076, -0.00303337118, -0.109789327]   \n",
       "2             [0.238851249, 0.186246827, 0.0952387005, 0.555347621, 0.228667945, -0.0691499263, -0.393430471, 0.672492504, -0.0440325961, 0.0908351913, 0.153476968, -0.458432317, 0.304356426, -0.0387101024, 0.0950963497, -0.201881126, 0.026925059, 0.25436759, -0.0097405538, 0.0983386785, -0.224868685, 0.219025224, 0.25829035, 0.512221992, 0.410810292, -0.0617013909, -0.0113512231, -0.522717953, 0.0327742472, -0.36793834, 0.418885678, -0.0452996083, 0.0644034892, -0.474690109, -0.578263223, 0.107619673, -0.21490784, -0.207215905, 0.0738951415, 0.0816348568, -0.138503045, -0.164680824, 0.3047508, -0.0759194344, 0.173243687, -1.36551869, -0.152444854, 0.0957906023, 0.0832589194, 0.0639572889, 0.545561075, 0.382885128, 0.27441889, -0.274520099, -0.237483352, 0.0415458865, -0.346055627, -0.145736665, -0.317445695, -0.0523025617, -0.46880874, -0.317404509, 0.179843023, -0.0934959278, -0.412211448, -0.116568871, 0.306605488, 0.0581756122, -0.447857708, -0.313429475, -0.428357601, -0.178135186, -0.441264629, -0.00980357733, -0.188626096, -0.281835854, -0.0841350108, -0.345101833, 0.43888396, 0.039431598, 0.481300533, 0.232691631, -0.429587036, -0.414954096, 0.443554252, 0.30025059, 1.38883257, -0.15889895, -0.785466731, 0.0648225471, 0.111750253, 0.174872339, -7.86645079, 0.512335539, 0.239823267, 0.442988038, -0.0762038827, -0.0999334529, -0.136429772, -0.772910476, 0.283693522, -0.534381747, 0.243748292, -0.0277845133, -0.0416354313, -0.256048739, -1.72940779, -0.0918031931, -0.23695159, 0.189231604, -0.224585578, -0.0235090759, -0.0968767181, 0.0765840337, -0.0987973809, -0.399366349, 0.230777889, 0.30227071, 0.277442187, 0.0619284697, 0.00763552031, -0.300663382, -0.130017936, 0.0749375373, -0.0736216605, 0.0496345423, -0.000997241819, -0.200349048, 0.0200153477, -0.129775882, 0.149506599, -0.0988015383, -0.0491668247, 1.00245893, -0.278470576, -0.0322903134, -0.224382833, -0.620158374, -0.0727115199, 0.168530986, 0.159738287, 0.322589099, -0.846805453, 0.211948693, -0.242741555, 0.112477474, 0.14240621, 0.577953279, 0.0608607531, -0.0573415011, 0.105564311, -0.101993136, 0.248390064, -0.56864202, -0.0740687475, -0.131560579, -0.114713013, 0.015304382, 0.202118114, 0.0043887035, 0.0358052403, -0.501944005, -0.0379858389, 0.436108381, -0.14670983, 0.335426897, -1.14000344, 0.216856629, -0.129573509, -0.188812152, -0.131887242, -0.324055463, -0.0188398976, 0.222427934, -0.391619384, 0.22647807, 0.663518965, -0.0473466478, 0.442390382, -0.118822753, 0.115316518, -0.0217941012, -0.0816385746, 0.128299743, 0.0511641428, -0.119588368, 0.130826861, -0.172900066, 0.392487258, -0.129641145, 0.194367215, 0.177773803, -0.202160344, -0.231402129, 0.247166991, -0.251468092, 0.15687187, -0.12684074, -0.560284078, 0.199699119, 0.204005942, 0.140622869, 0.272056311, 0.426259667, 0.324281245, -0.26122275, 0.0225968044, -0.269836307, 0.209703177, 0.00604790915, -0.0149970679, 1.37978745, -0.330943048, -0.263182193, -0.016541278, -0.214214444, 0.224803165, -0.0351277478, -0.925343215, 0.386086196, 0.273574144, -0.0964443535, -0.082630381, -0.286305785, 0.174373806, -0.149083987, -0.193607971, -0.0980220735, -0.026901057, -0.179409042, -0.00571331801, 0.0755316168, -0.0366715938, 0.26797843, 0.0426303782, 0.0108820982, 0.471058041, 0.0541716143, 0.143094063, -0.106429882, -0.000399919314, 0.383844525, -0.0552071407, -0.325752884, -0.588427901, -0.525615633, 0.158591643, 0.575754166, 0.0231668614, -0.197530001, 0.300189316, -0.170558259, 0.178160056, 0.119460322, 0.259914368, 0.536763132, -0.255673319, 0.163954452, -0.659334183, 0.168092221, 0.168831542, 0.203842551, -0.224498808, -0.809493482, 0.231486887, 0.164319023, 0.237316564, -0.357172996, 0.236090332, 0.165696368, -0.0240221638, 0.212441996, 0.500976324, 0.21086058, -0.0596178956, -0.275131404, -0.151799992, 0.228100896, 0.0367742516, -0.149186313, -0.07792411, 0.304748446, -0.113025613, -0.0625767186, -0.191262826, -0.39961338, -0.354353845, 0.202316329, 0.181557566, 0.105519786, 0.640631974, -0.295228094, -0.310782045, 0.0417252183, 0.246443033, 0.0228108373, 0.0548654161, 0.240322351, -0.151468709, 0.0447343737, 0.145069689, -0.601233423, -0.142418325, -0.0857998505, 0.00469904393, -0.616305888, -0.199739099, 0.0133321434, -0.110359214, -0.0935483798, -0.0410833023, 0.265996397, 1.0004648, -0.185095862, -0.270590931, 0.11267335, 0.304855943, -0.132171616, 0.127490446, -1.31539822, 0.473560035, 1.60473335, 0.0196847189, -0.161538541, -0.079957217, 0.00151632237, 0.30654344, -0.125924602, -0.355240554, 0.484515101, -0.305933863, -0.073603563, -0.0288590137, -0.267987013, -0.245831534, 0.214878425, 0.228663132, -0.192421243, -0.171814859, 0.0511443429, -0.0411034636, -0.509568393, 0.0066936505, 0.403737247, 0.165608421, -0.225098625, -0.449370861, 0.172980979, 0.0397275425, 0.284473538, 0.299844146, 0.265407652, 0.518300533, -0.0870726183, -0.398277074, -0.407753736, -0.032690376, -0.121109717, 0.38574788, -0.187726721, -0.0830720961, 0.0948857144, 0.452943802, -0.235901207, -0.558590949, -0.0443692841, -0.392742783, 0.388150543, 0.0387896188, 0.475667357, 0.0617434271, 0.24286063, 0.125014737, -0.228323907, 0.271983981, -0.0226378944, -0.314050227, -0.0181293711, -0.636849284, -0.422035456, 0.489550442, -0.428410411, -0.10286963, 0.104763366, 0.538586974, -0.0807738677, 0.0830783546, 0.0529584438, -0.606937885, 1.19655502, -0.278915316, 0.0946016908, 0.58462441, -0.480023175, -0.030396387, -0.257318318, -0.221593097, 0.00684025791, 0.198367268, -0.225091353, -0.577642322, -0.0194375012, 0.671027601, -0.282795459, 0.126852065, -0.134426758, -0.00110480958, 0.111093111, 0.621546984, -0.0655382201, 0.000277043728, 0.273379952, -0.42310226, 0.115009956, -0.229403064, -0.183317333, 0.374936283, 0.333086371, -0.475568026, -0.476770788, 0.0846744776, -0.563382208, 0.220376506, -0.483002245, 0.193698645, -0.38884452, -0.0471073501, 0.228325397, 0.605943978, 0.476286918, -0.1496571, 0.319195688, 0.280347258, -0.231287912, 0.0518687107, -0.0209329072, 0.0237977561, -0.00292792008, 0.0350882746, 0.302451164, -0.386629909, -0.421528429, 0.111601837, 0.325709134, 0.159863189, -0.0726387948, 0.0428892337, 0.231459752, -0.285630822, 0.0496776141, 0.47686103, 0.126870841, -0.0571210161, -0.457231641, -0.228293553, -0.0755661428, 0.0655937493, -0.1409619, 0.0695939362, -0.635423243, 0.265973598, -0.301405311, 0.136099651, -0.0392369293, 0.0570724234, 0.393039078, 0.362579316, -0.200165868, -0.228779614, 0.0599805117, -0.797980666, -0.173997998, 0.12934716, -0.365377545, 0.0615481883, -0.0707563832, 0.1274582, -0.0583614148, 0.146491915, 0.17588304, 0.0328134857, -0.114066422, 0.240504712, 0.528172195, 0.181331798, 0.150543049, -0.213237226, -0.0663497224, -0.14998731, -0.513909519, -0.0836738497, 0.160949618, 0.360098422, -0.139325276, -0.338293254, 0.195865393, -0.00567580806, 0.261931062, -0.028340362, 0.0323345512, -0.336374253, 0.171469882, -0.296405047, -0.111929245, 0.875494838, -0.0869669318, -0.320336372, -0.447526991, -0.0902781337, 0.594677448, -0.188212559, -0.368225247]   \n",
       "3                              [-0.193954706, -0.195731193, -0.162366256, 0.201802656, 0.530287027, -0.0682955012, -0.106784254, -0.228881061, -0.346891135, -0.313641459, 0.652985394, -0.0554394536, -0.223236561, -0.386521339, 0.514501035, -0.526333392, -0.707158744, -0.0567354225, 0.341849387, -0.056690868, -0.445389867, 0.3676759, -0.0913749486, 0.355218887, 0.416642457, 0.12936686, -0.17353566, -0.0527612567, 0.168491378, -0.0277236775, 0.0420073383, 0.152987301, 0.147065833, 0.151635379, 0.0907349288, 0.0838282257, 0.240532264, -0.248184443, 0.544902802, 0.0815840811, 0.109379306, -0.223113567, 0.0650726408, -0.255145997, 0.608516097, -1.19478393, -0.244334504, -0.0291975811, 0.481845081, 0.035008423, 0.274159342, 0.0604960807, -0.106707774, -0.692135394, -0.113888457, 0.0793498084, 0.559481204, -0.0312490743, -0.0389489383, 0.451308519, 0.490423799, -0.556292892, 0.387368381, -0.0399613865, 0.0583900549, -0.143212572, -0.0794892311, 0.680548668, 0.251538813, -0.2320351, 0.240151972, 0.288014024, 0.0593336262, -0.0176489837, -0.274614662, -0.268082291, 0.230468094, 0.0834001154, 0.0495428108, -0.237144396, 0.00469854055, 0.797989428, -0.0539278537, 0.251934767, 0.149281248, 0.232428879, 0.0587280802, 0.00628508441, -0.108634062, -0.325339526, -0.0609972887, -0.221649125, -6.01077604, 0.91380018, 0.193213761, 0.237174883, 0.391913712, 0.281261563, 0.0794641748, -0.168997273, 0.27314496, 0.285071731, 0.026091285, 0.289950281, 0.508269966, -0.0789778531, -1.51823628, 0.169701546, -0.250280887, -0.164005518, 0.171960771, -0.11146263, 0.000663141022, 0.133752376, 0.273845315, -0.104583137, -0.138296738, 0.086483337, 0.267949164, -0.0502169915, -0.0148023376, 0.0634206235, -0.321026713, -0.0773970559, 0.109549053, -0.438743293, 0.158455372, 0.0549190603, -0.32183665, 0.278313428, 0.358739495, 0.317926198, 0.135012612, 0.748235404, 0.111676686, -0.0654741824, 0.0152300401, 0.0602784157, -0.0460835695, 0.180981025, -0.0944327861, 0.415418804, -0.686067879, 0.100558549, -0.220571384, 0.351370007, 0.0135487262, -0.449245751, -0.0756623, 0.214632973, 0.425017953, 0.388951421, -0.0313453563, -0.544823825, -0.218940735, -0.19872734, -0.00737140467, -0.559204698, 0.546670318, -0.20447734, 0.190540373, -0.0769472569, 0.257747352, 0.0337433629, -0.284099668, 0.122962177, 0.226035669, 0.195626274, -0.316644192, 0.0840609893, 0.0832492858, -0.12093731, -0.04980487, -0.53758204, 0.41096887, -0.210152, -0.378839999, -0.053031899, 0.119511902, 0.0122971805, -0.539318204, 0.132911921, -0.301677078, -0.0491313413, 0.330777854, 0.461102098, 0.244544208, 0.528838694, -0.242510825, 0.366886973, -0.521053374, -0.113863669, 0.321114391, 0.0362851359, -0.413518101, 0.401651502, 0.210395366, 0.0263610557, -0.164060861, 0.312911928, -0.489336222, 0.154155329, -0.391722858, -0.0947969705, 0.109111153, -0.258945823, -0.536808252, -0.208420962, -0.90732342, 0.508901954, -0.431490898, 0.862185538, 0.287070155, -0.174447015, 0.275630385, 0.0146196866, -0.119250387, -0.0919350311, 0.34793362, -0.260003954, -0.118061736, 0.071556434, 0.258247465, -0.271794736, 0.283094466, 0.0655965805, -0.240386263, 0.36599499, -0.65254122, 0.0085478602, -0.0753764808, 0.0111922212, 0.160285458, -0.0250349566, -0.242750302, 0.252049804, 0.0543375947, -0.182027847, -0.154479533, -0.107237957, 0.0782397911, 0.0138453785, 0.224036679, -0.336737305, -0.17189385, -0.0340211876, 0.0483148694, 0.389497727, 0.172454253, -0.165730014, -0.315080673, -0.186787665, -0.114499435, 0.105720513, 0.282096773, 0.175942212, -0.43938148, -0.130547985, 0.00266826409, 0.245404854, -0.166668072, 0.623619199, -0.0812798887, -0.617200255, 0.440270483, -0.0541303866, 0.21631138, 0.146540761, -0.048043754, 0.35684821, -0.369102687, -0.0763826594, 0.204124227, -0.193943679, 0.296821833, -0.114581309, -0.708886683, -0.245114312, 0.147860721, -0.236574546, 0.493163228, -0.299584001, 0.531807184, 0.189048752, -0.162383392, -0.0572596714, -2.16943979, 0.158376038, -0.632538557, -0.100117043, 0.607783556, -0.0351325832, 0.0292841084, -0.178552911, -0.277340084, 0.240773648, 0.45232293, 0.01428614, -0.184917241, 0.0536968559, -0.0383889936, -0.171962887, -0.10294158, -0.755480289, -0.0432105623, -0.487636268, -0.398079008, 0.208839953, 0.219703123, 0.261959732, -0.0730241016, -0.00154327229, 0.746410906, 0.00687211892, -0.0477531664, 0.117073424, 0.196640313, 0.119090147, 0.143039212, -0.779833436, 0.421750456, 2.29273987, -0.284863055, -0.414160579, 0.376771033, -0.296327144, 0.229958057, -0.253149718, -0.169965133, -0.359010279, -0.141245559, 0.0166230407, 0.244325444, -0.0771180838, -0.322323084, 0.364351749, 0.703668952, -0.16388455, 0.769282579, -0.198415756, -0.261872321, 0.00235500187, -0.117381617, -0.171681434, -0.0358575769, -0.160827398, 0.0288068019, 0.0474567823, -0.0819919035, -0.151400223, 0.0762599781, 0.548594832, 0.683770001, 0.141622588, -0.319473475, 0.36865449, -0.233323425, -0.882432163, -0.21389316, -0.101081967, -0.0886346325, -0.0687649995, 0.0894972309, 0.408021569, -1.42769074, -0.0929978415, -0.465470254, 0.193298534, 0.13871859, 0.697288215, -0.0311095137, -0.0621689484, 0.298917323, -0.252515078, 0.0827778727, 0.0370410271, 0.292026013, -0.123418063, -0.112797059, -0.351777792, -0.0161716007, -0.510749102, -0.484732658, -0.0783504024, 0.0929006934, 0.0720064342, -0.294317096, -0.32400322, -0.425231844, 2.06661105, 0.111232959, 0.502885997, 0.294990033, 0.00248646666, 0.202334151, 0.434958041, 0.0654169247, -0.54942286, -0.154281974, -0.491537511, -0.0014760195, 0.014890288, 0.318574607, -0.0931310207, 0.0185109768, -0.0232062507, 0.0796639398, 0.194137678, 0.976648211, 0.38499102, 0.291583896, 0.520106316, -0.00506751612, -0.294346005, 0.131325707, -0.495909423, 0.0431510024, -0.305418402, -0.486679494, -0.404502422, -0.322924882, -0.454627335, 0.0639915988, 0.11456766, -0.417527109, -0.14970237, 0.343833476, -0.592145801, 0.941534698, 0.444377244, 0.173751712, 0.573904395, 1.27569163, -0.198764071, 0.185181305, -0.337745607, -0.0127160642, 0.182036862, -0.515110672, -0.0448947065, -0.219280973, 0.603043675, -0.0632305741, 0.135563403, -0.000524442294, 0.166454047, 0.375202656, -0.366868317, -0.33750385, 0.436997145, 0.273595601, 0.153718293, 0.143614426, 0.265948474, 0.409755409, -0.238885954, 0.304147452, 0.0648995042, 0.121635497, -0.00918030925, 0.4302378, -0.324442327, 0.141052291, -0.41787827, 0.373197824, -0.0853849202, 0.0932664871, -0.0990993008, -0.0644239113, -0.0292251185, -0.00455043418, -0.245142668, -0.0666754916, 0.339131206, -0.116143793, -0.128051609, -0.259950489, 0.0607607588, 0.324439079, 0.439166576, -0.0448360853, -0.182267338, 0.147619233, 0.141322732, 0.516070724, 0.0108281551, 0.190257147, -0.132005632, -0.714998424, -0.543309391, 0.0545792393, -0.0699908882, 0.175550014, -0.157930732, -0.241108999, 0.0546497628, 0.0583135188, 0.191146985, 0.117373437, 0.21992375, 0.00307341223, 0.140753925, -0.134816006, -0.0816939473, 1.08227551, 0.0108424937, -0.359791845, -0.0520438291, 0.134221017, 0.628206849, -0.326586634, 0.0247786101]   \n",
       "4                                      [-0.143914551, -0.191050231, 0.127763778, 0.0125617729, 0.413363248, 0.0344472192, -0.00937086251, -0.0402962603, -0.741161346, 0.329365283, -0.0467952341, 0.0805468932, 0.297905147, -0.243196934, 0.503865004, -0.545335174, -0.306556076, 0.30502525, -0.289516926, -0.151528537, 1.00216198, 0.18240647, -0.0352142602, 0.568381786, 0.256770164, 0.0355529264, 0.114066415, 0.056709066, -0.0262308363, -0.350212067, -0.242611855, -0.154821917, 0.00694193039, -0.461168826, -0.80050993, 0.00304823695, 0.0182679594, -0.0112851644, 0.234617919, 0.116292208, -0.458105028, -0.15383032, 0.110194631, -0.491867214, 0.793811142, -1.24699402, -0.21435307, -0.0480263904, 0.199721113, -0.231041685, 0.429989517, 0.00191538048, -0.132930845, -0.234451309, -0.0960324705, -0.14570713, 0.119279586, -0.308265209, -0.206391364, 0.356120408, 0.179420486, 0.323440462, 0.553958774, -0.114094555, -0.350401282, -0.05965643, -0.116629526, 0.678211331, -0.496427804, -0.313826114, -0.150062278, 0.0872057453, -0.546433151, -0.0357474275, -0.314017564, -0.0279241242, 0.319005728, -0.0610485077, 0.0919266865, -0.390886426, -0.216432601, 0.256518215, -0.0304131079, 0.250755697, -0.0777012408, 0.238512978, -0.125046581, -0.313266128, -0.549007952, 0.101648316, -0.298841536, -0.498862147, -5.46565771, 0.594153821, 0.18330954, 0.346755654, 0.357514113, 0.501650155, 0.492055953, 0.0647256896, 0.540352881, 0.0217302069, -0.219496682, 0.275251746, 0.425496578, -0.113827907, -1.86582279, -0.30946371, 0.090523161, 0.237303644, 0.0117337499, -0.164738879, -0.172074944, 0.229159117, 0.439068824, -0.257442862, -0.335006654, 0.113169737, -0.0541893952, 0.250986993, 0.197889566, -0.67456007, -0.204045206, -0.0282589607, -0.246134907, -0.349559546, -0.249106213, 0.317365378, 0.00908205286, 0.600164592, 0.385997474, 0.0460309386, 0.0696675107, 0.705997348, 0.0398496836, -0.170667589, 0.0373287536, 0.318351895, 0.432242155, -0.0646664202, -0.0659818128, 0.25763759, -1.04902554, -0.602853954, -0.24016723, 0.311643004, 0.755230248, -0.229353309, -0.176432624, -0.239966974, 0.0901758522, -0.0754935592, 0.536502361, 0.432440758, -0.0178267173, 0.0223080236, -0.32214579, -0.70821023, 0.112838998, 0.684710503, 0.281917036, -0.0874778628, -0.0762972087, 0.157022104, -0.0390852392, 0.568831086, -0.0799918696, -0.141401887, -0.245550454, -0.089309305, -0.0589501783, -0.203105956, 0.0872898772, -0.0984068513, -0.213047639, 0.193806306, 0.817114592, -0.197006628, 1.16772974, 0.018160753, -0.0610544458, 0.522956729, -0.411649525, 0.13938868, 0.283737183, -0.0774699748, -0.155503109, 0.165445566, -0.0168011338, 0.413244486, 0.110106245, 0.149735361, 0.262219787, 0.0449507758, -0.0300263632, 0.357141137, 0.190933272, 0.125523522, -0.922838867, 0.140765697, 0.557253122, 0.254215121, -0.0781998783, 0.479768246, 0.290432841, -0.197220385, -0.448116243, -0.101225957, -0.457351416, 0.0701413378, -0.124811843, 1.19836593, -0.168350518, 0.0833381936, 0.278586537, 0.278794616, 0.572931826, -0.0639935136, 0.135072708, 0.463037193, -0.266679049, 0.413459778, 0.15444836, -0.428960562, 0.683074355, 0.0764307976, -0.264607102, 0.11568483, -0.0669293404, 0.228615299, -0.0210776012, -0.188691363, -0.330164164, -0.0528918356, -0.300607443, 0.258772045, 0.359256595, 0.0780607238, -0.424912125, -0.416514963, 0.0222412702, -0.0273098126, 0.110860012, -0.168602481, -0.268162072, -0.0642571449, 0.226958215, 0.321104228, 0.141471043, -0.261147946, 0.103510551, -0.0573822707, 0.0182861648, 0.135169655, 0.207063287, 0.477354437, -0.139606252, -0.108229712, -0.21559003, 0.274756491, 0.589454651, 0.096286498, -0.356652766, 0.416875362, 0.443629295, -0.19117792, 0.224426046, -0.570667744, -0.0414768867, 0.392187268, -0.239246681, -0.0238802508, 0.624664783, 0.0125178229, 0.202847615, 0.0850320086, 0.00391772343, 0.250145137, 0.496275753, -0.607559383, 0.067905277, -0.0925679281, 0.311821312, 0.124262623, 0.1908191, -0.145639867, -0.870800912, -0.106978446, -0.376734912, 0.0457579158, 0.508068204, 0.0778188854, 0.163941205, -0.0135291647, -0.244971842, 0.263725698, 0.18446371, -0.102005601, 0.0767047629, 0.0247243196, 0.0389604643, 0.0722588226, -0.109957144, -0.0585931093, -0.0409608148, -0.265800595, 0.0868374184, 0.23777768, 0.229712754, 0.341371536, -0.735610008, 0.271709532, 0.701963723, -0.0408310927, -0.0494658574, 0.3278974, 0.232015908, -0.0453442819, 0.369075805, -0.147700712, 0.00597394863, 1.48850703, 0.226392955, -0.223923907, 0.0751964822, -0.278997779, 0.0940983742, 0.267081618, -0.406742334, -0.500708699, -0.0697383881, 0.465802431, 0.58493495, 0.0194871929, -0.379221737, 0.0467646942, 0.615131259, -0.281059682, 0.102340378, -0.218755633, -0.305249691, -0.189781711, 0.0499765947, 0.217413083, 0.397715718, -0.265906036, 0.256703287, 0.117859542, -0.0897995904, -0.386591166, 0.435645252, 0.514907718, 0.0794632435, -0.109733142, -0.527344346, 0.511003494, -0.506430268, -1.35237813, -0.215499669, 0.190328851, 0.139277488, -0.368800521, 0.271186233, 0.00745368144, -0.763411224, 0.132197812, -0.148242682, 0.773641884, 0.278648496, 0.33613348, 0.111571312, -0.191458166, -0.0471527427, -0.0468857065, -0.0943517163, -0.0267720837, 0.789617956, -0.173078015, 0.238691777, -0.298265606, -0.0631728694, -0.43886292, -0.308311194, -0.718398392, -0.606464982, -0.206559941, -0.067081973, -0.0410273708, -0.393056661, 1.23361957, 0.309244901, 0.13897182, 0.0368158184, -0.107718237, -0.0362429284, -0.278572798, -0.0585455485, 0.271145076, 0.281583577, -0.472281784, -0.0956508368, 0.0115349349, -0.129867375, 0.052574642, -0.0747904629, 0.157425568, -0.242971823, 0.465934306, 0.570926249, -0.0736296698, -0.371840984, -0.066694431, -0.7875247, -0.245435849, 0.0961023271, 0.298687756, 0.0192147959, -0.0204014443, 0.10173209, 0.112937339, 0.298058718, -0.53004986, -0.0197228529, 0.232248709, -0.178136334, -0.169716373, 0.0133235725, -0.545496345, 1.48725915, -0.308240086, 0.0832655579, 0.591299236, 0.952866256, 0.198254839, -0.0323046222, -0.075116761, -0.124622643, -0.25545153, -0.15216215, -0.122751348, 0.131636724, -0.173380867, -0.17023249, 0.168109432, 0.288615853, -0.162487283, -0.120431654, -0.28268072, -0.137705103, 0.540867865, -0.470645308, -0.0875326321, 0.0145192174, 0.836338699, -0.1909374, -0.0643788353, 0.523683727, -0.0879999548, 0.151621819, 0.132348046, -0.0783193111, -0.43977049, 0.292522371, -0.364895433, -0.0702453479, -0.388313949, 0.162302673, -0.222847164, -0.0901050419, 0.06748721, 0.103446841, -0.796487868, -0.100171365, 0.0630152747, 0.0834039003, -0.0105705261, 0.284119815, 0.2451583, 0.148317039, 0.329283535, -0.145668939, -0.299099237, -0.258313835, -0.182223827, 0.518663406, 0.161468953, 0.222825736, -0.120594591, -0.183581218, -0.544606626, -0.0318815224, -0.258580655, -0.288205802, -0.47329253, -0.194938734, 0.511894405, 0.802498102, 0.25161162, 0.250548154, -0.293945372, 0.0397491194, -0.644128561, -0.271933228, 0.120849915, 0.454440773, 0.146699652, -0.490124792, -0.0182895008, 0.0471489392, 0.496829122, -0.30060035, -0.0320145525]   \n",
       "...                                                                                                                                                                                                                                                                                                                                                                                                                                                                                                                                                                                                                                                                                                                                                                                                                                                                                                                                                                                                                                                                                                                                                                                                                                                                                                                                                                                                                                                                                                                                                                                                                                                                                                                                                                                                                                                                                                                                                                                                                                                                                                                                                                                                                                                                                                                                                                                                                                                                                                                                                                                                                                                                                                                                                                                                                                                                                                                                                                                                                                                                                                                                                                                                                                                                                                                                                                                                                                                                                                                                                                                                                                                                                                                                                                                                                                                                                                                                                                                                                                                                                                                                                                                                                                                                                                                                                                                                                                                                                                                                                                                                                                                                                                                                                                                                                                                                                                                                                                                                                                                                                                                                                                                                                                                                                                                                                                                                                                                                                                                                                                                                                                                                                                                                                                                                                                                                                                                                                                                                                                                                                                                                                                                                                                                                                                                                                                                                                                                                                                                                                                                                                                                                                                                                                                                                                                                                                                                                                                                                                                                                                                                                                                                                                                                                                                                  ...   \n",
       "117240  [-0.0769784451, -0.215956882, -0.121844038, 0.00323212403, 0.306643069, -0.0612247549, -0.223684967, 0.0778346434, -0.482852519, 0.312713623, 0.162108481, -0.15521197, -0.642787039, -0.1291724, 0.164686412, -0.46426484, -0.226019084, 0.0886794478, 0.0898351371, -0.149529278, 0.365650386, 0.249965936, 0.0659385696, -0.0855989754, -0.323029816, 0.271979272, 0.0203451067, 0.0913915113, -0.0141608203, 0.285633832, -0.310858756, 0.231724545, -0.47864902, -0.369777679, -0.30938223, -0.0521360524, -0.166840211, 0.214629278, -0.133724228, 0.257295221, -0.228957608, -0.479222506, -0.130440325, 0.0313767642, 0.0441861227, -1.35891473, 0.154526919, 0.0542865805, 0.112100855, -0.0421666391, 0.391805291, 0.390542477, 0.00785020832, -0.252126217, 0.268663943, -0.0207619667, -0.0467707738, 0.0108789466, 0.164344937, 0.343120575, -0.270469218, -0.27873826, -0.0255676359, 0.122087128, -0.113603637, -0.0448700525, 0.528326154, 0.000568469695, -0.278651595, -0.299396068, -0.0178929437, 0.152931631, 0.0985462517, 0.0208121259, -0.0976934657, -0.407364488, -0.249546811, 0.0418091901, -0.372690648, -0.168459445, 0.117335141, 0.0921265408, -0.24202773, -0.0485810302, 0.419234723, 0.0723448694, 0.572381437, -0.287079901, 0.0195288174, -0.308699071, 0.257310748, 0.47660315, -6.52757311, 0.414018512, -0.306464821, -0.0378839634, 0.209281638, 0.100266516, 0.599728644, -0.903271556, -0.0418766737, -0.423734099, 0.011895814, 0.128712878, -0.0668907762, 0.4361265, -2.59292126, 0.0207480751, 0.143956214, -0.0101666395, 0.126759112, -0.623475492, -0.11944481, 0.114945836, -0.0305923689, 0.019990772, 0.34434545, 0.0741090104, 0.00393662555, 0.054958608, -0.299730062, 0.162244722, 0.363381177, -0.328073084, -0.488452762, -0.183965176, 0.272470176, 0.113581181, -0.14250876, -0.049967058, 0.1034135, 0.123911224, -0.214130893, 0.829537153, 0.372504979, -0.395794779, 0.0463576242, -0.0749205798, -0.0341998674, 0.211553693, 0.0597746409, 0.146324933, 0.140803382, -0.343650132, -0.256433725, 0.0811675489, -0.329591721, 0.521650612, 0.253124028, 0.0123808095, -0.127936721, 0.119252808, -0.0727851614, -0.351108283, 0.114934377, -0.346715808, -0.088904947, -0.123190105, 0.207135081, -0.0606706329, -0.226364061, 0.0501425639, 0.450077534, -0.0220244937, 0.0410565063, 0.220201537, 0.750984013, 0.575334072, -0.246999547, -0.00389794749, 0.260782063, 0.0554578975, -0.364878923, -0.451547712, -0.255010605, -0.463517129, 1.18831134, 0.0219981167, 0.00711784652, 0.0217458196, -0.11487598, -0.417844504, -0.226935983, 0.0150959529, 0.0566202439, 0.140845627, -0.118311591, 0.373437107, -0.0457691252, -0.00642346172, -0.0750570372, -0.136463031, 0.312777013, -0.204372808, -1.09002137, -0.218938306, -0.22262086, -0.233372882, -0.277722806, 0.458896756, 0.137974292, -0.108128913, -0.00150131737, -0.106329173, -0.108831815, -0.453406006, -0.326893866, -0.122554287, -0.239829838, -0.197470352, -0.593912303, 0.281568229, 0.0828494281, 0.357395202, -0.0179094151, -0.57666409, -0.0383255593, -0.284095794, -0.622025967, -0.102268524, -0.168840542, -0.781911969, 0.0553643145, -0.281047702, 0.334836543, 0.245014802, 0.0302422084, -0.584318221, -0.141438603, 0.238126054, 0.0196135696, 0.565899432, 0.0466186106, 0.217481777, 0.0921866521, -0.548142314, 0.121805273, -0.206564784, -0.0928364471, -0.0223201457, 0.439796269, 0.239294603, 0.0387711935, -0.580684245, -0.228122279, -0.590902984, 0.119490467, 0.538842261, 0.21223636, 0.121040851, -0.173070565, -0.122261487, 0.623134553, -0.0870035961, -0.330533504, -0.105730176, -0.414308041, 0.0373384431, -0.609366298, 0.198434114, -0.00514422357, 0.193563908, -0.110194035, 0.0841961578, -0.0235128012, 0.0444474779, -0.315882713, 0.42243579, -0.0723132193, 0.130932152, 0.000665073399, -0.152386099, -0.0943326354, 0.0490949303, 0.233295023, 0.0901035741, -0.19624716, -0.707251489, 0.0817888826, -0.377062052, 0.00886393059, -0.324056625, 0.338681459, 0.10466677, 0.124306001, -0.14338243, -0.223945558, -0.0104685575, -0.250120103, 0.08526548, 0.0811264664, -0.0864514783, -0.231905103, -0.220366091, 0.00294752722, -0.14931716, 0.933792889, -0.0010281757, 0.274534285, 0.165783226, 0.163538143, -0.227616921, 0.0824728981, 0.268507004, 0.377399296, -0.837591708, -0.0890662074, 0.255838007, 0.234806657, 0.234346494, -0.101920068, -0.130100131, 0.828028619, 0.124230534, -0.290932834, -0.494729728, -0.022475021, 0.147130266, 0.197863057, -0.382167876, 0.00733158225, 1.37695861, -0.328078568, -0.277560711, -0.276352704, -0.0288176499, 0.0568875223, 0.360089332, 0.397756249, 0.0613917559, -0.40018025, -0.207547352, 0.0341230705, -0.197723046, -0.143975765, 0.155019328, 0.31390214, -0.0247858465, 0.516665101, -0.569519877, -0.0147191081, -0.3559497, 0.0579643026, 0.266365498, 0.306160867, -0.332870364, 0.211059734, -0.238076121, 0.0536849014, 0.0414382406, 0.202878714, 0.3115637, 0.102691576, -0.33559525, -0.0957526416, -0.0875148699, -0.132320583, 0.675383151, -0.630439043, -0.391136825, -0.309935063, -0.0617834479, -0.0108291078, 0.16837813, -1.74914765, -0.285532266, -0.183518603, 0.896073103, -0.676018715, 0.23856169, 0.305476218, 0.47369203, 0.3193537, -0.156643197, -0.0844469592, 0.122873262, 0.300755054, 0.24407129, 0.00433540205, -0.263997465, 0.027181508, 0.335870773, -0.353614479, 0.358503789, 0.0420784019, -0.0965605974, -0.239569873, 0.124214604, 0.205971166, 2.11866927, -0.525949121, 0.166175798, 0.0756067112, 0.106402718, -0.522591949, 0.0440289676, 0.0866991207, -0.38971135, -0.75344789, 0.484558076, -0.266252726, -0.0869636685, 0.852497101, -0.54397434, 0.199365169, -0.134141088, -0.0753977373, 0.00385044096, 0.330134839, 0.0320236348, -0.0158501826, 0.157739669, -0.0804726407, 0.31073761, 0.288828433, 0.241364107, 0.270956963, -0.106787451, -0.201785088, -0.645030022, 0.00132970011, -0.0706779584, -0.114505671, -0.41873318, 0.292083055, 0.0210483838, 0.204686224, -0.148994759, 0.0389311388, -0.102095753, 0.269757926, -0.0740080178, 1.10566854, -0.0384675637, 0.179492787, -0.674313307, 0.0104174698, -0.353213251, -0.0884747207, 0.104438841, -0.0400344506, -0.282945782, 0.174270242, 0.116082639, 0.229792506, -0.199488193, 0.158871517, -0.195361823, -0.146128669, 0.275377214, -0.263944596, 0.489303976, -0.0220251977, 0.662012339, 0.256181687, -0.299171299, 0.323112726, -0.709968746, -0.195854113, -0.292648017, -0.0514738001, -0.111730166, -0.100204848, 0.0658033267, -0.116789319, 0.150082827, -0.174191594, 0.326711267, 0.0150380963, 0.207635328, 0.118408062, 0.00947546028, -0.504462242, -0.605841815, -0.0952775776, 0.181168243, -0.0210742895, -0.0521284044, -0.00879708491, -0.351106822, -0.246297196, -0.219813615, 0.296139359, 0.47472167, -0.106807031, 0.105413742, 0.436288178, -0.254106462, -0.152107537, -0.378989816, 0.422000587, -0.163057849, 0.229614407, -0.952469766, -0.452151895, -0.145141765, 0.290197313, 0.34864521, -0.314623863, 0.0853929445, -0.407660693, -0.240951091, -0.114731863, -0.0831618086, 1.24340975, -0.474823296, -0.300464541, -0.036647547, 0.0761720464, 0.77673614, -0.208517388, -0.21540536]   \n",
       "117241                        [-0.0935213044, -0.283988595, 0.0999659747, 0.0470909439, 0.0292882472, -0.0746289492, -0.106783658, -0.00541777583, -0.209631771, 0.493317366, 0.142787322, -0.133366376, -0.620929062, -0.210208312, 0.203907087, -0.458630651, -0.641142607, 0.0926507786, 0.0207125023, -0.0595769808, 0.487313092, 0.365048945, 0.171977818, 0.472922534, -0.0675423816, 0.11874482, 0.0549092181, 0.0836566538, -0.0534188375, -0.167302534, -0.271925569, 0.200325862, -0.359495431, -0.189916775, -0.217078343, 0.214496255, -0.247274801, 0.144649118, 0.129805565, 0.696446002, -0.206676856, -0.856257081, -0.0546206832, -0.123121858, 0.367756516, -1.46690547, 0.121481411, 0.363155484, 0.103322893, -0.178679034, 0.312995911, 0.351282895, -0.198239297, -0.367155641, 0.263583273, -0.252984256, 0.0157843586, 0.0918988883, -0.168533504, 0.379001558, -0.581666827, -0.27949971, 0.0807979777, 0.0555064604, -0.0881378204, -0.0397861153, 0.380641192, 0.0954392627, -0.464656681, -0.248407781, 0.124374941, 0.268215209, -0.0597650856, 0.104752563, -0.152245402, -0.285370946, -0.348665059, -0.103898622, 0.00945457537, -0.245760784, 0.147328168, -0.199161008, -0.517531514, -0.0442892015, 0.467679977, -0.0535981767, 0.928955317, -0.258003563, 0.093036443, -0.511751711, 0.414552122, 0.284127384, -6.46509075, 0.19300276, -0.249024898, 0.060101632, 0.588934898, 0.282485306, 0.395359278, -1.41987085, 0.060879942, -0.487531781, 0.0639848113, 0.0953888297, -0.276994616, 0.312042683, -2.38443875, -0.138581082, 0.178108573, 0.286327451, -0.22275129, -0.515766919, -0.0690756962, 0.0720039979, -0.0587113351, -0.173444137, 0.384252489, 0.0467564538, -0.0976332277, 0.102352351, -0.26666519, -0.151509121, 0.397845149, -0.420021921, -0.502907574, -0.337594837, 0.439696938, 0.175083801, -0.186501712, 0.191182584, -0.113980785, 0.0289476812, -0.260214001, 0.77779007, 0.540126622, -0.384585559, -0.15239577, -0.00515605463, -0.0974484012, 0.106814399, -0.0235465504, 0.482778102, -0.110870272, -0.114450365, -0.23666802, 0.0517154634, -0.370756716, 0.36616829, 0.00276565272, 0.106892832, 0.11943581, -0.179839343, 0.528426707, -0.181124255, 0.232442737, -0.2380739, -0.262485623, -0.0263949912, 0.050477691, 0.0810902938, -0.173736706, 0.150416136, 0.27100274, 0.0407028012, -0.0614849217, 0.518437684, 0.667744577, 0.467219681, -0.348238349, 0.183157921, 0.220997527, 0.0719020441, -0.189312994, -0.409796387, -0.173264518, -0.34000808, 1.30368197, 0.0147461724, 0.0942535698, 0.202310368, 0.160990566, -0.189008266, -0.255273312, 0.048571419, 0.075188227, 0.105223469, 0.0376842879, 0.493762136, -0.0546988286, 0.0390301533, 0.0842439085, -0.0617371313, 0.311361253, -0.20412153, -0.910160303, -0.15790686, -0.120897092, -0.136556014, -0.263637602, 0.474857777, 0.142713487, -0.107062303, -0.0942032337, -0.240549102, -0.0665535182, -0.408845425, -0.461217701, -0.105117381, -0.280040234, 0.000298252795, -0.517414749, 0.647974372, -0.0348355956, 0.263576269, 0.0634338185, -0.309120476, -0.0345815904, -0.0131927412, -0.647144258, -0.285846323, -0.371549129, -0.499364257, 0.110949822, -0.337646753, 0.342637986, -0.112555332, -0.00377615914, -0.585332572, -0.208999306, 0.193387121, 0.0295396261, 0.388990402, 0.210338935, 0.110537857, 0.143680423, -0.572897077, 0.105501056, -0.196358055, -0.0900638029, 0.202602223, 0.460105807, 0.195334896, 0.130452141, -0.475422472, 0.0122293681, -0.382592022, 0.218278363, 0.429010123, 0.207912102, 0.0605291985, -0.0943216309, -0.171369433, 0.317281842, -0.22457464, -0.225805521, -0.142651111, -0.322555512, 0.175657943, -1.15991235, 0.179133594, -0.0606174208, 0.377593488, -0.196397543, -0.482849777, 0.00502593443, 0.127570048, -0.177386403, 0.524638534, -0.136951849, 0.141148478, -0.0886679143, -0.0517835505, 0.26718092, 0.135791197, 0.231489033, 0.0270604547, -0.233471423, -0.486248285, 0.223852292, -0.376966327, 0.13910076, -0.36038813, 0.226634502, 0.203243941, -0.0305514522, -0.252575785, -0.888826609, 0.00170014077, -0.443465531, -0.167592213, 0.155333489, 0.0501128212, 0.063561447, -0.297599882, 0.0554738902, 0.118396617, 0.88692826, -0.0102262581, 0.15752393, 0.0129553191, -0.0123421866, -0.288133055, 0.118216299, 0.199692696, 0.367742747, -0.719650328, -0.0368964113, 0.00902121887, 0.113393657, 0.289330751, -0.306331009, 0.0601539239, 0.775447369, 0.132454231, -0.124315113, -0.46409291, -0.0550054088, 0.301201433, 0.25145787, -0.477309823, -0.184348494, 1.55155933, -0.199957907, -0.283488154, -0.247274801, -0.0222842023, 0.0588858575, 0.299528807, 0.360979706, -0.210395977, -0.591192603, -0.155863926, 0.106922358, 0.0230438355, -0.194876581, 6.02136788e-05, 0.381170243, -0.0914951712, 0.348827124, -0.4194704, 0.239341184, -0.209137112, 0.0895869657, 0.174029589, 0.268338174, -0.443064243, 0.272140354, -0.240939751, 0.187962249, -0.203662857, 0.111252293, 0.468751639, 0.113378055, -0.260945886, -0.139811784, 0.290728509, -0.103543714, 0.597853243, -0.671181083, -0.288781732, -0.457227498, 0.109799482, -0.138635203, 0.0428435989, -1.49516582, -0.169441715, -0.146157756, 0.937708735, -0.51736623, 0.41969341, 0.295588851, 0.46758309, 0.493059576, -0.0299519915, 0.0305859502, 0.110219084, 0.166932434, 0.368761092, -0.00427173451, -0.10453371, -0.00490561174, 0.291936219, -0.483707905, 0.256654769, 0.156401843, -0.175791726, -0.331185311, -0.116958968, -0.130670831, 2.40427184, -0.474438757, 0.299619317, 0.248320371, 0.261780411, -0.73853147, 0.032243818, -0.0516106077, -0.467773378, -0.517286718, 0.645824313, -0.265264809, -0.0671301335, 0.527836919, -0.346528918, 0.171903491, -0.156162173, -0.191122785, 0.166460752, 0.583180845, -0.177135542, 0.0651222244, -0.0491830818, -0.263421744, 0.243881613, 0.0752506852, 0.159873039, 0.318289906, -0.0357445516, -0.0385577269, -0.426564664, 0.0808165893, -0.253818482, -0.443407416, -0.711811006, -0.0249138195, -0.0587116294, 0.426737696, 0.0170002133, 0.710735381, -0.0384320989, 0.120403476, -0.119983524, 1.41490984, -0.0739636198, 0.334972769, -0.61444211, 0.0176153872, -0.270701677, -0.10268528, -0.102231815, -0.160447657, -0.296352297, 0.00723167649, 0.228569105, 0.169601694, -0.168815181, 0.160698652, 0.0493357591, -0.089238517, 0.0931134298, -0.16186434, 0.358708382, 0.183358639, 0.96638608, 0.187848523, -0.09608832, 0.24383755, -0.630019844, -0.336032152, -0.265444398, -0.321340859, -0.126462922, 0.0157484468, 0.0959374234, 0.0266134795, -0.0707043707, -0.0310705435, 0.345593244, -0.0908600166, 0.246774882, 0.121745765, -0.18998158, -0.406559348, -0.376603156, 0.153925374, 0.077674292, -0.120717153, -0.0201928485, 0.205620199, -0.0921600014, -0.153308064, -0.249690562, 0.268113792, 0.470443606, 0.145969748, -0.0127966059, 0.39635253, -0.119063944, 0.0111793475, -0.445271522, 0.345259815, -0.384388655, 0.333662659, -0.892615974, -0.549520016, 0.00139572774, 0.351808161, 0.627804995, -0.285805255, 0.143744215, -0.187368721, 0.023299722, -0.0841627046, -0.12097583, 1.00018549, -0.34982729, -0.175815463, 0.0769650564, -0.0422710627, 0.644635737, -0.377834618, -0.123207308]   \n",
       "117242                           [-0.13506797, -0.151655436, -0.0633821189, 0.384942502, 0.214943051, -0.0712674335, 0.00306157209, -0.00624614116, 0.0676824152, 0.0972661078, -0.0743178725, -0.110080853, 0.561091185, 0.230791509, 0.304388136, -0.316748977, -0.989583552, -0.308321089, 0.336049348, 0.208709136, 0.563462675, 0.698560119, 0.0679627061, 0.563585699, 0.126924977, 0.0694343895, -0.0769808367, -0.0515106916, -0.298780978, -0.451197207, -0.307896137, -0.0762005523, -0.288555741, -0.560931206, -0.555941582, 0.364938825, -0.232471272, -0.0215011202, -0.135059163, 0.0251515377, 0.25684765, -0.484242886, 0.436079144, -0.125079662, 0.855115473, -0.804988027, -0.309350222, 0.516887248, 0.194031924, -0.255754858, 0.26398322, 0.624209225, 0.0514124036, 0.257699996, -0.0023337754, 0.00873196404, 0.232942685, 0.0425108597, -0.208982602, 0.280133516, -0.113289386, -0.0470015965, 0.488438368, -0.267160684, -0.304407775, 0.00744581735, 0.291016847, -0.11235223, -0.241019607, 0.183402687, 0.286526263, -0.025266787, -0.346416861, 0.265940964, 0.352093428, -0.0726680011, -0.0889211893, -0.476861656, 0.114027813, -0.24041, 0.107969835, -0.0377904959, -0.0755017847, 0.0011816062, 0.413990647, -0.0194860194, 0.202567115, -0.256337911, -0.299715549, 0.321538806, 0.224255159, 0.278360844, -6.66364145, 0.532323241, 0.507176697, 0.451563001, -0.0604052134, 0.170699105, 0.335740387, -0.148354307, 0.447644889, 0.101086251, -0.258996457, -0.0393527709, 0.240656048, -0.25876981, -1.40089512, 0.171124861, 0.0205397345, 0.127770081, -0.114956371, -0.47016257, -0.28088212, 0.0172219742, 0.260163248, -0.256293714, -0.395440191, 0.0991635844, 0.703672588, 0.109081566, 0.295982212, -0.912156105, 0.658726215, 0.0255700797, -0.115823649, 0.0705651939, -0.11564941, 0.199791178, -6.87255379e-05, 0.153136775, 0.243916929, 0.525336981, -0.205386132, 0.856784821, 0.0170517582, -0.447782367, -0.0597824045, -0.186526462, 0.0741902962, -0.120684199, 0.10485319, 0.355224818, -0.590494215, -0.137011141, 0.0695069879, -0.279899865, 0.128504083, 0.566360295, 0.1808265, 0.299338669, 0.153063953, -0.00357854948, 0.289916992, -0.106833205, 0.10463538, -0.187277451, 0.150967255, 0.00646459404, 0.364317656, 0.0545534082, 0.103558317, -0.106061563, 0.167311475, -0.00419760169, -0.511725187, 0.339819074, 0.498291552, 0.133449554, 0.121195309, 0.135001689, 0.148702219, -0.540103078, 0.167167589, 0.171563312, -0.211624414, 0.0133461878, -0.118096173, -0.169426382, 1.10880983, 0.155839428, 0.304713488, 0.278558403, 0.219819471, 0.554710865, -0.202837482, 0.296696097, 0.342162788, 0.275234371, 0.042467013, -0.0425181054, -0.229701266, 0.410903335, -0.0405206978, 0.110449687, -0.355736077, 0.173921451, -0.0621446259, 0.152482018, -0.374966979, -0.039561972, 0.553237498, 0.037848819, 0.204998314, -0.254956156, -0.0781357959, -0.328323901, -0.683963001, -0.0210649613, -0.110045835, -0.0760912001, 0.0077858502, 0.921365678, -0.344025224, -0.141833961, -0.0754424557, -0.164905131, 0.29319188, -0.0791752264, -0.941088378, 0.120908223, -0.392872572, -0.233234629, -0.244089633, -0.171182975, -0.401528001, 0.00670951465, -0.123710245, -0.028282607, -0.0698502362, 0.123727351, -0.491499573, -0.372218609, -0.16438289, -0.240732327, -0.0867963284, -0.221035019, -0.162485406, -0.222410783, -0.0759318471, -0.449656218, 0.154404521, 0.106554694, 0.232569784, -0.596863091, -0.503766954, -1.11645305, 0.0609177537, 0.352466911, 0.514082968, 0.0755355135, -0.0173569247, 0.0519800298, 0.0936059132, -0.00828932971, 0.00120648416, 0.225034043, -0.409247458, -0.333337098, -0.800033331, 0.0576819666, 0.0910363421, 0.198731437, 0.0714945346, -1.1269716, 0.364695728, -0.184809148, -0.194985092, -0.0736517459, 0.000825004652, -0.42883271, 0.22132501, 0.16079165, 0.312638134, 0.00436427118, 0.2313115, -0.058467757, -0.578351855, -0.0588332452, -0.105236828, -0.200530887, 0.100070946, -0.404605329, 0.179090947, -0.0516701713, -0.061872378, 0.116934836, -1.8040421, 0.203880534, -0.272118062, 0.326905996, 0.50771296, 0.148532435, 0.264218837, -0.27794531, 0.136671916, 0.509191036, 0.379299968, -0.00975465216, -0.417131513, 0.315682262, 0.207788244, -0.632619202, -0.0596737303, -0.155258849, 0.00309262075, -0.0568932556, 0.129820585, 0.540148497, 0.774484813, -0.396711975, -0.313852638, 0.137541637, 0.854883015, 0.262526572, -0.321980625, 0.168182224, 0.14875409, 0.120490342, 0.299428105, -0.568390846, 0.0374283157, 0.8994416, -0.259144366, -0.355620831, -0.178052723, 0.0650195181, 0.223825097, -0.111910053, -0.0888045579, 0.0429303274, 0.120165139, 0.0823256522, 0.215672851, -0.301165909, -0.0576810613, -0.197533712, 0.286673337, 0.00167173741, 0.217916355, 0.0785264224, 0.118989199, -0.201186419, -0.268451005, 0.563552737, -0.153726369, -0.458111793, -0.024213938, -0.0702579618, -0.00212505553, 0.259007603, 0.259244114, -0.00129122986, 0.773123324, -0.523069441, -0.151283488, -0.0556898601, 0.216949239, 0.462939709, -0.0507747233, 0.139854997, -0.00984286703, 0.219914615, 0.465721309, 0.179973826, -1.73833013, -0.0478596389, -0.44716686, 0.0151224742, 0.055719588, 0.4939861, 0.100892678, 0.0693471953, 0.217302501, 0.0836170539, 0.0815584138, -0.257510096, 0.467670739, 0.0520785414, 0.0630114228, -0.278339535, 0.0287958961, 0.247970134, -0.202548593, 0.123055026, 0.195447564, -0.121502101, 0.18214412, 0.42693454, -0.42755869, 2.70109248, 0.368216515, 0.4402996, 0.0238904282, -0.180385187, 0.0658366308, -0.162309244, -0.254062533, 0.107983083, 0.687945902, -0.563563943, -0.208974704, -0.409598023, 0.223813668, -0.514782846, -0.193739876, -0.0125741558, -0.00840807613, 0.342594147, 0.0490964837, -0.497211277, -0.307771027, -0.310791016, -0.434090763, -0.194520563, -0.108519353, -0.246342704, -0.17555137, -0.147315055, -0.309762597, -0.107289933, 0.320611596, -0.345004499, 0.243851215, 0.668035805, -0.25612548, -0.497174591, 0.382606655, -0.245271802, 1.33554316, 0.187853321, 0.0173303932, 0.486075222, 1.46795678, -0.0773526132, 0.177765697, -0.322160989, -0.160775095, -0.18431209, -0.545469165, -0.110868707, -0.35779053, -0.0261343736, -0.449961752, 0.340099603, -0.236173615, -0.0378836393, 0.405993044, 0.0629884228, -0.302495539, 0.604372382, 0.227444276, -0.4088175, -0.426693738, 0.139911279, -0.0730342865, 0.269402504, -0.3738361, -0.320040315, -0.0608538575, -0.0141692208, -0.202452451, -0.266131699, 0.0149915963, -0.35402444, 0.321380168, -0.216600865, 0.685876846, -0.145407587, -0.259659618, -0.058968287, 0.250455618, -0.384931028, -0.107780799, -0.120238684, 0.425017774, 0.00414228532, -0.0808354914, 0.220562667, -0.176842585, -0.181799009, -0.146163508, -0.233645707, -0.178449959, 0.140645027, 0.0237130802, 0.412342101, -0.0983700901, -0.0896148086, -0.227736294, -0.373277038, 0.264414012, 0.295033336, 0.0997739956, -0.829338014, -0.220114291, 0.160408199, 0.217220888, 0.227964044, -0.218654275, 0.263930261, -0.341955811, 0.00728359865, -0.1653032, -0.0155219706, 0.799435616, 0.356131017, -0.0950428322, -0.230882362, -0.0567238331, 0.326743424, 0.152283296, -0.0690271556]   \n",
       "117243                        [-0.0858630911, -0.134226635, 0.0184112526, 0.165882185, -0.093090944, 0.0366354585, 0.460734159, 0.114236385, -0.061558146, 0.496824652, -0.234107092, 0.244388387, -0.400718212, 0.0504900664, -0.0452578701, -0.301931053, -0.7793715, -0.108956404, 0.113745935, -0.0949257463, 0.783003151, 0.603988588, 0.152668193, 0.258110374, -0.0731086582, 0.0697900951, -0.158559293, -0.0300753694, -0.0692829415, -0.212912679, -0.21238254, 0.126186147, -0.217670724, -0.417412966, -0.614064395, 0.0562615469, 0.0611182414, 0.150699809, -0.0327169262, -0.722860992, -0.120052963, -0.462325364, -0.299493045, -0.37570861, 0.284134746, -0.562211514, -0.250999451, -0.156594515, 0.332072169, 0.00390694384, -0.231806815, 0.154939234, 0.0542937927, 0.0843703225, 0.136934176, 0.464138716, 0.537436604, 0.0619347245, -0.0524987914, 0.16449821, -0.454252452, -0.0643867925, -0.0721305311, -0.671423972, -0.612573087, 0.143891886, -0.193091333, 0.68439424, -0.329453617, -0.220465258, -0.283863068, -0.127395317, -0.366054058, 0.198654756, 0.0609198175, -0.531725943, -0.0877407044, -0.392534792, -0.125863791, -0.19525218, 0.127562091, -0.0555845462, -0.0985443369, -0.0601635948, 0.559936464, 0.176151738, 0.628970683, 0.0196059886, -0.398648441, 0.0768372938, 0.319152087, -0.0308286231, -6.98490095, -0.0513736829, 0.356264561, 0.0539467782, -0.162403628, 0.0508505926, -0.341554999, -0.268387496, 0.173865825, 0.202244684, -0.371398479, 0.419591367, 0.120630741, -0.221085221, -0.275811434, 0.219208717, -0.015258899, -0.0659594908, -0.112465337, -0.237031624, -0.196137711, -0.109562129, -0.0969138891, -0.0871765465, -0.309461236, -0.529663026, 0.544767141, 0.200587213, 0.455246806, -0.439572245, 0.464062512, -0.206316933, -0.312934399, -0.264470428, -0.108676933, 0.0938252807, 0.0203647651, 0.181310773, -0.0218996555, 0.302904189, -0.227734357, 0.978374958, 0.245959044, 0.0314392, 0.330964625, -0.174149692, 0.232230023, -0.445890099, -0.0774879158, 0.297320038, -0.471875608, -0.109098949, -0.0471164808, -0.224145263, -0.154589787, 0.691158712, 0.20826757, -0.174091175, -0.554043949, 0.261091322, -0.10676375, -0.486929506, 0.142018899, -0.0774745643, 0.346474886, 0.595995247, 0.0766783804, 0.0157115385, 0.290660441, 0.465731829, 0.000389589928, 0.0709407255, -0.90850383, -0.0331213549, 0.375415564, 0.53208977, 0.205945686, 0.104994379, 0.200822234, -0.46159181, 0.0342438519, 0.111444861, -0.25436908, -0.179066658, 0.0607237667, -0.189458147, -0.0329373963, -0.19278124, 0.194986418, -0.214219078, -0.245430842, 0.164743319, -0.407266468, 0.0637192875, 0.434239447, -0.00864971615, -0.344511181, -0.071882084, 0.0113658337, 0.3002823, 0.364635259, 0.090277113, -0.374608755, 0.328554392, -0.235638529, 0.257959485, -0.424054593, -0.192452535, 0.140267104, -0.277045071, 0.24252893, 0.163475007, 0.279540807, -0.00748799648, -0.562035799, -0.157428309, 0.100402504, -0.234654367, -0.503088534, 0.471799523, -0.11417456, 0.125646889, -0.348415643, -0.0255842116, 0.0122297499, -0.0410605334, -1.19294608, 0.378113031, -0.271667123, -0.497864455, -0.126244724, -0.328938723, -0.158193827, -0.151562303, -0.0774062127, -0.0692764819, -0.509696841, 0.39695394, -0.145100668, -0.219419762, 0.35190782, 0.320734471, -0.0966467038, 0.552554548, -0.22351253, 0.398452908, -0.0690657198, -0.134956807, 0.12751022, -0.0766951889, 0.29117766, -0.367940575, -0.384293437, -0.838830769, 0.0100730555, 0.589634418, 0.128230631, 0.134380683, -0.0820674822, 0.0917371437, 0.146646529, 0.352315128, -0.00369498064, 0.203956947, -0.65302062, 0.267981023, 0.370162219, 0.0803668424, 0.392829657, 0.331392169, 0.139881268, -1.60119414, 0.0799290165, -0.123786502, -0.250380248, -0.109756999, -0.21943973, 0.1050115, 0.177266151, -0.112394355, 0.0474733487, 0.515199721, 0.150808707, 0.0795880109, -0.442321897, -0.0559722222, -0.0761448592, -0.268468708, -0.334943861, -0.117408238, -0.191953704, -0.488625437, 0.389408469, 0.0563364215, -1.85564613, 0.272849798, -0.23794055, 0.0864204988, -0.0290132537, 0.00723598571, 0.15752627, -0.187851891, -0.282120019, 0.080911234, 0.441798449, -0.231686339, -0.262571037, 0.087483272, 0.265284389, -0.423077226, -0.218540758, -0.0933767557, 0.100575492, 0.0541149639, 0.0288047325, 0.0668752119, 0.239841893, -0.325615764, -0.136990294, -0.148396045, 0.97521776, 0.226222083, -0.147364676, -0.52212429, -0.0139061622, 0.371692389, 0.378048837, 0.439234227, -0.190561593, 0.703496933, -0.4430601, -0.428699702, -0.124161392, 0.418074191, 0.273883432, 0.185738176, -0.147785425, 0.434470654, -0.191688284, -0.15717487, 0.356444567, -0.0586626567, -0.0191172455, -0.0114827557, 0.469873428, 0.107970767, 0.259070247, 0.110958844, 0.099667646, -0.192330778, 0.289106518, -0.0960079432, -0.0128437085, 0.120585471, -0.103588805, -0.173220828, -0.141729459, -0.0825758353, 0.322639912, -0.336462468, 0.305412829, -0.267688453, -0.199283004, 0.00448634801, 0.517643332, 0.530546367, -0.188692912, -0.216953009, -0.395402879, 0.136227295, 0.598853052, 0.297630012, -1.97942758, 0.191779122, -0.17422089, 1.04133391, -0.375964701, 0.0699000359, -0.0210203957, 0.35908851, 0.177415341, 0.0726503953, 0.34226796, 0.133967787, 1.47501206, 0.215086848, 0.124431342, 0.0135040544, -0.282054007, 0.616844833, -0.0308040064, 0.265644282, -0.0527504124, -0.365318596, 0.00630003307, 0.123816334, -0.318562418, 1.46737731, -0.529251516, -0.0737891719, -0.0414815694, 0.117280744, 0.28279388, 0.340835184, 0.393496305, -0.00862827245, 0.470638543, -0.125324965, -0.17887792, 0.0186687093, 0.070578374, -0.451592058, -0.151872978, -0.271346092, 0.0401890464, 0.491056055, -0.321311593, -0.144612417, 0.547423542, -0.326914489, -0.0766269416, -0.19409965, -0.0986772329, 0.145736396, 0.076250799, 0.0315539911, -0.158946916, -0.734070122, 0.144757792, -0.413054198, 0.203359738, 0.965570092, -0.14960593, -0.0726718381, -0.401221007, -0.268698603, 0.639384925, 0.0624749884, -0.399168581, 0.140786245, 2.07990217, -0.0162380375, 0.27135089, -0.260929227, -0.200191587, 0.0668088794, 0.0498911031, 0.182275444, 0.0369166732, -0.438145399, -0.159253493, 0.345486909, -0.478256285, 0.114924572, 0.137559786, 0.198371276, -0.28309533, 0.320538551, -0.378776073, 0.0651802793, 0.0289309379, -0.47655955, -0.140919536, -0.0333807617, 0.0934503525, -0.426838964, -0.532929599, -0.0286888722, -0.0243258812, -0.0235985238, -0.150174439, -0.402286172, 0.173766077, -0.306880206, 0.186045766, -0.555358648, -0.187681556, 0.521341681, 0.179174677, 0.155911028, -0.0716056526, -0.142906889, 0.0624465868, 0.0344743654, -0.120057881, 0.101281807, 0.358787835, -0.0401151739, -0.0324753895, 0.120428689, -0.223666206, 0.251992643, -0.161408007, 0.270967036, 0.362755984, 0.227280483, -0.447591871, -0.38627407, 0.785104632, -0.23231867, 0.509299934, -0.652697027, -0.149521202, 0.0558730997, -0.253251553, -0.00160105212, -0.151306883, 0.406360537, -0.0231188759, -0.480478019, 0.0174001716, -0.119268708, 0.989659905, 0.0876030922, 0.0170995891, -0.483033985, 0.0248921569, 0.501666009, 0.227373317, 0.136471957]   \n",
       "117244              [0.0783719942, -0.197286502, -0.0621528812, 0.227682769, 0.563608229, -0.0150875328, 0.119876437, 0.629376411, 0.0927995816, 0.308174551, -0.067261681, -0.0268726796, 0.219233096, 0.269720733, 0.098421596, -0.0943588838, 0.00255497266, 0.330462933, -0.107145786, -0.214016363, -0.399661183, -0.121780388, 0.336394101, 0.237869933, 0.304948866, -0.372253567, -0.120102249, 0.284632325, 0.162821174, -0.0861086324, -0.153535485, 0.254787236, 0.254910767, 0.172753066, 0.0366295204, -0.153501287, -0.0816147104, 0.262319118, -0.0087457085, -0.180972382, -0.0428190492, -0.251976669, -0.251713753, 0.0309948865, -0.319754303, -0.753806233, 0.23579523, 0.0798506141, 0.0380259529, -0.0820524842, -0.103249162, -0.23781319, 0.125292614, 0.108118787, -0.217982545, 0.142203242, -0.169434503, 0.134666637, 0.207886606, 0.329859793, -0.268340856, -0.0701002181, 0.447088271, -0.197651505, -0.149827063, 0.206917465, 0.364627481, 0.158775017, -0.11481338, -0.196633667, -0.476237774, 0.107380293, 0.351191431, -0.18050912, 0.096695222, -0.0016432124, 0.021825118, -0.210896432, -0.103105463, -0.17477715, 0.442935139, -0.301069438, -0.16847606, -0.5378052, 0.119859897, 0.0945020616, 0.926079512, -0.111231044, -0.386784047, -0.306130618, 0.20586215, 0.516317606, -8.15099525, 0.223491997, 0.0714883059, 0.65580076, -0.0420701429, 0.228826657, -0.133554786, 0.286033243, 0.296889454, -0.692779779, -0.241160199, -0.0452411659, -0.400624752, -0.0172835942, -1.74522448, -0.109367177, 0.216458395, 0.37062186, 0.0936958045, -0.292397082, 0.0330486633, -0.162038401, -0.231235296, -0.16843608, -0.12540777, 0.146251023, 0.131562561, -0.312948316, 0.121192947, 0.248675629, -0.101973496, -0.328387916, 0.153299466, -0.0555395, -0.156850845, -0.151590541, 0.0749966353, 0.272379994, 0.0235329717, 0.462907225, -0.124472395, 1.03247905, 0.551453173, 0.150672019, 0.172151461, -0.303686887, 0.187491089, 0.222839937, 0.0848514587, 0.165915936, -0.64049226, 0.201127142, -0.245664686, -0.122328348, 0.053649798, -0.116920501, -0.286877573, -0.120585009, -0.0531233735, -0.300117493, 0.641794324, -0.310656518, -0.04409815, -0.618144214, 0.180401266, 0.0329825543, -0.0276577361, 0.269451976, -0.0784745291, 0.289749473, 0.278979093, -0.3807441, -0.111520201, -0.0755274892, 0.379544467, 0.207643926, -0.165036723, -0.0145860584, 0.278277099, -0.0855936855, -0.274961382, 0.424100578, 0.0239035524, -0.233984768, 1.37898076, -0.0756416023, 0.246549681, 0.119300954, 0.231176257, 0.102226585, 0.26058054, -0.185791314, -0.573067188, 0.0351625085, 0.588047564, 0.224366307, -0.336056352, -0.164441109, -0.191622868, 0.14806442, -0.43955934, -0.0612464584, -0.114462771, -0.0833625197, -0.274413913, -0.432051897, -0.480488896, 0.267414808, 0.0938123539, 0.0393257476, 0.135809168, 0.380124211, 0.315092981, -0.5634287, -0.391408682, 0.194399372, -0.0232762396, -0.333253324, -0.27170527, 0.832616031, 0.187841594, -0.287171841, -0.288276881, -0.0270736311, 0.147829503, 0.0991223678, -0.336510122, -0.46335876, 0.272469074, -0.534169614, -0.359186798, -0.118425108, -0.00654084142, 0.059319064, -0.216517568, -0.157163307, -0.0867174789, 0.568278253, -0.272480041, 0.088169083, -0.0312987454, 0.411830038, 0.247523382, -0.205056489, 0.410628408, -0.00868532714, -0.0411753953, 0.224587694, 0.44276464, 0.544012666, 0.0235635471, -0.700337589, -0.121876657, -0.612043142, 0.471343517, 0.673003495, -0.213836238, 0.118163154, -0.291578293, 0.418234497, -0.0115775391, 0.188259855, -0.113023683, 0.263985068, 0.0833162144, -0.101991847, -1.47464693, -0.567381859, 0.147396311, -0.275371581, -0.173865646, 0.508915663, -0.210928202, -0.260876507, 0.0668238401, 0.236572728, 0.556570292, -0.329861701, -0.0611509569, -0.153647348, -0.0405369811, 0.76430881, 0.00969348103, -0.35091573, -0.0176182818, -0.13238816, 0.285268873, -0.188149333, -0.0133113535, -0.0852648169, -0.342095226, 0.156709611, 0.00961356796, 0.143393293, -0.663139701, -0.409322739, 0.255819917, -0.476911396, 0.200493783, 0.478389829, -0.117257714, -0.00133450329, 0.114166275, -0.0248112865, -0.112777591, 0.485067695, 0.46716544, -0.020175783, 0.264932334, -0.0668183118, -0.167152673, 0.185372651, 0.572799027, -0.627098262, -0.181790203, 0.0904294625, -0.18963252, 0.0812006295, -0.0671591461, 0.481793284, 1.03353918, -0.170034379, 0.455450445, -0.19418487, -0.0423786454, -0.0784626454, 0.582188487, -0.24360168, 0.21317701, 1.60012662, 0.116897926, -0.452064008, 0.113976918, 0.109478951, 0.201988578, 0.0239822362, -0.0431463085, 0.456068128, 0.0548095778, 0.0354953408, 0.212665647, -0.361323684, -0.360666335, 0.353727937, 0.464588702, 0.280927688, 0.339252442, 0.268360108, 0.10759449, -0.310275465, 0.344323993, 0.671714902, -0.182657033, -0.0312252976, -0.299886584, -0.419951588, -0.135620162, -0.156527102, 0.767392993, 0.282758892, 0.100499891, -0.463343114, 0.083938539, -0.891010046, -0.430113673, 0.959579289, -0.399293125, -0.311385363, 0.491667867, 0.0410341546, 0.0893194899, -0.198616803, -0.684874117, -0.118796937, -0.403928131, 1.17439401, 0.171602771, -0.0680554286, -0.0216445588, -0.0341549553, -0.111459494, -0.00307082548, 0.173111409, -0.161475644, 0.370459586, -0.258624971, -0.422427148, -0.0990781412, 0.0430669934, -0.511530161, -0.140299872, 0.271554619, -0.327705562, 0.136297941, -0.0042267181, 0.0179918557, 0.176432297, 0.218814433, -0.445072234, 0.355264843, 0.0228139237, -0.0515500456, -0.385381848, 0.0774150565, 0.262484163, -0.0911207423, -0.666311622, -0.246505499, -0.453985959, -0.101610079, 0.287326187, -0.339881927, -0.19777827, -0.0502612405, -0.0866434202, -0.25227654, 0.188321024, 0.180576891, -0.320864677, 0.243281677, 0.279928684, -0.116026431, -0.502915084, -0.297141969, -0.144153729, 0.142020658, 0.033692278, -0.138120919, -0.315936267, -0.286466181, 0.338053584, 0.00269493368, -0.0939571038, -0.0392193496, -0.505901396, -0.167145088, -1.91838193, 0.128437862, -0.0835862383, -0.0315995067, 0.599667788, -0.380896538, -0.00169896858, -0.141444907, -0.0468797237, -0.107635766, -0.19358322, 0.0372921117, 0.140239447, -0.469902068, -0.135989025, -0.0553346276, -0.310714573, -0.040969383, -0.0458225943, -0.0513185263, -0.169401765, -0.20377402, -0.465073377, 0.537572205, 0.173683733, -0.00203546695, 0.609808981, -0.193140239, 0.036633756, -0.313412249, 0.223727912, -0.0224632267, -0.231661469, -0.342031419, -0.325189382, -0.340125591, 0.510463178, 0.293997318, -0.475066453, -0.0689734444, -0.234319285, -0.250348806, -0.231702894, -0.180853546, -0.322874516, -0.401806831, -0.42442742, -0.144169301, -0.508009791, -0.568981946, -0.0708760172, 0.0318658575, 0.0150042539, 0.123102888, -0.223480076, -0.24509947, -0.0429408476, -0.175138831, 0.284028798, -0.0437964089, -0.315913618, -0.568849087, 0.289961219, -0.0638273954, 0.0839956477, -0.145528078, -0.235745445, -0.205861598, 0.577572823, 0.213386178, 0.0422700346, -0.0593554899, 0.145880729, 0.183200657, 0.296476603, 0.0105811097, 0.970915496, -0.326123416, 0.0289984718, -0.273924112, -0.254077971, 0.86748451, -0.547784388, -0.52241689]   \n",
       "\n",
       "        date         artist_name  \\\n",
       "0       1845        Henry Ritter   \n",
       "1       1855                 NaN   \n",
       "2       1994    Catherine Murphy   \n",
       "3       1703     Hu Zhengyan 胡正言   \n",
       "4       1689  Adriaen van Ostade   \n",
       "...      ...                 ...   \n",
       "117240  2006          Otto Piene   \n",
       "117241  2006          Otto Piene   \n",
       "117242  1988           Emma Amos   \n",
       "117243  1988           Emma Amos   \n",
       "117244  1966     Various Artists   \n",
       "\n",
       "                                                                                                                                                                                                                                                                                                                                                                                                                                                                                                                                                                                                                                               search_text  \n",
       "0                                                                                                                                                                                                                                                                                                                                                                                                                                            Friedrich Wilhelm von Schadow in His Studio, Painting \"The Ascension of Mary\" | Prints | European and American Art | 1845 | Prints | Henry Ritter | German | Lithograph, chine collé, on off-white wove paper  \n",
       "1                                                                                                                                                                                                                                                                                                                                                                                                                                                                           Studies of Women and Lokapurusha | Drawings | Asian and Mediterranean Art | 1855 | Islamic & Later Indian Art | | Gray-black and brown inks and watercolor on beige laid paper  \n",
       "2                                                                                                                                                                                                                                                                                                                                                                                                                                                                                                              Ceiling Fixture | Drawings | Modern and Contemporary Art | 1994 | Drawings | Catherine Murphy | American | Graphite on off-white wove paper  \n",
       "3                                                                                                                                                                                                                                                                                                  Branch of Plum Blossoms -- Illustration from the Ten Bamboo Studio Manual of Calligraphy and Painting (Shizhuzhai shuhua pu) | Ming 1368-1644 to Qing 1644-1911 dynasty | Prints | Asian and Mediterranean Art | 1703 | Asian Art | Hu Zhengyan 胡正言 | Chinese | One page from a woodblock printed book mounted as an album leaf; ink and color on paper  \n",
       "4                                                                                                                                                                                                                                                                                                                                                                                                                                                                                                                                       Spinner at the Door of the House | Prints | European and American Art | 1689 | Prints | Adriaen van Ostade | Dutch  \n",
       "...                                                                                                                                                                                                                                                                                                                                                                                                                                                                                                                                                                                                                                                    ...  \n",
       "117240                                                                                                                                                                                                                                                                                                                                                                                                                                                                                                                Inserted postcard | Archival Material | Modern and Contemporary Art | 2006 | Busch-Reisinger Museum | Otto Piene | German | Postcard  \n",
       "117241                                                                                                                                                                                                                                                                                                                                                                                                                                                                                                                Inserted postcard | Archival Material | Modern and Contemporary Art | 2006 | Busch-Reisinger Museum | Otto Piene | German | Postcard  \n",
       "117242                                                                                                                                                                                                                                                                                                   Grandma Emma: the artist's grandmother Emma Holmes Amos, part Cherokee, African, and Norwegian, c. 1898 when she had graduated from college and was a teacher in an Atlanta School | Prints | Modern and Contemporary Art | 1988 | Modern & Contemporary Art | Emma Amos | American | Monoprint with acrylic, glitter and photo transfer on paper  \n",
       "117243  Irene, India and Friends at Graduations: Irene Dobbs Jackson at twelve or thirteen in Atlanta. One of the five beautiful Dobbs sisters, including Mattiwilda, the Metropolitan Opera singer. Dr. Jackson is a retired Professor of French and the mother of Atlanta's Mayor Maynard Jackson. The young women on the porch are friends gathering after graduating from high school before going off to college. In the middle is India Amos and top left, Irene Dobbs, all eighteen. | Prints | Modern and Contemporary Art | 1988 | Modern & Contemporary Art | Emma Amos | American | Monoprint with acrylic, glitter and photo transfer on paper  \n",
       "117244                                                                                                                                                                                                                                                                                                                                                                                                                                                            Portfolio case for \"dé-coll/age/5, happenings pieces musical scores\" | Portfolios | Modern and Contemporary Art | 1966 | Busch-Reisinger Museum | Various Artists | Mixed media on paper  \n",
       "\n",
       "[117245 rows x 11 columns]>"
      ]
     },
     "metadata": {},
     "output_type": "display_data"
    }
   ],
   "source": [
    "df = pd.read_csv(\"final_toy_HAMtest.csv\")\n",
    "display(df.head)"
   ]
  },
  {
   "cell_type": "code",
   "execution_count": 10,
   "id": "df76c7ee-29da-489e-93b9-49269e8fea5d",
   "metadata": {},
   "outputs": [
    {
     "data": {
      "text/html": [
       "<div>\n",
       "<style scoped>\n",
       "    .dataframe tbody tr th:only-of-type {\n",
       "        vertical-align: middle;\n",
       "    }\n",
       "\n",
       "    .dataframe tbody tr th {\n",
       "        vertical-align: top;\n",
       "    }\n",
       "\n",
       "    .dataframe thead th {\n",
       "        text-align: right;\n",
       "    }\n",
       "</style>\n",
       "<table border=\"1\" class=\"dataframe\">\n",
       "  <thead>\n",
       "    <tr style=\"text-align: right;\">\n",
       "      <th></th>\n",
       "      <th>objectid</th>\n",
       "      <th>title</th>\n",
       "      <th>primaryimageurl</th>\n",
       "      <th>date</th>\n",
       "      <th>artist_name</th>\n",
       "    </tr>\n",
       "  </thead>\n",
       "  <tbody>\n",
       "    <tr>\n",
       "      <th>0</th>\n",
       "      <td>188623</td>\n",
       "      <td>Friedrich Wilhelm von Schadow in His Studio, Painting \"The Ascension of Mary\"</td>\n",
       "      <td>https://nrs.harvard.edu/urn-3:HUAM:INV043609_dynmc</td>\n",
       "      <td>1845</td>\n",
       "      <td>Henry Ritter</td>\n",
       "    </tr>\n",
       "    <tr>\n",
       "      <th>1</th>\n",
       "      <td>217273</td>\n",
       "      <td>Studies of Women and Lokapurusha</td>\n",
       "      <td>https://nrs.harvard.edu/urn-3:HUAM:71672_dynmc</td>\n",
       "      <td>1855</td>\n",
       "      <td>NaN</td>\n",
       "    </tr>\n",
       "    <tr>\n",
       "      <th>2</th>\n",
       "      <td>184460</td>\n",
       "      <td>Ceiling Fixture</td>\n",
       "      <td>https://nrs.harvard.edu/urn-3:HUAM:797681</td>\n",
       "      <td>1994</td>\n",
       "      <td>Catherine Murphy</td>\n",
       "    </tr>\n",
       "    <tr>\n",
       "      <th>3</th>\n",
       "      <td>205821</td>\n",
       "      <td>Branch of Plum Blossoms -- Illustration from the Ten Bamboo Studio Manual of Calligraphy and Painting (Shizhuzhai shuhua pu)</td>\n",
       "      <td>https://nrs.harvard.edu/urn-3:HUAM:CARP07564_dynmc</td>\n",
       "      <td>1703</td>\n",
       "      <td>Hu Zhengyan 胡正言</td>\n",
       "    </tr>\n",
       "    <tr>\n",
       "      <th>4</th>\n",
       "      <td>249077</td>\n",
       "      <td>Spinner at the Door of the House</td>\n",
       "      <td>https://nrs.harvard.edu/urn-3:HUAM:INV193037_dynmc</td>\n",
       "      <td>1689</td>\n",
       "      <td>Adriaen van Ostade</td>\n",
       "    </tr>\n",
       "  </tbody>\n",
       "</table>\n",
       "</div>"
      ],
      "text/plain": [
       "   objectid  \\\n",
       "0    188623   \n",
       "1    217273   \n",
       "2    184460   \n",
       "3    205821   \n",
       "4    249077   \n",
       "\n",
       "                                                                                                                          title  \\\n",
       "0                                                 Friedrich Wilhelm von Schadow in His Studio, Painting \"The Ascension of Mary\"   \n",
       "1                                                                                              Studies of Women and Lokapurusha   \n",
       "2                                                                                                               Ceiling Fixture   \n",
       "3  Branch of Plum Blossoms -- Illustration from the Ten Bamboo Studio Manual of Calligraphy and Painting (Shizhuzhai shuhua pu)   \n",
       "4                                                                                              Spinner at the Door of the House   \n",
       "\n",
       "                                      primaryimageurl  date  \\\n",
       "0  https://nrs.harvard.edu/urn-3:HUAM:INV043609_dynmc  1845   \n",
       "1      https://nrs.harvard.edu/urn-3:HUAM:71672_dynmc  1855   \n",
       "2           https://nrs.harvard.edu/urn-3:HUAM:797681  1994   \n",
       "3  https://nrs.harvard.edu/urn-3:HUAM:CARP07564_dynmc  1703   \n",
       "4  https://nrs.harvard.edu/urn-3:HUAM:INV193037_dynmc  1689   \n",
       "\n",
       "          artist_name  \n",
       "0        Henry Ritter  \n",
       "1                 NaN  \n",
       "2    Catherine Murphy  \n",
       "3     Hu Zhengyan 胡正言  \n",
       "4  Adriaen van Ostade  "
      ]
     },
     "metadata": {},
     "output_type": "display_data"
    }
   ],
   "source": [
    "small_df = df.drop(['body', 'image_embedding', 'rank', 'imageid', 'search_text', 'Unnamed: 0'], axis = 1)\n",
    "display(small_df.head())\n",
    "small_df.to_csv(\"small_HAM.csv\")"
   ]
  },
  {
   "cell_type": "markdown",
   "id": "92ec197d-171c-4ca5-9517-698bf0c507cf",
   "metadata": {},
   "source": [
    "## Check to see if there is any difference in similarity results between FAISS and brute force cosine similarity\n",
    "\n",
    "Here, I try both a brute force cosine search using tfidf and I also try putting the tfidf matrix into Faiss with a flat index for fast cosine search. The returned nearset neighbor vectors were identical with each other, so I will stick with using Faiss and, as my object size grows, may consider using a different Faiss search technique."
   ]
  },
  {
   "cell_type": "code",
   "execution_count": 20,
   "id": "dd6c608e-0c6e-4aa8-ae00-4186dfd87096",
   "metadata": {},
   "outputs": [
    {
     "name": "stdout",
     "output_type": "stream",
     "text": [
      "Top matches FAISS: [11417, 100367, 27392, 74015, 15913, 50163, 46133, 6321]\n",
      "Top matches Cosine_sim: [ 11417 100367  27392  74015  15913  50163  46133   6321]\n"
     ]
    }
   ],
   "source": [
    "# Load and use\n",
    "#data = load(\"tfidf_data4.joblib\")\n",
    "#vectorizer, tfidf_matrix = data[\"vectorizer\"], data[\"matrix\"]\n",
    "\n",
    "\n",
    "# Query jumping cat\n",
    "query = [\"jumping cat\"]\n",
    "query_vec = tfidf.transform(query)\n",
    "\n",
    "# Find similar docs using FAISS \n",
    "D, I = tfidf_index.search(query_vec.toarray().astype(\"float32\"), k=8)\n",
    "print(\"Top matches FAISS:\", [i for i in I[0]])\n",
    "\n",
    "# Find similar items using cosine similarity\n",
    "cosine_sim = cosine_similarity(query_vec, tfidf_matrix)\n",
    "top_indices = cosine_sim.argsort()[0][-8:][::-1]  \n",
    "print(\"Top matches Cosine_sim:\", top_indices)\n"
   ]
  },
  {
   "cell_type": "markdown",
   "id": "64f11b9e-a66c-4a30-bd29-840dbd0b56a0",
   "metadata": {},
   "source": [
    "## Examples of search with text strings 'jumping cat' and 'vibrant abstract landscape'"
   ]
  },
  {
   "cell_type": "code",
   "execution_count": 15,
   "id": "6b3ee45b-8ace-427c-a6f9-4ada1a723c61",
   "metadata": {
    "tags": []
   },
   "outputs": [
    {
     "name": "stdout",
     "output_type": "stream",
     "text": [
      "[116726   3904  84119  58605 115847  83748  53100  15952]\n",
      "Query 'Jumping Cat'\n"
     ]
    },
    {
     "data": {
      "text/html": [
       "<img src=\"https://nrs.harvard.edu/urn-3:HUAM:INV113058_dynmc\" width=\"300\"/>"
      ],
      "text/plain": [
       "<IPython.core.display.Image object>"
      ]
     },
     "metadata": {},
     "output_type": "display_data"
    },
    {
     "data": {
      "text/html": [
       "<img src=\"https://nrs.harvard.edu/urn-3:huam:INV19840302_dynmc\" width=\"300\"/>"
      ],
      "text/plain": [
       "<IPython.core.display.Image object>"
      ]
     },
     "metadata": {},
     "output_type": "display_data"
    },
    {
     "data": {
      "text/html": [
       "<img src=\"https://nrs.harvard.edu/urn-3:HUAM:INV154181_dynmc\" width=\"300\"/>"
      ],
      "text/plain": [
       "<IPython.core.display.Image object>"
      ]
     },
     "metadata": {},
     "output_type": "display_data"
    },
    {
     "data": {
      "text/html": [
       "<img src=\"https://nrs.harvard.edu/urn-3:HUAM:INV194042_dynmc\" width=\"300\"/>"
      ],
      "text/plain": [
       "<IPython.core.display.Image object>"
      ]
     },
     "metadata": {},
     "output_type": "display_data"
    },
    {
     "data": {
      "text/html": [
       "<img src=\"https://nrs.harvard.edu/urn-3:HUAM:INV154179_dynmc\" width=\"300\"/>"
      ],
      "text/plain": [
       "<IPython.core.display.Image object>"
      ]
     },
     "metadata": {},
     "output_type": "display_data"
    },
    {
     "data": {
      "text/html": [
       "<img src=\"https://nrs.harvard.edu/urn-3:HUAM:LEG251378_dynmc\" width=\"300\"/>"
      ],
      "text/plain": [
       "<IPython.core.display.Image object>"
      ]
     },
     "metadata": {},
     "output_type": "display_data"
    },
    {
     "data": {
      "text/html": [
       "<img src=\"https://nrs.harvard.edu/urn-3:HUAM:INV002034_dynmc\" width=\"300\"/>"
      ],
      "text/plain": [
       "<IPython.core.display.Image object>"
      ]
     },
     "metadata": {},
     "output_type": "display_data"
    },
    {
     "data": {
      "text/html": [
       "<img src=\"https://nrs.harvard.edu/urn-3:HUAM:INV159353_dynmc\" width=\"300\"/>"
      ],
      "text/plain": [
       "<IPython.core.display.Image object>"
      ]
     },
     "metadata": {},
     "output_type": "display_data"
    },
    {
     "name": "stdout",
     "output_type": "stream",
     "text": [
      "Query 'vibrant abstract landscape'\n"
     ]
    },
    {
     "data": {
      "text/html": [
       "<img src=\"https://nrs.harvard.edu/urn-3:HUAM:780408\" width=\"300\"/>"
      ],
      "text/plain": [
       "<IPython.core.display.Image object>"
      ]
     },
     "metadata": {},
     "output_type": "display_data"
    },
    {
     "data": {
      "text/html": [
       "<img src=\"https://nrs.harvard.edu/urn-3:HUAM:74102_dynmc\" width=\"300\"/>"
      ],
      "text/plain": [
       "<IPython.core.display.Image object>"
      ]
     },
     "metadata": {},
     "output_type": "display_data"
    },
    {
     "data": {
      "text/html": [
       "<img src=\"https://nrs.harvard.edu/urn-3:HUAM:INV157845_dynmc\" width=\"300\"/>"
      ],
      "text/plain": [
       "<IPython.core.display.Image object>"
      ]
     },
     "metadata": {},
     "output_type": "display_data"
    },
    {
     "data": {
      "text/html": [
       "<img src=\"https://nrs.harvard.edu/urn-3:HUAM:776341\" width=\"300\"/>"
      ],
      "text/plain": [
       "<IPython.core.display.Image object>"
      ]
     },
     "metadata": {},
     "output_type": "display_data"
    },
    {
     "data": {
      "text/html": [
       "<img src=\"https://nrs.harvard.edu/urn-3:HUAM:776116\" width=\"300\"/>"
      ],
      "text/plain": [
       "<IPython.core.display.Image object>"
      ]
     },
     "metadata": {},
     "output_type": "display_data"
    },
    {
     "data": {
      "text/html": [
       "<img src=\"https://nrs.harvard.edu/urn-3:HUAM:776476\" width=\"300\"/>"
      ],
      "text/plain": [
       "<IPython.core.display.Image object>"
      ]
     },
     "metadata": {},
     "output_type": "display_data"
    },
    {
     "data": {
      "text/html": [
       "<img src=\"https://nrs.harvard.edu/urn-3:HUAM:758334\" width=\"300\"/>"
      ],
      "text/plain": [
       "<IPython.core.display.Image object>"
      ]
     },
     "metadata": {},
     "output_type": "display_data"
    },
    {
     "data": {
      "text/html": [
       "<img src=\"https://nrs.harvard.edu/urn-3:HUAM:INV163365_dynmc\" width=\"300\"/>"
      ],
      "text/plain": [
       "<IPython.core.display.Image object>"
      ]
     },
     "metadata": {},
     "output_type": "display_data"
    }
   ],
   "source": [
    "# Query vibrant abstract landscape\n",
    "query = \"vibrant abstract landscape\"\n",
    "query_vec = tfidf.transform([query])\n",
    "# Find similar items using cosine similarity\n",
    "cosine_sim = cosine_similarity(query_vec, tfidf_matrix)\n",
    "top_indices = cosine_sim.argsort()[0][-8:][::-1]  \n",
    "print(top_indices)\n",
    "\n",
    "print(\"Query 'Jumping Cat'\")\n",
    "for i in I[0]:\n",
    "    url = df.iloc[i]['primaryimageurl']\n",
    "    display(Image_show(url = url, width = 300))\n",
    "\n",
    "print(\"Query 'vibrant abstract landscape'\")\n",
    "for i in top_indices:\n",
    "    url = df.iloc[i]['primaryimageurl']\n",
    "    display(Image_show(url = url, width = 300))   "
   ]
  },
  {
   "cell_type": "markdown",
   "id": "02101f30-7fce-429b-9aeb-c5bda2f72c53",
   "metadata": {},
   "source": [
    "## This seems to have worked well\n"
   ]
  },
  {
   "cell_type": "code",
   "execution_count": 31,
   "id": "16a728bd-8e31-4ebd-963d-ab2c90729a2e",
   "metadata": {},
   "outputs": [],
   "source": [
    "# here I drop final uneeded columns and save resultant df to a csv to use in the final recommender\n",
    "dropped = ['Unnamed: 0.1','Unnamed: 0','id', 'division',\n",
    "       'colorcount', 'period', 'classification', 'technique', 'medium',\n",
    "       'colors', 'dated', 'dateend', 'department', 'people',\n",
    "       'url', 'publicationcount', 'totaluniquepageviews',\n",
    "        'totalpageviews', 'exhibitioncount',  \n",
    "         'artist_culture']\n",
    "\n",
    "df.drop(dropped, inplace=True, axis = 1)\n"
   ]
  },
  {
   "cell_type": "code",
   "execution_count": 36,
   "id": "eee9d8a8-c30b-4669-bf07-ec21031fa9aa",
   "metadata": {},
   "outputs": [
    {
     "data": {
      "text/plain": [
       "Index(['objectid', 'title', 'primaryimageurl', 'rank', 'imageid', 'body',\n",
       "       'image_embedding', 'date', 'artist_name', 'search_text'],\n",
       "      dtype='object')"
      ]
     },
     "execution_count": 36,
     "metadata": {},
     "output_type": "execute_result"
    }
   ],
   "source": [
    "df.columns"
   ]
  },
  {
   "cell_type": "code",
   "execution_count": 32,
   "id": "be5f3644-5aa4-4c8f-9a98-7f0d66245838",
   "metadata": {},
   "outputs": [],
   "source": [
    "#df.to_csv('final_toy_HAM4.csv')\n",
    "df.to_csv('final_toy_HAMtest.csv')\n"
   ]
  },
  {
   "cell_type": "markdown",
   "id": "26c5750f-7bae-43b6-a76a-6537dbebbf51",
   "metadata": {},
   "source": [
    "# Building search and recommendation Engine\n",
    "---\n",
    "The final output of this project is the below HAM_recommend class. It uses Jupyter widgets as UI elements to input user text query, likes, and query for recommendations. The event interface is driven by text entry and button clicks. Output is displayed by image cards via accordion widgets. Each query has its own accordion output.\n",
    "\n",
    "The model Deepseek was used to generate a portion of the UI for the below recommendation system, namely the image cards and the accordion sections in the recommendation class. The validation of this code involves using the Recommender. I have performed approximately 50 searches post-building and have not seen any bugs or unusual behavior in the UI. The prompts used included: \"I have this code (paste code) and I would like to put like buttons with my images that will save the liked indexes to my class variable.\", also \"I would like to try to find a way to display all history of search but make it collapsible. (paste code)\""
   ]
  },
  {
   "cell_type": "code",
   "execution_count": null,
   "id": "1d9c14bc-a176-45e5-8d37-410a8343be04",
   "metadata": {
    "scrolled": true
   },
   "outputs": [],
   "source": [
    "df = pd.read_csv('final_toy_HAM4.csv')\n",
    "display(df.head(2))"
   ]
  },
  {
   "cell_type": "code",
   "execution_count": null,
   "id": "a939f976-9d0a-4306-b085-9d23ae41cebb",
   "metadata": {},
   "outputs": [],
   "source": []
  },
  {
   "cell_type": "code",
   "execution_count": null,
   "id": "77726e7f-b55c-47be-b66b-5e38be7c9586",
   "metadata": {},
   "outputs": [],
   "source": []
  },
  {
   "cell_type": "markdown",
   "id": "b460adc9-e50e-4e08-855f-243e0d131b28",
   "metadata": {},
   "source": [
    "## Sample Output\n",
    "---\n",
    "I spent many hours getting the recommender UI to work perfectly, only to realize that I could not easily export the results of my queries because they are widgets. I instead took screenshots of the results that are posted below. You can see that liked items have like buttons that are a darker color of gray.\n",
    "\n",
    "## **Search: circus cat** \n",
    "\n",
    "Here I enter a query that will return two different types of imagery, 'circus' and 'cat.’ By liking only circus imagery, I am returned images that focus only on the circus aspect. The next round of recommendations, I unlike the circus themes and only images with Asian themes, and my recommender returns images based on that selection.\n",
    "\n",
    "### The results from the HAM website"
   ]
  },
  {
   "cell_type": "code",
   "execution_count": 2,
   "id": "e4e5c074-5038-4cd9-bd20-1af622d52887",
   "metadata": {},
   "outputs": [],
   "source": [
    "from concurrent.futures import ThreadPoolExecutor, as_completed\n",
    "import time\n",
    "\n",
    "\n",
    "\n",
    "\n",
    "class HAM_recommend():\n",
    "    \"\"\" Creates a Jupyter widget based UI that queries user for image search text, \n",
    "     allows them to like images, and provides image recommendations based on liked images.\n",
    "     usage:\n",
    "     rec = HAM_recommend()\n",
    "     rec.show()\n",
    "    \"\"\"\n",
    "    \n",
    "    def __init__(self):\n",
    "        self.df = pd.read_csv('final_toy_HAMtest.csv')\n",
    "        self.query = \"\"\n",
    "        self.liked = []\n",
    "        self.all_displayed_indices = set()  # Track ALL images ever displayed\n",
    "        self.current_displayed_indices = set() \n",
    "        self.image_index = faiss.read_index(\"image_index4.faiss\")\n",
    "        self.text_index = faiss.read_index(\"tfidf_index_test.faiss\")\n",
    "        self.tfidf = load(\"tfidf_data_test.joblib\")[\"vectorizer\"]\n",
    "        self.main_output = widgets.Output()\n",
    "        self.run = True\n",
    "        self.image_widgets = []\n",
    "        \n",
    "        # container for all batches\n",
    "        self.batches_container = widgets.VBox()\n",
    "        display(self.batches_container)\n",
    "        \n",
    "        # counter for batch IDs\n",
    "        self.batch_counter = 0\n",
    "        self.image_grid = widgets.GridBox(\n",
    "            layout=widgets.Layout(\n",
    "                grid_template_columns=\"repeat(3, 300px)\",\n",
    "                grid_gap=\"10px\",\n",
    "                width='100%'\n",
    "            )\n",
    "        )\n",
    "        self.current_batch_name = None \n",
    "\n",
    "    def download_image(self, url):\n",
    "        \"\"\"Download single image from given url\"\"\"\n",
    "        try:\n",
    "            response = requests.get(url, timeout=8)\n",
    "            if response.status_code == 200:\n",
    "                return BytesIO(response.content).read()\n",
    "            return None\n",
    "        except:\n",
    "            return None\n",
    "            \n",
    "    def create_image_card(self, idx, score):\n",
    "        \"\"\"Create a widget card for an image with like button\"\"\"\n",
    "        image_widget = widgets.Image(\n",
    "            width=280, \n",
    "            height=280,\n",
    "            layout=widgets.Layout(visibility='hidden')\n",
    "        )\n",
    "        \n",
    "        like_button = widgets.ToggleButton(\n",
    "            value=idx in self.liked,\n",
    "            description='❤️ Like',\n",
    "            layout=widgets.Layout(width='auto')\n",
    "        )\n",
    "        \n",
    "        caption = widgets.HTML(\n",
    "            value=f\"<b>Score:</b> {score:.2f}<br>Loading image...\"\n",
    "        )\n",
    "        \n",
    "        card = widgets.VBox([\n",
    "            image_widget,\n",
    "            caption,\n",
    "            like_button\n",
    "        ], layout=widgets.Layout(\n",
    "            border='solid 1px gray',\n",
    "            padding='10px',\n",
    "            min_height='350px'\n",
    "        ))\n",
    "        \n",
    "        like_button.index = idx\n",
    "        like_button.observe(self.on_like_change, names='value')\n",
    "        \n",
    "        return card, image_widget, caption\n",
    "\n",
    "    def on_like_change(self, change):\n",
    "        \"\"\" Allows user to like or unlike image with button click, \n",
    "        allows creating recommendations if number of likes is more than 0\"\"\"\n",
    "        idx = change['owner'].index\n",
    "        if change['new']:\n",
    "            if idx not in self.liked:\n",
    "                self.liked.append(idx)\n",
    "        else:\n",
    "            if idx in self.liked:\n",
    "                self.liked.remove(idx)\n",
    "        self.rec_button.disabled = len(self.liked) == 0  # Update button state\n",
    "\n",
    "    def search_for_text(self, button=None):\n",
    "        \"\"\"Search for and return similar objects when prompted with \n",
    "        query text. Vectorizes querry text with tfidf vectorizor then \n",
    "        performs similary search with the faiss text vector store\"\"\"\n",
    "        self.query = self.search_text.value\n",
    "        with self.main_output:\n",
    "            clear_output()\n",
    "            print(f\"Searching for: {self.query}\")\n",
    "        \n",
    "        # Create query vector\n",
    "        query_vec = self.tfidf.transform([self.query])\n",
    "        \n",
    "        # Get results\n",
    "        D, I = self.text_index.search(query_vec.toarray().astype(\"float32\"), k=12)\n",
    "        \n",
    "        # Show with header \n",
    "        self.show_images(I[0], D[0], batch_name=f\"Search Results for: '{self.query}'\")\n",
    "     \n",
    "                    \n",
    "\n",
    "    def show_images(self, indices, scores, batch_name=None, requested_count=12, fetch_multiplier=3):\n",
    "        \"\"\"Displays images in a new collapsible batch after filtering duplicates.\"\"\"\n",
    "        with self.main_output:\n",
    "            if not batch_name:\n",
    "                batch_name = f\"Results {self.batch_counter + 1}\"\n",
    "            \n",
    "            # Get more candidates than needed to account for duplicates\n",
    "            candidate_indices = indices[:requested_count * fetch_multiplier]\n",
    "            candidate_scores = scores[:requested_count * fetch_multiplier]\n",
    "            \n",
    "            # Filter out already displayed images\n",
    "            new_indices = []\n",
    "            new_scores = []\n",
    "            for idx, score in zip(candidate_indices, candidate_scores):\n",
    "                if idx not in self.all_displayed_indices:\n",
    "                    new_indices.append(idx)\n",
    "                    new_scores.append(score)\n",
    "                    self.all_displayed_indices.add(idx)\n",
    "                    if len(new_indices) >= requested_count:\n",
    "                        break  # Stop when we have enough\n",
    "            \n",
    "            if not new_indices:\n",
    "                print(f\"No new images found for '{batch_name}'\")\n",
    "                return\n",
    "            \n",
    "            # Create batch UI elements\n",
    "            batch_id = f\"batch_{self.batch_counter}\"\n",
    "            self.batch_counter += 1\n",
    "            \n",
    "            image_grid = widgets.GridBox(\n",
    "                layout=widgets.Layout(\n",
    "                    grid_template_columns=\"repeat(3, 300px)\",\n",
    "                    grid_gap=\"10px\",\n",
    "                    width='100%'\n",
    "                )\n",
    "            )\n",
    "            \n",
    "            # Create and load image cards\n",
    "            cards = []\n",
    "            for idx, score in zip(new_indices, new_scores):\n",
    "                card, img_widget, caption = self.create_image_card(idx, score)\n",
    "                cards.append(card)\n",
    "                \n",
    "                url = self.df.iloc[idx]['primaryimageurl']\n",
    "                image_data = self.download_image(url)\n",
    "                if image_data:\n",
    "                    img_widget.value = image_data\n",
    "                    img_widget.layout.visibility = 'visible'\n",
    "                    title = str(self.df.iloc[idx].title)\n",
    "                    name = str(self.df.iloc[idx].artist_name)\n",
    "                    date = str(self.df.iloc[idx].date)\n",
    "                    info = title + ', ' + name + ', ' + date \n",
    "                    caption.value = f\"{info}<br><b>Score:</b> {score:.2f}\"\n",
    "            \n",
    "            image_grid.children = cards\n",
    "            \n",
    "            # Add to history\n",
    "            accordion = widgets.Accordion(children=[image_grid])\n",
    "            accordion.set_title(0, batch_name)\n",
    "            accordion.selected_index = None\n",
    "            self.batches_container.children += (accordion,)\n",
    "\n",
    "    \n",
    "    def search_by_likes(self, button=None):\n",
    "        \"\"\"Using list of liked images, extract thier embeddings, average them\n",
    "        and query the faiss image vector store for similar images. Filter already \n",
    "        seen images and display. \"\"\"\n",
    "        if not self.liked:\n",
    "            with self.main_output:\n",
    "                print(\"Please like some images first!\")\n",
    "            return\n",
    "        \n",
    "        try:\n",
    "            liked_embeddings = [np.array(eval(self.df.iloc[idx]['image_embedding'])) \n",
    "                              for idx in self.liked]\n",
    "            avg_embedding = np.mean(liked_embeddings, axis=0).reshape(1, -1).astype('float32')\n",
    "            \n",
    "            D, I = self.image_index.search(avg_embedding, k=36)  # Get 3x more than needed\n",
    "            \n",
    "            self.show_images(I[0], D[0], batch_name=\"Recommended Based On Your Likes\")\n",
    "            \n",
    "        except Exception as e:\n",
    "            with self.main_output:\n",
    "                print(f\"Error getting recommendations: {str(e)}\")\n",
    "                \n",
    "    def clear_likes(self, button):\n",
    "        \"\"\"Clear all liked images and refresh the UI\"\"\"\n",
    "        self.liked = []\n",
    "        with self.main_output:\n",
    "            clear_output()\n",
    "            print(\"Cleared all likes\")\n",
    "        \n",
    "        # Update the recommendation button state\n",
    "        self.rec_button.disabled = True\n",
    "        \n",
    "        # Update all like buttons in existing cards\n",
    "        for accordion in self.batches_container.children:\n",
    "            for grid in accordion.children:\n",
    "                for card in grid.children:\n",
    "                    like_button = card.children[2]  # Like button is the 3rd child\n",
    "                    like_button.value = False                \n",
    "                    \n",
    "\n",
    "    \n",
    "    def text_query_HAM(self):\n",
    "        \"\"\"Create search UI box with text query button, get \n",
    "        recomendations button, and clear all likes button.\"\"\"\n",
    "        search_box = widgets.HBox([\n",
    "            widgets.Text(description=\"Search:\", layout=widgets.Layout(width='400px')),\n",
    "            widgets.Button(description=\"Find Images\")\n",
    "        ])\n",
    "\n",
    "        self.search_text = search_box.children[0]\n",
    "        search_button = search_box.children[1]\n",
    "        \n",
    "        # Create recommendation button\n",
    "        self.rec_button = widgets.Button(\n",
    "            description=\"Get Recommendations Based on Likes\",\n",
    "            disabled=len(self.liked) == 0,\n",
    "            layout=widgets.Layout(width='auto', margin='10px')\n",
    "        )\n",
    "        \n",
    "        # Create clear likes button\n",
    "        clear_likes_button = widgets.Button(\n",
    "            description=\"Clear All Likes\",\n",
    "            button_style='danger',\n",
    "            layout=widgets.Layout(width='auto', margin='10px')\n",
    "        )\n",
    "        \n",
    "        # Connect buttons to their functions\n",
    "        search_button.on_click(self._on_search_click)\n",
    "        self.rec_button.on_click(lambda b: self.search_by_likes())\n",
    "        clear_likes_button.on_click(self.clear_likes)\n",
    "        \n",
    "        # Create button container\n",
    "        button_row = widgets.HBox([\n",
    "            self.rec_button,\n",
    "            clear_likes_button\n",
    "        ], layout=widgets.Layout(\n",
    "            justify_content='center',\n",
    "            margin='10px 0'\n",
    "        ))\n",
    "        \n",
    "        # display all UI elements\n",
    "        display(search_box)\n",
    "        display(button_row)\n",
    "        display(self.main_output)\n",
    "    \n",
    "    def _on_search_click(self, button):\n",
    "        \"\"\"Handle search with basic spelling correction\"\"\"\n",
    "        self.query = self.search_text.value\n",
    "        self.search_for_text()\n",
    "    \n",
    "    def show(self): \n",
    "        \"\"\"Main display method\"\"\"\n",
    "        self.text_query_HAM()\n",
    "        \n",
    "\n",
    "    \n",
    "    def download_image(self, url):\n",
    "        \"\"\"Download single image from given url with timeout\"\"\"\n",
    "        try:\n",
    "            response = requests.get(url, timeout=8)\n",
    "            if response.status_code == 200:\n",
    "                return BytesIO(response.content).read()\n",
    "            return None\n",
    "        except Exception as e:\n",
    "            return None\n",
    "            \n",
    "    def download_images_concurrently(self, urls):\n",
    "        \"\"\"Download multiple images concurrently using threading\"\"\"\n",
    "        results = {}\n",
    "        with ThreadPoolExecutor(max_workers=10) as executor:\n",
    "            # Start the download operations and mark each future with its URL\n",
    "            future_to_url = {executor.submit(self.download_image, url): url for url in urls}\n",
    "            \n",
    "            for future in as_completed(future_to_url):\n",
    "                url = future_to_url[future]\n",
    "                try:\n",
    "                    results[url] = future.result()\n",
    "                except Exception as e:\n",
    "                    results[url] = None\n",
    "        return results\n",
    "\n",
    "    def show_images(self, indices, scores, batch_name=None, requested_count=12, fetch_multiplier=3):\n",
    "        \"\"\"Displays images in a new collapsible batch after filtering duplicates.\"\"\"\n",
    "        with self.main_output:\n",
    "            if not batch_name:\n",
    "                batch_name = f\"Results {self.batch_counter + 1}\"\n",
    "            \n",
    "            # Get more candidates than needed to account for duplicates\n",
    "            candidate_indices = indices[:requested_count * fetch_multiplier]\n",
    "            candidate_scores = scores[:requested_count * fetch_multiplier]\n",
    "            \n",
    "            # Filter out already displayed images\n",
    "            new_indices = []\n",
    "            new_scores = []\n",
    "            for idx, score in zip(candidate_indices, candidate_scores):\n",
    "                if idx not in self.all_displayed_indices:\n",
    "                    new_indices.append(idx)\n",
    "                    new_scores.append(score)\n",
    "                    self.all_displayed_indices.add(idx)\n",
    "                    if len(new_indices) >= requested_count:\n",
    "                        break  # Stop when we have enough\n",
    "            \n",
    "            if not new_indices:\n",
    "                print(f\"No new images found for '{batch_name}'\")\n",
    "                return\n",
    "            \n",
    "            # Create batch UI elements\n",
    "            batch_id = f\"batch_{self.batch_counter}\"\n",
    "            self.batch_counter += 1\n",
    "            \n",
    "            image_grid = widgets.GridBox(\n",
    "                layout=widgets.Layout(\n",
    "                    grid_template_columns=\"repeat(3, 300px)\",\n",
    "                    grid_gap=\"10px\",\n",
    "                    width='100%'\n",
    "                )\n",
    "            )\n",
    "            \n",
    "            # Get all URLs first\n",
    "            urls = [self.df.iloc[idx]['primaryimageurl'] for idx in new_indices]\n",
    "            \n",
    "            # Download all images concurrently\n",
    "            start_time = time.time()\n",
    "            downloaded_images = self.download_images_concurrently(urls)\n",
    "            print(f\"Downloaded {len(urls)} images in {time.time() - start_time:.2f} seconds\")\n",
    "            \n",
    "            # Create and load image cards\n",
    "            cards = []\n",
    "            for idx, score, url in zip(new_indices, new_scores, urls):\n",
    "                card, img_widget, caption = self.create_image_card(idx, score)\n",
    "                cards.append(card)\n",
    "                \n",
    "                image_data = downloaded_images[url]\n",
    "                if image_data:\n",
    "                    img_widget.value = image_data\n",
    "                    img_widget.layout.visibility = 'visible'\n",
    "                    title = str(self.df.iloc[idx].title)\n",
    "                    name = str(self.df.iloc[idx].artist_name)\n",
    "                    date = str(self.df.iloc[idx].date)\n",
    "                    info = title + ', ' + name + ', ' + date \n",
    "                    caption.value = f\"{info}<br><b>Score:</b> {score:.2f}\"\n",
    "                else:\n",
    "                    caption.value = f\"<b>Error loading image</b><br><b>Score:</b> {score:.2f}\"\n",
    "            \n",
    "            image_grid.children = cards\n",
    "            \n",
    "            # Add to history\n",
    "            accordion = widgets.Accordion(children=[image_grid])\n",
    "            accordion.set_title(0, batch_name)\n",
    "            accordion.selected_index = None\n",
    "            self.batches_container.children += (accordion,)"
   ]
  },
  {
   "cell_type": "code",
   "execution_count": null,
   "id": "8a9230e5-8060-41c5-a81f-d3a06f61c2ae",
   "metadata": {},
   "outputs": [],
   "source": []
  },
  {
   "cell_type": "code",
   "execution_count": 16,
   "id": "e5f4a931-d515-46e6-889c-74324ac3b43c",
   "metadata": {},
   "outputs": [
    {
     "data": {
      "image/png": "[encoded data removed]",
      "text/plain": [
       "<IPython.core.display.Image object>"
      ]
     },
     "metadata": {
      "image/png": {
       "width": 1000
      }
     },
     "output_type": "display_data"
    }
   ],
   "source": [
    "\n",
    "with open(\"Screenshot 2025-05-06 at 1.15.28 PM.png\", \"rb\") as f:\n",
    "    display(Image_show(f.read(), width=1000))"
   ]
  },
  {
   "cell_type": "code",
   "execution_count": null,
   "id": "b2417768-6fc0-4781-b344-ce05f11d431d",
   "metadata": {},
   "outputs": [],
   "source": []
  },
  {
   "cell_type": "markdown",
   "id": "63e251c1-826e-4581-acab-448f7f73a885",
   "metadata": {},
   "source": [
    "### My results"
   ]
  },
  {
   "cell_type": "code",
   "execution_count": null,
   "id": "da1d6224-8cb9-4fef-811e-5f1d8d2ac9d9",
   "metadata": {},
   "outputs": [],
   "source": []
  },
  {
   "cell_type": "code",
   "execution_count": 5,
   "id": "f0053737-4466-4905-93da-347b438c1304",
   "metadata": {},
   "outputs": [
    {
     "data": {
      "application/vnd.jupyter.widget-view+json": {
       "model_id": "729a69f3d04e44e194817dfa90995ac8",
       "version_major": 2,
       "version_minor": 0
      },
      "text/plain": [
       "VBox()"
      ]
     },
     "metadata": {},
     "output_type": "display_data"
    },
    {
     "data": {
      "application/vnd.jupyter.widget-view+json": {
       "model_id": "6e3919526b714c98b9880c54d15ee05f",
       "version_major": 2,
       "version_minor": 0
      },
      "text/plain": [
       "HBox(children=(Text(value='', description='Search:', layout=Layout(width='400px')), Button(description='Find I…"
      ]
     },
     "metadata": {},
     "output_type": "display_data"
    },
    {
     "data": {
      "application/vnd.jupyter.widget-view+json": {
       "model_id": "7308e3059a8d42cf94701fb81dcc29f2",
       "version_major": 2,
       "version_minor": 0
      },
      "text/plain": [
       "HBox(children=(Button(description='Get Recommendations Based on Likes', disabled=True, layout=Layout(margin='1…"
      ]
     },
     "metadata": {},
     "output_type": "display_data"
    },
    {
     "data": {
      "application/vnd.jupyter.widget-view+json": {
       "model_id": "1d40235ae8754a6f94be5aa1344180d4",
       "version_major": 2,
       "version_minor": 0
      },
      "text/plain": [
       "Output()"
      ]
     },
     "metadata": {},
     "output_type": "display_data"
    }
   ],
   "source": [
    "# Create and display the recommender\n",
    "rec = HAM_recommend()\n",
    "rec.show()"
   ]
  },
  {
   "cell_type": "markdown",
   "id": "6257c3b7-a5e8-4c26-9f76-95c11399912c",
   "metadata": {},
   "source": [
    "## **Search: 'ancient chinese vase'** \n",
    "\n",
    "Here I search for ancient chinese vase. The search returns matching items. I 'like' the items that look most like traditional ancient chinese vases and the returned recommendations mirrors that.\n",
    "\n",
    "### Results from HAM:"
   ]
  },
  {
   "cell_type": "code",
   "execution_count": 22,
   "id": "1bce0fda-8b46-4ede-aec2-3f34ace5d1bf",
   "metadata": {},
   "outputs": [
    {
     "data": {
      "image/png": "[encoded data removed]",
      "text/plain": [
       "<IPython.core.display.Image object>"
      ]
     },
     "metadata": {
      "image/png": {
       "width": 1000
      }
     },
     "output_type": "display_data"
    }
   ],
   "source": [
    "\n",
    "\n",
    "with open(\"Screenshot 2025-05-06 at 1.16.20 PM.png\", \"rb\") as f:\n",
    "    display(Image_show(f.read(), width=1000))\n",
    "\n",
    "    "
   ]
  },
  {
   "cell_type": "markdown",
   "id": "307b45ed-0de7-496f-b9f6-b03430fb04dc",
   "metadata": {},
   "source": [
    "### My results"
   ]
  },
  {
   "cell_type": "code",
   "execution_count": 6,
   "id": "1b187838-980a-4819-b241-c5ac2a4f8f1c",
   "metadata": {},
   "outputs": [
    {
     "data": {
      "application/vnd.jupyter.widget-view+json": {
       "model_id": "7fd4602f08914ce382b61da6e97b4c05",
       "version_major": 2,
       "version_minor": 0
      },
      "text/plain": [
       "VBox()"
      ]
     },
     "metadata": {},
     "output_type": "display_data"
    },
    {
     "data": {
      "application/vnd.jupyter.widget-view+json": {
       "model_id": "69ec803b10ff44868140b91dcb3fe321",
       "version_major": 2,
       "version_minor": 0
      },
      "text/plain": [
       "HBox(children=(Text(value='', description='Search:', layout=Layout(width='400px')), Button(description='Find I…"
      ]
     },
     "metadata": {},
     "output_type": "display_data"
    },
    {
     "data": {
      "application/vnd.jupyter.widget-view+json": {
       "model_id": "06baad081cd8499480076c6bb8b1bc0b",
       "version_major": 2,
       "version_minor": 0
      },
      "text/plain": [
       "HBox(children=(Button(description='Get Recommendations Based on Likes', disabled=True, layout=Layout(margin='1…"
      ]
     },
     "metadata": {},
     "output_type": "display_data"
    },
    {
     "data": {
      "application/vnd.jupyter.widget-view+json": {
       "model_id": "926445d5f3084cb59a0ae6b678d4df5d",
       "version_major": 2,
       "version_minor": 0
      },
      "text/plain": [
       "Output()"
      ]
     },
     "metadata": {},
     "output_type": "display_data"
    }
   ],
   "source": [
    "# Create and display the recommender\n",
    "rec = HAM_recommend()\n",
    "rec.show()"
   ]
  },
  {
   "cell_type": "markdown",
   "id": "667b12ba-5324-4579-903c-2c48b6cf3f36",
   "metadata": {},
   "source": [
    "## **Search: Greek Art**\n",
    "Here I liked the images most similar to classic greek statues and was returned all statues."
   ]
  },
  {
   "cell_type": "code",
   "execution_count": 8,
   "id": "96910602-d295-4eb4-81c7-dd034736624c",
   "metadata": {
    "scrolled": true
   },
   "outputs": [
    {
     "data": {
      "application/vnd.jupyter.widget-view+json": {
       "model_id": "6db69893ba7f4530902e15a848cf63d5",
       "version_major": 2,
       "version_minor": 0
      },
      "text/plain": [
       "VBox()"
      ]
     },
     "metadata": {},
     "output_type": "display_data"
    },
    {
     "data": {
      "application/vnd.jupyter.widget-view+json": {
       "model_id": "79babeb600d149069f26f44155ccdfa2",
       "version_major": 2,
       "version_minor": 0
      },
      "text/plain": [
       "HBox(children=(Text(value='', description='Search:', layout=Layout(width='400px')), Button(description='Find I…"
      ]
     },
     "metadata": {},
     "output_type": "display_data"
    },
    {
     "data": {
      "application/vnd.jupyter.widget-view+json": {
       "model_id": "44a56ebd9c0748089cd16228da5f414d",
       "version_major": 2,
       "version_minor": 0
      },
      "text/plain": [
       "HBox(children=(Button(description='Get Recommendations Based on Likes', disabled=True, layout=Layout(margin='1…"
      ]
     },
     "metadata": {},
     "output_type": "display_data"
    },
    {
     "data": {
      "application/vnd.jupyter.widget-view+json": {
       "model_id": "8f8174ac75db4015bf149965fe4ab478",
       "version_major": 2,
       "version_minor": 0
      },
      "text/plain": [
       "Output()"
      ]
     },
     "metadata": {},
     "output_type": "display_data"
    }
   ],
   "source": [
    "# Create and display the recommender\n",
    "rec = HAM_recommend()\n",
    "rec.show()"
   ]
  },
  {
   "cell_type": "markdown",
   "id": "6c632e96-2d0d-4fc3-b8a4-e443b8f96c32",
   "metadata": {},
   "source": [
    "## Searching for degas dancer\n",
    "Here I enter the query term Degas Dancer. I next like the most colorful Degas dancer image and am recommended other bright paintings/drawings of dancers."
   ]
  },
  {
   "cell_type": "code",
   "execution_count": 7,
   "id": "2fc58688-2136-4054-bd7a-4323e64ac93f",
   "metadata": {},
   "outputs": [
    {
     "data": {
      "application/vnd.jupyter.widget-view+json": {
       "model_id": "f7c6c1f8a62f428da1f96d65f9c28c14",
       "version_major": 2,
       "version_minor": 0
      },
      "text/plain": [
       "VBox()"
      ]
     },
     "metadata": {},
     "output_type": "display_data"
    },
    {
     "data": {
      "application/vnd.jupyter.widget-view+json": {
       "model_id": "810a623d322644238a96008f7b370248",
       "version_major": 2,
       "version_minor": 0
      },
      "text/plain": [
       "HBox(children=(Text(value='', description='Search:', layout=Layout(width='400px')), Button(description='Find I…"
      ]
     },
     "metadata": {},
     "output_type": "display_data"
    },
    {
     "data": {
      "application/vnd.jupyter.widget-view+json": {
       "model_id": "bede5f472faf46a08f233cf15ad5724f",
       "version_major": 2,
       "version_minor": 0
      },
      "text/plain": [
       "HBox(children=(Button(description='Get Recommendations Based on Likes', disabled=True, layout=Layout(margin='1…"
      ]
     },
     "metadata": {},
     "output_type": "display_data"
    },
    {
     "data": {
      "application/vnd.jupyter.widget-view+json": {
       "model_id": "ff9e0c335762441aa18814bca1eecca8",
       "version_major": 2,
       "version_minor": 0
      },
      "text/plain": [
       "Output()"
      ]
     },
     "metadata": {},
     "output_type": "display_data"
    }
   ],
   "source": [
    "# Create and display the recommender\n",
    "rec = HAM_recommend()\n",
    "rec.show()"
   ]
  },
  {
   "cell_type": "markdown",
   "id": "3a923c7f-eaba-4bcc-8da1-8eed85f550fe",
   "metadata": {},
   "source": [
    "# References\n",
    "---\n",
    "CLIP-Art: Contrastive Pre-Training for Fine-Grained Art Classification, Marcos V. Conde, Kerem Turgutlu; Proceedings of the IEEE/CVF Conference on Computer Vision and Pattern Recognition (CVPR) Workshops, 2021, pp. 3956-3960 [https://openaccess.thecvf.com/content/CVPR2021W/CVFAD/papers/Conde_CLIP-Art_Contrastive_Pre-Training_for_Fine-Grained_Art_Classification_CVPRW_2021_paper.pdf]\n",
    "\n",
    "Faiss Facebook Similarity Search:\n",
    "Billion-scale similarity search with GPUs, Jeff Johnson, Matthijs Douze, Hervé Jégou, ArXiv 2017, [https://arxiv.org/abs/1702.08734]\n",
    "[https://github.com/facebookresearch/faiss/wiki/]\n",
    "\n",
    "CLIP\n",
    "[https://openai.com/index/clip/]\n",
    "\n",
    "About HAM AI Anotations\n",
    "[https://ai.harvardartmuseums.org/statistics]\n",
    "\n",
    "Harvard Art Museum API docs\n",
    "[https://github.com/harvardartmuseums/api-docs/blob/master/sections/object.md]\n",
    "\n",
    "Harvard Art Museum Collections Homepage\n",
    "[https://harvardartmuseums.org/collections]\n",
    "\n",
    "DeepSeek\n",
    "[https://chat.deepseek.com]\n",
    "\n",
    "**AI Description Annotations Made by:**\n",
    "* Amazon Nova (via AWS Bedrock) : Description generation via prompting\n",
    "* Anthropic Claude (via AWS Bedrock) : Description generation via prompting\n",
    "* Clarifai : Concepts\n",
    "* Google Gemini : Description generation via prompting\n",
    "* Meta Llama (via AWS Bedrock) : Description generation via prompting\n",
    "* Microsoft Cognitive Sources : descriptions\n",
    "* Mistral Pixtral (via AWS Bedrock) : Description generation via prompting\n",
    "* OpenAI GPT (via Azure) : Description generation via prompting"
   ]
  }
 ],
 "metadata": {
  "kernelspec": {
   "display_name": "HAM Search",
   "language": "python",
   "name": "ham_search"
  },
  "language_info": {
   "codemirror_mode": {
    "name": "ipython",
    "version": 3
   },
   "file_extension": ".py",
   "mimetype": "text/x-python",
   "name": "python",
   "nbconvert_exporter": "python",
   "pygments_lexer": "ipython3",
   "version": "3.9.18"
  }
 },
 "nbformat": 4,
 "nbformat_minor": 5
}
