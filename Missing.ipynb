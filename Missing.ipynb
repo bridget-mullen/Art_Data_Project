{
 "cells": [
  {
   "cell_type": "markdown",
   "id": "a0a2ebaf-ae82-4a33-861f-13386bcf3e82",
   "metadata": {},
   "source": [
    "# Missing Peoples, Bias in Representation, and Exclusion\n",
    "* Find the ratio of gender in the collection, the ratio of artists by cultures.\n",
    "* Find the number of works with no artist.\n",
    "* Look at works with biased keywords for missing people/artists.\n",
    "* Works from one culture but attributed to another."
   ]
  },
  {
   "cell_type": "code",
   "execution_count": 296,
   "id": "cbdf4af3-e0a1-4614-a45c-bf30d665e2e4",
   "metadata": {},
   "outputs": [],
   "source": [
    "import pandas as pd\n",
    "import numpy as np\n",
    "import json\n",
    "import matplotlib.pyplot as plt\n",
    "import seaborn as sns\n",
    "\n",
    "from IPython.display import display, Image\n",
    "pd.set_option('display.max_columns', None)\n",
    "pd.set_option('display.max_colwidth', None)\n",
    "pd.set_option(\"display.max_rows\", None)"
   ]
  },
  {
   "cell_type": "code",
   "execution_count": 113,
   "id": "716ce93a-cf17-4785-bc53-8ef1e05c5710",
   "metadata": {},
   "outputs": [],
   "source": [
    "def search_string_in_dataframe(df, search_string, case_sensitive=False):\n",
    "    \"\"\"\n",
    "    Searches for a string in any field of a Pandas DataFrame.\n",
    "\n",
    "    Args:\n",
    "        df (pd.DataFrame): The DataFrame to search within.\n",
    "        search_string (str): The string to search for.\n",
    "        case_sensitive (bool, optional): Whether the search is case-sensitive. Defaults to False.\n",
    "\n",
    "    Returns:\n",
    "         pd.DataFrame: A DataFrame containing rows where the string was found, or an empty DataFrame if not found.\n",
    "    \"\"\"\n",
    "    mask = np.column_stack([df[col].astype(str).str.contains(search_string, case=case_sensitive, na=False).values for col in df])\n",
    "    return df[mask.any(axis=1)]"
   ]
  },
  {
   "cell_type": "code",
   "execution_count": 456,
   "id": "723338cb-971b-48c7-bc71-8611d134b455",
   "metadata": {},
   "outputs": [
    {
     "name": "stderr",
     "output_type": "stream",
     "text": [
      "/var/folders/1c/wrs5nr1s5qz6wn412_jlj79c0000gn/T/ipykernel_19911/3176279068.py:1: DtypeWarning: Columns (17,19,25,26,33,35,38,40,45,56,66,69,70,71,72,73,74,75,76,77,78) have mixed types. Specify dtype option on import or set low_memory=False.\n",
      "  df = pd.read_csv('art_objects.csv')\n"
     ]
    }
   ],
   "source": [
    "df = pd.read_csv('art_objects.csv')"
   ]
  },
  {
   "cell_type": "code",
   "execution_count": 135,
   "id": "5994ccbd-d417-4aeb-b826-2620783e05da",
   "metadata": {
    "scrolled": true
   },
   "outputs": [
    {
     "name": "stdout",
     "output_type": "stream",
     "text": [
      "<class 'pandas.core.frame.DataFrame'>\n",
      "RangeIndex: 245639 entries, 0 to 245638\n",
      "Data columns (total 79 columns):\n",
      " #   Column                        Non-Null Count   Dtype  \n",
      "---  ------                        --------------   -----  \n",
      " 0   Unnamed: 0                    245639 non-null  int64  \n",
      " 1   copyright                     61841 non-null   object \n",
      " 2   contextualtextcount           245639 non-null  int64  \n",
      " 3   creditline                    245639 non-null  object \n",
      " 4   accesslevel                   245639 non-null  int64  \n",
      " 5   createdate                    245639 non-null  object \n",
      " 6   dateoflastpageview            203909 non-null  object \n",
      " 7   classificationid              245639 non-null  int64  \n",
      " 8   division                      238050 non-null  object \n",
      " 9   markscount                    245639 non-null  int64  \n",
      " 10  publicationcount              245639 non-null  int64  \n",
      " 11  totaluniquepageviews          245639 non-null  int64  \n",
      " 12  terms                         237406 non-null  object \n",
      " 13  contact                       245632 non-null  object \n",
      " 14  colorcount                    245639 non-null  int64  \n",
      " 15  rank                          245639 non-null  int64  \n",
      " 16  id                            245639 non-null  int64  \n",
      " 17  state                         13521 non-null   object \n",
      " 18  verificationleveldescription  245639 non-null  object \n",
      " 19  period                        36431 non-null   object \n",
      " 20  images                        223047 non-null  object \n",
      " 21  worktypes                     245028 non-null  object \n",
      " 22  imagecount                    245639 non-null  int64  \n",
      " 23  totalpageviews                245639 non-null  int64  \n",
      " 24  accessionyear                 171643 non-null  float64\n",
      " 25  standardreferencenumber       48441 non-null   object \n",
      " 26  signed                        20033 non-null   object \n",
      " 27  classification                245639 non-null  object \n",
      " 28  relatedcount                  245639 non-null  int64  \n",
      " 29  verificationlevel             245639 non-null  int64  \n",
      " 30  primaryimageurl               223047 non-null  object \n",
      " 31  titlescount                   245639 non-null  int64  \n",
      " 32  peoplecount                   245639 non-null  int64  \n",
      " 33  style                         2251 non-null    object \n",
      " 34  lastupdate                    245639 non-null  object \n",
      " 35  commentary                    2424 non-null    object \n",
      " 36  periodid                      36431 non-null   float64\n",
      " 37  technique                     168684 non-null  object \n",
      " 38  edition                       4480 non-null    object \n",
      " 39  description                   36689 non-null   object \n",
      " 40  medium                        105620 non-null  object \n",
      " 41  lendingpermissionlevel        245639 non-null  int64  \n",
      " 42  title                         245636 non-null  object \n",
      " 43  accessionmethod               245639 non-null  object \n",
      " 44  colors                        222447 non-null  object \n",
      " 45  provenance                    74494 non-null   object \n",
      " 46  groupcount                    245639 non-null  int64  \n",
      " 47  dated                         230651 non-null  object \n",
      " 48  department                    245639 non-null  object \n",
      " 49  dateend                       245639 non-null  int64  \n",
      " 50  titles                        245636 non-null  object \n",
      " 51  people                        214446 non-null  object \n",
      " 52  url                           245639 non-null  object \n",
      " 53  dateoffirstpageview           203909 non-null  object \n",
      " 54  century                       226182 non-null  object \n",
      " 55  objectnumber                  245639 non-null  object \n",
      " 56  labeltext                     1096 non-null    object \n",
      " 57  datebegin                     245639 non-null  int64  \n",
      " 58  culture                       231996 non-null  object \n",
      " 59  exhibitioncount               245639 non-null  int64  \n",
      " 60  imagepermissionlevel          245639 non-null  int64  \n",
      " 61  mediacount                    245639 non-null  int64  \n",
      " 62  objectid                      245639 non-null  int64  \n",
      " 63  techniqueid                   168684 non-null  float64\n",
      " 64  dimensions                    191750 non-null  object \n",
      " 65  seeAlso                       223047 non-null  object \n",
      " 66  marks                         40807 non-null   object \n",
      " 67  related                       82973 non-null   object \n",
      " 68  places                        113854 non-null  object \n",
      " 69  exhibitions                   19775 non-null   object \n",
      " 70  publications                  23050 non-null   object \n",
      " 71  groupings                     65157 non-null   object \n",
      " 72  gallery                       1812 non-null    object \n",
      " 73  tags                          303 non-null     object \n",
      " 74  details                       20189 non-null   object \n",
      " 75  contextualtext                1433 non-null    object \n",
      " 76  media                         79 non-null      object \n",
      " 77  videos                        26 non-null      object \n",
      " 78  audio                         13 non-null      object \n",
      "dtypes: float64(3), int64(24), object(52)\n",
      "memory usage: 148.1+ MB\n",
      "None\n"
     ]
    },
    {
     "data": {
      "text/html": [
       "<div>\n",
       "<style scoped>\n",
       "    .dataframe tbody tr th:only-of-type {\n",
       "        vertical-align: middle;\n",
       "    }\n",
       "\n",
       "    .dataframe tbody tr th {\n",
       "        vertical-align: top;\n",
       "    }\n",
       "\n",
       "    .dataframe thead th {\n",
       "        text-align: right;\n",
       "    }\n",
       "</style>\n",
       "<table border=\"1\" class=\"dataframe\">\n",
       "  <thead>\n",
       "    <tr style=\"text-align: right;\">\n",
       "      <th></th>\n",
       "      <th>people</th>\n",
       "      <th>peoplecount</th>\n",
       "    </tr>\n",
       "  </thead>\n",
       "  <tbody>\n",
       "    <tr>\n",
       "      <th>0</th>\n",
       "      <td>[{'role': 'Artist', 'birthplace': 'Maidstone, England', 'gender': 'male', 'displaydate': '1735 - 1785', 'prefix': None, 'culture': 'British', 'displayname': 'William Woollett', 'alphasort': 'Woollett, William', 'name': 'William Woollett', 'personid': 33488, 'deathplace': 'London, England', 'displayorder': 1}, {'role': 'Artist after', 'birthplace': None, 'gender': 'unknown', 'displaydate': '1714-1776', 'prefix': 'After', 'culture': 'British', 'displayname': 'After George Smith', 'alphasort': 'Smith, George', 'name': 'George Smith', 'personid': 59838, 'deathplace': None, 'displayorder': 2}]</td>\n",
       "      <td>2</td>\n",
       "    </tr>\n",
       "    <tr>\n",
       "      <th>1</th>\n",
       "      <td>[{'role': 'Artist', 'birthplace': 'Maidstone, England', 'gender': 'male', 'displaydate': '1735 - 1785', 'prefix': None, 'culture': 'British', 'displayname': 'William Woollett', 'alphasort': 'Woollett, William', 'name': 'William Woollett', 'personid': 33488, 'deathplace': 'London, England', 'displayorder': 1}, {'role': 'Artist after', 'birthplace': None, 'gender': 'unknown', 'displaydate': '1716-1774', 'prefix': 'After', 'culture': 'British', 'displayname': 'After John Joshua Kirby', 'alphasort': 'Kirby, John Joshua', 'name': 'John Joshua Kirby', 'personid': 59765, 'deathplace': None, 'displayorder': 2}]</td>\n",
       "      <td>2</td>\n",
       "    </tr>\n",
       "    <tr>\n",
       "      <th>2</th>\n",
       "      <td>[{'role': 'Artist', 'birthplace': 'Lille, France', 'gender': 'male', 'displaydate': '1609 - 1690', 'prefix': None, 'culture': 'Dutch', 'displayname': 'Anthonie Waterloo', 'alphasort': 'Waterloo, Anthonie', 'name': 'Anthonie Waterloo', 'personid': 29331, 'deathplace': 'Utrecht, Netherlands', 'displayorder': 1}]</td>\n",
       "      <td>1</td>\n",
       "    </tr>\n",
       "    <tr>\n",
       "      <th>3</th>\n",
       "      <td>[{'role': 'Artist', 'birthplace': 'Lille, France', 'gender': 'male', 'displaydate': '1609 - 1690', 'prefix': None, 'culture': 'Dutch', 'displayname': 'Anthonie Waterloo', 'alphasort': 'Waterloo, Anthonie', 'name': 'Anthonie Waterloo', 'personid': 29331, 'deathplace': 'Utrecht, Netherlands', 'displayorder': 1}]</td>\n",
       "      <td>1</td>\n",
       "    </tr>\n",
       "    <tr>\n",
       "      <th>4</th>\n",
       "      <td>[{'role': 'Artist', 'birthplace': None, 'gender': 'male', 'displaydate': '1752 - 1851', 'prefix': None, 'culture': 'British', 'displayname': 'William Watts', 'alphasort': 'Watts, William', 'name': 'William Watts', 'personid': 33417, 'deathplace': None, 'displayorder': 1}, {'role': 'Artist after', 'birthplace': None, 'gender': 'unknown', 'displaydate': '1744-1797', 'prefix': 'After', 'culture': 'British', 'displayname': 'After William Hodges', 'alphasort': 'Hodges, William', 'name': 'William Hodges', 'personid': 746, 'deathplace': None, 'displayorder': 2}]</td>\n",
       "      <td>2</td>\n",
       "    </tr>\n",
       "  </tbody>\n",
       "</table>\n",
       "</div>"
      ],
      "text/plain": [
       "                                                                                                                                                                                                                                                                                                                                                                                                                                                                                                                                                                                                                               people  \\\n",
       "0                 [{'role': 'Artist', 'birthplace': 'Maidstone, England', 'gender': 'male', 'displaydate': '1735 - 1785', 'prefix': None, 'culture': 'British', 'displayname': 'William Woollett', 'alphasort': 'Woollett, William', 'name': 'William Woollett', 'personid': 33488, 'deathplace': 'London, England', 'displayorder': 1}, {'role': 'Artist after', 'birthplace': None, 'gender': 'unknown', 'displaydate': '1714-1776', 'prefix': 'After', 'culture': 'British', 'displayname': 'After George Smith', 'alphasort': 'Smith, George', 'name': 'George Smith', 'personid': 59838, 'deathplace': None, 'displayorder': 2}]   \n",
       "1  [{'role': 'Artist', 'birthplace': 'Maidstone, England', 'gender': 'male', 'displaydate': '1735 - 1785', 'prefix': None, 'culture': 'British', 'displayname': 'William Woollett', 'alphasort': 'Woollett, William', 'name': 'William Woollett', 'personid': 33488, 'deathplace': 'London, England', 'displayorder': 1}, {'role': 'Artist after', 'birthplace': None, 'gender': 'unknown', 'displaydate': '1716-1774', 'prefix': 'After', 'culture': 'British', 'displayname': 'After John Joshua Kirby', 'alphasort': 'Kirby, John Joshua', 'name': 'John Joshua Kirby', 'personid': 59765, 'deathplace': None, 'displayorder': 2}]   \n",
       "2                                                                                                                                                                                                                                                                                                             [{'role': 'Artist', 'birthplace': 'Lille, France', 'gender': 'male', 'displaydate': '1609 - 1690', 'prefix': None, 'culture': 'Dutch', 'displayname': 'Anthonie Waterloo', 'alphasort': 'Waterloo, Anthonie', 'name': 'Anthonie Waterloo', 'personid': 29331, 'deathplace': 'Utrecht, Netherlands', 'displayorder': 1}]   \n",
       "3                                                                                                                                                                                                                                                                                                             [{'role': 'Artist', 'birthplace': 'Lille, France', 'gender': 'male', 'displaydate': '1609 - 1690', 'prefix': None, 'culture': 'Dutch', 'displayname': 'Anthonie Waterloo', 'alphasort': 'Waterloo, Anthonie', 'name': 'Anthonie Waterloo', 'personid': 29331, 'deathplace': 'Utrecht, Netherlands', 'displayorder': 1}]   \n",
       "4                                                   [{'role': 'Artist', 'birthplace': None, 'gender': 'male', 'displaydate': '1752 - 1851', 'prefix': None, 'culture': 'British', 'displayname': 'William Watts', 'alphasort': 'Watts, William', 'name': 'William Watts', 'personid': 33417, 'deathplace': None, 'displayorder': 1}, {'role': 'Artist after', 'birthplace': None, 'gender': 'unknown', 'displaydate': '1744-1797', 'prefix': 'After', 'culture': 'British', 'displayname': 'After William Hodges', 'alphasort': 'Hodges, William', 'name': 'William Hodges', 'personid': 746, 'deathplace': None, 'displayorder': 2}]   \n",
       "\n",
       "   peoplecount  \n",
       "0            2  \n",
       "1            2  \n",
       "2            1  \n",
       "3            1  \n",
       "4            2  "
      ]
     },
     "execution_count": 135,
     "metadata": {},
     "output_type": "execute_result"
    }
   ],
   "source": [
    "print(df.info())\n",
    "df[['people', 'peoplecount']][:5]"
   ]
  },
  {
   "cell_type": "markdown",
   "id": "1da87745-970c-472f-b790-d79b8112bdd7",
   "metadata": {},
   "source": [
    "### Unpacking 'people' jason objects\n",
    "The people category is uploaded as a json object, it needs to be unpacked to analyze."
   ]
  },
  {
   "cell_type": "code",
   "execution_count": 198,
   "id": "a14dece4-64b6-4dc7-962e-d3214a8b9532",
   "metadata": {},
   "outputs": [
    {
     "name": "stdout",
     "output_type": "stream",
     "text": [
      "[           role          birthplace   gender  displaydate prefix  culture  \\\n",
      "0        Artist  Maidstone, England     male  1735 - 1785   None  British   \n",
      "1  Artist after                None  unknown    1714-1776  After  British   \n",
      "\n",
      "          displayname          alphasort              name  personid  \\\n",
      "0    William Woollett  Woollett, William  William Woollett     33488   \n",
      "1  After George Smith      Smith, George      George Smith     59838   \n",
      "\n",
      "        deathplace  displayorder  \n",
      "0  London, England             1  \n",
      "1             None             2  ,            role          birthplace   gender  displaydate prefix  culture  \\\n",
      "0        Artist  Maidstone, England     male  1735 - 1785   None  British   \n",
      "1  Artist after                None  unknown    1716-1774  After  British   \n",
      "\n",
      "               displayname           alphasort               name  personid  \\\n",
      "0         William Woollett   Woollett, William   William Woollett     33488   \n",
      "1  After John Joshua Kirby  Kirby, John Joshua  John Joshua Kirby     59765   \n",
      "\n",
      "        deathplace  displayorder  \n",
      "0  London, England             1  \n",
      "1             None             2  ]\n"
     ]
    }
   ],
   "source": [
    "import json\n",
    "import pandas as pd\n",
    "import ast  # For safely evaluating strings\n",
    "\n",
    "df_list = []\n",
    "data = df.people.values\n",
    "\n",
    "for json_string in data:\n",
    "    if pd.isna(json_string):\n",
    "        df_list.append(None)\n",
    "    else:\n",
    "        try:\n",
    "            # First try direct JSON parsing\n",
    "            parsed_data = json.loads(json_string)\n",
    "        except json.JSONDecodeError:\n",
    "            try:\n",
    "                # Try fixing common issues\n",
    "                json_string_fixed = json_string.replace(\"'\", '\"')\n",
    "                parsed_data = json.loads(json_string_fixed)\n",
    "            except json.JSONDecodeError:\n",
    "                try:\n",
    "                    # Last resort - use ast.literal_eval for Python-like syntax\n",
    "                    parsed_data = ast.literal_eval(json_string)\n",
    "                except (ValueError, SyntaxError) as e:\n",
    "                    print(f\"Failed to parse: {json_string}\")\n",
    "                    print(f\"Error: {str(e)}\")\n",
    "                    parsed_data = None\n",
    "        \n",
    "        if parsed_data is not None:\n",
    "            try:\n",
    "                normalized_df = pd.json_normalize(parsed_data)\n",
    "                df_list.append(normalized_df)\n",
    "            except Exception as e:\n",
    "                print(f\"Normalization failed for: {parsed_data}\")\n",
    "                print(f\"Error: {str(e)}\")\n",
    "                df_list.append(None)\n",
    "        else:\n",
    "            df_list.append(None)\n",
    "\n",
    "# Store results\n",
    "df['people_df'] = df_list\n",
    "\n",
    "# Show first 2 successful parses\n",
    "print([x for x in df_list[:2] if x is not None])"
   ]
  },
  {
   "cell_type": "markdown",
   "id": "381836ca-69b9-42e3-9b6e-b896828aeb6b",
   "metadata": {},
   "source": [
    "## Now we can look at gender, role, and culture of artists. Lets first look at gender."
   ]
  },
  {
   "cell_type": "code",
   "execution_count": 202,
   "id": "313c190d-0609-4828-bbab-0b0ae2a5ff9a",
   "metadata": {},
   "outputs": [],
   "source": [
    "# For multiple entries per row (if people_df contains multiple rows):\n",
    "df['genders'] = df['people_df'].apply(lambda x: list(x['gender']) if isinstance(x, pd.DataFrame) and 'gender' in x.columns else [])"
   ]
  },
  {
   "cell_type": "code",
   "execution_count": 391,
   "id": "089cc078-3d14-488f-8cb5-bc38d8f77497",
   "metadata": {
    "scrolled": true
   },
   "outputs": [
    {
     "name": "stdout",
     "output_type": "stream",
     "text": [
      "genders\n",
      "[male]                                                                                                                                           124356\n",
      "[unknown]                                                                                                                                         52657\n",
      "[]                                                                                                                                                30263\n",
      "[male, male]                                                                                                                                      11002\n",
      "[male, unknown]                                                                                                                                    7688\n",
      "[female]                                                                                                                                           4717\n",
      "[unknown, unknown]                                                                                                                                 3236\n",
      "[unknown, male]                                                                                                                                    2971\n",
      "[unidentified]                                                                                                                                     1226\n",
      "[male, male, male]                                                                                                                                  529\n",
      "[male, unknown, unknown]                                                                                                                            481\n",
      "[female, male]                                                                                                                                      400\n",
      "[male, unknown, male]                                                                                                                               395\n",
      "[male, male, unknown]                                                                                                                               384\n",
      "[female, unknown]                                                                                                                                   351\n",
      "[unknown, unknown, unknown]                                                                                                                         344\n",
      "[unidentified, male]                                                                                                                                321\n",
      "[unknown, male, male]                                                                                                                               312\n",
      "[unidentified, unknown]                                                                                                                             279\n",
      "[male, female]                                                                                                                                      159\n",
      "[unknown, unknown, unknown, unknown]                                                                                                                132\n",
      "[unknown, unknown, male]                                                                                                                            127\n",
      "[unknown, male, unknown]                                                                                                                            122\n",
      "[unknown, male, unknown, unknown]                                                                                                                    96\n",
      "[unidentified, male, female]                                                                                                                         83\n",
      "[male, unidentified]                                                                                                                                 64\n",
      "[male, male, unknown, unknown]                                                                                                                       56\n",
      "[male, male, unidentified]                                                                                                                           54\n",
      "[female, female]                                                                                                                                     46\n",
      "[male, unknown, unknown, unknown]                                                                                                                    44\n",
      "[unknown, female]                                                                                                                                    42\n",
      "[male, male, male, male]                                                                                                                             35\n",
      "[female, unknown, unknown]                                                                                                                           34\n",
      "[female, unknown, male]                                                                                                                              27\n",
      "[unknown, unidentified]                                                                                                                              27\n",
      "[male, male, unknown, male]                                                                                                                          24\n",
      "[female, male, unknown]                                                                                                                              18\n",
      "[male, female, unknown]                                                                                                                              17\n",
      "[unknown, unknown, unknown, male]                                                                                                                    16\n",
      "[unknown, male, unknown, male]                                                                                                                       14\n",
      "[male, unknown, male, male]                                                                                                                          14\n",
      "[male, unidentified, unknown]                                                                                                                        14\n",
      "[unknown, unknown, male, unknown]                                                                                                                    12\n",
      "[male, male, unknown, female]                                                                                                                        12\n",
      "[female, unknown, unknown, unknown]                                                                                                                  12\n",
      "[unknown, male, unidentified]                                                                                                                        12\n",
      "[unidentified, male, unknown]                                                                                                                        10\n",
      "[male, unknown, male, unknown]                                                                                                                        9\n",
      "[female, male, male]                                                                                                                                  9\n",
      "[unknown, male, male, male]                                                                                                                           9\n",
      "[male, unknown, unknown, male]                                                                                                                        9\n",
      "[unidentified, unknown, unknown]                                                                                                                      9\n",
      "[unknown, male, male, unknown]                                                                                                                        8\n",
      "[male, male, male, unknown]                                                                                                                           8\n",
      "[unidentified, male, male]                                                                                                                            8\n",
      "[female, male, unidentified]                                                                                                                          8\n",
      "[female, unidentified]                                                                                                                                7\n",
      "[unknown, unknown, male, male]                                                                                                                        7\n",
      "[unidentified, unidentified]                                                                                                                          7\n",
      "[male, female, male]                                                                                                                                  6\n",
      "[unknown, male, male, unidentified]                                                                                                                   5\n",
      "[unknown, male, female]                                                                                                                               5\n",
      "[unidentified, unknown, male]                                                                                                                         5\n",
      "[male, unknown, unidentified]                                                                                                                         4\n",
      "[female, female, unknown]                                                                                                                             4\n",
      "[male, male, unidentified, male]                                                                                                                      4\n",
      "[male, male, male, male, male]                                                                                                                        4\n",
      "[male, unidentified, male]                                                                                                                            4\n",
      "[unidentified, unidentified, male, male]                                                                                                              3\n",
      "[unknown, female, male]                                                                                                                               3\n",
      "[male, unknown, unknown, unidentified, unknown, male, unidentified, male, male]                                                                       2\n",
      "[male, male, unidentified, male, male]                                                                                                                2\n",
      "[unknown, unidentified, unknown]                                                                                                                      2\n",
      "[female, male, male, unidentified]                                                                                                                    2\n",
      "[unknown, male, male, unknown, male]                                                                                                                  2\n",
      "[female, unknown, male, unknown]                                                                                                                      2\n",
      "[unidentified, female]                                                                                                                                2\n",
      "[male, male, male, male, male, male]                                                                                                                  2\n",
      "[unknown, unknown, unknown, unknown, unknown, unknown, unknown]                                                                                       2\n",
      "[unknown, unknown, unknown, unknown, unknown]                                                                                                         2\n",
      "[unknown, female, unknown]                                                                                                                            2\n",
      "[male, male, unknown, unknown, unknown]                                                                                                               2\n",
      "[unknown, unidentified, male]                                                                                                                         1\n",
      "[unknown, unidentified, male, male, male, unidentified, unidentified, unknown, male, male, male, male, male, male, unknown, male]                     1\n",
      "[female, unidentified, unknown]                                                                                                                       1\n",
      "[unidentified, male, unknown, unidentified]                                                                                                           1\n",
      "[unknown, unknown, male, male, male, male, male, male, male]                                                                                          1\n",
      "[male, unidentified, male, unknown]                                                                                                                   1\n",
      "[unknown, unknown, unknown, male, male, male, male, male]                                                                                             1\n",
      "[female, male, male, unknown]                                                                                                                         1\n",
      "[female, male, unknown, female]                                                                                                                       1\n",
      "[female, unknown, unknown, female]                                                                                                                    1\n",
      "[unidentified, female, male]                                                                                                                          1\n",
      "[unknown, unknown, unknown, unknown, male]                                                                                                            1\n",
      "[unknown, unknown, unknown, male, unknown]                                                                                                            1\n",
      "[male, male, male, male, male, male, male, male, male, unknown]                                                                                       1\n",
      "[male, unknown, unidentified, unknown]                                                                                                                1\n",
      "[male, male, male, male, unknown]                                                                                                                     1\n",
      "[female, unidentified, male]                                                                                                                          1\n",
      "[unknown, unidentified, male, unidentified, male, male, unknown, male, unknown, male, unknown, unknown, unidentified, male, male, male, male]         1\n",
      "[unidentified, male, unknown, unknown]                                                                                                                1\n",
      "[unidentified, male, unidentified, unknown]                                                                                                           1\n",
      "[unknown, male, unknown, male, male, male]                                                                                                            1\n",
      "[male, male, male, male, male, male, male, male]                                                                                                      1\n",
      "[unknown, unknown, female]                                                                                                                            1\n",
      "[male, male, male, male, male, male, male, male, male]                                                                                                1\n",
      "[unidentified, unknown, unknown, unknown]                                                                                                             1\n",
      "[male, male, male, unknown, unknown]                                                                                                                  1\n",
      "[male, male, unknown, unknown, male]                                                                                                                  1\n",
      "[male, male, unknown, male, unknown]                                                                                                                  1\n",
      "[male, male, male, female]                                                                                                                            1\n",
      "[unknown, male, unknown, female, male]                                                                                                                1\n",
      "[unknown, unknown, male, unknown, male, unknown, unknown, unknown]                                                                                    1\n",
      "[male, male, unidentified, unknown]                                                                                                                   1\n",
      "[female, male, male, male, unknown]                                                                                                                   1\n",
      "[male, male, unknown, unidentified]                                                                                                                   1\n",
      "[unknown, male, male, female, male, unknown, unknown, male, male, unknown, male, male, male, male, male]                                              1\n",
      "[male, female, unknown, unknown]                                                                                                                      1\n",
      "[female, female, unknown, unidentified]                                                                                                               1\n",
      "[female, unknown, unidentified]                                                                                                                       1\n",
      "[male, unidentified, unidentified]                                                                                                                    1\n",
      "[male, unknown, male, unidentified]                                                                                                                   1\n",
      "[male, male, male, male, male, unidentified]                                                                                                          1\n",
      "[unknown, unknown, male, unknown, unknown]                                                                                                            1\n",
      "Name: count, dtype: int64\n",
      "There are 5222 objects attributed to females and 149277 objects attributed to males. There are 88187 objects which are attributed to people of unknown gender. This give us 2.15 percent female, and 61.32 male, 36.22 percent   attributed items.\n"
     ]
    }
   ],
   "source": [
    "print(df['genders'].value_counts())\n",
    "# Create a mask for lists containing 'female' AND NOT containing 'male'\n",
    "fem_mask = (\n",
    "    df['genders'].apply(lambda x: 'female' in x if isinstance(x, list) else False) & \n",
    "    ~df['genders'].apply(lambda x: 'male' in x if isinstance(x, list) else False)\n",
    ")\n",
    "\n",
    "masc_mask = (\n",
    "    ~df['genders'].apply(lambda x: 'female' in x if isinstance(x, list) else False) & \n",
    "    df['genders'].apply(lambda x: 'male' in x if isinstance(x, list) else False)\n",
    ")\n",
    "\n",
    "unknown_mask = (\n",
    "    ~df['genders'].apply(lambda x: 'female' in x if isinstance(x, list) else False) & \n",
    "    ~df['genders'].apply(lambda x: 'male' in x if isinstance(x, list) else False) \n",
    "   \n",
    ")\n",
    "# Filter the DataFrame\n",
    "fem_only_df = df[fem_mask]\n",
    "male_only_df = df[masc_mask]\n",
    "unkn_df = df[unknown_mask]\n",
    "\n",
    "# Create the new column\n",
    "df['male/female'] = [\n",
    "    'female' if fem else \n",
    "    'male' if masc else \n",
    "    'unknown' \n",
    "    for fem, masc in zip(fem_mask, masc_mask)\n",
    "]\n",
    "\n",
    "print(f\"There are {len(fem_only_df)} objects attributed to females and {len(male_only_df)} \\\n",
    "objects attributed to males. There are {len(unkn_df)} objects which are attributed to \\\n",
    "people of unknown gender. This give us {round(len(fem_only_df)/len(df)*100, 2)} percent female, and \\\n",
    "{round(len(male_only_df)/len(df)*100, 2)} male, {round(len(unkn_df)/len(df)*100, 2)} percent   attributed items.\")"
   ]
  },
  {
   "cell_type": "markdown",
   "id": "a2d57052-c34b-4fec-994a-79146b7ca8c9",
   "metadata": {},
   "source": [
    "## After some analysis, we see that of the approximately 250K items, 2.2% are female-attributed, 61.3% are male-attributed,and the remaining 36.2% are attributed to an unknown gender.\n",
    "Likely, there are far more objects made by women than are attributed to them in the records. One area where this could be amended is within categories where objects would have been traditionally made by women: pottery, textiles, etc. \n",
    "\n",
    "### Objects where a creation date is not known are disproportionately attributed to men over being unknown or female."
   ]
  },
  {
   "cell_type": "code",
   "execution_count": 340,
   "id": "13a3d5e1-0d3d-4da4-a139-6a52a4428d06",
   "metadata": {},
   "outputs": [
    {
     "data": {
      "image/png": "[encoded data removed]",
      "text/plain": [
       "<Figure size 1000x600 with 1 Axes>"
      ]
     },
     "metadata": {},
     "output_type": "display_data"
    }
   ],
   "source": [
    "plt.figure(figsize=(10, 6))\n",
    "\n",
    "sns.histplot(data=male_only_df, x='dateend', kde=True, color = 'yellow', label = \"male object created\")\n",
    "sns.histplot(data=unkn_df, x='dateend', kde=True, color=\"skyblue\", label = \"unknown object created\")\n",
    "sns.histplot(data=fem_df, x='dateend', kde=True, color = 'red', label = \"fem object created\")\n",
    "plt.title('Distribution of Years When Female Attributed Objects Were Dated')\n",
    "plt.xlabel('Year')\n",
    "plt.ylabel('Frequency')\n",
    "plt.legend(loc='upper left')\n",
    "plt.grid(True)\n",
    "plt.show()"
   ]
  },
  {
   "cell_type": "code",
   "execution_count": 374,
   "id": "b391a46b-d645-4711-8c33-949a935c503f",
   "metadata": {},
   "outputs": [
    {
     "data": {
      "image/png": "[encoded data removed]",
      "text/plain": [
       "<Figure size 1000x600 with 1 Axes>"
      ]
     },
     "metadata": {},
     "output_type": "display_data"
    },
    {
     "data": {
      "image/png": "[encoded data removed]",
      "text/plain": [
       "<Figure size 1000x600 with 1 Axes>"
      ]
     },
     "metadata": {},
     "output_type": "display_data"
    }
   ],
   "source": [
    "\n",
    "plt.figure(figsize=(10, 6))\n",
    "\n",
    "\n",
    "sns.histplot(data=male_only_df, x='dateend', kde=True, color = 'yellow', label = \"male object created\")\n",
    "sns.histplot(data=unkn_df, x='dateend', kde=True, color=\"skyblue\", label = \"unknown object created\")\n",
    "sns.histplot(data=fem_only_df, x='dateend', kde=True, color = 'red', label = \"fem object created\")\n",
    "plt.title('Distribution of Years When Female Attributed Objects Were Dated')\n",
    "plt.xlim(-1000, 1000)\n",
    "plt.ylim(0, 4500)\n",
    "plt.xlabel('Year')\n",
    "plt.ylabel('Frequency')\n",
    "plt.legend(loc='upper left')\n",
    "plt.grid(True)\n",
    "plt.show()\n",
    "\n",
    "\n",
    "plt.figure(figsize=(10, 6))\n",
    "\n",
    "\n",
    "\n",
    "sns.histplot(data=unkn_df, x='dateend', kde=True, color=\"skyblue\", label = \"unknown object created\", bins = 200)\n",
    "sns.histplot(data=male_only_df, x='dateend', kde=True, color = 'yellow', label = \"male object created\", bins = 120)\n",
    "sns.histplot(data=fem_only_df, x='dateend', kde=True, color = 'red', label = \"fem object created\", bins = 100)\n",
    "plt.title('Distribution of Years When Female Attributed Objects Were Dated')\n",
    "plt.xlim(1000, 2050)\n",
    "plt.ylim(0, 8000)\n",
    "plt.xlabel('Year')\n",
    "plt.ylabel('Frequency')\n",
    "plt.legend(loc='upper left')\n",
    "plt.grid(True)\n",
    "plt.show()"
   ]
  },
  {
   "cell_type": "markdown",
   "id": "c6007dbd-ee04-4c05-8e74-75bcff6850b8",
   "metadata": {},
   "source": [
    "### Most of the pre 1500 objects are of unknown gender aside from a cluster of male attributed items between years 0 and 600.\n",
    "### There is an exponential increase in male attributed objects beginning around 1500 and peaking at 2000. \n",
    "### The only female attributed items exist in a cluster beginning around 1900 with a linear increase also peaking at the year 2000."
   ]
  },
  {
   "cell_type": "code",
   "execution_count": 358,
   "id": "674273f6-d226-4ed6-a155-d261b11d2ab4",
   "metadata": {},
   "outputs": [
    {
     "name": "stdout",
     "output_type": "stream",
     "text": [
      "681\n",
      "2174\n",
      "922\n",
      "3783\n",
      "From objects made in the last 25 years 18.03 percent were attributed to women while 57.56 percent were attributed to men and 24.41 percent were unknown.\n"
     ]
    }
   ],
   "source": [
    "recent_women = (fem_only_df['dateend']>= 2000).sum()\n",
    "recent_men = (male_only_df['dateend']>= 2000).sum()\n",
    "recent_unknown = (unkn_df['dateend']>= 2000).sum()\n",
    "total = recent_women + recent_men + recent_unknown\n",
    "print(f\"From objects made in the last 25 years {round(recent_women/total *100,2)} percent were attributed to women while \\\n",
    "{round(recent_men/total *100,2)} percent were attributed to men and {round(recent_unknown/total *100,2)} percent were unknown.\")"
   ]
  },
  {
   "cell_type": "code",
   "execution_count": 382,
   "id": "0ac11761-6353-4c5a-ab0e-1b5d1a5303c0",
   "metadata": {},
   "outputs": [
    {
     "name": "stdout",
     "output_type": "stream",
     "text": [
      "From objects made between 1950-2000 10.2 percent were attributed to women while 76.38 percent were attributed to men and 13.42 percent were unknown.\n"
     ]
    }
   ],
   "source": [
    "recent_women = ((fem_only_df['dateend']<= 2000) & (fem_only_df['dateend']>= 1975)).sum()\n",
    "recent_men = ((male_only_df['dateend']<= 2000) & (male_only_df['dateend']>= 1975)).sum()\n",
    "recent_unknown = ((unkn_df['dateend']<= 2000) & (unkn_df['dateend']>= 1975)).sum()\n",
    "total = recent_women + recent_men + recent_unknown\n",
    "print(f\"From objects made between 1975-2000 {round(recent_women/total *100,2)} percent were attributed to women while \\\n",
    "{round(recent_men/total *100,2)} percent were attributed to men and {round(recent_unknown/total *100,2)} percent were unknown.\")"
   ]
  },
  {
   "cell_type": "code",
   "execution_count": 423,
   "id": "00343f84-08f5-41db-bdd1-39c3049658ab",
   "metadata": {},
   "outputs": [
    {
     "data": {
      "image/png": "[encoded data removed]",
      "text/plain": [
       "<Figure size 1200x600 with 1 Axes>"
      ]
     },
     "metadata": {},
     "output_type": "display_data"
    }
   ],
   "source": [
    "gender_by_year = (\n",
    "    df.groupby(['dateend', 'male/female'])\n",
    "    .size()\n",
    "    .unstack(fill_value=0)\n",
    ")\n",
    "gender_by_year = gender_by_year.div(gender_by_year.sum(axis=1), axis=0) * 100\n",
    "\n",
    "# 3. Plot the results\n",
    "plt.figure(figsize=(12, 6))\n",
    "\n",
    "# Plot female percentage\n",
    "plt.plot(gender_by_year.index, gender_by_year['female'], \n",
    "         label='Female', color='red', marker='o')\n",
    "\n",
    "# Plot male percentage\n",
    "plt.plot(gender_by_year.index, gender_by_year['male'], \n",
    "         label='Male', color='blue', marker='o')\n",
    "\n",
    "# Formatting\n",
    "plt.title('Percentage Objects by Women and Men by Year', fontsize=14)\n",
    "plt.xlabel('Year', fontsize=12)\n",
    "plt.ylabel('Percentage (%)', fontsize=12)\n",
    "plt.legend(fontsize=12)\n",
    "plt.grid(True, alpha=0.3)\n",
    "\n",
    "# Rotate x-axis labels if many years\n",
    "if len(gender_by_year) > 10:\n",
    "    plt.xticks(rotation=45)\n",
    "    plt.xlim(1900, 2026)\n",
    "\n",
    "plt.tight_layout()\n",
    "plt.show()"
   ]
  },
  {
   "cell_type": "code",
   "execution_count": 384,
   "id": "8416b40e-1888-46bb-9454-2826626bb592",
   "metadata": {},
   "outputs": [
    {
     "name": "stdout",
     "output_type": "stream",
     "text": [
      "From objects made between 1975-2000 2.08 percent were attributed to women while 76.58 percent were attributed to men and 21.34 percent were unknown.\n"
     ]
    }
   ],
   "source": [
    "recent_women = ((fem_only_df['dateend']<= 1975) & (fem_only_df['dateend']>= 1950)).sum()\n",
    "recent_men = ((male_only_df['dateend']<= 1975) & (male_only_df['dateend']>= 1950)).sum()\n",
    "recent_unknown = ((unkn_df['dateend']<= 1975) & (unkn_df['dateend']>= 1950)).sum()\n",
    "total = recent_women + recent_men + recent_unknown\n",
    "print(f\"From objects made between 1975-2000 {round(recent_women/total *100,2)} percent were attributed to women while \\\n",
    "{round(recent_men/total *100,2)} percent were attributed to men and {round(recent_unknown/total *100,2)} percent were unknown.\")"
   ]
  },
  {
   "cell_type": "markdown",
   "id": "612cafcb-ae38-48aa-83ef-b9575850ae44",
   "metadata": {},
   "source": [
    "## Dramatic Increase in proportion of female-attributed items\n",
    "Beginning in the year 2010 the percentage of objects collected attributed to men have begun to decrease while the percentage attributed to women had increased. This shift is dramatic. Near 2018 the percentage of female attributed objects overtook the male reaching a ratio as high as 100:1 in the last few years."
   ]
  },
  {
   "cell_type": "code",
   "execution_count": null,
   "id": "17d6bf96-78a4-4ffa-a528-2f3110beb6bd",
   "metadata": {},
   "outputs": [],
   "source": [
    "sns.histplot(data=unkn_df, x='dateend', kde=True, color=\"skyblue\", label = \"unknown object created\", bins = 200)\n",
    "sns.histplot(data=male_only_df, x='dateend', kde=True, color = 'yellow', label = \"male object created\", bins = 120)\n",
    "sns.histplot(data=fem_only_df, x='dateend', kde=True, color = 'red', label = \"fem object created\", bins = 100)\n",
    "plt.title('Distribution of Years When Female Attributed Objects Were Dated')\n",
    "plt.xlim(1000, 2050)\n",
    "plt.ylim(0, 8000)\n",
    "plt.xlabel('Year')\n",
    "plt.ylabel('Frequency')\n",
    "plt.legend(loc='upper left')\n",
    "plt.grid(True)\n",
    "plt.show()"
   ]
  },
  {
   "cell_type": "markdown",
   "id": "eb0a4c02-910d-4959-8884-ad0779560dc1",
   "metadata": {},
   "source": [
    "## Looking at how people are represented in the'person' field. Who is left out?"
   ]
  },
  {
   "cell_type": "code",
   "execution_count": 162,
   "id": "f845a404-cf02-47e1-a794-7ef29b0238c7",
   "metadata": {
    "scrolled": true
   },
   "outputs": [
    {
     "name": "stdout",
     "output_type": "stream",
     "text": [
      "classification\n",
      "Photographs                   82939\n",
      "Prints                        69151\n",
      "Drawings                      31055\n",
      "Coins                         18055\n",
      "Archival Material              8498\n",
      "Paintings                      5932\n",
      "Vessels                        5052\n",
      "Sculpture                      4734\n",
      "Fragments                      3864\n",
      "Manuscripts                    1910\n",
      "Textile Arts                   1839\n",
      "Straus Materials               1116\n",
      "Artists' Tools                 1077\n",
      "Multiples                       907\n",
      "Ritual Implements               901\n",
      "Tools and Equipment             787\n",
      "Seals                           724\n",
      "Jewelry                         723\n",
      "Medals and Medallions           574\n",
      "Calligraphy                     534\n",
      "Architectural Elements          526\n",
      "Books                           489\n",
      "Lighting Devices                472\n",
      "Albums                          408\n",
      "Plaques                         375\n",
      "Furniture                       247\n",
      "Rubbings                        242\n",
      "Artists' Materials              231\n",
      "Boxes                           224\n",
      "Gems                            220\n",
      "Weapons and Ammunition          188\n",
      "Material Specimens              184\n",
      "Timepieces                      145\n",
      "Mirrors                         140\n",
      "Audiovisual Works               119\n",
      "Amulets                         116\n",
      "Paintings with Calligraphy      100\n",
      "Tokens                           79\n",
      "Mosaics                          76\n",
      "Measuring Devices                71\n",
      "Recreational Artifacts           71\n",
      "Riding Equipment                 62\n",
      "Brick Stamps                     58\n",
      "Furnishings                      52\n",
      "Stained Glass                    52\n",
      "Inscriptions                     51\n",
      "Tablets                          46\n",
      "Cameos                           44\n",
      "Armor                            43\n",
      "Accessories (non-art)            27\n",
      "Portfolios                       26\n",
      "Musical Instruments              24\n",
      "Performance Artifacts            17\n",
      "Graphic Design                   16\n",
      "Models                           11\n",
      "Unidentified                      7\n",
      "(not assigned)                    5\n",
      "Documents                         1\n",
      "Paintings with Text               1\n",
      "Text                              1\n",
      "Name: count, dtype: int64\n"
     ]
    }
   ],
   "source": [
    "print(df['classification'].value_counts())\n",
    "df = df[~df['classification'].isin(['Straus Materials', \"Artists' Tools\"])]"
   ]
  },
  {
   "cell_type": "code",
   "execution_count": 170,
   "id": "f8f61d74-c583-4d15-b8d0-295ef58aaaa0",
   "metadata": {
    "scrolled": true
   },
   "outputs": [
    {
     "name": "stdout",
     "output_type": "stream",
     "text": [
      "There are 30263 records with no people attributed to them.\n"
     ]
    },
    {
     "data": {
      "text/html": [
       "<img src=\"https://nrs.harvard.edu/urn-3:HUAM:779611\" width=\"300\"/>"
      ],
      "text/plain": [
       "<IPython.core.display.Image object>"
      ]
     },
     "metadata": {},
     "output_type": "display_data"
    },
    {
     "name": "stdout",
     "output_type": "stream",
     "text": [
      "Oil flask (aryballos) with the heads of a Black African and an Egyptian\n",
      "6\n",
      "Greek\n"
     ]
    },
    {
     "data": {
      "text/html": [
       "<img src=\"https://nrs.harvard.edu/urn-3:HUAM:LEG251435_dynmc\" width=\"300\"/>"
      ],
      "text/plain": [
       "<IPython.core.display.Image object>"
      ]
     },
     "metadata": {},
     "output_type": "display_data"
    },
    {
     "name": "stdout",
     "output_type": "stream",
     "text": [
      "Lamp\n",
      "200\n",
      "Roman\n"
     ]
    },
    {
     "data": {
      "text/html": [
       "<img src=\"https://nrs.harvard.edu/urn-3:HUAM:LEG251457_dynmc\" width=\"300\"/>"
      ],
      "text/plain": [
       "<IPython.core.display.Image object>"
      ]
     },
     "metadata": {},
     "output_type": "display_data"
    },
    {
     "name": "stdout",
     "output_type": "stream",
     "text": [
      "Probe\n",
      "300\n",
      "Roman\n"
     ]
    },
    {
     "data": {
      "text/html": [
       "<img src=\"https://nrs.harvard.edu/urn-3:HUAM:LEG251458_dynmc\" width=\"300\"/>"
      ],
      "text/plain": [
       "<IPython.core.display.Image object>"
      ]
     },
     "metadata": {},
     "output_type": "display_data"
    },
    {
     "name": "stdout",
     "output_type": "stream",
     "text": [
      "Pin with Decorative Comb Finial\n",
      "500\n",
      "Roman\n"
     ]
    },
    {
     "data": {
      "text/html": [
       "<img src=\"https://nrs.harvard.edu/urn-3:HUAM:LEG251453_dynmc\" width=\"300\"/>"
      ],
      "text/plain": [
       "<IPython.core.display.Image object>"
      ]
     },
     "metadata": {},
     "output_type": "display_data"
    },
    {
     "name": "stdout",
     "output_type": "stream",
     "text": [
      "Spoon\n",
      "1300\n",
      "Unidentified culture\n"
     ]
    },
    {
     "data": {
      "text/html": [
       "<img src=\"https://nrs.harvard.edu/urn-3:HUAM:COIN14212_dlvr\" width=\"300\"/>"
      ],
      "text/plain": [
       "<IPython.core.display.Image object>"
      ]
     },
     "metadata": {},
     "output_type": "display_data"
    },
    {
     "name": "stdout",
     "output_type": "stream",
     "text": [
      "Coin of Perge\n",
      "0\n",
      "Roman Provincial\n"
     ]
    },
    {
     "data": {
      "text/html": [
       "<img src=\"https://nrs.harvard.edu/urn-3:HUAM:COIN14221_dlvr\" width=\"300\"/>"
      ],
      "text/plain": [
       "<IPython.core.display.Image object>"
      ]
     },
     "metadata": {},
     "output_type": "display_data"
    },
    {
     "name": "stdout",
     "output_type": "stream",
     "text": [
      "Coin of Perge\n",
      "0\n",
      "Roman Provincial\n"
     ]
    },
    {
     "data": {
      "text/html": [
       "<img src=\"https://nrs.harvard.edu/urn-3:HUAM:COIN14222_dlvr\" width=\"300\"/>"
      ],
      "text/plain": [
       "<IPython.core.display.Image object>"
      ]
     },
     "metadata": {},
     "output_type": "display_data"
    },
    {
     "name": "stdout",
     "output_type": "stream",
     "text": [
      "Coin of Perge\n",
      "0\n",
      "Roman Provincial\n"
     ]
    },
    {
     "data": {
      "text/html": [
       "<img src=\"https://nrs.harvard.edu/urn-3:HUAM:COIN14208_dlvr\" width=\"300\"/>"
      ],
      "text/plain": [
       "<IPython.core.display.Image object>"
      ]
     },
     "metadata": {},
     "output_type": "display_data"
    },
    {
     "name": "stdout",
     "output_type": "stream",
     "text": [
      "Coin of Perge\n",
      "0\n",
      "Roman Provincial\n"
     ]
    },
    {
     "data": {
      "text/html": [
       "<img src=\"https://nrs.harvard.edu/urn-3:HUAM:COIN14241_dlvr\" width=\"300\"/>"
      ],
      "text/plain": [
       "<IPython.core.display.Image object>"
      ]
     },
     "metadata": {},
     "output_type": "display_data"
    },
    {
     "name": "stdout",
     "output_type": "stream",
     "text": [
      "Coin of Perge\n",
      "0\n",
      "Roman Provincial\n"
     ]
    },
    {
     "data": {
      "text/html": [
       "<img src=\"https://nrs.harvard.edu/urn-3:HUAM:CARP11944_dynmc\" width=\"300\"/>"
      ],
      "text/plain": [
       "<IPython.core.display.Image object>"
      ]
     },
     "metadata": {},
     "output_type": "display_data"
    },
    {
     "name": "stdout",
     "output_type": "stream",
     "text": [
      "Reproduction of a Classical Head possibly Zeus or Aesclepius\n",
      "0\n",
      "nan\n"
     ]
    },
    {
     "data": {
      "text/html": [
       "<img src=\"https://nrs.harvard.edu/urn-3:HUAM:INV044093_dynmc\" width=\"300\"/>"
      ],
      "text/plain": [
       "<IPython.core.display.Image object>"
      ]
     },
     "metadata": {},
     "output_type": "display_data"
    },
    {
     "name": "stdout",
     "output_type": "stream",
     "text": [
      "Brick Stamp of P. Servilius Fortunatus\n",
      "150\n",
      "Roman\n"
     ]
    },
    {
     "data": {
      "text/html": [
       "<img src=\"https://nrs.harvard.edu/urn-3:HUAM:COIN14209_dlvr\" width=\"300\"/>"
      ],
      "text/plain": [
       "<IPython.core.display.Image object>"
      ]
     },
     "metadata": {},
     "output_type": "display_data"
    },
    {
     "name": "stdout",
     "output_type": "stream",
     "text": [
      "Coin of Perge\n",
      "0\n",
      "Roman Provincial\n"
     ]
    },
    {
     "data": {
      "text/html": [
       "<img src=\"https://nrs.harvard.edu/urn-3:HUAM:COIN14210_dlvr\" width=\"300\"/>"
      ],
      "text/plain": [
       "<IPython.core.display.Image object>"
      ]
     },
     "metadata": {},
     "output_type": "display_data"
    },
    {
     "name": "stdout",
     "output_type": "stream",
     "text": [
      "Coin of Perge\n",
      "0\n",
      "Roman Provincial\n"
     ]
    },
    {
     "data": {
      "text/html": [
       "<img src=\"https://nrs.harvard.edu/urn-3:HUAM:COIN14213_dlvr\" width=\"300\"/>"
      ],
      "text/plain": [
       "<IPython.core.display.Image object>"
      ]
     },
     "metadata": {},
     "output_type": "display_data"
    },
    {
     "name": "stdout",
     "output_type": "stream",
     "text": [
      "Coin of Perge\n",
      "0\n",
      "Roman Provincial\n"
     ]
    },
    {
     "data": {
      "text/html": [
       "<img src=\"https://nrs.harvard.edu/urn-3:HUAM:COIN14217_dlvr\" width=\"300\"/>"
      ],
      "text/plain": [
       "<IPython.core.display.Image object>"
      ]
     },
     "metadata": {},
     "output_type": "display_data"
    },
    {
     "name": "stdout",
     "output_type": "stream",
     "text": [
      "Coin of Perge\n",
      "0\n",
      "Roman Provincial\n"
     ]
    },
    {
     "data": {
      "text/html": [
       "<img src=\"https://nrs.harvard.edu/urn-3:HUAM:COIN14218_dlvr\" width=\"300\"/>"
      ],
      "text/plain": [
       "<IPython.core.display.Image object>"
      ]
     },
     "metadata": {},
     "output_type": "display_data"
    },
    {
     "name": "stdout",
     "output_type": "stream",
     "text": [
      "Coin of Perge\n",
      "0\n",
      "Roman Provincial\n"
     ]
    },
    {
     "data": {
      "text/html": [
       "<img src=\"https://nrs.harvard.edu/urn-3:HUAM:LEG251456_dynmc\" width=\"300\"/>"
      ],
      "text/plain": [
       "<IPython.core.display.Image object>"
      ]
     },
     "metadata": {},
     "output_type": "display_data"
    },
    {
     "name": "stdout",
     "output_type": "stream",
     "text": [
      "Spatula\n",
      "400\n",
      "Roman\n"
     ]
    },
    {
     "data": {
      "text/html": [
       "<img src=\"https://nrs.harvard.edu/urn-3:HUAM:COIN14223_dlvr\" width=\"300\"/>"
      ],
      "text/plain": [
       "<IPython.core.display.Image object>"
      ]
     },
     "metadata": {},
     "output_type": "display_data"
    },
    {
     "name": "stdout",
     "output_type": "stream",
     "text": [
      "Coin of Perge\n",
      "0\n",
      "Roman Provincial\n"
     ]
    },
    {
     "data": {
      "text/html": [
       "<img src=\"https://nrs.harvard.edu/urn-3:HUAM:COIN14224_dlvr\" width=\"300\"/>"
      ],
      "text/plain": [
       "<IPython.core.display.Image object>"
      ]
     },
     "metadata": {},
     "output_type": "display_data"
    },
    {
     "name": "stdout",
     "output_type": "stream",
     "text": [
      "Coin of Perge\n",
      "0\n",
      "Roman Provincial\n"
     ]
    },
    {
     "data": {
      "text/html": [
       "<img src=\"https://nrs.harvard.edu/urn-3:HUAM:CARP11943_dynmc\" width=\"300\"/>"
      ],
      "text/plain": [
       "<IPython.core.display.Image object>"
      ]
     },
     "metadata": {},
     "output_type": "display_data"
    },
    {
     "name": "stdout",
     "output_type": "stream",
     "text": [
      "Cylindrical container depicting the Battle of Greeks and Amazons in a Classical style\n",
      "1900\n",
      "nan\n"
     ]
    },
    {
     "data": {
      "text/html": [
       "<img src=\"https://nrs.harvard.edu/urn-3:HUAM:COIN14100_dlvr\" width=\"300\"/>"
      ],
      "text/plain": [
       "<IPython.core.display.Image object>"
      ]
     },
     "metadata": {},
     "output_type": "display_data"
    },
    {
     "name": "stdout",
     "output_type": "stream",
     "text": [
      "Coin of Aspendos\n",
      "0\n",
      "Roman Provincial\n"
     ]
    },
    {
     "data": {
      "text/html": [
       "<img src=\"https://nrs.harvard.edu/urn-3:HUAM:COIN14102_dlvr\" width=\"300\"/>"
      ],
      "text/plain": [
       "<IPython.core.display.Image object>"
      ]
     },
     "metadata": {},
     "output_type": "display_data"
    },
    {
     "name": "stdout",
     "output_type": "stream",
     "text": [
      "Coin of Perge\n",
      "0\n",
      "Roman Provincial\n"
     ]
    },
    {
     "data": {
      "text/html": [
       "<img src=\"https://nrs.harvard.edu/urn-3:HUAM:COIN14103_dlvr\" width=\"300\"/>"
      ],
      "text/plain": [
       "<IPython.core.display.Image object>"
      ]
     },
     "metadata": {},
     "output_type": "display_data"
    },
    {
     "name": "stdout",
     "output_type": "stream",
     "text": [
      "Coin of Perge\n",
      "0\n",
      "Roman Provincial\n"
     ]
    },
    {
     "data": {
      "text/html": [
       "<img src=\"https://nrs.harvard.edu/urn-3:HUAM:COIN14105_dlvr\" width=\"300\"/>"
      ],
      "text/plain": [
       "<IPython.core.display.Image object>"
      ]
     },
     "metadata": {},
     "output_type": "display_data"
    },
    {
     "name": "stdout",
     "output_type": "stream",
     "text": [
      "Coin of Perge\n",
      "0\n",
      "Roman Provincial\n"
     ]
    },
    {
     "data": {
      "text/html": [
       "<img src=\"https://nrs.harvard.edu/urn-3:HUAM:COIN14106_dlvr\" width=\"300\"/>"
      ],
      "text/plain": [
       "<IPython.core.display.Image object>"
      ]
     },
     "metadata": {},
     "output_type": "display_data"
    },
    {
     "name": "stdout",
     "output_type": "stream",
     "text": [
      "Coin of Perge\n",
      "0\n",
      "Roman Provincial\n"
     ]
    },
    {
     "data": {
      "text/html": [
       "<img src=\"https://nrs.harvard.edu/urn-3:HUAM:LEG251446_dynmc\" width=\"300\"/>"
      ],
      "text/plain": [
       "<IPython.core.display.Image object>"
      ]
     },
     "metadata": {},
     "output_type": "display_data"
    },
    {
     "name": "stdout",
     "output_type": "stream",
     "text": [
      "Knucklebone\n",
      "-1\n",
      "Graeco-Roman\n"
     ]
    },
    {
     "data": {
      "text/html": [
       "<img src=\"https://nrs.harvard.edu/urn-3:HUAM:COIN14189_dlvr\" width=\"300\"/>"
      ],
      "text/plain": [
       "<IPython.core.display.Image object>"
      ]
     },
     "metadata": {},
     "output_type": "display_data"
    },
    {
     "name": "stdout",
     "output_type": "stream",
     "text": [
      "Coin of Perge?\n",
      "0\n",
      "Roman Provincial\n"
     ]
    },
    {
     "data": {
      "text/html": [
       "<img src=\"https://nrs.harvard.edu/urn-3:HUAM:COIN15761_dlvr\" width=\"300\"/>"
      ],
      "text/plain": [
       "<IPython.core.display.Image object>"
      ]
     },
     "metadata": {},
     "output_type": "display_data"
    },
    {
     "name": "stdout",
     "output_type": "stream",
     "text": [
      "Coin\n",
      "0\n",
      "nan\n"
     ]
    },
    {
     "data": {
      "text/html": [
       "<img src=\"https://nrs.harvard.edu/urn-3:HUAM:CARP02101_dynmc\" width=\"300\"/>"
      ],
      "text/plain": [
       "<IPython.core.display.Image object>"
      ]
     },
     "metadata": {},
     "output_type": "display_data"
    },
    {
     "name": "stdout",
     "output_type": "stream",
     "text": [
      "Folio from a Qur'an: Sura 50: 24-39 (recto), Sura 50: 39-45 and Sura 51: 1-12 (verso)\n",
      "1700\n",
      "Persian\n"
     ]
    }
   ],
   "source": [
    "\n",
    "no_df = df[df['peoplecount'] ==0]\n",
    "print(f\"There are {no_df.shape[0]} records with no people attributed to them.\")\n",
    "for index, row in no_df[:30].iterrows():\n",
    "    if not pd.isna(row['primaryimageurl']):\n",
    "        image_path = row['primaryimageurl']\n",
    "        display(Image(url = image_path, width = 300))\n",
    "        print(row['title'])\n",
    "        print(row['dateend'])\n",
    "        print(row['culture'])\n"
   ]
  },
  {
   "cell_type": "markdown",
   "id": "77a324b0-6cac-4c26-93f4-0d8f7ba01925",
   "metadata": {},
   "source": [
    "## Here we notice that most of the objects are from antiquity, which is why there is not an artist attributed."
   ]
  },
  {
   "cell_type": "code",
   "execution_count": 174,
   "id": "6b77ef32-18b3-453a-9d72-033c73ebeac9",
   "metadata": {
    "scrolled": true
   },
   "outputs": [
    {
     "name": "stdout",
     "output_type": "stream",
     "text": [
      "There are 1047 records after 1900 with no people attributed to them.\n"
     ]
    },
    {
     "data": {
      "text/html": [
       "<img src=\"https://nrs.harvard.edu/urn-3:huam:STR007018_dynmc\" width=\"300\"/>"
      ],
      "text/plain": [
       "<IPython.core.display.Image object>"
      ]
     },
     "metadata": {},
     "output_type": "display_data"
    },
    {
     "name": "stdout",
     "output_type": "stream",
     "text": [
      "X-radiograph(s) of \"Portrait of Unknown Judge\"\n",
      "1960\n",
      "nan\n",
      "Photographs\n"
     ]
    },
    {
     "data": {
      "text/html": [
       "<img src=\"https://nrs.harvard.edu/urn-3:huam:STR007161_dynmc\" width=\"300\"/>"
      ],
      "text/plain": [
       "<IPython.core.display.Image object>"
      ]
     },
     "metadata": {},
     "output_type": "display_data"
    },
    {
     "name": "stdout",
     "output_type": "stream",
     "text": [
      "X-radiograph(s) of \"Dutch Palette\"\n",
      "1966\n",
      "nan\n",
      "Photographs\n"
     ]
    },
    {
     "data": {
      "text/html": [
       "<img src=\"https://nrs.harvard.edu/urn-3:huam:STR007209_dynmc\" width=\"300\"/>"
      ],
      "text/plain": [
       "<IPython.core.display.Image object>"
      ]
     },
     "metadata": {},
     "output_type": "display_data"
    },
    {
     "name": "stdout",
     "output_type": "stream",
     "text": [
      "X-radiograph(s) of \"Portrait of a Dutch Lady\"\n",
      "1967\n",
      "nan\n",
      "Photographs\n"
     ]
    },
    {
     "data": {
      "text/html": [
       "<img src=\"https://nrs.harvard.edu/urn-3:huam:STR007283_dynmc\" width=\"300\"/>"
      ],
      "text/plain": [
       "<IPython.core.display.Image object>"
      ]
     },
     "metadata": {},
     "output_type": "display_data"
    },
    {
     "name": "stdout",
     "output_type": "stream",
     "text": [
      "X-radiograph(s) of \"Portrait of Timothy Thompson\"\n",
      "1968\n",
      "nan\n",
      "Photographs\n"
     ]
    },
    {
     "data": {
      "text/html": [
       "<img src=\"https://nrs.harvard.edu/urn-3:huam:STR007430_dynmc\" width=\"300\"/>"
      ],
      "text/plain": [
       "<IPython.core.display.Image object>"
      ]
     },
     "metadata": {},
     "output_type": "display_data"
    },
    {
     "name": "stdout",
     "output_type": "stream",
     "text": [
      "X-radiograph(s) of \"Bronzes Experiment\"\n",
      "1971\n",
      "nan\n",
      "Photographs\n"
     ]
    },
    {
     "data": {
      "text/html": [
       "<img src=\"https://nrs.harvard.edu/urn-3:huam:STR007491_dynmc\" width=\"300\"/>"
      ],
      "text/plain": [
       "<IPython.core.display.Image object>"
      ]
     },
     "metadata": {},
     "output_type": "display_data"
    },
    {
     "name": "stdout",
     "output_type": "stream",
     "text": [
      "X-radiograph(s) of \"Russian Icon\"\n",
      "1971\n",
      "nan\n",
      "Photographs\n"
     ]
    },
    {
     "data": {
      "text/html": [
       "<img src=\"https://nrs.harvard.edu/urn-3:huam:STR007540_dynmc\" width=\"300\"/>"
      ],
      "text/plain": [
       "<IPython.core.display.Image object>"
      ]
     },
     "metadata": {},
     "output_type": "display_data"
    },
    {
     "name": "stdout",
     "output_type": "stream",
     "text": [
      "X-radiograph(s) of \"Panel\"\n",
      "1972\n",
      "nan\n",
      "Photographs\n"
     ]
    },
    {
     "data": {
      "text/html": [
       "<img src=\"https://nrs.harvard.edu/urn-3:huam:STR007554_dynmc\" width=\"300\"/>"
      ],
      "text/plain": [
       "<IPython.core.display.Image object>"
      ]
     },
     "metadata": {},
     "output_type": "display_data"
    },
    {
     "name": "stdout",
     "output_type": "stream",
     "text": [
      "X-radiograph(s) of \"Figures in Landscape\"\n",
      "1972\n",
      "nan\n",
      "Photographs\n"
     ]
    },
    {
     "data": {
      "text/html": [
       "<img src=\"https://nrs.harvard.edu/urn-3:huam:STR007925_dynmc\" width=\"300\"/>"
      ],
      "text/plain": [
       "<IPython.core.display.Image object>"
      ]
     },
     "metadata": {},
     "output_type": "display_data"
    },
    {
     "name": "stdout",
     "output_type": "stream",
     "text": [
      "X-radiograph(s) of \"Altarpiece\"\n",
      "1979\n",
      "nan\n",
      "Photographs\n"
     ]
    },
    {
     "data": {
      "text/html": [
       "<img src=\"https://nrs.harvard.edu/urn-3:huam:STR007950_dynmc\" width=\"300\"/>"
      ],
      "text/plain": [
       "<IPython.core.display.Image object>"
      ]
     },
     "metadata": {},
     "output_type": "display_data"
    },
    {
     "name": "stdout",
     "output_type": "stream",
     "text": [
      "X-radiograph(s) of \"Crucifix\"\n",
      "1981\n",
      "nan\n",
      "Photographs\n"
     ]
    },
    {
     "data": {
      "text/html": [
       "<img src=\"https://nrs.harvard.edu/urn-3:huam:STR011918_dynmc\" width=\"300\"/>"
      ],
      "text/plain": [
       "<IPython.core.display.Image object>"
      ]
     },
     "metadata": {},
     "output_type": "display_data"
    },
    {
     "name": "stdout",
     "output_type": "stream",
     "text": [
      "X-radiograph(s) of \"Portrait of Sir George Downing\"\n",
      "1981\n",
      "nan\n",
      "Photographs\n"
     ]
    },
    {
     "data": {
      "text/html": [
       "<img src=\"https://nrs.harvard.edu/urn-3:huam:STR008165_dynmc\" width=\"300\"/>"
      ],
      "text/plain": [
       "<IPython.core.display.Image object>"
      ]
     },
     "metadata": {},
     "output_type": "display_data"
    },
    {
     "name": "stdout",
     "output_type": "stream",
     "text": [
      "X-radiograph(s) of \"Nativity\"\n",
      "1984\n",
      "nan\n",
      "Photographs\n"
     ]
    },
    {
     "data": {
      "text/html": [
       "<img src=\"https://nrs.harvard.edu/urn-3:huam:STR008193_dynmc\" width=\"300\"/>"
      ],
      "text/plain": [
       "<IPython.core.display.Image object>"
      ]
     },
     "metadata": {},
     "output_type": "display_data"
    },
    {
     "name": "stdout",
     "output_type": "stream",
     "text": [
      "X-radiograph(s) of \"Chinese Scroll\"\n",
      "1985\n",
      "nan\n",
      "Photographs\n"
     ]
    },
    {
     "data": {
      "text/html": [
       "<img src=\"https://nrs.harvard.edu/urn-3:huam:STR008210_dynmc\" width=\"300\"/>"
      ],
      "text/plain": [
       "<IPython.core.display.Image object>"
      ]
     },
     "metadata": {},
     "output_type": "display_data"
    },
    {
     "name": "stdout",
     "output_type": "stream",
     "text": [
      "X-radiograph(s) of \"Profile Portrait Head\"\n",
      "1986\n",
      "nan\n",
      "Photographs\n"
     ]
    },
    {
     "data": {
      "text/html": [
       "<img src=\"https://nrs.harvard.edu/urn-3:huam:STR008211_dynmc\" width=\"300\"/>"
      ],
      "text/plain": [
       "<IPython.core.display.Image object>"
      ]
     },
     "metadata": {},
     "output_type": "display_data"
    },
    {
     "name": "stdout",
     "output_type": "stream",
     "text": [
      "X-radiograph(s) of \"Franklin House Wall Panel\"\n",
      "1986\n",
      "nan\n",
      "Photographs\n"
     ]
    },
    {
     "data": {
      "text/html": [
       "<img src=\"https://nrs.harvard.edu/urn-3:huam:STR008294_dynmc\" width=\"300\"/>"
      ],
      "text/plain": [
       "<IPython.core.display.Image object>"
      ]
     },
     "metadata": {},
     "output_type": "display_data"
    },
    {
     "name": "stdout",
     "output_type": "stream",
     "text": [
      "X-radiograph(s) of \"St. Barbara\"\n",
      "1988\n",
      "nan\n",
      "Photographs\n"
     ]
    },
    {
     "data": {
      "text/html": [
       "<img src=\"https://nrs.harvard.edu/urn-3:huam:STR008574_dynmc\" width=\"300\"/>"
      ],
      "text/plain": [
       "<IPython.core.display.Image object>"
      ]
     },
     "metadata": {},
     "output_type": "display_data"
    },
    {
     "name": "stdout",
     "output_type": "stream",
     "text": [
      "X-radiograph(s) of \"Vice Admiral Samuel Hood Linzee (1773-1820)\"\n",
      "1991\n",
      "nan\n",
      "Photographs\n"
     ]
    },
    {
     "data": {
      "text/html": [
       "<img src=\"https://nrs.harvard.edu/urn-3:huam:STR008577_dynmc\" width=\"300\"/>"
      ],
      "text/plain": [
       "<IPython.core.display.Image object>"
      ]
     },
     "metadata": {},
     "output_type": "display_data"
    },
    {
     "name": "stdout",
     "output_type": "stream",
     "text": [
      "X-radiograph(s) of \"Portrait of C.T. Wells\"\n",
      "1991\n",
      "nan\n",
      "Photographs\n"
     ]
    },
    {
     "data": {
      "text/html": [
       "<img src=\"https://nrs.harvard.edu/urn-3:huam:STR008799_dynmc\" width=\"300\"/>"
      ],
      "text/plain": [
       "<IPython.core.display.Image object>"
      ]
     },
     "metadata": {},
     "output_type": "display_data"
    },
    {
     "name": "stdout",
     "output_type": "stream",
     "text": [
      "X-radiograph(s) of \"Madonna and Child and Sts. Catherine and Barbara\"\n",
      "1995\n",
      "nan\n",
      "Photographs\n"
     ]
    },
    {
     "data": {
      "text/html": [
       "<img src=\"https://nrs.harvard.edu/urn-3:huam:STR008840_dynmc\" width=\"300\"/>"
      ],
      "text/plain": [
       "<IPython.core.display.Image object>"
      ]
     },
     "metadata": {},
     "output_type": "display_data"
    },
    {
     "name": "stdout",
     "output_type": "stream",
     "text": [
      "X-radiograph(s)\n",
      "1995\n",
      "nan\n",
      "Photographs\n"
     ]
    },
    {
     "data": {
      "text/html": [
       "<img src=\"https://nrs.harvard.edu/urn-3:huam:STR009859_dynmc\" width=\"300\"/>"
      ],
      "text/plain": [
       "<IPython.core.display.Image object>"
      ]
     },
     "metadata": {},
     "output_type": "display_data"
    },
    {
     "name": "stdout",
     "output_type": "stream",
     "text": [
      "X-radiograph(s) of \"Annunciation\"\n",
      "2004\n",
      "nan\n",
      "Photographs\n"
     ]
    },
    {
     "data": {
      "text/html": [
       "<img src=\"https://nrs.harvard.edu/urn-3:huam:STR009901_dynmc\" width=\"300\"/>"
      ],
      "text/plain": [
       "<IPython.core.display.Image object>"
      ]
     },
     "metadata": {},
     "output_type": "display_data"
    },
    {
     "name": "stdout",
     "output_type": "stream",
     "text": [
      "X-radiograph(s) of \"Orpheus and Eurydice\"\n",
      "2005\n",
      "nan\n",
      "Photographs\n"
     ]
    },
    {
     "data": {
      "text/html": [
       "<img src=\"https://nrs.harvard.edu/urn-3:huam:STR009907_dynmc\" width=\"300\"/>"
      ],
      "text/plain": [
       "<IPython.core.display.Image object>"
      ]
     },
     "metadata": {},
     "output_type": "display_data"
    },
    {
     "name": "stdout",
     "output_type": "stream",
     "text": [
      "X-radiograph(s) of \"Portrait of Abraham Lincoln\"\n",
      "2005\n",
      "nan\n",
      "Photographs\n"
     ]
    },
    {
     "data": {
      "text/html": [
       "<img src=\"https://nrs.harvard.edu/urn-3:huam:STR010054_dynmc\" width=\"300\"/>"
      ],
      "text/plain": [
       "<IPython.core.display.Image object>"
      ]
     },
     "metadata": {},
     "output_type": "display_data"
    },
    {
     "name": "stdout",
     "output_type": "stream",
     "text": [
      "X-radiograph(s) of \"Annunciation to the Madonna of her Approaching Death\"\n",
      "2007\n",
      "nan\n",
      "Photographs\n"
     ]
    },
    {
     "data": {
      "text/html": [
       "<img src=\"https://nrs.harvard.edu/urn-3:huam:STR010064_dynmc\" width=\"300\"/>"
      ],
      "text/plain": [
       "<IPython.core.display.Image object>"
      ]
     },
     "metadata": {},
     "output_type": "display_data"
    },
    {
     "name": "stdout",
     "output_type": "stream",
     "text": [
      "X-radiograph(s) of \"The Virgin Borne to the Sepulchre and small fragment\"\n",
      "2007\n",
      "nan\n",
      "Photographs\n"
     ]
    },
    {
     "data": {
      "text/html": [
       "<img src=\"https://nrs.harvard.edu/urn-3:huam:STR010713_dynmc\" width=\"300\"/>"
      ],
      "text/plain": [
       "<IPython.core.display.Image object>"
      ]
     },
     "metadata": {},
     "output_type": "display_data"
    },
    {
     "name": "stdout",
     "output_type": "stream",
     "text": [
      "X-radiograph(s) of \"Agony in the Garden\"\n",
      "1998\n",
      "nan\n",
      "Photographs\n"
     ]
    },
    {
     "data": {
      "text/html": [
       "<img src=\"https://nrs.harvard.edu/urn-3:HUAM:VRS48516\" width=\"300\"/>"
      ],
      "text/plain": [
       "<IPython.core.display.Image object>"
      ]
     },
     "metadata": {},
     "output_type": "display_data"
    },
    {
     "name": "stdout",
     "output_type": "stream",
     "text": [
      "Prayer Wheel\n",
      "1933\n",
      "Tibetan\n",
      "Ritual Implements\n"
     ]
    },
    {
     "data": {
      "text/html": [
       "<img src=\"https://nrs.harvard.edu/urn-3:huam:STR012102_dynmc\" width=\"300\"/>"
      ],
      "text/plain": [
       "<IPython.core.display.Image object>"
      ]
     },
     "metadata": {},
     "output_type": "display_data"
    },
    {
     "name": "stdout",
     "output_type": "stream",
     "text": [
      "X-radiograph(s) of \"Seated Lion\"\n",
      "2012\n",
      "nan\n",
      "Photographs\n"
     ]
    },
    {
     "data": {
      "text/html": [
       "<img src=\"https://nrs.harvard.edu/urn-3:HUAM:758154\" width=\"300\"/>"
      ],
      "text/plain": [
       "<IPython.core.display.Image object>"
      ]
     },
     "metadata": {},
     "output_type": "display_data"
    },
    {
     "name": "stdout",
     "output_type": "stream",
     "text": [
      "Books and Scholars' Accoutrements (Ch’aekkŏri)\n",
      "1940\n",
      "Korean\n",
      "Paintings\n"
     ]
    },
    {
     "data": {
      "text/html": [
       "<img src=\"https://nrs.harvard.edu/urn-3:HUAM:760127\" width=\"300\"/>"
      ],
      "text/plain": [
       "<IPython.core.display.Image object>"
      ]
     },
     "metadata": {},
     "output_type": "display_data"
    },
    {
     "name": "stdout",
     "output_type": "stream",
     "text": [
      "Mirror Case with Women Entertained on a Terrace\n",
      "1905\n",
      "nan\n",
      "Mirrors\n"
     ]
    },
    {
     "data": {
      "text/html": [
       "<img src=\"https://nrs.harvard.edu/urn-3:HUAM:760311\" width=\"300\"/>"
      ],
      "text/plain": [
       "<IPython.core.display.Image object>"
      ]
     },
     "metadata": {},
     "output_type": "display_data"
    },
    {
     "name": "stdout",
     "output_type": "stream",
     "text": [
      "An Album of Persian Paintings and Drawings\n",
      "1905\n",
      "Persian\n",
      "Albums\n"
     ]
    },
    {
     "data": {
      "text/html": [
       "<img src=\"https://nrs.harvard.edu/urn-3:HUAM:759324\" width=\"300\"/>"
      ],
      "text/plain": [
       "<IPython.core.display.Image object>"
      ]
     },
     "metadata": {},
     "output_type": "display_data"
    },
    {
     "name": "stdout",
     "output_type": "stream",
     "text": [
      "Manuscript of the Risala-yi Hummiyat (Treatise on Fevers) by Abu al-Qasim al-Na’ini al-Isfahani\n",
      "1901\n",
      "Persian\n",
      "Manuscripts\n"
     ]
    },
    {
     "data": {
      "text/html": [
       "<img src=\"https://nrs.harvard.edu/urn-3:HUAM:STR019869\" width=\"300\"/>"
      ],
      "text/plain": [
       "<IPython.core.display.Image object>"
      ]
     },
     "metadata": {},
     "output_type": "display_data"
    },
    {
     "name": "stdout",
     "output_type": "stream",
     "text": [
      "Ladder\n",
      "2004\n",
      "nan\n",
      "Tools and Equipment\n"
     ]
    },
    {
     "data": {
      "text/html": [
       "<img src=\"https://nrs.harvard.edu/urn-3:HUAM:STR019868\" width=\"300\"/>"
      ],
      "text/plain": [
       "<IPython.core.display.Image object>"
      ]
     },
     "metadata": {},
     "output_type": "display_data"
    },
    {
     "name": "stdout",
     "output_type": "stream",
     "text": [
      "Table\n",
      "2004\n",
      "nan\n",
      "Furniture\n"
     ]
    },
    {
     "data": {
      "text/html": [
       "<img src=\"https://nrs.harvard.edu/urn-3:huam:STR009680_dynmc\" width=\"300\"/>"
      ],
      "text/plain": [
       "<IPython.core.display.Image object>"
      ]
     },
     "metadata": {},
     "output_type": "display_data"
    },
    {
     "name": "stdout",
     "output_type": "stream",
     "text": [
      "X-radiograph(s) of \"Sweetmeat Dish\"\n",
      "2014\n",
      "nan\n",
      "Photographs\n"
     ]
    },
    {
     "data": {
      "text/html": [
       "<img src=\"https://nrs.harvard.edu/urn-3:huam:STR009679_dynmc\" width=\"300\"/>"
      ],
      "text/plain": [
       "<IPython.core.display.Image object>"
      ]
     },
     "metadata": {},
     "output_type": "display_data"
    },
    {
     "name": "stdout",
     "output_type": "stream",
     "text": [
      "X-radiograph(s) of \"Sweetmeat Dish\"\n",
      "2014\n",
      "nan\n",
      "Photographs\n"
     ]
    }
   ],
   "source": [
    "recent_no_df = no_df[no_df['dateend'] > 1900]\n",
    "recent = recent_no_df.shape[0]\n",
    "print(f\"There are {recent} records after 1900 with no people attributed to them.\")\n",
    "\n",
    "for index, row in recent_no_df[50:100].iterrows():\n",
    "    if not pd.isna(row['primaryimageurl']):\n",
    "        image_path = row['primaryimageurl']\n",
    "        display(Image(url = image_path, width = 300))\n",
    "        print(row['title'])\n",
    "        print(row['dateend'])\n",
    "        print(row['culture'])\n",
    "        print(row['classification'])"
   ]
  },
  {
   "cell_type": "markdown",
   "id": "138ca870-cb0b-4061-928d-d43fe446b422",
   "metadata": {},
   "source": [
    "## Types of objects with no 'person' field\n",
    "We encounter predominantly items from antiquity without any artist attributed to them. Moreover, items dated after 1800 are often reproductions of older items or those whose origin is unknown.\n",
    "\n",
    "Now that we’ve narrowed our search for items post-1900, we notice many reproductions of ancient works with limited data, primarily based on cultural context. Some Japanese prints include the artist’s name on the image, but it’s not listed under the artist field. Additionally, there are radiographs that mention the original work but not the name of the radiographer. Furthermore, several Korean prints lack an artist’s name but provide extensive exhibition text.\n"
   ]
  },
  {
   "cell_type": "markdown",
   "id": "c022f483-f832-4a18-88ce-533c6099ad19",
   "metadata": {},
   "source": [
    "## Now we can look through some images that had derogatory key words and see how the person is represented"
   ]
  },
  {
   "cell_type": "code",
   "execution_count": 176,
   "id": "25fd3b8c-11f5-4d79-84ff-ae6737b63a7f",
   "metadata": {},
   "outputs": [
    {
     "data": {
      "text/plain": [
       "(77, 79)"
      ]
     },
     "execution_count": 176,
     "metadata": {},
     "output_type": "execute_result"
    }
   ],
   "source": [
    "ne_df = search_string_in_dataframe(df, 'negro')\n",
    "other_ne_df = ne_df[~ne_df.title.str.contains('Races, Negroes')]\n",
    "other_ne_df = other_ne_df [~other_ne_df .title.str.contains('Social Settlements')]\n",
    "other_ne_df = other_ne_df [~other_ne_df.title.str.contains('Montenegro')]\n",
    "other_ne_df.shape"
   ]
  },
  {
   "cell_type": "code",
   "execution_count": 125,
   "id": "8debeba6-5241-4b5d-b74b-e2cafb77b23d",
   "metadata": {
    "scrolled": true
   },
   "outputs": [
    {
     "name": "stdout",
     "output_type": "stream",
     "text": [
      "There are 2 records with no people attributed to them.\n"
     ]
    },
    {
     "data": {
      "text/html": [
       "<img src=\"https://nrs.harvard.edu/urn-3:HUAM:764262\" width=\"300\"/>"
      ],
      "text/plain": [
       "<IPython.core.display.Image object>"
      ]
     },
     "metadata": {},
     "output_type": "display_data"
    },
    {
     "name": "stdout",
     "output_type": "stream",
     "text": [
      "Negro Mounted Upon a Rearing Horse\n",
      "4\n",
      "[{'role': 'Artist', 'birthplace': 'Hertfordshire, England', 'gender': 'unknown', 'displaydate': '1804 - 1889', 'prefix': None, 'culture': 'British', 'displayname': 'Frederick Tayler', 'alphasort': 'Tayler, Frederick', 'name': 'Frederick Tayler', 'personid': 33175, 'deathplace': None, 'displayorder': 1}, {'role': 'Artist after', 'birthplace': 'Rouen', 'gender': 'male', 'displaydate': '1791 - 1824', 'prefix': 'After', 'culture': 'French', 'displayname': 'After Théodore Géricault', 'alphasort': 'Géricault, Théodore', 'name': 'Théodore Géricault', 'personid': 21958, 'deathplace': 'Paris', 'displayorder': 2}, {'role': 'Printer', 'birthplace': None, 'gender': 'unknown', 'displaydate': 'active 1820 - 1840', 'prefix': 'Printed by', 'culture': 'French', 'displayname': 'Printed by François de Villain', 'alphasort': 'de Villain, François', 'name': 'François de Villain', 'personid': 64190, 'deathplace': None, 'displayorder': 3}, {'role': 'Previous attribution', 'birthplace': None, 'gender': 'unknown', 'displaydate': '19th century', 'prefix': 'Previously attributed to', 'culture': None, 'displayname': 'Previously attributed to ? Jayler', 'alphasort': 'Jayler, ?', 'name': '? Jayler', 'personid': 32672, 'deathplace': None, 'displayorder': 4}]\n"
     ]
    },
    {
     "data": {
      "text/html": [
       "<img src=\"https://nrs.harvard.edu/urn-3:HUAM:INV166981_dynmc\" width=\"300\"/>"
      ],
      "text/plain": [
       "<IPython.core.display.Image object>"
      ]
     },
     "metadata": {},
     "output_type": "display_data"
    },
    {
     "name": "stdout",
     "output_type": "stream",
     "text": [
      "Man in Black\n",
      "1\n",
      "[{'role': 'Artist', 'birthplace': 'Oaxaca Mexico', 'gender': 'male', 'displaydate': '1899 - 1991', 'prefix': None, 'culture': 'Mexican', 'displayname': 'Rufino Tamayo', 'alphasort': 'Tamayo, Rufino', 'name': 'Rufino Tamayo', 'personid': 28960, 'deathplace': 'Mexico City', 'displayorder': 1}]\n"
     ]
    },
    {
     "data": {
      "text/html": [
       "<img src=\"https://nrs.harvard.edu/urn-3:HUAM:INV197823_dynmc\" width=\"300\"/>"
      ],
      "text/plain": [
       "<IPython.core.display.Image object>"
      ]
     },
     "metadata": {},
     "output_type": "display_data"
    },
    {
     "name": "stdout",
     "output_type": "stream",
     "text": [
      "Negropont\n",
      "2\n",
      "[{'role': 'Artist', 'birthplace': None, 'gender': 'male', 'displaydate': '1791 - 1857', 'prefix': None, 'culture': 'British', 'displayname': 'Edward Francis Finden', 'alphasort': 'Finden, Edward Francis', 'name': 'Edward Francis Finden', 'personid': 31998, 'deathplace': None, 'displayorder': 1}, {'role': 'Artist after', 'birthplace': 'London, England', 'gender': 'male', 'displaydate': '1775 - 1851', 'prefix': 'After', 'culture': 'British', 'displayname': 'After Joseph Mallord William Turner', 'alphasort': 'Turner, Joseph Mallord William', 'name': 'Joseph Mallord William Turner', 'personid': 29118, 'deathplace': 'Chelsea, England', 'displayorder': 2}]\n"
     ]
    },
    {
     "data": {
      "text/html": [
       "<img src=\"https://nrs.harvard.edu/urn-3:HUAM:INV047064_dynmc\" width=\"300\"/>"
      ],
      "text/plain": [
       "<IPython.core.display.Image object>"
      ]
     },
     "metadata": {},
     "output_type": "display_data"
    },
    {
     "name": "stdout",
     "output_type": "stream",
     "text": [
      "Black Baptism\n",
      "1\n",
      "[{'role': 'Artist', 'birthplace': None, 'gender': 'male', 'displaydate': '1890 - 1947', 'prefix': None, 'culture': 'American', 'displayname': 'Frank Hartley Anderson', 'alphasort': 'Anderson, Frank Hartley', 'name': 'Frank Hartley Anderson', 'personid': 30722, 'deathplace': None, 'displayorder': 1}]\n"
     ]
    },
    {
     "data": {
      "text/html": [
       "<img src=\"https://nrs.harvard.edu/urn-3:HUAM:VRS84495_dynmc\" width=\"300\"/>"
      ],
      "text/plain": [
       "<IPython.core.display.Image object>"
      ]
     },
     "metadata": {},
     "output_type": "display_data"
    },
    {
     "name": "stdout",
     "output_type": "stream",
     "text": [
      "The Negro\n",
      "1\n",
      "[{'role': 'Artist', 'birthplace': 'Leipzig, Germany', 'gender': 'male', 'displaydate': '1884 - 1950', 'prefix': None, 'culture': 'German', 'displayname': 'Max Beckmann', 'alphasort': 'Beckmann, Max', 'name': 'Max Beckmann', 'personid': 27201, 'deathplace': 'New York, N.Y., USA', 'displayorder': 1}]\n"
     ]
    },
    {
     "data": {
      "text/html": [
       "<img src=\"https://nrs.harvard.edu/urn-3:HUAM:INV001611_dynmc\" width=\"300\"/>"
      ],
      "text/plain": [
       "<IPython.core.display.Image object>"
      ]
     },
     "metadata": {},
     "output_type": "display_data"
    },
    {
     "name": "stdout",
     "output_type": "stream",
     "text": [
      "Primate Skulls, for \"Art Anatomy;\" verso: Horses' Hind Quarters\n",
      "1\n",
      "[{'role': 'Artist', 'birthplace': 'Liverpool, England', 'gender': 'male', 'displaydate': '1816 - 1879', 'prefix': None, 'culture': 'American', 'displayname': 'William Rimmer', 'alphasort': 'Rimmer, William', 'name': 'William Rimmer', 'personid': 28303, 'deathplace': 'S. Milford, MA', 'displayorder': 1}]\n"
     ]
    },
    {
     "data": {
      "text/html": [
       "<img src=\"https://nrs.harvard.edu/urn-3:HUAM:INV013732_dynmc\" width=\"300\"/>"
      ],
      "text/plain": [
       "<IPython.core.display.Image object>"
      ]
     },
     "metadata": {},
     "output_type": "display_data"
    },
    {
     "name": "stdout",
     "output_type": "stream",
     "text": [
      "Ham Slicer\n",
      "1\n",
      "[{'role': 'Artist', 'birthplace': None, 'gender': 'male', 'displaydate': '20th century', 'prefix': None, 'culture': 'American', 'displayname': 'George Heyer', 'alphasort': 'Heyer, George', 'name': 'George Heyer', 'personid': 34933, 'deathplace': None, 'displayorder': 1}]\n"
     ]
    },
    {
     "data": {
      "text/html": [
       "<img src=\"https://nrs.harvard.edu/urn-3:HUAM:DDC254647_dynmc\" width=\"300\"/>"
      ],
      "text/plain": [
       "<IPython.core.display.Image object>"
      ]
     },
     "metadata": {},
     "output_type": "display_data"
    },
    {
     "name": "stdout",
     "output_type": "stream",
     "text": [
      "Vicksburg Negroes and shop front, Mississippi\n",
      "1\n",
      "[{'role': 'Artist', 'birthplace': 'St. Louis, Mo., USA', 'gender': 'male', 'displaydate': '1903 - 1975', 'prefix': None, 'culture': 'American', 'displayname': 'Walker Evans', 'alphasort': 'Evans, Walker', 'name': 'Walker Evans', 'personid': 19664, 'deathplace': 'New Haven, Conn., USA', 'displayorder': 1}]\n"
     ]
    },
    {
     "data": {
      "text/html": [
       "<img src=\"https://nrs.harvard.edu/urn-3:HUAM:DDC111365_dynmc\" width=\"300\"/>"
      ],
      "text/plain": [
       "<IPython.core.display.Image object>"
      ]
     },
     "metadata": {},
     "output_type": "display_data"
    },
    {
     "name": "stdout",
     "output_type": "stream",
     "text": [
      "Alabastron (oil flask): Black Archer with Palm Tree\n",
      "0\n",
      "nan\n"
     ]
    },
    {
     "data": {
      "text/html": [
       "<img src=\"https://nrs.harvard.edu/urn-3:HUAM:783561\" width=\"300\"/>"
      ],
      "text/plain": [
       "<IPython.core.display.Image object>"
      ]
     },
     "metadata": {},
     "output_type": "display_data"
    },
    {
     "name": "stdout",
     "output_type": "stream",
     "text": [
      "Copy of a Roman Cippus (The Roman Album)\n",
      "1\n",
      "[{'role': 'Artist', 'birthplace': 'Paris', 'gender': 'male', 'displaydate': '1748 - 1825', 'prefix': None, 'culture': 'French', 'displayname': 'Jacques-Louis David', 'alphasort': 'David, Jacques-Louis', 'name': 'Jacques-Louis David', 'personid': 34735, 'deathplace': 'Brussels', 'displayorder': 1}]\n"
     ]
    },
    {
     "data": {
      "text/html": [
       "<img src=\"https://nrs.harvard.edu/urn-3:HUAM:71564_dynmc\" width=\"300\"/>"
      ],
      "text/plain": [
       "<IPython.core.display.Image object>"
      ]
     },
     "metadata": {},
     "output_type": "display_data"
    },
    {
     "name": "stdout",
     "output_type": "stream",
     "text": [
      "Head of a Beggar; verso: Half-length Study of a Nude Man\n",
      "2\n",
      "[{'role': 'Artist', 'birthplace': 'Antwerp, Belgium', 'gender': 'male', 'displaydate': '1599 - 1641', 'prefix': 'Copy after', 'culture': 'Flemish', 'displayname': 'Copy after Anthony van Dyck', 'alphasort': 'Dyck, Anthony van Sir', 'name': 'Anthony van Dyck', 'personid': 19008, 'deathplace': 'London', 'displayorder': 1}, {'role': 'Artist after', 'birthplace': 'Siegen, Westphalia', 'gender': 'male', 'displaydate': '1577 - 1640', 'prefix': 'after', 'culture': 'Flemish', 'displayname': 'after Peter Paul Rubens', 'alphasort': 'Rubens, Peter Paul', 'name': 'Peter Paul Rubens', 'personid': 28402, 'deathplace': 'Antwerp, Belgium', 'displayorder': 2}]\n"
     ]
    },
    {
     "data": {
      "text/html": [
       "<img src=\"https://nrs.harvard.edu/urn-3:HUAM:VRS60172_dynmc\" width=\"300\"/>"
      ],
      "text/plain": [
       "<IPython.core.display.Image object>"
      ]
     },
     "metadata": {},
     "output_type": "display_data"
    },
    {
     "name": "stdout",
     "output_type": "stream",
     "text": [
      "Mameluke Soldier Holding a Lance\n",
      "1\n",
      "[{'role': 'Artist', 'birthplace': 'Rouen', 'gender': 'male', 'displaydate': '1791 - 1824', 'prefix': None, 'culture': 'French', 'displayname': 'Théodore Géricault', 'alphasort': 'Géricault, Théodore', 'name': 'Théodore Géricault', 'personid': 21958, 'deathplace': 'Paris', 'displayorder': 1}]\n"
     ]
    },
    {
     "data": {
      "text/html": [
       "<img src=\"https://nrs.harvard.edu/urn-3:HUAM:70781_dynmc\" width=\"300\"/>"
      ],
      "text/plain": [
       "<IPython.core.display.Image object>"
      ]
     },
     "metadata": {},
     "output_type": "display_data"
    },
    {
     "name": "stdout",
     "output_type": "stream",
     "text": [
      "The Judgment of Paris\n",
      "2\n",
      "[{'role': 'Artist', 'birthplace': 'Bologna, Italy', 'gender': 'male', 'displaydate': '1560 - 1609', 'prefix': '(?)', 'culture': 'Italian', 'displayname': '(?) Annibale Carracci', 'alphasort': 'Carracci, Annibale', 'name': 'Annibale Carracci', 'personid': 30784, 'deathplace': 'Rome, Italy', 'displayorder': 1}, {'role': 'Artist', 'birthplace': 'Bologna, Italy', 'gender': 'male', 'displaydate': '1562 - 1602', 'prefix': 'Possibly attributable to', 'culture': 'Italian', 'displayname': 'Possibly attributable to Pietro Faccini', 'alphasort': 'Faccini, Pietro', 'name': 'Pietro Faccini', 'personid': 19737, 'deathplace': 'Bologna, Italy', 'displayorder': 2}]\n"
     ]
    },
    {
     "data": {
      "text/html": [
       "<img src=\"https://nrs.harvard.edu/urn-3:HUAM:LEG2817_dynmc\" width=\"300\"/>"
      ],
      "text/plain": [
       "<IPython.core.display.Image object>"
      ]
     },
     "metadata": {},
     "output_type": "display_data"
    },
    {
     "name": "stdout",
     "output_type": "stream",
     "text": [
      "Untitled (Natchez, Mississippi)\n",
      "1\n",
      "[{'role': 'Artist', 'birthplace': 'Kovno (now Kaunas), Lithuania', 'gender': 'male', 'displaydate': '1898 - 1969', 'prefix': None, 'culture': 'American', 'displayname': 'Ben Shahn', 'alphasort': 'Shahn, Ben', 'name': 'Ben Shahn', 'personid': 28639, 'deathplace': 'New York, NY', 'displayorder': 1}]\n"
     ]
    },
    {
     "data": {
      "text/html": [
       "<img src=\"https://nrs.harvard.edu/urn-3:HUAM:LEG2814_dynmc\" width=\"300\"/>"
      ],
      "text/plain": [
       "<IPython.core.display.Image object>"
      ]
     },
     "metadata": {},
     "output_type": "display_data"
    },
    {
     "name": "stdout",
     "output_type": "stream",
     "text": [
      "Untitled (Natchez, Mississippi)\n",
      "1\n",
      "[{'role': 'Artist', 'birthplace': 'Kovno (now Kaunas), Lithuania', 'gender': 'male', 'displaydate': '1898 - 1969', 'prefix': None, 'culture': 'American', 'displayname': 'Ben Shahn', 'alphasort': 'Shahn, Ben', 'name': 'Ben Shahn', 'personid': 28639, 'deathplace': 'New York, NY', 'displayorder': 1}]\n"
     ]
    },
    {
     "data": {
      "text/html": [
       "<img src=\"https://nrs.harvard.edu/urn-3:HUAM:LEG2826_dynmc\" width=\"300\"/>"
      ],
      "text/plain": [
       "<IPython.core.display.Image object>"
      ]
     },
     "metadata": {},
     "output_type": "display_data"
    },
    {
     "name": "stdout",
     "output_type": "stream",
     "text": [
      "Untitled (Natchez, Mississippi)\n",
      "1\n",
      "[{'role': 'Artist', 'birthplace': 'Kovno (now Kaunas), Lithuania', 'gender': 'male', 'displaydate': '1898 - 1969', 'prefix': None, 'culture': 'American', 'displayname': 'Ben Shahn', 'alphasort': 'Shahn, Ben', 'name': 'Ben Shahn', 'personid': 28639, 'deathplace': 'New York, NY', 'displayorder': 1}]\n"
     ]
    },
    {
     "data": {
      "text/html": [
       "<img src=\"https://nrs.harvard.edu/urn-3:HUAM:LEG2827_dynmc\" width=\"300\"/>"
      ],
      "text/plain": [
       "<IPython.core.display.Image object>"
      ]
     },
     "metadata": {},
     "output_type": "display_data"
    },
    {
     "name": "stdout",
     "output_type": "stream",
     "text": [
      "Untitled (Natchez, Mississippi)\n",
      "1\n",
      "[{'role': 'Artist', 'birthplace': 'Kovno (now Kaunas), Lithuania', 'gender': 'male', 'displaydate': '1898 - 1969', 'prefix': None, 'culture': 'American', 'displayname': 'Ben Shahn', 'alphasort': 'Shahn, Ben', 'name': 'Ben Shahn', 'personid': 28639, 'deathplace': 'New York, NY', 'displayorder': 1}]\n"
     ]
    },
    {
     "data": {
      "text/html": [
       "<img src=\"https://nrs.harvard.edu/urn-3:huam:DDC113013_dynmc\" width=\"300\"/>"
      ],
      "text/plain": [
       "<IPython.core.display.Image object>"
      ]
     },
     "metadata": {},
     "output_type": "display_data"
    },
    {
     "name": "stdout",
     "output_type": "stream",
     "text": [
      "Untitled (Nashville, Tennessee)\n",
      "1\n",
      "[{'role': 'Artist', 'birthplace': 'Kovno (now Kaunas), Lithuania', 'gender': 'male', 'displaydate': '1898 - 1969', 'prefix': None, 'culture': 'American', 'displayname': 'Ben Shahn', 'alphasort': 'Shahn, Ben', 'name': 'Ben Shahn', 'personid': 28639, 'deathplace': 'New York, NY', 'displayorder': 1}]\n"
     ]
    },
    {
     "data": {
      "text/html": [
       "<img src=\"https://nrs.harvard.edu/urn-3:HUAM:LEG3824_dynmc\" width=\"300\"/>"
      ],
      "text/plain": [
       "<IPython.core.display.Image object>"
      ]
     },
     "metadata": {},
     "output_type": "display_data"
    },
    {
     "name": "stdout",
     "output_type": "stream",
     "text": [
      "Untitled (sharecropper family, Little Rock, Arkansas)\n",
      "1\n",
      "[{'role': 'Artist', 'birthplace': 'Kovno (now Kaunas), Lithuania', 'gender': 'male', 'displaydate': '1898 - 1969', 'prefix': None, 'culture': 'American', 'displayname': 'Ben Shahn', 'alphasort': 'Shahn, Ben', 'name': 'Ben Shahn', 'personid': 28639, 'deathplace': 'New York, NY', 'displayorder': 1}]\n"
     ]
    },
    {
     "data": {
      "text/html": [
       "<img src=\"https://nrs.harvard.edu/urn-3:HUAM:LEG3943_dynmc\" width=\"300\"/>"
      ],
      "text/plain": [
       "<IPython.core.display.Image object>"
      ]
     },
     "metadata": {},
     "output_type": "display_data"
    },
    {
     "name": "stdout",
     "output_type": "stream",
     "text": [
      "Untitled (Natchez, Mississippi)\n",
      "1\n",
      "[{'role': 'Artist', 'birthplace': 'Kovno (now Kaunas), Lithuania', 'gender': 'male', 'displaydate': '1898 - 1969', 'prefix': None, 'culture': 'American', 'displayname': 'Ben Shahn', 'alphasort': 'Shahn, Ben', 'name': 'Ben Shahn', 'personid': 28639, 'deathplace': 'New York, NY', 'displayorder': 1}]\n"
     ]
    },
    {
     "data": {
      "text/html": [
       "<img src=\"https://nrs.harvard.edu/urn-3:HUAM:LEG4475_dynmc\" width=\"300\"/>"
      ],
      "text/plain": [
       "<IPython.core.display.Image object>"
      ]
     },
     "metadata": {},
     "output_type": "display_data"
    },
    {
     "name": "stdout",
     "output_type": "stream",
     "text": [
      "Untitled (sharecroppers, Pulaski County, Arkansas)\n",
      "1\n",
      "[{'role': 'Artist', 'birthplace': 'Kovno (now Kaunas), Lithuania', 'gender': 'male', 'displaydate': '1898 - 1969', 'prefix': None, 'culture': 'American', 'displayname': 'Ben Shahn', 'alphasort': 'Shahn, Ben', 'name': 'Ben Shahn', 'personid': 28639, 'deathplace': 'New York, NY', 'displayorder': 1}]\n"
     ]
    },
    {
     "data": {
      "text/html": [
       "<img src=\"https://nrs.harvard.edu/urn-3:HUAM:LEG4700_dynmc\" width=\"300\"/>"
      ],
      "text/plain": [
       "<IPython.core.display.Image object>"
      ]
     },
     "metadata": {},
     "output_type": "display_data"
    },
    {
     "name": "stdout",
     "output_type": "stream",
     "text": [
      "Untitled (Nashville, Tennessee)\n",
      "1\n",
      "[{'role': 'Artist', 'birthplace': 'Kovno (now Kaunas), Lithuania', 'gender': 'male', 'displaydate': '1898 - 1969', 'prefix': None, 'culture': 'American', 'displayname': 'Ben Shahn', 'alphasort': 'Shahn, Ben', 'name': 'Ben Shahn', 'personid': 28639, 'deathplace': 'New York, NY', 'displayorder': 1}]\n"
     ]
    },
    {
     "data": {
      "text/html": [
       "<img src=\"https://nrs.harvard.edu/urn-3:HUAM:LEG4711_dynmc\" width=\"300\"/>"
      ],
      "text/plain": [
       "<IPython.core.display.Image object>"
      ]
     },
     "metadata": {},
     "output_type": "display_data"
    },
    {
     "name": "stdout",
     "output_type": "stream",
     "text": [
      "Untitled (Natchez, Mississippi)\n",
      "1\n",
      "[{'role': 'Artist', 'birthplace': 'Kovno (now Kaunas), Lithuania', 'gender': 'male', 'displaydate': '1898 - 1969', 'prefix': None, 'culture': 'American', 'displayname': 'Ben Shahn', 'alphasort': 'Shahn, Ben', 'name': 'Ben Shahn', 'personid': 28639, 'deathplace': 'New York, NY', 'displayorder': 1}]\n"
     ]
    },
    {
     "data": {
      "text/html": [
       "<img src=\"https://nrs.harvard.edu/urn-3:HUAM:LEG4876_dynmc\" width=\"300\"/>"
      ],
      "text/plain": [
       "<IPython.core.display.Image object>"
      ]
     },
     "metadata": {},
     "output_type": "display_data"
    },
    {
     "name": "stdout",
     "output_type": "stream",
     "text": [
      "Untitled (Natchez, Mississippi)\n",
      "1\n",
      "[{'role': 'Artist', 'birthplace': 'Kovno (now Kaunas), Lithuania', 'gender': 'male', 'displaydate': '1898 - 1969', 'prefix': None, 'culture': 'American', 'displayname': 'Ben Shahn', 'alphasort': 'Shahn, Ben', 'name': 'Ben Shahn', 'personid': 28639, 'deathplace': 'New York, NY', 'displayorder': 1}]\n"
     ]
    },
    {
     "data": {
      "text/html": [
       "<img src=\"https://nrs.harvard.edu/urn-3:HUAM:LEG4890_dynmc\" width=\"300\"/>"
      ],
      "text/plain": [
       "<IPython.core.display.Image object>"
      ]
     },
     "metadata": {},
     "output_type": "display_data"
    },
    {
     "name": "stdout",
     "output_type": "stream",
     "text": [
      "Untitled (Plaquemines Parish, Louisiana)\n",
      "1\n",
      "[{'role': 'Artist', 'birthplace': 'Kovno (now Kaunas), Lithuania', 'gender': 'male', 'displaydate': '1898 - 1969', 'prefix': None, 'culture': 'American', 'displayname': 'Ben Shahn', 'alphasort': 'Shahn, Ben', 'name': 'Ben Shahn', 'personid': 28639, 'deathplace': 'New York, NY', 'displayorder': 1}]\n"
     ]
    },
    {
     "data": {
      "text/html": [
       "<img src=\"https://nrs.harvard.edu/urn-3:HUAM:VRS35216_dynmc\" width=\"300\"/>"
      ],
      "text/plain": [
       "<IPython.core.display.Image object>"
      ]
     },
     "metadata": {},
     "output_type": "display_data"
    },
    {
     "name": "stdout",
     "output_type": "stream",
     "text": [
      "Egyptian Boy\n",
      "1\n",
      "[{'role': 'Artist', 'birthplace': 'Cincinnati, OH', 'gender': 'male', 'displaydate': '1853 - 1935', 'prefix': None, 'culture': 'American', 'displayname': 'Denman Waldo Ross', 'alphasort': 'Ross, Denman Waldo', 'name': 'Denman Waldo Ross', 'personid': 28370, 'deathplace': 'London, England', 'displayorder': 1}]\n"
     ]
    },
    {
     "data": {
      "text/html": [
       "<img src=\"https://nrs.harvard.edu/urn-3:HUAM:LEG4814_dynmc\" width=\"300\"/>"
      ],
      "text/plain": [
       "<IPython.core.display.Image object>"
      ]
     },
     "metadata": {},
     "output_type": "display_data"
    },
    {
     "name": "stdout",
     "output_type": "stream",
     "text": [
      "Untitled (sharecropper family, Little Rock, Arkansas)\n",
      "1\n",
      "[{'role': 'Artist', 'birthplace': 'Kovno (now Kaunas), Lithuania', 'gender': 'male', 'displaydate': '1898 - 1969', 'prefix': None, 'culture': 'American', 'displayname': 'Ben Shahn', 'alphasort': 'Shahn, Ben', 'name': 'Ben Shahn', 'personid': 28639, 'deathplace': 'New York, NY', 'displayorder': 1}]\n"
     ]
    },
    {
     "data": {
      "text/html": [
       "<img src=\"https://nrs.harvard.edu/urn-3:HUAM:LEG4813_dynmc\" width=\"300\"/>"
      ],
      "text/plain": [
       "<IPython.core.display.Image object>"
      ]
     },
     "metadata": {},
     "output_type": "display_data"
    },
    {
     "name": "stdout",
     "output_type": "stream",
     "text": [
      "Untitled (Moose Hall, Purseglove or Liberty, Scotts Run, West Virginia)\n",
      "1\n",
      "[{'role': 'Artist', 'birthplace': 'Kovno (now Kaunas), Lithuania', 'gender': 'male', 'displaydate': '1898 - 1969', 'prefix': None, 'culture': 'American', 'displayname': 'Ben Shahn', 'alphasort': 'Shahn, Ben', 'name': 'Ben Shahn', 'personid': 28639, 'deathplace': 'New York, NY', 'displayorder': 1}]\n"
     ]
    },
    {
     "data": {
      "text/html": [
       "<img src=\"https://nrs.harvard.edu/urn-3:HUAM:OCP21761_dynmc\" width=\"300\"/>"
      ],
      "text/plain": [
       "<IPython.core.display.Image object>"
      ]
     },
     "metadata": {},
     "output_type": "display_data"
    },
    {
     "name": "stdout",
     "output_type": "stream",
     "text": [
      "Housing, Conditions: United States. New Jersey. Newark: Housing Conditions in Newark, New Jersey: III. Yard of negro house illustrating bad repair.  The hydrant serves as sole water supply for several families.  Both the yard and cellar are cluttered with papers, ashes and decaying organic material.\n",
      "1\n",
      "[{'role': 'Artist', 'birthplace': None, 'gender': 'female', 'displaydate': '1870 - 1942', 'prefix': None, 'culture': 'American', 'displayname': 'Jessie Tarbox Beals', 'alphasort': 'Beals, Jessie Tarbox', 'name': 'Jessie Tarbox Beals', 'personid': 22554, 'deathplace': None, 'displayorder': 1}]\n"
     ]
    },
    {
     "data": {
      "text/html": [
       "<img src=\"https://nrs.harvard.edu/urn-3:HUAM:DDC240068_dynmc\" width=\"300\"/>"
      ],
      "text/plain": [
       "<IPython.core.display.Image object>"
      ]
     },
     "metadata": {},
     "output_type": "display_data"
    },
    {
     "name": "stdout",
     "output_type": "stream",
     "text": [
      "the cry that will be heard\n",
      "1\n",
      "[{'role': 'Artist', 'birthplace': 'Fort Dodge, Iowa', 'gender': 'female', 'displaydate': '1918 - 1986', 'prefix': None, 'culture': 'American', 'displayname': 'Corita Kent (Sister Mary Corita)', 'alphasort': 'Kent (Sister Mary Corita), Corita', 'name': 'Corita Kent (Sister Mary Corita)', 'personid': 26504, 'deathplace': 'Boston, Massachusetts', 'displayorder': 1}]\n"
     ]
    },
    {
     "data": {
      "text/html": [
       "<img src=\"https://nrs.harvard.edu/urn-3:HUAM:GS03580_dynmc\" width=\"300\"/>"
      ],
      "text/plain": [
       "<IPython.core.display.Image object>"
      ]
     },
     "metadata": {},
     "output_type": "display_data"
    },
    {
     "name": "stdout",
     "output_type": "stream",
     "text": [
      "Untitled (negro sunshine)\n",
      "1\n",
      "[{'role': 'Artist', 'birthplace': 'Bronx, NY', 'gender': 'male', 'displaydate': 'born 1960', 'prefix': None, 'culture': 'American', 'displayname': 'Glenn Ligon', 'alphasort': 'Ligon, Glenn', 'name': 'Glenn Ligon', 'personid': 33623, 'deathplace': None, 'displayorder': 1}]\n"
     ]
    },
    {
     "data": {
      "text/html": [
       "<img src=\"https://nrs.harvard.edu/urn-3:HUAM:INV177177_dynmc\" width=\"300\"/>"
      ],
      "text/plain": [
       "<IPython.core.display.Image object>"
      ]
     },
     "metadata": {},
     "output_type": "display_data"
    },
    {
     "name": "stdout",
     "output_type": "stream",
     "text": [
      "Actor Speaks at Malcolm's Funeral: New York: Negro actor-playwright Ossie Davis speaks to crowd of some 1,000 persons attending funeral for slain Negro extremist Malcolm X at the Faith Temple, Church of God in Christ, February 27th.  Davis praised Malcolm as a \"man who could unite many diverse elements.\"  Messages from Negro and civil rights leaders from around the nation were read during the service.\n",
      "1\n",
      "[{'role': 'Artist', 'birthplace': 'New York, New York', 'gender': 'male', 'displaydate': '1945 - 1984', 'prefix': None, 'culture': 'American', 'displayname': 'Gordon W. Gahan', 'alphasort': 'Gahan, Gordon W.', 'name': 'Gordon W. Gahan', 'personid': 24403, 'deathplace': 'St. Thomas, US Virgin Islands', 'displayorder': 1}]\n"
     ]
    },
    {
     "data": {
      "text/html": [
       "<img src=\"https://nrs.harvard.edu/urn-3:HUAM:INV177630_dynmc\" width=\"300\"/>"
      ],
      "text/plain": [
       "<IPython.core.display.Image object>"
      ]
     },
     "metadata": {},
     "output_type": "display_data"
    },
    {
     "name": "stdout",
     "output_type": "stream",
     "text": [
      "Harvesters\n",
      "1\n",
      "[{'role': 'Artist', 'birthplace': None, 'gender': 'male', 'displaydate': '1924 - 2001', 'prefix': None, 'culture': 'American', 'displayname': 'John Biggers', 'alphasort': 'Biggers, John', 'name': 'John Biggers', 'personid': 53283, 'deathplace': None, 'displayorder': 1}]\n"
     ]
    },
    {
     "data": {
      "text/html": [
       "<img src=\"https://nrs.harvard.edu/urn-3:HUAM:DDC106062_dynmc\" width=\"300\"/>"
      ],
      "text/plain": [
       "<IPython.core.display.Image object>"
      ]
     },
     "metadata": {},
     "output_type": "display_data"
    },
    {
     "name": "stdout",
     "output_type": "stream",
     "text": [
      "White Dickinson CONFIDENCE IN DAYBREAK MODIFIES DUSK\n",
      "1\n",
      "[{'role': 'Artist', 'birthplace': 'New York NY', 'gender': 'female', 'displaydate': 'born 1955', 'prefix': None, 'culture': 'American', 'displayname': 'Roni Horn', 'alphasort': 'Horn, Roni', 'name': 'Roni Horn', 'personid': 26608, 'deathplace': None, 'displayorder': 1}]\n"
     ]
    },
    {
     "data": {
      "text/html": [
       "<img src=\"https://nrs.harvard.edu/urn-3:HUAM:DDC252910_dynmc\" width=\"300\"/>"
      ],
      "text/plain": [
       "<IPython.core.display.Image object>"
      ]
     },
     "metadata": {},
     "output_type": "display_data"
    },
    {
     "name": "stdout",
     "output_type": "stream",
     "text": [
      "you shoot at yourself, america\n",
      "1\n",
      "[{'role': 'Artist', 'birthplace': 'Fort Dodge, Iowa', 'gender': 'female', 'displaydate': '1918 - 1986', 'prefix': None, 'culture': 'American', 'displayname': 'Corita Kent (Sister Mary Corita)', 'alphasort': 'Kent (Sister Mary Corita), Corita', 'name': 'Corita Kent (Sister Mary Corita)', 'personid': 26504, 'deathplace': 'Boston, Massachusetts', 'displayorder': 1}]\n"
     ]
    },
    {
     "data": {
      "text/html": [
       "<img src=\"https://nrs.harvard.edu/urn-3:HUAM:DDC103841_dynmc\" width=\"300\"/>"
      ],
      "text/plain": [
       "<IPython.core.display.Image object>"
      ]
     },
     "metadata": {},
     "output_type": "display_data"
    },
    {
     "name": "stdout",
     "output_type": "stream",
     "text": [
      "A Negroid Type\n",
      "1\n",
      "[{'role': 'Artist', 'birthplace': 'Portland, Oregon, USA', 'gender': 'female', 'displaydate': 'born 1953', 'prefix': None, 'culture': 'American', 'displayname': 'Carrie Mae Weems', 'alphasort': 'Weems, Carrie Mae', 'name': 'Carrie Mae Weems', 'personid': 21824, 'deathplace': None, 'displayorder': 1}]\n"
     ]
    },
    {
     "data": {
      "text/html": [
       "<img src=\"https://nrs.harvard.edu/urn-3:HUAM:DDC109379_dynmc\" width=\"300\"/>"
      ],
      "text/plain": [
       "<IPython.core.display.Image object>"
      ]
     },
     "metadata": {},
     "output_type": "display_data"
    },
    {
     "name": "stdout",
     "output_type": "stream",
     "text": [
      "Negro carrying a bag (Negre portant une valise)\n",
      "2\n",
      "[{'role': 'Artist', 'birthplace': 'Paris, France', 'gender': 'male', 'displaydate': '1871 - 1958', 'prefix': None, 'culture': 'French', 'displayname': 'Georges Rouault', 'alphasort': 'Rouault, Georges', 'name': 'Georges Rouault', 'personid': 28389, 'deathplace': 'Paris, France', 'displayorder': 1}, {'role': 'Author', 'birthplace': None, 'gender': 'unknown', 'displaydate': None, 'prefix': 'Author:', 'culture': None, 'displayname': 'Author: Ambroise Vollard', 'alphasort': 'Vollard, Ambroise', 'name': 'Ambroise Vollard', 'personid': 10767, 'deathplace': None, 'displayorder': 2}]\n"
     ]
    },
    {
     "data": {
      "text/html": [
       "<img src=\"https://nrs.harvard.edu/urn-3:HUAM:DDC111595_dynmc\" width=\"300\"/>"
      ],
      "text/plain": [
       "<IPython.core.display.Image object>"
      ]
     },
     "metadata": {},
     "output_type": "display_data"
    },
    {
     "name": "stdout",
     "output_type": "stream",
     "text": [
      "Under the Black Sun (Diptych Woman)\n",
      "1\n",
      "[{'role': 'Artist', 'birthplace': 'Lima, Peru', 'gender': 'female', 'displaydate': 'born 1965', 'prefix': None, 'culture': 'Peruvian', 'displayname': 'Milagros de la Torre', 'alphasort': 'de la Torre, Milagros', 'name': 'Milagros de la Torre', 'personid': 56080, 'deathplace': None, 'displayorder': 1}]\n"
     ]
    },
    {
     "data": {
      "text/html": [
       "<img src=\"https://nrs.harvard.edu/urn-3:HUAM:DDC111596_dynmc\" width=\"300\"/>"
      ],
      "text/plain": [
       "<IPython.core.display.Image object>"
      ]
     },
     "metadata": {},
     "output_type": "display_data"
    },
    {
     "name": "stdout",
     "output_type": "stream",
     "text": [
      "Under the Black Sun (Portrait Woman)\n",
      "1\n",
      "[{'role': 'Artist', 'birthplace': 'Lima, Peru', 'gender': 'female', 'displaydate': 'born 1965', 'prefix': None, 'culture': 'Peruvian', 'displayname': 'Milagros de la Torre', 'alphasort': 'de la Torre, Milagros', 'name': 'Milagros de la Torre', 'personid': 56080, 'deathplace': None, 'displayorder': 1}]\n"
     ]
    },
    {
     "data": {
      "text/html": [
       "<img src=\"https://nrs.harvard.edu/urn-3:HUAM:DDC111595_dynmc\" width=\"300\"/>"
      ],
      "text/plain": [
       "<IPython.core.display.Image object>"
      ]
     },
     "metadata": {},
     "output_type": "display_data"
    },
    {
     "name": "stdout",
     "output_type": "stream",
     "text": [
      "Under the Black Sun (Diptych Woman)\n",
      "1\n",
      "[{'role': 'Artist', 'birthplace': 'Lima, Peru', 'gender': 'female', 'displaydate': 'born 1965', 'prefix': None, 'culture': 'Peruvian', 'displayname': 'Milagros de la Torre', 'alphasort': 'de la Torre, Milagros', 'name': 'Milagros de la Torre', 'personid': 56080, 'deathplace': None, 'displayorder': 1}]\n"
     ]
    },
    {
     "data": {
      "text/html": [
       "<img src=\"https://nrs.harvard.edu/urn-3:HUAM:STR014236\" width=\"300\"/>"
      ],
      "text/plain": [
       "<IPython.core.display.Image object>"
      ]
     },
     "metadata": {},
     "output_type": "display_data"
    },
    {
     "name": "stdout",
     "output_type": "stream",
     "text": [
      "Ivory Black, Negro Marfil\n",
      "1\n",
      "[{'role': 'Manufacturer', 'birthplace': None, 'gender': 'unknown', 'displaydate': None, 'prefix': 'Manufactured by', 'culture': None, 'displayname': 'Manufactured by F. Weber & Company, Inc.', 'alphasort': 'F. Weber & Company, Inc.', 'name': 'F. Weber & Company, Inc.', 'personid': 53400, 'deathplace': None, 'displayorder': 1}]\n"
     ]
    },
    {
     "data": {
      "text/html": [
       "<img src=\"https://nrs.harvard.edu/urn-3:HUAM:STR014240\" width=\"300\"/>"
      ],
      "text/plain": [
       "<IPython.core.display.Image object>"
      ]
     },
     "metadata": {},
     "output_type": "display_data"
    },
    {
     "name": "stdout",
     "output_type": "stream",
     "text": [
      "Ivory Black (Negro Marfil)\n",
      "1\n",
      "[{'role': 'Manufacturer', 'birthplace': None, 'gender': 'unknown', 'displaydate': None, 'prefix': 'Manufactured by', 'culture': None, 'displayname': 'Manufactured by F. Weber & Company, Inc.', 'alphasort': 'F. Weber & Company, Inc.', 'name': 'F. Weber & Company, Inc.', 'personid': 53400, 'deathplace': None, 'displayorder': 1}]\n"
     ]
    },
    {
     "data": {
      "text/html": [
       "<img src=\"https://nrs.harvard.edu/urn-3:huam:STR006885_dynmc\" width=\"300\"/>"
      ],
      "text/plain": [
       "<IPython.core.display.Image object>"
      ]
     },
     "metadata": {},
     "output_type": "display_data"
    },
    {
     "name": "stdout",
     "output_type": "stream",
     "text": [
      "X-radiograph(s) of \"Adoration of the Magi\"\n",
      "1\n",
      "[{'role': 'Related name', 'birthplace': 'Pieve di Cadore, Italy', 'gender': 'male', 'displaydate': 'c. 1488 - 1576', 'prefix': 'Artist of original:', 'culture': 'Italian', 'displayname': 'Artist of original: Titian (Tiziano Vecellio)', 'alphasort': 'Titian (Tiziano Vecellio)', 'name': 'Titian (Tiziano Vecellio)', 'personid': 29041, 'deathplace': 'Venice, Italy', 'displayorder': 1}]\n"
     ]
    },
    {
     "data": {
      "text/html": [
       "<img src=\"https://nrs.harvard.edu/urn-3:huam:STR007213_dynmc\" width=\"300\"/>"
      ],
      "text/plain": [
       "<IPython.core.display.Image object>"
      ]
     },
     "metadata": {},
     "output_type": "display_data"
    },
    {
     "name": "stdout",
     "output_type": "stream",
     "text": [
      "X-radiograph(s) of \"Two Negroes\"\n",
      "1\n",
      "[{'role': 'Related name', 'birthplace': 'Leiden', 'gender': 'male', 'displaydate': '1606 - 1669', 'prefix': 'Artist of original: (?)', 'culture': 'Dutch', 'displayname': 'Artist of original: (?) Rembrandt Harmensz. van Rijn', 'alphasort': 'Rembrandt Harmensz. van Rijn', 'name': 'Rembrandt Harmensz. van Rijn', 'personid': 28241, 'deathplace': 'Amsterdam', 'displayorder': 1}]\n"
     ]
    },
    {
     "data": {
      "text/html": [
       "<img src=\"https://nrs.harvard.edu/urn-3:HUAM:758885\" width=\"300\"/>"
      ],
      "text/plain": [
       "<IPython.core.display.Image object>"
      ]
     },
     "metadata": {},
     "output_type": "display_data"
    },
    {
     "name": "stdout",
     "output_type": "stream",
     "text": [
      "Abolition Jug\n",
      "1\n",
      "[{'role': 'Artist', 'birthplace': None, 'gender': 'unknown', 'displaydate': None, 'prefix': None, 'culture': None, 'displayname': 'Unidentified Artist', 'alphasort': 'Unidentified Artist', 'name': 'Unidentified Artist', 'personid': 34147, 'deathplace': None, 'displayorder': 1}]\n"
     ]
    },
    {
     "data": {
      "text/html": [
       "<img src=\"https://nrs.harvard.edu/urn-3:HUAM:779349\" width=\"300\"/>"
      ],
      "text/plain": [
       "<IPython.core.display.Image object>"
      ]
     },
     "metadata": {},
     "output_type": "display_data"
    },
    {
     "name": "stdout",
     "output_type": "stream",
     "text": [
      "Abolitionist Butter Tub and Stand\n",
      "1\n",
      "[{'role': 'Artist', 'birthplace': None, 'gender': 'unknown', 'displaydate': None, 'prefix': None, 'culture': None, 'displayname': 'Unidentified Artist', 'alphasort': 'Unidentified Artist', 'name': 'Unidentified Artist', 'personid': 34147, 'deathplace': None, 'displayorder': 1}]\n"
     ]
    },
    {
     "data": {
      "text/html": [
       "<img src=\"https://nrs.harvard.edu/urn-3:HUAM:765998\" width=\"300\"/>"
      ],
      "text/plain": [
       "<IPython.core.display.Image object>"
      ]
     },
     "metadata": {},
     "output_type": "display_data"
    },
    {
     "name": "stdout",
     "output_type": "stream",
     "text": [
      "A young Negro boy, Washington Square Park, N.Y.C.  [Black boy, Washington Square Park, N.Y.C.] 1965\n",
      "\n",
      "2\n",
      "[{'role': 'Artist', 'birthplace': 'New York, N.Y., USA', 'gender': 'female', 'displaydate': '1923 - 1971', 'prefix': None, 'culture': 'American', 'displayname': 'Diane Arbus', 'alphasort': 'Arbus, Diane', 'name': 'Diane Arbus', 'personid': 34517, 'deathplace': 'New York, N.Y., USA', 'displayorder': 1}, {'role': 'Printer', 'birthplace': None, 'gender': 'unknown', 'displaydate': None, 'prefix': 'Printed by', 'culture': None, 'displayname': 'Printed by Neil Selkirk', 'alphasort': 'Selkirk, Neil', 'name': 'Neil Selkirk', 'personid': 65167, 'deathplace': None, 'displayorder': 2}]\n"
     ]
    },
    {
     "data": {
      "text/html": [
       "<img src=\"https://nrs.harvard.edu/urn-3:HUAM:771431\" width=\"300\"/>"
      ],
      "text/plain": [
       "<IPython.core.display.Image object>"
      ]
     },
     "metadata": {},
     "output_type": "display_data"
    },
    {
     "name": "stdout",
     "output_type": "stream",
     "text": [
      "Frederick Douglass\n",
      "1\n",
      "[{'role': 'Artist', 'birthplace': None, 'gender': 'unknown', 'displaydate': None, 'prefix': None, 'culture': None, 'displayname': 'Unidentified Artist', 'alphasort': 'Unidentified Artist', 'name': 'Unidentified Artist', 'personid': 34147, 'deathplace': None, 'displayorder': 1}]\n"
     ]
    },
    {
     "data": {
      "text/html": [
       "<img src=\"https://nrs.harvard.edu/urn-3:HUAM:774175\" width=\"300\"/>"
      ],
      "text/plain": [
       "<IPython.core.display.Image object>"
      ]
     },
     "metadata": {},
     "output_type": "display_data"
    },
    {
     "name": "stdout",
     "output_type": "stream",
     "text": [
      "Untitled (draft for SKY ART Conference with color transfer, left page); Untitled (draft for SKY ART Conference with bleed-through of following page, right page)\n",
      "1\n",
      "[{'role': 'Artist', 'birthplace': 'Laasphe, Westphalia, Germany', 'gender': 'male', 'displaydate': '1928 - 2014', 'prefix': None, 'culture': 'German', 'displayname': 'Otto Piene', 'alphasort': 'Piene, Otto', 'name': 'Otto Piene', 'personid': 28069, 'deathplace': 'Berlin, Germany', 'displayorder': 1}]\n"
     ]
    },
    {
     "data": {
      "text/html": [
       "<img src=\"https://nrs.harvard.edu/urn-3:HUAM:DDC111582_dynmc\" width=\"300\"/>"
      ],
      "text/plain": [
       "<IPython.core.display.Image object>"
      ]
     },
     "metadata": {},
     "output_type": "display_data"
    },
    {
     "name": "stdout",
     "output_type": "stream",
     "text": [
      "Study for \"Stand Up a Man!\"\n",
      "1\n",
      "[{'role': 'Artist', 'birthplace': 'Philadelphia, PA', 'gender': 'male', 'displaydate': '1824 - 1882', 'prefix': None, 'culture': None, 'displayname': 'Henry Louis Stephens', 'alphasort': 'Stephens, Henry Louis', 'name': 'Henry Louis Stephens', 'personid': 26192, 'deathplace': 'Bayonne, NJ', 'displayorder': 1}]\n"
     ]
    },
    {
     "data": {
      "text/html": [
       "<img src=\"https://nrs.harvard.edu/urn-3:HUAM:75998_dynmc\" width=\"300\"/>"
      ],
      "text/plain": [
       "<IPython.core.display.Image object>"
      ]
     },
     "metadata": {},
     "output_type": "display_data"
    },
    {
     "name": "stdout",
     "output_type": "stream",
     "text": [
      "Negro Soldier\n",
      "1\n",
      "[{'role': 'Artist', 'birthplace': 'New York, NY', 'gender': 'male', 'displaydate': '1915 - 2013', 'prefix': None, 'culture': 'American', 'displayname': 'Robert Smullyan Sloan', 'alphasort': 'Sloan, Robert Smullyan', 'name': 'Robert Smullyan Sloan', 'personid': 24201, 'deathplace': 'Boston, MA', 'displayorder': 1}]\n"
     ]
    },
    {
     "data": {
      "text/html": [
       "<img src=\"https://nrs.harvard.edu/urn-3:HUAM:75575_dynmc\" width=\"300\"/>"
      ],
      "text/plain": [
       "<IPython.core.display.Image object>"
      ]
     },
     "metadata": {},
     "output_type": "display_data"
    },
    {
     "name": "stdout",
     "output_type": "stream",
     "text": [
      "\"Jewish farm. Negro. Italian. Farmer.\"\n",
      "1\n",
      "[{'role': 'Artist', 'birthplace': 'Kovno (now Kaunas), Lithuania', 'gender': 'male', 'displaydate': '1898 - 1969', 'prefix': None, 'culture': 'American', 'displayname': 'Ben Shahn', 'alphasort': 'Shahn, Ben', 'name': 'Ben Shahn', 'personid': 28639, 'deathplace': 'New York, NY', 'displayorder': 1}]\n"
     ]
    },
    {
     "data": {
      "text/html": [
       "<img src=\"https://nrs.harvard.edu/urn-3:HUAM:756046\" width=\"300\"/>"
      ],
      "text/plain": [
       "<IPython.core.display.Image object>"
      ]
     },
     "metadata": {},
     "output_type": "display_data"
    },
    {
     "name": "stdout",
     "output_type": "stream",
     "text": [
      "Negro Church, South Carolina\n",
      "1\n",
      "[{'role': 'Artist', 'birthplace': 'St. Louis, Mo., USA', 'gender': 'male', 'displaydate': '1903 - 1975', 'prefix': None, 'culture': 'American', 'displayname': 'Walker Evans', 'alphasort': 'Evans, Walker', 'name': 'Walker Evans', 'personid': 19664, 'deathplace': 'New Haven, Conn., USA', 'displayorder': 1}]\n"
     ]
    },
    {
     "data": {
      "text/html": [
       "<img src=\"https://nrs.harvard.edu/urn-3:HUAM:CARP09489_dynmc\" width=\"300\"/>"
      ],
      "text/plain": [
       "<IPython.core.display.Image object>"
      ]
     },
     "metadata": {},
     "output_type": "display_data"
    },
    {
     "name": "stdout",
     "output_type": "stream",
     "text": [
      "Small mold-made lamp, Eros or Negroid child\n",
      "0\n",
      "nan\n"
     ]
    },
    {
     "data": {
      "text/html": [
       "<img src=\"https://nrs.harvard.edu/urn-3:HUAM:INV157747_dynmc\" width=\"300\"/>"
      ],
      "text/plain": [
       "<IPython.core.display.Image object>"
      ]
     },
     "metadata": {},
     "output_type": "display_data"
    },
    {
     "name": "stdout",
     "output_type": "stream",
     "text": [
      "The 1920s...The Migrants Cast Their Ballots\n",
      "1\n",
      "[{'role': 'Artist', 'birthplace': 'Atlantic City, NJ', 'gender': 'male', 'displaydate': '1917 - 2000', 'prefix': None, 'culture': 'American', 'displayname': 'Jacob Lawrence', 'alphasort': 'Lawrence, Jacob', 'name': 'Jacob Lawrence', 'personid': 34318, 'deathplace': 'Seattle, WA', 'displayorder': 1}]\n"
     ]
    },
    {
     "data": {
      "text/html": [
       "<img src=\"https://nrs.harvard.edu/urn-3:HUAM:INV168930_dynmc\" width=\"300\"/>"
      ],
      "text/plain": [
       "<IPython.core.display.Image object>"
      ]
     },
     "metadata": {},
     "output_type": "display_data"
    },
    {
     "name": "stdout",
     "output_type": "stream",
     "text": [
      "Portrait of Black Man\n",
      "1\n",
      "[{'role': 'Artist', 'birthplace': 'Havana', 'gender': 'male', 'displaydate': '1942-2008', 'prefix': None, 'culture': 'Cuban', 'displayname': 'Antonio Canet', 'alphasort': 'Canet, Antonio', 'name': 'Antonio Canet', 'personid': 20912, 'deathplace': 'Havana, Cuba', 'displayorder': 1}]\n"
     ]
    },
    {
     "data": {
      "text/html": [
       "<img src=\"https://nrs.harvard.edu/urn-3:HUAM:COIN00043_dynmc\" width=\"300\"/>"
      ],
      "text/plain": [
       "<IPython.core.display.Image object>"
      ]
     },
     "metadata": {},
     "output_type": "display_data"
    },
    {
     "name": "stdout",
     "output_type": "stream",
     "text": [
      "Drachm of the Volcae Arecomici?, Provincia\n",
      "1\n",
      "[{'role': 'Coin Constituent', 'birthplace': None, 'gender': 'unknown', 'displaydate': None, 'prefix': None, 'culture': 'Celtic', 'displayname': 'The Volcae Arecomici', 'alphasort': 'Volcae Arecomici', 'name': 'The Volcae Arecomici', 'personid': 20255, 'deathplace': None, 'displayorder': 1}]\n"
     ]
    },
    {
     "data": {
      "text/html": [
       "<img src=\"https://nrs.harvard.edu/urn-3:HUAM:INV161860_dynmc\" width=\"300\"/>"
      ],
      "text/plain": [
       "<IPython.core.display.Image object>"
      ]
     },
     "metadata": {},
     "output_type": "display_data"
    },
    {
     "name": "stdout",
     "output_type": "stream",
     "text": [
      "Folk Music Festival Poster, Roosevelt Memorial\n",
      "1\n",
      "[{'role': 'Artist', 'birthplace': 'Kovno (now Kaunas), Lithuania', 'gender': 'male', 'displaydate': '1898 - 1969', 'prefix': None, 'culture': 'American', 'displayname': 'Ben Shahn', 'alphasort': 'Shahn, Ben', 'name': 'Ben Shahn', 'personid': 28639, 'deathplace': 'New York, NY', 'displayorder': 1}]\n"
     ]
    },
    {
     "data": {
      "text/html": [
       "<img src=\"https://nrs.harvard.edu/urn-3:HUAM:LEG281323\" width=\"300\"/>"
      ],
      "text/plain": [
       "<IPython.core.display.Image object>"
      ]
     },
     "metadata": {},
     "output_type": "display_data"
    },
    {
     "name": "stdout",
     "output_type": "stream",
     "text": [
      "Two Women of Color, Dominica [French Mulatress of Dominica and a Negro Woman in their Proper Dress]\n",
      "1\n",
      "[{'role': 'Artist', 'birthplace': 'Rome, Italy', 'gender': 'unknown', 'displaydate': '1730 - 1796', 'prefix': None, 'culture': 'Italian', 'displayname': 'Agostino Brunias', 'alphasort': 'Brunias, Agostino', 'name': 'Agostino Brunias', 'personid': 19002, 'deathplace': '\\r\\nRoseau, Dominica', 'displayorder': 1}]\n"
     ]
    },
    {
     "data": {
      "text/html": [
       "<img src=\"https://nrs.harvard.edu/urn-3:HUAM:INV186101_dynmc\" width=\"300\"/>"
      ],
      "text/plain": [
       "<IPython.core.display.Image object>"
      ]
     },
     "metadata": {},
     "output_type": "display_data"
    },
    {
     "name": "stdout",
     "output_type": "stream",
     "text": [
      "Negro in a Punt in a Landscape\n",
      "1\n",
      "[{'role': 'Artist', 'birthplace': 'Newburgh, NY', 'gender': 'male', 'displaydate': '1825 - 1894', 'prefix': 'Imitator of', 'culture': 'American', 'displayname': 'Imitator of George Inness', 'alphasort': 'Inness, George', 'name': 'George Inness', 'personid': 26696, 'deathplace': 'Bridge of Allan, Scotland', 'displayorder': 1}]\n"
     ]
    },
    {
     "data": {
      "text/html": [
       "<img src=\"https://nrs.harvard.edu/urn-3:HUAM:LEG281321\" width=\"300\"/>"
      ],
      "text/plain": [
       "<IPython.core.display.Image object>"
      ]
     },
     "metadata": {},
     "output_type": "display_data"
    },
    {
     "name": "stdout",
     "output_type": "stream",
     "text": [
      "Purchasing Fruit [A French Mulatress Purchasing Fruit from a Negro Wench]\n",
      "1\n",
      "[{'role': 'Artist', 'birthplace': 'Rome, Italy', 'gender': 'unknown', 'displaydate': '1730 - 1796', 'prefix': None, 'culture': 'Italian', 'displayname': 'Agostino Brunias', 'alphasort': 'Brunias, Agostino', 'name': 'Agostino Brunias', 'personid': 19002, 'deathplace': '\\r\\nRoseau, Dominica', 'displayorder': 1}]\n"
     ]
    },
    {
     "data": {
      "text/html": [
       "<img src=\"https://nrs.harvard.edu/urn-3:HUAM:LEG281324\" width=\"300\"/>"
      ],
      "text/plain": [
       "<IPython.core.display.Image object>"
      ]
     },
     "metadata": {},
     "output_type": "display_data"
    },
    {
     "name": "stdout",
     "output_type": "stream",
     "text": [
      "Women of Color Bathing and a Voyeur [Mulatresses and Negro Woman Bathing]\n",
      "1\n",
      "[{'role': 'Artist', 'birthplace': 'Rome, Italy', 'gender': 'unknown', 'displaydate': '1730 - 1796', 'prefix': None, 'culture': 'Italian', 'displayname': 'Agostino Brunias', 'alphasort': 'Brunias, Agostino', 'name': 'Agostino Brunias', 'personid': 19002, 'deathplace': '\\r\\nRoseau, Dominica', 'displayorder': 1}]\n"
     ]
    },
    {
     "data": {
      "text/html": [
       "<img src=\"https://nrs.harvard.edu/urn-3:HUAM:VRS48529_dynmc\" width=\"300\"/>"
      ],
      "text/plain": [
       "<IPython.core.display.Image object>"
      ]
     },
     "metadata": {},
     "output_type": "display_data"
    },
    {
     "name": "stdout",
     "output_type": "stream",
     "text": [
      "Tiger Flowers Johnstone\n",
      "1\n",
      "[{'role': 'Artist', 'birthplace': 'New York, NY', 'gender': 'female', 'displaydate': '1893 - 1962', 'prefix': None, 'culture': 'American', 'displayname': 'Emily Winthrop Miles', 'alphasort': 'Miles, Emily Winthrop', 'name': 'Emily Winthrop Miles', 'personid': 27595, 'deathplace': 'Sharon, Connecticut', 'displayorder': 1}]\n"
     ]
    },
    {
     "data": {
      "text/html": [
       "<img src=\"https://nrs.harvard.edu/urn-3:HUAM:DDC104775_dynmc\" width=\"300\"/>"
      ],
      "text/plain": [
       "<IPython.core.display.Image object>"
      ]
     },
     "metadata": {},
     "output_type": "display_data"
    },
    {
     "name": "stdout",
     "output_type": "stream",
     "text": [
      "Head of an Oba\n",
      "1\n",
      "[{'role': 'Artist', 'birthplace': None, 'gender': 'unknown', 'displaydate': None, 'prefix': None, 'culture': None, 'displayname': 'Unidentified Artist', 'alphasort': 'Unidentified Artist', 'name': 'Unidentified Artist', 'personid': 34147, 'deathplace': None, 'displayorder': 1}]\n"
     ]
    },
    {
     "data": {
      "text/html": [
       "<img src=\"https://nrs.harvard.edu/urn-3:HUAM:INV154326_dynmc\" width=\"300\"/>"
      ],
      "text/plain": [
       "<IPython.core.display.Image object>"
      ]
     },
     "metadata": {},
     "output_type": "display_data"
    },
    {
     "name": "stdout",
     "output_type": "stream",
     "text": [
      "Negro Huts, near Wilminton, North Carolina\n",
      "1\n",
      "[{'role': 'Artist', 'birthplace': None, 'gender': 'male', 'displaydate': 'born 1820', 'prefix': None, 'culture': 'American', 'displayname': 'John M. Falconer', 'alphasort': 'Falconer, John M.', 'name': 'John M. Falconer', 'personid': 31958, 'deathplace': None, 'displayorder': 1}]\n"
     ]
    },
    {
     "data": {
      "text/html": [
       "<img src=\"https://nrs.harvard.edu/urn-3:HUAM:INV100065_dynmc\" width=\"300\"/>"
      ],
      "text/plain": [
       "<IPython.core.display.Image object>"
      ]
     },
     "metadata": {},
     "output_type": "display_data"
    },
    {
     "name": "stdout",
     "output_type": "stream",
     "text": [
      "A View Taken in the Gardens of the Villa Negroni at Rome\n",
      "1\n",
      "[{'role': 'Artist', 'birthplace': 'Edinburgh', 'gender': 'unknown', 'displaydate': '1740 - 1814', 'prefix': None, 'culture': 'British', 'displayname': 'Richard Cooper', 'alphasort': 'Cooper, Richard', 'name': 'Richard Cooper', 'personid': 33377, 'deathplace': None, 'displayorder': 1}]\n"
     ]
    },
    {
     "data": {
      "text/html": [
       "<img src=\"https://nrs.harvard.edu/urn-3:HUAM:OCP15255_dynmc\" width=\"300\"/>"
      ],
      "text/plain": [
       "<IPython.core.display.Image object>"
      ]
     },
     "metadata": {},
     "output_type": "display_data"
    },
    {
     "name": "stdout",
     "output_type": "stream",
     "text": [
      "Industrial Problems, Welfare Work: United States. Maryland. Sparrow's Point. Maryland Steel Company: Maryland Steel Company, Sparrows Point, Md.: The Negro settlement, in a separate part of the town, separated from the town proper by Humphrey's Creek.\n",
      "1\n",
      "[{'role': 'Artist', 'birthplace': None, 'gender': 'unknown', 'displaydate': None, 'prefix': None, 'culture': None, 'displayname': 'Unidentified Artist', 'alphasort': 'Unidentified Artist', 'name': 'Unidentified Artist', 'personid': 34147, 'deathplace': None, 'displayorder': 1}]\n"
     ]
    },
    {
     "data": {
      "text/html": [
       "<img src=\"https://nrs.harvard.edu/urn-3:HUAM:INV018104_dynmc\" width=\"300\"/>"
      ],
      "text/plain": [
       "<IPython.core.display.Image object>"
      ]
     },
     "metadata": {},
     "output_type": "display_data"
    },
    {
     "name": "stdout",
     "output_type": "stream",
     "text": [
      "Negro sharecropper and his wife, Pulaski County, Arkansas\n",
      "1\n",
      "[{'role': 'Artist', 'birthplace': 'Kovno (now Kaunas), Lithuania', 'gender': 'male', 'displaydate': '1898 - 1969', 'prefix': None, 'culture': 'American', 'displayname': 'Ben Shahn', 'alphasort': 'Shahn, Ben', 'name': 'Ben Shahn', 'personid': 28639, 'deathplace': 'New York, NY', 'displayorder': 1}]\n"
     ]
    },
    {
     "data": {
      "text/html": [
       "<img src=\"https://nrs.harvard.edu/urn-3:HUAM:INV018105_dynmc\" width=\"300\"/>"
      ],
      "text/plain": [
       "<IPython.core.display.Image object>"
      ]
     },
     "metadata": {},
     "output_type": "display_data"
    },
    {
     "name": "stdout",
     "output_type": "stream",
     "text": [
      "Family of Negro sharecropper, Little Rock, Arkansas\n",
      "1\n",
      "[{'role': 'Artist', 'birthplace': 'Kovno (now Kaunas), Lithuania', 'gender': 'male', 'displaydate': '1898 - 1969', 'prefix': None, 'culture': 'American', 'displayname': 'Ben Shahn', 'alphasort': 'Shahn, Ben', 'name': 'Ben Shahn', 'personid': 28639, 'deathplace': 'New York, NY', 'displayorder': 1}]\n"
     ]
    },
    {
     "data": {
      "text/html": [
       "<img src=\"https://nrs.harvard.edu/urn-3:HUAM:INV014575_dynmc\" width=\"300\"/>"
      ],
      "text/plain": [
       "<IPython.core.display.Image object>"
      ]
     },
     "metadata": {},
     "output_type": "display_data"
    },
    {
     "name": "stdout",
     "output_type": "stream",
     "text": [
      "Background photo, family of Negro FSA client, Caruthersville, Missouri\n",
      "1\n",
      "[{'role': 'Artist', 'birthplace': 'Ottawa, Illinois', 'gender': 'male', 'displaydate': '1903 - 1986', 'prefix': None, 'culture': 'American', 'displayname': 'Russell Lee', 'alphasort': 'Lee, Russell', 'name': 'Russell Lee', 'personid': 27120, 'deathplace': 'Austin, Texas', 'displayorder': 1}]\n"
     ]
    },
    {
     "data": {
      "text/html": [
       "<img src=\"https://nrs.harvard.edu/urn-3:HUAM:INV014585_dynmc\" width=\"300\"/>"
      ],
      "text/plain": [
       "<IPython.core.display.Image object>"
      ]
     },
     "metadata": {},
     "output_type": "display_data"
    },
    {
     "name": "stdout",
     "output_type": "stream",
     "text": [
      "Never Been Out of Mississippi (Negro woman who has never been out of Mississippi)\n",
      "1\n",
      "[{'role': 'Artist', 'birthplace': 'Hoboken, New Jersey', 'gender': 'female', 'displaydate': '1895 - 1965', 'prefix': None, 'culture': 'American', 'displayname': 'Dorothea Lange', 'alphasort': 'Lange, Dorothea', 'name': 'Dorothea Lange', 'personid': 27058, 'deathplace': 'San Francisco, California', 'displayorder': 1}]\n"
     ]
    },
    {
     "data": {
      "text/html": [
       "<img src=\"https://nrs.harvard.edu/urn-3:HUAM:78304_dynmc\" width=\"300\"/>"
      ],
      "text/plain": [
       "<IPython.core.display.Image object>"
      ]
     },
     "metadata": {},
     "output_type": "display_data"
    },
    {
     "name": "stdout",
     "output_type": "stream",
     "text": [
      "Negro using outside colored stairway to enter movie theatre, Belzoni, Missisissippi\n",
      "1\n",
      "[{'role': 'Artist', 'birthplace': 'Montclair, New Jersey', 'gender': 'female', 'displaydate': '1910 - 1990', 'prefix': None, 'culture': 'American', 'displayname': 'Marion Post Wolcott', 'alphasort': 'Wolcott, Marion Post', 'name': 'Marion Post Wolcott', 'personid': 35250, 'deathplace': 'Santa Barbara, California', 'displayorder': 1}]\n"
     ]
    },
    {
     "data": {
      "text/html": [
       "<img src=\"https://nrs.harvard.edu/urn-3:HUAM:755705\" width=\"300\"/>"
      ],
      "text/plain": [
       "<IPython.core.display.Image object>"
      ]
     },
     "metadata": {},
     "output_type": "display_data"
    },
    {
     "name": "stdout",
     "output_type": "stream",
     "text": [
      "Negros Jitterbugging in \"Juke Joint,\" Clarksdale, Mississippi\n",
      "1\n",
      "[{'role': 'Artist', 'birthplace': 'Montclair, New Jersey', 'gender': 'female', 'displaydate': '1910 - 1990', 'prefix': None, 'culture': 'American', 'displayname': 'Marion Post Wolcott', 'alphasort': 'Wolcott, Marion Post', 'name': 'Marion Post Wolcott', 'personid': 35250, 'deathplace': 'Santa Barbara, California', 'displayorder': 1}]\n"
     ]
    },
    {
     "data": {
      "text/html": [
       "<img src=\"https://nrs.harvard.edu/urn-3:HUAM:OCP10774_dynmc\" width=\"300\"/>"
      ],
      "text/plain": [
       "<IPython.core.display.Image object>"
      ]
     },
     "metadata": {},
     "output_type": "display_data"
    },
    {
     "name": "stdout",
     "output_type": "stream",
     "text": [
      "Housing, Conditions: United States. Pennsylvania. Pittsburgh. Pittsburgh Survey: McKees Rocks: First Floor below the level of the street; Leak roof; dilapidated walls. Occupied by Negroes.\n",
      "1\n",
      "[{'role': 'Artist', 'birthplace': 'Oshkosh, Wisconsin', 'gender': 'male', 'displaydate': '1874 - 1940', 'prefix': None, 'culture': 'American', 'displayname': 'Lewis Wickes Hine', 'alphasort': 'Hine, Lewis Wickes', 'name': 'Lewis Wickes Hine', 'personid': 34454, 'deathplace': 'Hastings-on-Hudson, New York', 'displayorder': 1}]\n"
     ]
    },
    {
     "data": {
      "text/html": [
       "<img src=\"https://nrs.harvard.edu/urn-3:HUAM:OCP11952_dlvr\" width=\"300\"/>"
      ],
      "text/plain": [
       "<IPython.core.display.Image object>"
      ]
     },
     "metadata": {},
     "output_type": "display_data"
    },
    {
     "name": "stdout",
     "output_type": "stream",
     "text": [
      "Charity, Public: United States. New York. Ghent. Columbia County Almshouse: Almshouses of Columbia County, N.Y.: Side View of Main Buildings: House for Negroes and Tramps; Men's department\n",
      "1\n",
      "[{'role': 'Artist', 'birthplace': None, 'gender': 'unknown', 'displaydate': None, 'prefix': None, 'culture': None, 'displayname': 'Unidentified Artist', 'alphasort': 'Unidentified Artist', 'name': 'Unidentified Artist', 'personid': 34147, 'deathplace': None, 'displayorder': 1}]\n"
     ]
    },
    {
     "data": {
      "text/html": [
       "<img src=\"https://nrs.harvard.edu/urn-3:HUAM:INV027887_dynmc\" width=\"300\"/>"
      ],
      "text/plain": [
       "<IPython.core.display.Image object>"
      ]
     },
     "metadata": {},
     "output_type": "display_data"
    },
    {
     "name": "stdout",
     "output_type": "stream",
     "text": [
      "New York\n",
      "1\n",
      "[{'role': 'Artist', 'birthplace': 'Rio de Janeiro', 'gender': 'male', 'displaydate': 'born 1954', 'prefix': None, 'culture': 'Brazilian', 'displayname': 'Milton Montenegro', 'alphasort': 'Montenegro, Milton', 'name': 'Milton Montenegro', 'personid': 21883, 'deathplace': None, 'displayorder': 1}]\n"
     ]
    },
    {
     "data": {
      "text/html": [
       "<img src=\"https://nrs.harvard.edu/urn-3:HUAM:DDC103841_dynmc\" width=\"300\"/>"
      ],
      "text/plain": [
       "<IPython.core.display.Image object>"
      ]
     },
     "metadata": {},
     "output_type": "display_data"
    },
    {
     "name": "stdout",
     "output_type": "stream",
     "text": [
      "You Became a Scientific Profile / A Negroid Type / An Anthropological Debate / & A Photographic Subject\n",
      "1\n",
      "[{'role': 'Artist', 'birthplace': 'Portland, Oregon, USA', 'gender': 'female', 'displaydate': 'born 1953', 'prefix': None, 'culture': 'American', 'displayname': 'Carrie Mae Weems', 'alphasort': 'Weems, Carrie Mae', 'name': 'Carrie Mae Weems', 'personid': 21824, 'deathplace': None, 'displayorder': 1}]\n"
     ]
    },
    {
     "data": {
      "text/html": [
       "<img src=\"https://nrs.harvard.edu/urn-3:HUAM:INV191674_dynmc\" width=\"300\"/>"
      ],
      "text/plain": [
       "<IPython.core.display.Image object>"
      ]
     },
     "metadata": {},
     "output_type": "display_data"
    },
    {
     "name": "stdout",
     "output_type": "stream",
     "text": [
      "Negro Page\n",
      "2\n",
      "[{'role': 'Artist', 'birthplace': None, 'gender': 'unidentified', 'displaydate': '19th century', 'prefix': None, 'culture': 'British', 'displayname': 'James Godfrey', 'alphasort': 'Godfrey, James', 'name': 'James Godfrey', 'personid': 32188, 'deathplace': None, 'displayorder': 1}, {'role': 'Artist after', 'birthplace': 'Dordrecht, Netherlands', 'gender': 'male', 'displaydate': '1620 - 1691', 'prefix': 'After', 'culture': 'Dutch', 'displayname': 'After Aelbert Cuyp', 'alphasort': 'Cuyp, Aelbert', 'name': 'Aelbert Cuyp', 'personid': 34364, 'deathplace': 'Dordrecht, Netherlands', 'displayorder': 2}]\n"
     ]
    }
   ],
   "source": [
    "no_df = other_ne_df[other_ne_df['peoplecount'] ==0]\n",
    "print(f\"There are {no_df.shape[0]} records with no people attributed to them.\")\n",
    "for index, row in other_ne_df.iterrows():\n",
    "    if not pd.isna(row['primaryimageurl']):\n",
    "        image_path = row['primaryimageurl']\n",
    "        display(Image(url = image_path, width = 300))\n",
    "        print(row['title'])\n",
    "        print(row['peoplecount'])\n",
    "        print(row['people'])"
   ]
  },
  {
   "cell_type": "code",
   "execution_count": null,
   "id": "66a4a2d9-b532-4992-8c61-696ed282139f",
   "metadata": {},
   "outputs": [],
   "source": []
  },
  {
   "cell_type": "markdown",
   "id": "b5f3dc95-abea-415e-ad67-19d378ffbe4e",
   "metadata": {},
   "source": [
    "## Identification through derogatory racial terms\n",
    "### 'negro'\n",
    "Of the 79 records, there are a number of images of people of color with their color (or derogatory names for their color) being the primary identifier rather than name. Eg. Negro Soldier, Two Women of Color, Dominica (French Mulatress of Dominica and a Negro Woman in their Proper Dress), Purchasing Fruit (A French Mulatress Purchasing Fruit from a Negro Wench).\n",
    "\n",
    "## Photographed people's Identity\n",
    "Another interesting observation is that there are a large number of photographs taken by Ben Shahn, a realist painter from the early 20th century. These were likely taken in the 1930s when Shahn was employed at the Resettlement Administration in Washington DC. The names of Black American subjects are largely excluded from the photos; additionally, it was noted that Shahn often used a right-angle viewfinder to take the photos while his subjects were unaware.\n",
    "\n",
    "'The compact and portable camera of the 1930s and 1940s was the 35mm Leica. Because of its novel size, it was also less conspicuous, and the right-angle viewfinder attachment allowed photographers to shoot subjects surreptitiously while facing away. With this advantage, photographers such as Walker Evans, Ben Shahn, and Helen Levitt made pictures of their subjects caught unawares on crowded streets.'\n",
    "\n",
    "https://www.portrait.gov.au/magazines/38/exposed-voyeurism-surveillance-and-the-camera-since-1870"
   ]
  },
  {
   "cell_type": "code",
   "execution_count": 462,
   "id": "914efb77-af0e-426f-bc35-4e8960347998",
   "metadata": {
    "scrolled": true
   },
   "outputs": [
    {
     "data": {
      "text/html": [
       "<div>\n",
       "<style scoped>\n",
       "    .dataframe tbody tr th:only-of-type {\n",
       "        vertical-align: middle;\n",
       "    }\n",
       "\n",
       "    .dataframe tbody tr th {\n",
       "        vertical-align: top;\n",
       "    }\n",
       "\n",
       "    .dataframe thead th {\n",
       "        text-align: right;\n",
       "    }\n",
       "</style>\n",
       "<table border=\"1\" class=\"dataframe\">\n",
       "  <thead>\n",
       "    <tr style=\"text-align: right;\">\n",
       "      <th></th>\n",
       "      <th>Unnamed: 0</th>\n",
       "      <th>copyright</th>\n",
       "      <th>contextualtextcount</th>\n",
       "      <th>creditline</th>\n",
       "      <th>accesslevel</th>\n",
       "      <th>createdate</th>\n",
       "      <th>dateoflastpageview</th>\n",
       "      <th>classificationid</th>\n",
       "      <th>division</th>\n",
       "      <th>markscount</th>\n",
       "      <th>publicationcount</th>\n",
       "      <th>totaluniquepageviews</th>\n",
       "      <th>terms</th>\n",
       "      <th>contact</th>\n",
       "      <th>colorcount</th>\n",
       "      <th>rank</th>\n",
       "      <th>id</th>\n",
       "      <th>state</th>\n",
       "      <th>verificationleveldescription</th>\n",
       "      <th>period</th>\n",
       "      <th>images</th>\n",
       "      <th>worktypes</th>\n",
       "      <th>imagecount</th>\n",
       "      <th>totalpageviews</th>\n",
       "      <th>accessionyear</th>\n",
       "      <th>standardreferencenumber</th>\n",
       "      <th>signed</th>\n",
       "      <th>classification</th>\n",
       "      <th>relatedcount</th>\n",
       "      <th>verificationlevel</th>\n",
       "      <th>primaryimageurl</th>\n",
       "      <th>titlescount</th>\n",
       "      <th>peoplecount</th>\n",
       "      <th>style</th>\n",
       "      <th>lastupdate</th>\n",
       "      <th>commentary</th>\n",
       "      <th>periodid</th>\n",
       "      <th>technique</th>\n",
       "      <th>edition</th>\n",
       "      <th>description</th>\n",
       "      <th>medium</th>\n",
       "      <th>lendingpermissionlevel</th>\n",
       "      <th>title</th>\n",
       "      <th>accessionmethod</th>\n",
       "      <th>colors</th>\n",
       "      <th>provenance</th>\n",
       "      <th>groupcount</th>\n",
       "      <th>dated</th>\n",
       "      <th>department</th>\n",
       "      <th>dateend</th>\n",
       "      <th>titles</th>\n",
       "      <th>people</th>\n",
       "      <th>url</th>\n",
       "      <th>dateoffirstpageview</th>\n",
       "      <th>century</th>\n",
       "      <th>objectnumber</th>\n",
       "      <th>labeltext</th>\n",
       "      <th>datebegin</th>\n",
       "      <th>culture</th>\n",
       "      <th>exhibitioncount</th>\n",
       "      <th>imagepermissionlevel</th>\n",
       "      <th>mediacount</th>\n",
       "      <th>objectid</th>\n",
       "      <th>techniqueid</th>\n",
       "      <th>dimensions</th>\n",
       "      <th>seeAlso</th>\n",
       "      <th>marks</th>\n",
       "      <th>related</th>\n",
       "      <th>places</th>\n",
       "      <th>exhibitions</th>\n",
       "      <th>publications</th>\n",
       "      <th>groupings</th>\n",
       "      <th>gallery</th>\n",
       "      <th>tags</th>\n",
       "      <th>details</th>\n",
       "      <th>contextualtext</th>\n",
       "      <th>media</th>\n",
       "      <th>videos</th>\n",
       "      <th>audio</th>\n",
       "    </tr>\n",
       "  </thead>\n",
       "  <tbody>\n",
       "    <tr>\n",
       "      <th>2934</th>\n",
       "      <td>34</td>\n",
       "      <td>© José Clemente Orozco / Artists Rights Society (ARS), New York / SOMAAP, Mexico</td>\n",
       "      <td>0</td>\n",
       "      <td>Harvard Art Museums/Fogg Museum, Louise E. Bettens Fund</td>\n",
       "      <td>1</td>\n",
       "      <td>1997-10-23T00:00:00-04:00</td>\n",
       "      <td>2025-03-02</td>\n",
       "      <td>23</td>\n",
       "      <td>Modern and Contemporary Art</td>\n",
       "      <td>0</td>\n",
       "      <td>0</td>\n",
       "      <td>52</td>\n",
       "      <td>{'century': [{'name': '20th century', 'id': 37525815}], 'culture': [{'name': 'Mexican', 'id': 37528029}]}</td>\n",
       "      <td>am_moderncontemporary@harvard.edu</td>\n",
       "      <td>9</td>\n",
       "      <td>227653</td>\n",
       "      <td>253351</td>\n",
       "      <td>NaN</td>\n",
       "      <td>Good. Object is well described and information is vetted</td>\n",
       "      <td>NaN</td>\n",
       "      <td>[{'date': '2024-01-30', 'copyright': 'President and Fellows of Harvard College', 'imageid': 549925, 'idsid': 498846623, 'format': 'image/jpeg', 'description': None, 'technique': 'Make:SONY;Model:ILCE-7RM4;Orientation:1;Software:Adobe Photoshop 25.3 (Macintosh);', 'renditionnumber': '789298', 'displayorder': 1, 'baseimageurl': 'https://nrs.harvard.edu/urn-3:HUAM:789298', 'alttext': None, 'width': 6110, 'publiccaption': None, 'iiifbaseuri': 'https://ids.lib.harvard.edu/ids/iiif/498846623', 'height': 8341}]</td>\n",
       "      <td>[{'worktypeid': '288', 'worktype': 'print'}]</td>\n",
       "      <td>1</td>\n",
       "      <td>63</td>\n",
       "      <td>1953.0</td>\n",
       "      <td>H. 2</td>\n",
       "      <td>l.r. in graphite: José Clemente Orozco</td>\n",
       "      <td>Prints</td>\n",
       "      <td>0</td>\n",
       "      <td>3</td>\n",
       "      <td>https://nrs.harvard.edu/urn-3:HUAM:789298</td>\n",
       "      <td>1</td>\n",
       "      <td>1</td>\n",
       "      <td>NaN</td>\n",
       "      <td>2025-03-29T05:01:07-04:00</td>\n",
       "      <td>NaN</td>\n",
       "      <td>NaN</td>\n",
       "      <td>Lithograph</td>\n",
       "      <td>NaN</td>\n",
       "      <td>NaN</td>\n",
       "      <td>NaN</td>\n",
       "      <td>0</td>\n",
       "      <td>The Franciscan and the Indian</td>\n",
       "      <td>Purchase</td>\n",
       "      <td>[{'color': '#c8c8af', 'spectrum': '#b55592', 'hue': 'Green', 'percent': 0.30819571865443424, 'css3': '#c0c0c0'}, {'color': '#323232', 'spectrum': '#2eb45d', 'hue': 'Grey', 'percent': 0.2130275229357798, 'css3': '#2f4f4f'}, {'color': '#4b4b4b', 'spectrum': '#3db657', 'hue': 'Grey', 'percent': 0.1873394495412844, 'css3': '#2f4f4f'}, {'color': '#646464', 'spectrum': '#7866ad', 'hue': 'Grey', 'percent': 0.11767584097859327, 'css3': '#696969'}, {'color': '#7d7d7d', 'spectrum': '#8362aa', 'hue': 'Grey', 'percent': 0.07749235474006116, 'css3': '#808080'}, {'color': '#e1e1c8', 'spectrum': '#e9715f', 'hue': 'Green', 'percent': 0.06397553516819572, 'css3': '#dcdcdc'}, {'color': '#96967d', 'spectrum': '#8e5ea7', 'hue': 'Green', 'percent': 0.012048929663608562, 'css3': '#808080'}, {'color': '#afaf96', 'spectrum': '#8e5ea7', 'hue': 'Green', 'percent': 0.010825688073394495, 'css3': '#a9a9a9'}, {'color': '#191919', 'spectrum': '#1eb264', 'hue': 'Grey', 'percent': 0.009418960244648318, 'css3': '#000000'}]</td>\n",
       "      <td>[E. Weyhe Gallery, New York, New York], sold; to Fogg Art Museum, 1953.</td>\n",
       "      <td>0</td>\n",
       "      <td>1929</td>\n",
       "      <td>Department of Prints</td>\n",
       "      <td>1929</td>\n",
       "      <td>[{'titletype': 'Title', 'titleid': 550980, 'displayorder': 1, 'title': 'The Franciscan and the Indian'}]</td>\n",
       "      <td>[{'role': 'Artist', 'birthplace': 'Cuidad Guzmán, Mexico', 'gender': 'male', 'displaydate': '1883 - 1949', 'prefix': None, 'culture': 'Mexican', 'displayname': 'José Clemente Orozco', 'alphasort': 'Orozco, José Clemente', 'name': 'José Clemente Orozco', 'personid': 27917, 'deathplace': 'Mexico City, Mexico', 'displayorder': 1}]</td>\n",
       "      <td>https://www.harvardartmuseums.org/collections/object/253351</td>\n",
       "      <td>2009-10-23</td>\n",
       "      <td>20th century</td>\n",
       "      <td>M12830</td>\n",
       "      <td>NaN</td>\n",
       "      <td>1929</td>\n",
       "      <td>Mexican</td>\n",
       "      <td>1</td>\n",
       "      <td>1</td>\n",
       "      <td>0</td>\n",
       "      <td>253351</td>\n",
       "      <td>136.0</td>\n",
       "      <td>image: 31.2 x 26.5 cm (12 5/16 x 10 7/16 in.)</td>\n",
       "      <td>[{'id': 'https://iiif.harvardartmuseums.org/manifests/object/253351', 'type': 'IIIF Manifest', 'format': 'application/json', 'profile': 'http://iiif.io/api/presentation/2/context.json'}]</td>\n",
       "      <td>NaN</td>\n",
       "      <td>NaN</td>\n",
       "      <td>NaN</td>\n",
       "      <td>[{'begindate': '2014-11-16', 'enddate': '2050-01-01', 'citation': '&lt;em&gt;32Q: 1320 Social Realism&lt;/em&gt;, Harvard Art Museums, Cambridge, 10/17/2024 - 04/14/2025', 'exhibitionid': 4626, 'title': '32Q: 1320 Social Realism'}]</td>\n",
       "      <td>NaN</td>\n",
       "      <td>NaN</td>\n",
       "      <td>{'begindate': '2024-10-17', 'gallerynumber': '1320', 'galleryid': '1320', 'name': 'Modern and Contemporary Art', 'theme': 'Social Realism', 'floor': '1', 'donorname': 'Arthur and Toni Rembe Rock Galleries'}</td>\n",
       "      <td>NaN</td>\n",
       "      <td>NaN</td>\n",
       "      <td>NaN</td>\n",
       "      <td>NaN</td>\n",
       "      <td>NaN</td>\n",
       "      <td>NaN</td>\n",
       "    </tr>\n",
       "    <tr>\n",
       "      <th>5653</th>\n",
       "      <td>53</td>\n",
       "      <td>NaN</td>\n",
       "      <td>0</td>\n",
       "      <td>Harvard Art Museums/Fogg Museum, Gift of James N. Rosenberg</td>\n",
       "      <td>1</td>\n",
       "      <td>1997-10-21T00:00:00-04:00</td>\n",
       "      <td>2025-01-10</td>\n",
       "      <td>23</td>\n",
       "      <td>Modern and Contemporary Art</td>\n",
       "      <td>0</td>\n",
       "      <td>0</td>\n",
       "      <td>25</td>\n",
       "      <td>{'century': [{'name': '19th century', 'id': 37525806}, {'name': '20th century', 'id': 37525815}], 'culture': [{'name': 'American', 'id': 37526778}]}</td>\n",
       "      <td>am_moderncontemporary@harvard.edu</td>\n",
       "      <td>10</td>\n",
       "      <td>220523</td>\n",
       "      <td>256115</td>\n",
       "      <td>NaN</td>\n",
       "      <td>Adequate. Object is adequately described but information may not be vetted</td>\n",
       "      <td>NaN</td>\n",
       "      <td>[{'date': '2006-05-10', 'copyright': 'President and Fellows of Harvard College', 'imageid': 172722, 'idsid': 18824405, 'format': 'image/jpeg', 'description': None, 'technique': None, 'renditionnumber': 'INV046847', 'displayorder': 1, 'baseimageurl': 'https://nrs.harvard.edu/urn-3:HUAM:INV046847_dynmc', 'alttext': None, 'width': 756, 'publiccaption': None, 'iiifbaseuri': 'https://ids.lib.harvard.edu/ids/iiif/18824405', 'height': 1024}]</td>\n",
       "      <td>[{'worktypeid': '288', 'worktype': 'print'}]</td>\n",
       "      <td>1</td>\n",
       "      <td>30</td>\n",
       "      <td>1929.0</td>\n",
       "      <td>NaN</td>\n",
       "      <td>NaN</td>\n",
       "      <td>Prints</td>\n",
       "      <td>0</td>\n",
       "      <td>2</td>\n",
       "      <td>https://nrs.harvard.edu/urn-3:HUAM:INV046847_dynmc</td>\n",
       "      <td>1</td>\n",
       "      <td>1</td>\n",
       "      <td>NaN</td>\n",
       "      <td>2025-03-29T05:01:10-04:00</td>\n",
       "      <td>NaN</td>\n",
       "      <td>NaN</td>\n",
       "      <td>Monotype</td>\n",
       "      <td>NaN</td>\n",
       "      <td>NaN</td>\n",
       "      <td>NaN</td>\n",
       "      <td>0</td>\n",
       "      <td>Lo, the Poor Indian</td>\n",
       "      <td>Gift</td>\n",
       "      <td>[{'color': '#321919', 'spectrum': '#3db657', 'hue': 'Brown', 'percent': 0.4132727272727273, 'css3': '#000000'}, {'color': '#4b3219', 'spectrum': '#4ab851', 'hue': 'Brown', 'percent': 0.13987878787878788, 'css3': '#556b2f'}, {'color': '#966432', 'spectrum': '#e46867', 'hue': 'Orange', 'percent': 0.11557575757575758, 'css3': '#a0522d'}, {'color': '#644b19', 'spectrum': '#64bc46', 'hue': 'Orange', 'percent': 0.09715151515151516, 'css3': '#8b4513'}, {'color': '#af7d4b', 'spectrum': '#e9715f', 'hue': 'Yellow', 'percent': 0.0673939393939394, 'css3': '#cd853f'}, {'color': '#c8af7d', 'spectrum': '#e9715f', 'hue': 'Brown', 'percent': 0.045515151515151515, 'css3': '#d2b48c'}, {'color': '#e1c8af', 'spectrum': '#e9715f', 'hue': 'Orange', 'percent': 0.04321212121212121, 'css3': '#f5deb3'}, {'color': '#c89664', 'spectrum': '#ed7758', 'hue': 'Brown', 'percent': 0.03636363636363636, 'css3': '#bdb76b'}, {'color': '#e1e1c8', 'spectrum': '#e9715f', 'hue': 'Green', 'percent': 0.01812121212121212, 'css3': '#dcdcdc'}, {'color': '#000000', 'spectrum': '#1eb264', 'hue': 'Black', 'percent': 0.017757575757575757, 'css3': '#000000'}]</td>\n",
       "      <td>NaN</td>\n",
       "      <td>0</td>\n",
       "      <td>19th-20th century</td>\n",
       "      <td>Department of Prints</td>\n",
       "      <td>0</td>\n",
       "      <td>[{'titletype': 'Title', 'titleid': 550212, 'displayorder': 1, 'title': 'Lo, the Poor Indian'}]</td>\n",
       "      <td>[{'role': 'Artist', 'birthplace': 'Kansas City, MO', 'gender': 'male', 'displaydate': '1874 - 1958', 'prefix': None, 'culture': 'American', 'displayname': 'Eugene Higgins', 'alphasort': 'Higgins, Eugene', 'name': 'Eugene Higgins', 'personid': 25678, 'deathplace': 'New York, NY', 'displayorder': 1}]</td>\n",
       "      <td>https://www.harvardartmuseums.org/collections/object/256115</td>\n",
       "      <td>2009-10-01</td>\n",
       "      <td>19th-20th century</td>\n",
       "      <td>M4564</td>\n",
       "      <td>NaN</td>\n",
       "      <td>0</td>\n",
       "      <td>American</td>\n",
       "      <td>0</td>\n",
       "      <td>0</td>\n",
       "      <td>0</td>\n",
       "      <td>256115</td>\n",
       "      <td>881.0</td>\n",
       "      <td>NaN</td>\n",
       "      <td>[{'id': 'https://iiif.harvardartmuseums.org/manifests/object/256115', 'type': 'IIIF Manifest', 'format': 'application/json', 'profile': 'http://iiif.io/api/presentation/2/context.json'}]</td>\n",
       "      <td>NaN</td>\n",
       "      <td>NaN</td>\n",
       "      <td>NaN</td>\n",
       "      <td>NaN</td>\n",
       "      <td>NaN</td>\n",
       "      <td>NaN</td>\n",
       "      <td>NaN</td>\n",
       "      <td>NaN</td>\n",
       "      <td>NaN</td>\n",
       "      <td>NaN</td>\n",
       "      <td>NaN</td>\n",
       "      <td>NaN</td>\n",
       "      <td>NaN</td>\n",
       "    </tr>\n",
       "    <tr>\n",
       "      <th>7026</th>\n",
       "      <td>26</td>\n",
       "      <td>NaN</td>\n",
       "      <td>0</td>\n",
       "      <td>Harvard Art Museums/Fogg Museum, Gift of Paul J. Sachs</td>\n",
       "      <td>1</td>\n",
       "      <td>1997-10-21T00:00:00-04:00</td>\n",
       "      <td>2025-03-06</td>\n",
       "      <td>23</td>\n",
       "      <td>Modern and Contemporary Art</td>\n",
       "      <td>1</td>\n",
       "      <td>0</td>\n",
       "      <td>14</td>\n",
       "      <td>{'century': [{'name': '20th century', 'id': 37525815}], 'culture': [{'name': 'American', 'id': 37526778}]}</td>\n",
       "      <td>am_moderncontemporary@harvard.edu</td>\n",
       "      <td>8</td>\n",
       "      <td>219368</td>\n",
       "      <td>257507</td>\n",
       "      <td>NaN</td>\n",
       "      <td>Good. Object is well described and information is vetted</td>\n",
       "      <td>NaN</td>\n",
       "      <td>[{'date': '2007-10-19', 'copyright': 'President and Fellows of Harvard College', 'imageid': 270941, 'idsid': 20424492, 'format': 'image/jpeg', 'description': None, 'technique': None, 'renditionnumber': 'INV162343', 'displayorder': 1, 'baseimageurl': 'https://nrs.harvard.edu/urn-3:HUAM:INV162343_dynmc', 'alttext': None, 'width': 745, 'publiccaption': None, 'iiifbaseuri': 'https://ids.lib.harvard.edu/ids/iiif/20424492', 'height': 1024}]</td>\n",
       "      <td>[{'worktypeid': '288', 'worktype': 'print'}]</td>\n",
       "      <td>1</td>\n",
       "      <td>15</td>\n",
       "      <td>1928.0</td>\n",
       "      <td>Weyhe 29 (?), Duffy 65</td>\n",
       "      <td>NaN</td>\n",
       "      <td>Prints</td>\n",
       "      <td>0</td>\n",
       "      <td>3</td>\n",
       "      <td>https://nrs.harvard.edu/urn-3:HUAM:INV162343_dynmc</td>\n",
       "      <td>1</td>\n",
       "      <td>1</td>\n",
       "      <td>NaN</td>\n",
       "      <td>2025-03-29T05:01:11-04:00</td>\n",
       "      <td>NaN</td>\n",
       "      <td>NaN</td>\n",
       "      <td>Woodcut</td>\n",
       "      <td>NaN</td>\n",
       "      <td>NaN</td>\n",
       "      <td>NaN</td>\n",
       "      <td>0</td>\n",
       "      <td>Taos Indian (Fat John?)</td>\n",
       "      <td>Gift</td>\n",
       "      <td>[{'color': '#c8afaf', 'spectrum': '#b55592', 'hue': 'Red', 'percent': 0.3091131498470948, 'css3': '#c0c0c0'}, {'color': '#321919', 'spectrum': '#3db657', 'hue': 'Brown', 'percent': 0.22128440366972477, 'css3': '#000000'}, {'color': '#191900', 'spectrum': '#2eb45d', 'hue': 'Brown', 'percent': 0.2160244648318043, 'css3': '#000000'}, {'color': '#4b3232', 'spectrum': '#4ab851', 'hue': 'Red', 'percent': 0.08538226299694189, 'css3': '#2f4f4f'}, {'color': '#af967d', 'spectrum': '#c25687', 'hue': 'Brown', 'percent': 0.05694189602446483, 'css3': '#bc8f8f'}, {'color': '#644b4b', 'spectrum': '#8362aa', 'hue': 'Brown', 'percent': 0.05688073394495413, 'css3': '#696969'}, {'color': '#7d6464', 'spectrum': '#8e5ea7', 'hue': 'Brown', 'percent': 0.02782874617737003, 'css3': '#696969'}, {'color': '#967d64', 'spectrum': '#b65590', 'hue': 'Brown', 'percent': 0.02654434250764526, 'css3': '#808080'}]</td>\n",
       "      <td>Paul J. Sachs, Cambridge, Massachusetts, gift; to Fogg Art Museum, March 1, 1928.</td>\n",
       "      <td>0</td>\n",
       "      <td>1927</td>\n",
       "      <td>Department of Prints</td>\n",
       "      <td>1927</td>\n",
       "      <td>[{'titletype': 'Title', 'titleid': 618148, 'displayorder': 1, 'title': 'Taos Indian (Fat John?)'}]</td>\n",
       "      <td>[{'role': 'Artist', 'birthplace': 'Springfield, Massachusetts', 'gender': 'male', 'displaydate': '1901 - 1980', 'prefix': None, 'culture': 'American', 'displayname': 'Howard Norton Cook', 'alphasort': 'Cook, Howard Norton', 'name': 'Howard Norton Cook', 'personid': 31662, 'deathplace': 'Santa Fe, New Mexico', 'displayorder': 1}]</td>\n",
       "      <td>https://www.harvardartmuseums.org/collections/object/257507</td>\n",
       "      <td>2014-04-11</td>\n",
       "      <td>20th century</td>\n",
       "      <td>M3417</td>\n",
       "      <td>NaN</td>\n",
       "      <td>1927</td>\n",
       "      <td>American</td>\n",
       "      <td>0</td>\n",
       "      <td>0</td>\n",
       "      <td>0</td>\n",
       "      <td>257507</td>\n",
       "      <td>194.0</td>\n",
       "      <td>block: 30.5 x 25.4 cm (12 x 10 in.)\\r\\nsheet: 37 x 27 cm (14 9/16 x 10 5/8 in.)</td>\n",
       "      <td>[{'id': 'https://iiif.harvardartmuseums.org/manifests/object/257507', 'type': 'IIIF Manifest', 'format': 'application/json', 'profile': 'http://iiif.io/api/presentation/2/context.json'}]</td>\n",
       "      <td>[{'text': 'Taos Indian     Howard Cook 1927', 'type': 'inscription'}]</td>\n",
       "      <td>NaN</td>\n",
       "      <td>NaN</td>\n",
       "      <td>NaN</td>\n",
       "      <td>NaN</td>\n",
       "      <td>NaN</td>\n",
       "      <td>NaN</td>\n",
       "      <td>NaN</td>\n",
       "      <td>NaN</td>\n",
       "      <td>NaN</td>\n",
       "      <td>NaN</td>\n",
       "      <td>NaN</td>\n",
       "      <td>NaN</td>\n",
       "    </tr>\n",
       "    <tr>\n",
       "      <th>7120</th>\n",
       "      <td>20</td>\n",
       "      <td>NaN</td>\n",
       "      <td>0</td>\n",
       "      <td>Harvard Art Museums/Fogg Museum, Gift of Charles H. Taylor</td>\n",
       "      <td>1</td>\n",
       "      <td>1997-10-21T00:00:00-04:00</td>\n",
       "      <td>2021-05-23</td>\n",
       "      <td>23</td>\n",
       "      <td>European and American Art</td>\n",
       "      <td>0</td>\n",
       "      <td>0</td>\n",
       "      <td>5</td>\n",
       "      <td>{'century': [{'name': '19th century', 'id': 37525806}], 'culture': [{'name': 'British', 'id': 37527039}]}</td>\n",
       "      <td>am_europeanamerican@harvard.edu</td>\n",
       "      <td>10</td>\n",
       "      <td>219162</td>\n",
       "      <td>257601</td>\n",
       "      <td>NaN</td>\n",
       "      <td>Adequate. Object is adequately described but information may not be vetted</td>\n",
       "      <td>NaN</td>\n",
       "      <td>[{'date': '2008-05-29', 'copyright': 'President and Fellows of Harvard College', 'imageid': 309792, 'idsid': 20458092, 'format': 'image/jpeg', 'description': None, 'technique': None, 'renditionnumber': 'INV193363', 'displayorder': 1, 'baseimageurl': 'https://nrs.harvard.edu/urn-3:HUAM:INV193363_dynmc', 'alttext': None, 'width': 707, 'publiccaption': None, 'iiifbaseuri': 'https://ids.lib.harvard.edu/ids/iiif/20458092', 'height': 1024}]</td>\n",
       "      <td>[{'worktypeid': '288', 'worktype': 'print'}]</td>\n",
       "      <td>1</td>\n",
       "      <td>6</td>\n",
       "      <td>1927.0</td>\n",
       "      <td>Lewis 157</td>\n",
       "      <td>NaN</td>\n",
       "      <td>Prints</td>\n",
       "      <td>0</td>\n",
       "      <td>2</td>\n",
       "      <td>https://nrs.harvard.edu/urn-3:HUAM:INV193363_dynmc</td>\n",
       "      <td>1</td>\n",
       "      <td>1</td>\n",
       "      <td>NaN</td>\n",
       "      <td>2025-03-29T05:01:11-04:00</td>\n",
       "      <td>NaN</td>\n",
       "      <td>NaN</td>\n",
       "      <td>Baxter process</td>\n",
       "      <td>NaN</td>\n",
       "      <td>NaN</td>\n",
       "      <td>NaN</td>\n",
       "      <td>0</td>\n",
       "      <td>Indian Settlement</td>\n",
       "      <td>Gift</td>\n",
       "      <td>[{'color': '#c8c8af', 'spectrum': '#b55592', 'hue': 'Green', 'percent': 0.8377993527508091, 'css3': '#c0c0c0'}, {'color': '#e1e1c8', 'spectrum': '#e9715f', 'hue': 'Green', 'percent': 0.04673139158576052, 'css3': '#dcdcdc'}, {'color': '#7d6432', 'spectrum': '#6cbd45', 'hue': 'Yellow', 'percent': 0.024724919093851133, 'css3': '#a0522d'}, {'color': '#96967d', 'spectrum': '#8e5ea7', 'hue': 'Green', 'percent': 0.023624595469255664, 'css3': '#808080'}, {'color': '#644b19', 'spectrum': '#64bc46', 'hue': 'Orange', 'percent': 0.02045307443365696, 'css3': '#8b4513'}, {'color': '#7d7d64', 'spectrum': '#6cbd45', 'hue': 'Yellow', 'percent': 0.015145631067961166, 'css3': '#808080'}, {'color': '#323219', 'spectrum': '#3db657', 'hue': 'Brown', 'percent': 0.012038834951456311, 'css3': '#2f4f4f'}, {'color': '#967d4b', 'spectrum': '#7fc241', 'hue': 'Brown', 'percent': 0.010809061488673138, 'css3': '#a0522d'}, {'color': '#191919', 'spectrum': '#1eb264', 'hue': 'Grey', 'percent': 0.007896440129449837, 'css3': '#000000'}, {'color': '#000000', 'spectrum': '#1eb264', 'hue': 'Black', 'percent': 0.0007766990291262136, 'css3': '#000000'}]</td>\n",
       "      <td>NaN</td>\n",
       "      <td>0</td>\n",
       "      <td>19th century</td>\n",
       "      <td>Department of Prints</td>\n",
       "      <td>0</td>\n",
       "      <td>[{'titletype': 'Title', 'titleid': 549714, 'displayorder': 1, 'title': 'Indian Settlement'}]</td>\n",
       "      <td>[{'role': 'Artist', 'birthplace': None, 'gender': 'male', 'displaydate': '1804 - 1867', 'prefix': None, 'culture': 'British', 'displayname': 'George Baxter', 'alphasort': 'Baxter, George', 'name': 'George Baxter', 'personid': 31197, 'deathplace': None, 'displayorder': 1}]</td>\n",
       "      <td>https://www.harvardartmuseums.org/collections/object/257601</td>\n",
       "      <td>2012-05-07</td>\n",
       "      <td>19th century</td>\n",
       "      <td>M3205</td>\n",
       "      <td>NaN</td>\n",
       "      <td>0</td>\n",
       "      <td>British</td>\n",
       "      <td>0</td>\n",
       "      <td>0</td>\n",
       "      <td>0</td>\n",
       "      <td>257601</td>\n",
       "      <td>1940.0</td>\n",
       "      <td>NaN</td>\n",
       "      <td>[{'id': 'https://iiif.harvardartmuseums.org/manifests/object/257601', 'type': 'IIIF Manifest', 'format': 'application/json', 'profile': 'http://iiif.io/api/presentation/2/context.json'}]</td>\n",
       "      <td>NaN</td>\n",
       "      <td>NaN</td>\n",
       "      <td>NaN</td>\n",
       "      <td>NaN</td>\n",
       "      <td>NaN</td>\n",
       "      <td>NaN</td>\n",
       "      <td>NaN</td>\n",
       "      <td>NaN</td>\n",
       "      <td>NaN</td>\n",
       "      <td>NaN</td>\n",
       "      <td>NaN</td>\n",
       "      <td>NaN</td>\n",
       "      <td>NaN</td>\n",
       "    </tr>\n",
       "    <tr>\n",
       "      <th>7410</th>\n",
       "      <td>10</td>\n",
       "      <td>NaN</td>\n",
       "      <td>0</td>\n",
       "      <td>Harvard Art Museums/Fogg Museum, Gift of Misses Margaret and Mary F. Edson</td>\n",
       "      <td>1</td>\n",
       "      <td>1997-10-21T00:00:00-04:00</td>\n",
       "      <td>2024-11-06</td>\n",
       "      <td>23</td>\n",
       "      <td>European and American Art</td>\n",
       "      <td>0</td>\n",
       "      <td>0</td>\n",
       "      <td>5</td>\n",
       "      <td>{'century': [{'name': '20th century', 'id': 37525815}, {'name': '19th century', 'id': 37525806}], 'culture': [{'name': 'American', 'id': 37526778}]}</td>\n",
       "      <td>am_europeanamerican@harvard.edu</td>\n",
       "      <td>7</td>\n",
       "      <td>224212</td>\n",
       "      <td>257891</td>\n",
       "      <td>NaN</td>\n",
       "      <td>Adequate. Object is adequately described but information may not be vetted</td>\n",
       "      <td>NaN</td>\n",
       "      <td>[{'date': '2007-08-03', 'copyright': 'President and Fellows of Harvard College', 'imageid': 258108, 'idsid': 20411041, 'format': 'image/jpeg', 'description': None, 'technique': None, 'renditionnumber': 'INV155128', 'displayorder': 1, 'baseimageurl': 'https://nrs.harvard.edu/urn-3:HUAM:INV155128_dynmc', 'alttext': None, 'width': 1024, 'publiccaption': None, 'iiifbaseuri': 'https://ids.lib.harvard.edu/ids/iiif/20411041', 'height': 737}]</td>\n",
       "      <td>[{'worktypeid': '288', 'worktype': 'print'}]</td>\n",
       "      <td>1</td>\n",
       "      <td>6</td>\n",
       "      <td>1935.0</td>\n",
       "      <td>NaN</td>\n",
       "      <td>NaN</td>\n",
       "      <td>Prints</td>\n",
       "      <td>0</td>\n",
       "      <td>2</td>\n",
       "      <td>https://nrs.harvard.edu/urn-3:HUAM:INV155128_dynmc</td>\n",
       "      <td>1</td>\n",
       "      <td>1</td>\n",
       "      <td>NaN</td>\n",
       "      <td>2025-03-29T05:01:11-04:00</td>\n",
       "      <td>NaN</td>\n",
       "      <td>NaN</td>\n",
       "      <td>Etching</td>\n",
       "      <td>NaN</td>\n",
       "      <td>NaN</td>\n",
       "      <td>NaN</td>\n",
       "      <td>0</td>\n",
       "      <td>Indian Homes, Gila River, Arizona</td>\n",
       "      <td>Gift</td>\n",
       "      <td>[{'color': '#e1c8af', 'spectrum': '#e9715f', 'hue': 'Orange', 'percent': 0.915202492211838, 'css3': '#f5deb3'}, {'color': '#969664', 'spectrum': '#84c441', 'hue': 'Green', 'percent': 0.03102803738317757, 'css3': '#808080'}, {'color': '#afaf7d', 'spectrum': '#9ecb3b', 'hue': 'Green', 'percent': 0.027912772585669782, 'css3': '#bdb76b'}, {'color': '#64644b', 'spectrum': '#59ba4a', 'hue': 'Green', 'percent': 0.011090342679127726, 'css3': '#696969'}, {'color': '#4b4b32', 'spectrum': '#4ab851', 'hue': 'Green', 'percent': 0.007414330218068536, 'css3': '#556b2f'}, {'color': '#323219', 'spectrum': '#3db657', 'hue': 'Brown', 'percent': 0.004299065420560748, 'css3': '#2f4f4f'}, {'color': '#191919', 'spectrum': '#1eb264', 'hue': 'Grey', 'percent': 0.0030529595015576323, 'css3': '#000000'}]</td>\n",
       "      <td>NaN</td>\n",
       "      <td>0</td>\n",
       "      <td>19th-20th century</td>\n",
       "      <td>Department of Prints</td>\n",
       "      <td>0</td>\n",
       "      <td>[{'titletype': 'Title', 'titleid': 481291, 'displayorder': 1, 'title': 'Indian Homes, Gila River, Arizona'}]</td>\n",
       "      <td>[{'role': 'Artist', 'birthplace': None, 'gender': 'male', 'displaydate': '1859 - 1939', 'prefix': None, 'culture': 'American', 'displayname': 'George Elbert Burr', 'alphasort': 'Burr, George Elbert', 'name': 'George Elbert Burr', 'personid': 31447, 'deathplace': None, 'displayorder': 1}]</td>\n",
       "      <td>https://www.harvardartmuseums.org/collections/object/257891</td>\n",
       "      <td>2013-01-20</td>\n",
       "      <td>19th-20th century</td>\n",
       "      <td>M8305</td>\n",
       "      <td>NaN</td>\n",
       "      <td>0</td>\n",
       "      <td>American</td>\n",
       "      <td>0</td>\n",
       "      <td>0</td>\n",
       "      <td>0</td>\n",
       "      <td>257891</td>\n",
       "      <td>116.0</td>\n",
       "      <td>NaN</td>\n",
       "      <td>[{'id': 'https://iiif.harvardartmuseums.org/manifests/object/257891', 'type': 'IIIF Manifest', 'format': 'application/json', 'profile': 'http://iiif.io/api/presentation/2/context.json'}]</td>\n",
       "      <td>NaN</td>\n",
       "      <td>NaN</td>\n",
       "      <td>NaN</td>\n",
       "      <td>NaN</td>\n",
       "      <td>NaN</td>\n",
       "      <td>NaN</td>\n",
       "      <td>NaN</td>\n",
       "      <td>NaN</td>\n",
       "      <td>NaN</td>\n",
       "      <td>NaN</td>\n",
       "      <td>NaN</td>\n",
       "      <td>NaN</td>\n",
       "      <td>NaN</td>\n",
       "    </tr>\n",
       "  </tbody>\n",
       "</table>\n",
       "</div>"
      ],
      "text/plain": [
       "      Unnamed: 0  \\\n",
       "2934          34   \n",
       "5653          53   \n",
       "7026          26   \n",
       "7120          20   \n",
       "7410          10   \n",
       "\n",
       "                                                                             copyright  \\\n",
       "2934  © José Clemente Orozco / Artists Rights Society (ARS), New York / SOMAAP, Mexico   \n",
       "5653                                                                               NaN   \n",
       "7026                                                                               NaN   \n",
       "7120                                                                               NaN   \n",
       "7410                                                                               NaN   \n",
       "\n",
       "      contextualtextcount  \\\n",
       "2934                    0   \n",
       "5653                    0   \n",
       "7026                    0   \n",
       "7120                    0   \n",
       "7410                    0   \n",
       "\n",
       "                                                                      creditline  \\\n",
       "2934                     Harvard Art Museums/Fogg Museum, Louise E. Bettens Fund   \n",
       "5653                 Harvard Art Museums/Fogg Museum, Gift of James N. Rosenberg   \n",
       "7026                      Harvard Art Museums/Fogg Museum, Gift of Paul J. Sachs   \n",
       "7120                  Harvard Art Museums/Fogg Museum, Gift of Charles H. Taylor   \n",
       "7410  Harvard Art Museums/Fogg Museum, Gift of Misses Margaret and Mary F. Edson   \n",
       "\n",
       "      accesslevel                 createdate dateoflastpageview  \\\n",
       "2934            1  1997-10-23T00:00:00-04:00         2025-03-02   \n",
       "5653            1  1997-10-21T00:00:00-04:00         2025-01-10   \n",
       "7026            1  1997-10-21T00:00:00-04:00         2025-03-06   \n",
       "7120            1  1997-10-21T00:00:00-04:00         2021-05-23   \n",
       "7410            1  1997-10-21T00:00:00-04:00         2024-11-06   \n",
       "\n",
       "      classificationid                     division  markscount  \\\n",
       "2934                23  Modern and Contemporary Art           0   \n",
       "5653                23  Modern and Contemporary Art           0   \n",
       "7026                23  Modern and Contemporary Art           1   \n",
       "7120                23    European and American Art           0   \n",
       "7410                23    European and American Art           0   \n",
       "\n",
       "      publicationcount  totaluniquepageviews  \\\n",
       "2934                 0                    52   \n",
       "5653                 0                    25   \n",
       "7026                 0                    14   \n",
       "7120                 0                     5   \n",
       "7410                 0                     5   \n",
       "\n",
       "                                                                                                                                                     terms  \\\n",
       "2934                                             {'century': [{'name': '20th century', 'id': 37525815}], 'culture': [{'name': 'Mexican', 'id': 37528029}]}   \n",
       "5653  {'century': [{'name': '19th century', 'id': 37525806}, {'name': '20th century', 'id': 37525815}], 'culture': [{'name': 'American', 'id': 37526778}]}   \n",
       "7026                                            {'century': [{'name': '20th century', 'id': 37525815}], 'culture': [{'name': 'American', 'id': 37526778}]}   \n",
       "7120                                             {'century': [{'name': '19th century', 'id': 37525806}], 'culture': [{'name': 'British', 'id': 37527039}]}   \n",
       "7410  {'century': [{'name': '20th century', 'id': 37525815}, {'name': '19th century', 'id': 37525806}], 'culture': [{'name': 'American', 'id': 37526778}]}   \n",
       "\n",
       "                                contact  colorcount    rank      id state  \\\n",
       "2934  am_moderncontemporary@harvard.edu           9  227653  253351   NaN   \n",
       "5653  am_moderncontemporary@harvard.edu          10  220523  256115   NaN   \n",
       "7026  am_moderncontemporary@harvard.edu           8  219368  257507   NaN   \n",
       "7120    am_europeanamerican@harvard.edu          10  219162  257601   NaN   \n",
       "7410    am_europeanamerican@harvard.edu           7  224212  257891   NaN   \n",
       "\n",
       "                                                    verificationleveldescription  \\\n",
       "2934                    Good. Object is well described and information is vetted   \n",
       "5653  Adequate. Object is adequately described but information may not be vetted   \n",
       "7026                    Good. Object is well described and information is vetted   \n",
       "7120  Adequate. Object is adequately described but information may not be vetted   \n",
       "7410  Adequate. Object is adequately described but information may not be vetted   \n",
       "\n",
       "     period  \\\n",
       "2934    NaN   \n",
       "5653    NaN   \n",
       "7026    NaN   \n",
       "7120    NaN   \n",
       "7410    NaN   \n",
       "\n",
       "                                                                                                                                                                                                                                                                                                                                                                                                                                                                                                                             images  \\\n",
       "2934  [{'date': '2024-01-30', 'copyright': 'President and Fellows of Harvard College', 'imageid': 549925, 'idsid': 498846623, 'format': 'image/jpeg', 'description': None, 'technique': 'Make:SONY;Model:ILCE-7RM4;Orientation:1;Software:Adobe Photoshop 25.3 (Macintosh);', 'renditionnumber': '789298', 'displayorder': 1, 'baseimageurl': 'https://nrs.harvard.edu/urn-3:HUAM:789298', 'alttext': None, 'width': 6110, 'publiccaption': None, 'iiifbaseuri': 'https://ids.lib.harvard.edu/ids/iiif/498846623', 'height': 8341}]   \n",
       "5653                                                                         [{'date': '2006-05-10', 'copyright': 'President and Fellows of Harvard College', 'imageid': 172722, 'idsid': 18824405, 'format': 'image/jpeg', 'description': None, 'technique': None, 'renditionnumber': 'INV046847', 'displayorder': 1, 'baseimageurl': 'https://nrs.harvard.edu/urn-3:HUAM:INV046847_dynmc', 'alttext': None, 'width': 756, 'publiccaption': None, 'iiifbaseuri': 'https://ids.lib.harvard.edu/ids/iiif/18824405', 'height': 1024}]   \n",
       "7026                                                                         [{'date': '2007-10-19', 'copyright': 'President and Fellows of Harvard College', 'imageid': 270941, 'idsid': 20424492, 'format': 'image/jpeg', 'description': None, 'technique': None, 'renditionnumber': 'INV162343', 'displayorder': 1, 'baseimageurl': 'https://nrs.harvard.edu/urn-3:HUAM:INV162343_dynmc', 'alttext': None, 'width': 745, 'publiccaption': None, 'iiifbaseuri': 'https://ids.lib.harvard.edu/ids/iiif/20424492', 'height': 1024}]   \n",
       "7120                                                                         [{'date': '2008-05-29', 'copyright': 'President and Fellows of Harvard College', 'imageid': 309792, 'idsid': 20458092, 'format': 'image/jpeg', 'description': None, 'technique': None, 'renditionnumber': 'INV193363', 'displayorder': 1, 'baseimageurl': 'https://nrs.harvard.edu/urn-3:HUAM:INV193363_dynmc', 'alttext': None, 'width': 707, 'publiccaption': None, 'iiifbaseuri': 'https://ids.lib.harvard.edu/ids/iiif/20458092', 'height': 1024}]   \n",
       "7410                                                                         [{'date': '2007-08-03', 'copyright': 'President and Fellows of Harvard College', 'imageid': 258108, 'idsid': 20411041, 'format': 'image/jpeg', 'description': None, 'technique': None, 'renditionnumber': 'INV155128', 'displayorder': 1, 'baseimageurl': 'https://nrs.harvard.edu/urn-3:HUAM:INV155128_dynmc', 'alttext': None, 'width': 1024, 'publiccaption': None, 'iiifbaseuri': 'https://ids.lib.harvard.edu/ids/iiif/20411041', 'height': 737}]   \n",
       "\n",
       "                                         worktypes  imagecount  \\\n",
       "2934  [{'worktypeid': '288', 'worktype': 'print'}]           1   \n",
       "5653  [{'worktypeid': '288', 'worktype': 'print'}]           1   \n",
       "7026  [{'worktypeid': '288', 'worktype': 'print'}]           1   \n",
       "7120  [{'worktypeid': '288', 'worktype': 'print'}]           1   \n",
       "7410  [{'worktypeid': '288', 'worktype': 'print'}]           1   \n",
       "\n",
       "      totalpageviews  accessionyear standardreferencenumber  \\\n",
       "2934              63         1953.0                    H. 2   \n",
       "5653              30         1929.0                     NaN   \n",
       "7026              15         1928.0  Weyhe 29 (?), Duffy 65   \n",
       "7120               6         1927.0               Lewis 157   \n",
       "7410               6         1935.0                     NaN   \n",
       "\n",
       "                                      signed classification  relatedcount  \\\n",
       "2934  l.r. in graphite: José Clemente Orozco         Prints             0   \n",
       "5653                                     NaN         Prints             0   \n",
       "7026                                     NaN         Prints             0   \n",
       "7120                                     NaN         Prints             0   \n",
       "7410                                     NaN         Prints             0   \n",
       "\n",
       "      verificationlevel                                     primaryimageurl  \\\n",
       "2934                  3           https://nrs.harvard.edu/urn-3:HUAM:789298   \n",
       "5653                  2  https://nrs.harvard.edu/urn-3:HUAM:INV046847_dynmc   \n",
       "7026                  3  https://nrs.harvard.edu/urn-3:HUAM:INV162343_dynmc   \n",
       "7120                  2  https://nrs.harvard.edu/urn-3:HUAM:INV193363_dynmc   \n",
       "7410                  2  https://nrs.harvard.edu/urn-3:HUAM:INV155128_dynmc   \n",
       "\n",
       "      titlescount  peoplecount style                 lastupdate commentary  \\\n",
       "2934            1            1   NaN  2025-03-29T05:01:07-04:00        NaN   \n",
       "5653            1            1   NaN  2025-03-29T05:01:10-04:00        NaN   \n",
       "7026            1            1   NaN  2025-03-29T05:01:11-04:00        NaN   \n",
       "7120            1            1   NaN  2025-03-29T05:01:11-04:00        NaN   \n",
       "7410            1            1   NaN  2025-03-29T05:01:11-04:00        NaN   \n",
       "\n",
       "      periodid       technique edition description medium  \\\n",
       "2934       NaN      Lithograph     NaN         NaN    NaN   \n",
       "5653       NaN        Monotype     NaN         NaN    NaN   \n",
       "7026       NaN         Woodcut     NaN         NaN    NaN   \n",
       "7120       NaN  Baxter process     NaN         NaN    NaN   \n",
       "7410       NaN         Etching     NaN         NaN    NaN   \n",
       "\n",
       "      lendingpermissionlevel                              title  \\\n",
       "2934                       0      The Franciscan and the Indian   \n",
       "5653                       0                Lo, the Poor Indian   \n",
       "7026                       0            Taos Indian (Fat John?)   \n",
       "7120                       0                  Indian Settlement   \n",
       "7410                       0  Indian Homes, Gila River, Arizona   \n",
       "\n",
       "     accessionmethod  \\\n",
       "2934        Purchase   \n",
       "5653            Gift   \n",
       "7026            Gift   \n",
       "7120            Gift   \n",
       "7410            Gift   \n",
       "\n",
       "                                                                                                                                                                                                                                                                                                                                                                                                                                                                                                                                                                                                                                                                                                                                                                                                                                                                                                                                                                                                                                                                                                                                                                         colors  \\\n",
       "2934                                                                                                                               [{'color': '#c8c8af', 'spectrum': '#b55592', 'hue': 'Green', 'percent': 0.30819571865443424, 'css3': '#c0c0c0'}, {'color': '#323232', 'spectrum': '#2eb45d', 'hue': 'Grey', 'percent': 0.2130275229357798, 'css3': '#2f4f4f'}, {'color': '#4b4b4b', 'spectrum': '#3db657', 'hue': 'Grey', 'percent': 0.1873394495412844, 'css3': '#2f4f4f'}, {'color': '#646464', 'spectrum': '#7866ad', 'hue': 'Grey', 'percent': 0.11767584097859327, 'css3': '#696969'}, {'color': '#7d7d7d', 'spectrum': '#8362aa', 'hue': 'Grey', 'percent': 0.07749235474006116, 'css3': '#808080'}, {'color': '#e1e1c8', 'spectrum': '#e9715f', 'hue': 'Green', 'percent': 0.06397553516819572, 'css3': '#dcdcdc'}, {'color': '#96967d', 'spectrum': '#8e5ea7', 'hue': 'Green', 'percent': 0.012048929663608562, 'css3': '#808080'}, {'color': '#afaf96', 'spectrum': '#8e5ea7', 'hue': 'Green', 'percent': 0.010825688073394495, 'css3': '#a9a9a9'}, {'color': '#191919', 'spectrum': '#1eb264', 'hue': 'Grey', 'percent': 0.009418960244648318, 'css3': '#000000'}]   \n",
       "5653       [{'color': '#321919', 'spectrum': '#3db657', 'hue': 'Brown', 'percent': 0.4132727272727273, 'css3': '#000000'}, {'color': '#4b3219', 'spectrum': '#4ab851', 'hue': 'Brown', 'percent': 0.13987878787878788, 'css3': '#556b2f'}, {'color': '#966432', 'spectrum': '#e46867', 'hue': 'Orange', 'percent': 0.11557575757575758, 'css3': '#a0522d'}, {'color': '#644b19', 'spectrum': '#64bc46', 'hue': 'Orange', 'percent': 0.09715151515151516, 'css3': '#8b4513'}, {'color': '#af7d4b', 'spectrum': '#e9715f', 'hue': 'Yellow', 'percent': 0.0673939393939394, 'css3': '#cd853f'}, {'color': '#c8af7d', 'spectrum': '#e9715f', 'hue': 'Brown', 'percent': 0.045515151515151515, 'css3': '#d2b48c'}, {'color': '#e1c8af', 'spectrum': '#e9715f', 'hue': 'Orange', 'percent': 0.04321212121212121, 'css3': '#f5deb3'}, {'color': '#c89664', 'spectrum': '#ed7758', 'hue': 'Brown', 'percent': 0.03636363636363636, 'css3': '#bdb76b'}, {'color': '#e1e1c8', 'spectrum': '#e9715f', 'hue': 'Green', 'percent': 0.01812121212121212, 'css3': '#dcdcdc'}, {'color': '#000000', 'spectrum': '#1eb264', 'hue': 'Black', 'percent': 0.017757575757575757, 'css3': '#000000'}]   \n",
       "7026                                                                                                                                                                                                                                                 [{'color': '#c8afaf', 'spectrum': '#b55592', 'hue': 'Red', 'percent': 0.3091131498470948, 'css3': '#c0c0c0'}, {'color': '#321919', 'spectrum': '#3db657', 'hue': 'Brown', 'percent': 0.22128440366972477, 'css3': '#000000'}, {'color': '#191900', 'spectrum': '#2eb45d', 'hue': 'Brown', 'percent': 0.2160244648318043, 'css3': '#000000'}, {'color': '#4b3232', 'spectrum': '#4ab851', 'hue': 'Red', 'percent': 0.08538226299694189, 'css3': '#2f4f4f'}, {'color': '#af967d', 'spectrum': '#c25687', 'hue': 'Brown', 'percent': 0.05694189602446483, 'css3': '#bc8f8f'}, {'color': '#644b4b', 'spectrum': '#8362aa', 'hue': 'Brown', 'percent': 0.05688073394495413, 'css3': '#696969'}, {'color': '#7d6464', 'spectrum': '#8e5ea7', 'hue': 'Brown', 'percent': 0.02782874617737003, 'css3': '#696969'}, {'color': '#967d64', 'spectrum': '#b65590', 'hue': 'Brown', 'percent': 0.02654434250764526, 'css3': '#808080'}]   \n",
       "7120  [{'color': '#c8c8af', 'spectrum': '#b55592', 'hue': 'Green', 'percent': 0.8377993527508091, 'css3': '#c0c0c0'}, {'color': '#e1e1c8', 'spectrum': '#e9715f', 'hue': 'Green', 'percent': 0.04673139158576052, 'css3': '#dcdcdc'}, {'color': '#7d6432', 'spectrum': '#6cbd45', 'hue': 'Yellow', 'percent': 0.024724919093851133, 'css3': '#a0522d'}, {'color': '#96967d', 'spectrum': '#8e5ea7', 'hue': 'Green', 'percent': 0.023624595469255664, 'css3': '#808080'}, {'color': '#644b19', 'spectrum': '#64bc46', 'hue': 'Orange', 'percent': 0.02045307443365696, 'css3': '#8b4513'}, {'color': '#7d7d64', 'spectrum': '#6cbd45', 'hue': 'Yellow', 'percent': 0.015145631067961166, 'css3': '#808080'}, {'color': '#323219', 'spectrum': '#3db657', 'hue': 'Brown', 'percent': 0.012038834951456311, 'css3': '#2f4f4f'}, {'color': '#967d4b', 'spectrum': '#7fc241', 'hue': 'Brown', 'percent': 0.010809061488673138, 'css3': '#a0522d'}, {'color': '#191919', 'spectrum': '#1eb264', 'hue': 'Grey', 'percent': 0.007896440129449837, 'css3': '#000000'}, {'color': '#000000', 'spectrum': '#1eb264', 'hue': 'Black', 'percent': 0.0007766990291262136, 'css3': '#000000'}]   \n",
       "7410                                                                                                                                                                                                                                                                                                                                                       [{'color': '#e1c8af', 'spectrum': '#e9715f', 'hue': 'Orange', 'percent': 0.915202492211838, 'css3': '#f5deb3'}, {'color': '#969664', 'spectrum': '#84c441', 'hue': 'Green', 'percent': 0.03102803738317757, 'css3': '#808080'}, {'color': '#afaf7d', 'spectrum': '#9ecb3b', 'hue': 'Green', 'percent': 0.027912772585669782, 'css3': '#bdb76b'}, {'color': '#64644b', 'spectrum': '#59ba4a', 'hue': 'Green', 'percent': 0.011090342679127726, 'css3': '#696969'}, {'color': '#4b4b32', 'spectrum': '#4ab851', 'hue': 'Green', 'percent': 0.007414330218068536, 'css3': '#556b2f'}, {'color': '#323219', 'spectrum': '#3db657', 'hue': 'Brown', 'percent': 0.004299065420560748, 'css3': '#2f4f4f'}, {'color': '#191919', 'spectrum': '#1eb264', 'hue': 'Grey', 'percent': 0.0030529595015576323, 'css3': '#000000'}]   \n",
       "\n",
       "                                                                             provenance  \\\n",
       "2934            [E. Weyhe Gallery, New York, New York], sold; to Fogg Art Museum, 1953.   \n",
       "5653                                                                                NaN   \n",
       "7026  Paul J. Sachs, Cambridge, Massachusetts, gift; to Fogg Art Museum, March 1, 1928.   \n",
       "7120                                                                                NaN   \n",
       "7410                                                                                NaN   \n",
       "\n",
       "      groupcount              dated            department  dateend  \\\n",
       "2934           0               1929  Department of Prints     1929   \n",
       "5653           0  19th-20th century  Department of Prints        0   \n",
       "7026           0               1927  Department of Prints     1927   \n",
       "7120           0       19th century  Department of Prints        0   \n",
       "7410           0  19th-20th century  Department of Prints        0   \n",
       "\n",
       "                                                                                                            titles  \\\n",
       "2934      [{'titletype': 'Title', 'titleid': 550980, 'displayorder': 1, 'title': 'The Franciscan and the Indian'}]   \n",
       "5653                [{'titletype': 'Title', 'titleid': 550212, 'displayorder': 1, 'title': 'Lo, the Poor Indian'}]   \n",
       "7026            [{'titletype': 'Title', 'titleid': 618148, 'displayorder': 1, 'title': 'Taos Indian (Fat John?)'}]   \n",
       "7120                  [{'titletype': 'Title', 'titleid': 549714, 'displayorder': 1, 'title': 'Indian Settlement'}]   \n",
       "7410  [{'titletype': 'Title', 'titleid': 481291, 'displayorder': 1, 'title': 'Indian Homes, Gila River, Arizona'}]   \n",
       "\n",
       "                                                                                                                                                                                                                                                                                                                                          people  \\\n",
       "2934   [{'role': 'Artist', 'birthplace': 'Cuidad Guzmán, Mexico', 'gender': 'male', 'displaydate': '1883 - 1949', 'prefix': None, 'culture': 'Mexican', 'displayname': 'José Clemente Orozco', 'alphasort': 'Orozco, José Clemente', 'name': 'José Clemente Orozco', 'personid': 27917, 'deathplace': 'Mexico City, Mexico', 'displayorder': 1}]   \n",
       "5653                                 [{'role': 'Artist', 'birthplace': 'Kansas City, MO', 'gender': 'male', 'displaydate': '1874 - 1958', 'prefix': None, 'culture': 'American', 'displayname': 'Eugene Higgins', 'alphasort': 'Higgins, Eugene', 'name': 'Eugene Higgins', 'personid': 25678, 'deathplace': 'New York, NY', 'displayorder': 1}]   \n",
       "7026  [{'role': 'Artist', 'birthplace': 'Springfield, Massachusetts', 'gender': 'male', 'displaydate': '1901 - 1980', 'prefix': None, 'culture': 'American', 'displayname': 'Howard Norton Cook', 'alphasort': 'Cook, Howard Norton', 'name': 'Howard Norton Cook', 'personid': 31662, 'deathplace': 'Santa Fe, New Mexico', 'displayorder': 1}]   \n",
       "7120                                                            [{'role': 'Artist', 'birthplace': None, 'gender': 'male', 'displaydate': '1804 - 1867', 'prefix': None, 'culture': 'British', 'displayname': 'George Baxter', 'alphasort': 'Baxter, George', 'name': 'George Baxter', 'personid': 31197, 'deathplace': None, 'displayorder': 1}]   \n",
       "7410                                            [{'role': 'Artist', 'birthplace': None, 'gender': 'male', 'displaydate': '1859 - 1939', 'prefix': None, 'culture': 'American', 'displayname': 'George Elbert Burr', 'alphasort': 'Burr, George Elbert', 'name': 'George Elbert Burr', 'personid': 31447, 'deathplace': None, 'displayorder': 1}]   \n",
       "\n",
       "                                                              url  \\\n",
       "2934  https://www.harvardartmuseums.org/collections/object/253351   \n",
       "5653  https://www.harvardartmuseums.org/collections/object/256115   \n",
       "7026  https://www.harvardartmuseums.org/collections/object/257507   \n",
       "7120  https://www.harvardartmuseums.org/collections/object/257601   \n",
       "7410  https://www.harvardartmuseums.org/collections/object/257891   \n",
       "\n",
       "     dateoffirstpageview            century objectnumber labeltext  datebegin  \\\n",
       "2934          2009-10-23       20th century       M12830       NaN       1929   \n",
       "5653          2009-10-01  19th-20th century        M4564       NaN          0   \n",
       "7026          2014-04-11       20th century        M3417       NaN       1927   \n",
       "7120          2012-05-07       19th century        M3205       NaN          0   \n",
       "7410          2013-01-20  19th-20th century        M8305       NaN          0   \n",
       "\n",
       "       culture  exhibitioncount  imagepermissionlevel  mediacount  objectid  \\\n",
       "2934   Mexican                1                     1           0    253351   \n",
       "5653  American                0                     0           0    256115   \n",
       "7026  American                0                     0           0    257507   \n",
       "7120   British                0                     0           0    257601   \n",
       "7410  American                0                     0           0    257891   \n",
       "\n",
       "      techniqueid  \\\n",
       "2934        136.0   \n",
       "5653        881.0   \n",
       "7026        194.0   \n",
       "7120       1940.0   \n",
       "7410        116.0   \n",
       "\n",
       "                                                                           dimensions  \\\n",
       "2934                                    image: 31.2 x 26.5 cm (12 5/16 x 10 7/16 in.)   \n",
       "5653                                                                              NaN   \n",
       "7026  block: 30.5 x 25.4 cm (12 x 10 in.)\\r\\nsheet: 37 x 27 cm (14 9/16 x 10 5/8 in.)   \n",
       "7120                                                                              NaN   \n",
       "7410                                                                              NaN   \n",
       "\n",
       "                                                                                                                                                                                         seeAlso  \\\n",
       "2934  [{'id': 'https://iiif.harvardartmuseums.org/manifests/object/253351', 'type': 'IIIF Manifest', 'format': 'application/json', 'profile': 'http://iiif.io/api/presentation/2/context.json'}]   \n",
       "5653  [{'id': 'https://iiif.harvardartmuseums.org/manifests/object/256115', 'type': 'IIIF Manifest', 'format': 'application/json', 'profile': 'http://iiif.io/api/presentation/2/context.json'}]   \n",
       "7026  [{'id': 'https://iiif.harvardartmuseums.org/manifests/object/257507', 'type': 'IIIF Manifest', 'format': 'application/json', 'profile': 'http://iiif.io/api/presentation/2/context.json'}]   \n",
       "7120  [{'id': 'https://iiif.harvardartmuseums.org/manifests/object/257601', 'type': 'IIIF Manifest', 'format': 'application/json', 'profile': 'http://iiif.io/api/presentation/2/context.json'}]   \n",
       "7410  [{'id': 'https://iiif.harvardartmuseums.org/manifests/object/257891', 'type': 'IIIF Manifest', 'format': 'application/json', 'profile': 'http://iiif.io/api/presentation/2/context.json'}]   \n",
       "\n",
       "                                                                      marks  \\\n",
       "2934                                                                    NaN   \n",
       "5653                                                                    NaN   \n",
       "7026  [{'text': 'Taos Indian     Howard Cook 1927', 'type': 'inscription'}]   \n",
       "7120                                                                    NaN   \n",
       "7410                                                                    NaN   \n",
       "\n",
       "     related places  \\\n",
       "2934     NaN    NaN   \n",
       "5653     NaN    NaN   \n",
       "7026     NaN    NaN   \n",
       "7120     NaN    NaN   \n",
       "7410     NaN    NaN   \n",
       "\n",
       "                                                                                                                                                                                                                      exhibitions  \\\n",
       "2934  [{'begindate': '2014-11-16', 'enddate': '2050-01-01', 'citation': '<em>32Q: 1320 Social Realism</em>, Harvard Art Museums, Cambridge, 10/17/2024 - 04/14/2025', 'exhibitionid': 4626, 'title': '32Q: 1320 Social Realism'}]   \n",
       "5653                                                                                                                                                                                                                          NaN   \n",
       "7026                                                                                                                                                                                                                          NaN   \n",
       "7120                                                                                                                                                                                                                          NaN   \n",
       "7410                                                                                                                                                                                                                          NaN   \n",
       "\n",
       "     publications groupings  \\\n",
       "2934          NaN       NaN   \n",
       "5653          NaN       NaN   \n",
       "7026          NaN       NaN   \n",
       "7120          NaN       NaN   \n",
       "7410          NaN       NaN   \n",
       "\n",
       "                                                                                                                                                                                                             gallery  \\\n",
       "2934  {'begindate': '2024-10-17', 'gallerynumber': '1320', 'galleryid': '1320', 'name': 'Modern and Contemporary Art', 'theme': 'Social Realism', 'floor': '1', 'donorname': 'Arthur and Toni Rembe Rock Galleries'}   \n",
       "5653                                                                                                                                                                                                             NaN   \n",
       "7026                                                                                                                                                                                                             NaN   \n",
       "7120                                                                                                                                                                                                             NaN   \n",
       "7410                                                                                                                                                                                                             NaN   \n",
       "\n",
       "     tags details contextualtext media videos audio  \n",
       "2934  NaN     NaN            NaN   NaN    NaN   NaN  \n",
       "5653  NaN     NaN            NaN   NaN    NaN   NaN  \n",
       "7026  NaN     NaN            NaN   NaN    NaN   NaN  \n",
       "7120  NaN     NaN            NaN   NaN    NaN   NaN  \n",
       "7410  NaN     NaN            NaN   NaN    NaN   NaN  "
      ]
     },
     "metadata": {},
     "output_type": "display_data"
    }
   ],
   "source": [
    "ind_df = pd.read_csv('indian.csv')\n",
    "ind_df = df[df['objectid'].isin(ind_df['objectid'])]\n",
    "display(ind_df[:5])"
   ]
  },
  {
   "cell_type": "markdown",
   "id": "3dcc5325-4e56-4b39-91ec-7d2a4963cbf0",
   "metadata": {},
   "source": [
    "## keyword 'indian'\n",
    "Like the keyword “Indian,” which returns records that describe a person by their name rather than their ethnicity, there’s usually no trace of the person identified as “Indian” in the “person” field.\n",
    "\n",
    "Another important observation is that the term “American” is often used to describe a culture in the “person” and “object” fields, which can be seen as a form of erasure. In my analysis, the only way to determine if a person is Native American is if their birthplace is listed as something like “Indian Territory (Chickasha, OK).” And there is no way aside from looking up the artist to know if they are part of the Black American community.\n",
    "\n",
    "I found just one record where the Native American sitter is identified :\n",
    "Caleb Cheeshahteamuck\n",
    "{'role': 'Artist', 'birthplace': 'Beverly, MA', 'gender': 'male', 'displaydate': 'born 1948', 'prefix': None, 'culture': 'American', 'displayname': 'Stephen E. Coit', 'alphasort': 'Coit, Stephen E.', 'name': 'Stephen E. Coit', 'personid': 24213, 'deathplace': None, 'displayorder': 1}, {'role': 'Sitter', 'birthplace': None, 'gender': 'unknown', 'displaydate': None, 'prefix': None, 'culture': 'Native American', 'displayname': 'Caleb Cheeshahteamuck', 'alphasort': 'Cheeshahteamuck, Caleb', 'name': 'Caleb Cheeshahteamuck', 'personid': 56120, 'deathplace': None, 'displayorder': 2}\n",
    "\n",
    "\n",
    "Surprisingly, the term “Native American” is used in the cultural field here. This is the only instance I’ve encountered where it’s used.\n",
    "\n",
    "## Changes for the 'culture' field, 'identity' field?\n",
    "I wonder if the museum could create a more systematic and culturally sensitive cultural field. This could be particularly useful for contemporary artists who identify with a specific culture.\n",
    "\n",
    "Another possibility is to provide contemporary artists with an identity field. At this point, art is inevitably read through the lens of identity. There are numerous examples of artists within stigmatized communities using derogatory keywords subversively in their works. Having this information is crucial for interpreting artwork.\n"
   ]
  },
  {
   "cell_type": "code",
   "execution_count": 464,
   "id": "bba5fefe-a734-4e96-933a-e29f84a8f247",
   "metadata": {
    "scrolled": true
   },
   "outputs": [
    {
     "name": "stdout",
     "output_type": "stream",
     "text": [
      "There are 76 records with no people attributed to them.\n"
     ]
    },
    {
     "data": {
      "text/html": [
       "<img src=\"https://nrs.harvard.edu/urn-3:HUAM:789298\" width=\"300\"/>"
      ],
      "text/plain": [
       "<IPython.core.display.Image object>"
      ]
     },
     "metadata": {},
     "output_type": "display_data"
    },
    {
     "name": "stdout",
     "output_type": "stream",
     "text": [
      "The Franciscan and the Indian\n",
      "[{'role': 'Artist', 'birthplace': 'Cuidad Guzmán, Mexico', 'gender': 'male', 'displaydate': '1883 - 1949', 'prefix': None, 'culture': 'Mexican', 'displayname': 'José Clemente Orozco', 'alphasort': 'Orozco, José Clemente', 'name': 'José Clemente Orozco', 'personid': 27917, 'deathplace': 'Mexico City, Mexico', 'displayorder': 1}]\n"
     ]
    },
    {
     "data": {
      "text/html": [
       "<img src=\"https://nrs.harvard.edu/urn-3:HUAM:INV046847_dynmc\" width=\"300\"/>"
      ],
      "text/plain": [
       "<IPython.core.display.Image object>"
      ]
     },
     "metadata": {},
     "output_type": "display_data"
    },
    {
     "name": "stdout",
     "output_type": "stream",
     "text": [
      "Lo, the Poor Indian\n",
      "[{'role': 'Artist', 'birthplace': 'Kansas City, MO', 'gender': 'male', 'displaydate': '1874 - 1958', 'prefix': None, 'culture': 'American', 'displayname': 'Eugene Higgins', 'alphasort': 'Higgins, Eugene', 'name': 'Eugene Higgins', 'personid': 25678, 'deathplace': 'New York, NY', 'displayorder': 1}]\n"
     ]
    },
    {
     "data": {
      "text/html": [
       "<img src=\"https://nrs.harvard.edu/urn-3:HUAM:INV162343_dynmc\" width=\"300\"/>"
      ],
      "text/plain": [
       "<IPython.core.display.Image object>"
      ]
     },
     "metadata": {},
     "output_type": "display_data"
    },
    {
     "name": "stdout",
     "output_type": "stream",
     "text": [
      "Taos Indian (Fat John?)\n",
      "[{'role': 'Artist', 'birthplace': 'Springfield, Massachusetts', 'gender': 'male', 'displaydate': '1901 - 1980', 'prefix': None, 'culture': 'American', 'displayname': 'Howard Norton Cook', 'alphasort': 'Cook, Howard Norton', 'name': 'Howard Norton Cook', 'personid': 31662, 'deathplace': 'Santa Fe, New Mexico', 'displayorder': 1}]\n"
     ]
    },
    {
     "data": {
      "text/html": [
       "<img src=\"https://nrs.harvard.edu/urn-3:HUAM:INV193363_dynmc\" width=\"300\"/>"
      ],
      "text/plain": [
       "<IPython.core.display.Image object>"
      ]
     },
     "metadata": {},
     "output_type": "display_data"
    },
    {
     "name": "stdout",
     "output_type": "stream",
     "text": [
      "Indian Settlement\n",
      "[{'role': 'Artist', 'birthplace': None, 'gender': 'male', 'displaydate': '1804 - 1867', 'prefix': None, 'culture': 'British', 'displayname': 'George Baxter', 'alphasort': 'Baxter, George', 'name': 'George Baxter', 'personid': 31197, 'deathplace': None, 'displayorder': 1}]\n"
     ]
    },
    {
     "data": {
      "text/html": [
       "<img src=\"https://nrs.harvard.edu/urn-3:HUAM:INV155128_dynmc\" width=\"300\"/>"
      ],
      "text/plain": [
       "<IPython.core.display.Image object>"
      ]
     },
     "metadata": {},
     "output_type": "display_data"
    },
    {
     "name": "stdout",
     "output_type": "stream",
     "text": [
      "Indian Homes, Gila River, Arizona\n",
      "[{'role': 'Artist', 'birthplace': None, 'gender': 'male', 'displaydate': '1859 - 1939', 'prefix': None, 'culture': 'American', 'displayname': 'George Elbert Burr', 'alphasort': 'Burr, George Elbert', 'name': 'George Elbert Burr', 'personid': 31447, 'deathplace': None, 'displayorder': 1}]\n"
     ]
    },
    {
     "data": {
      "text/html": [
       "<img src=\"https://nrs.harvard.edu/urn-3:HUAM:INV036119_dynmc\" width=\"300\"/>"
      ],
      "text/plain": [
       "<IPython.core.display.Image object>"
      ]
     },
     "metadata": {},
     "output_type": "display_data"
    },
    {
     "name": "stdout",
     "output_type": "stream",
     "text": [
      "Mountain Stream (Indians Reposing)\n",
      "[{'role': 'Artist', 'birthplace': None, 'gender': 'male', 'displaydate': '1804 - 1867', 'prefix': None, 'culture': 'British', 'displayname': 'George Baxter', 'alphasort': 'Baxter, George', 'name': 'George Baxter', 'personid': 31197, 'deathplace': None, 'displayorder': 1}]\n"
     ]
    },
    {
     "data": {
      "text/html": [
       "<img src=\"https://nrs.harvard.edu/urn-3:HUAM:INV163983_dynmc\" width=\"300\"/>"
      ],
      "text/plain": [
       "<IPython.core.display.Image object>"
      ]
     },
     "metadata": {},
     "output_type": "display_data"
    },
    {
     "name": "stdout",
     "output_type": "stream",
     "text": [
      "Miss American Indian\n",
      "[{'role': 'Artist', 'birthplace': None, 'gender': 'male', 'displaydate': '1901 - 1978', 'prefix': None, 'culture': 'American', 'displayname': 'Richard Lindner', 'alphasort': 'Lindner, Richard', 'name': 'Richard Lindner', 'personid': 27205, 'deathplace': None, 'displayorder': 1}]\n"
     ]
    },
    {
     "data": {
      "text/html": [
       "<img src=\"https://nrs.harvard.edu/urn-3:HUAM:INV194877_dynmc\" width=\"300\"/>"
      ],
      "text/plain": [
       "<IPython.core.display.Image object>"
      ]
     },
     "metadata": {},
     "output_type": "display_data"
    },
    {
     "name": "stdout",
     "output_type": "stream",
     "text": [
      "Native American Indian\n",
      "[{'role': 'Artist', 'birthplace': 'Prague', 'gender': 'male', 'displaydate': '1607 - 1677', 'prefix': None, 'culture': 'Bohemian', 'displayname': 'Wenceslaus Hollar', 'alphasort': 'Hollar, Wenceslaus', 'name': 'Wenceslaus Hollar', 'personid': 30944, 'deathplace': 'London', 'displayorder': 1}]\n"
     ]
    },
    {
     "data": {
      "text/html": [
       "<img src=\"https://nrs.harvard.edu/urn-3:HUAM:760896\" width=\"300\"/>"
      ],
      "text/plain": [
       "<IPython.core.display.Image object>"
      ]
     },
     "metadata": {},
     "output_type": "display_data"
    },
    {
     "name": "stdout",
     "output_type": "stream",
     "text": [
      "William Penn's Treaty with the Indians\n",
      "[{'role': 'Artist', 'birthplace': None, 'gender': 'male', 'displaydate': '1739 - 1797', 'prefix': None, 'culture': 'British', 'displayname': 'John Hall', 'alphasort': 'Hall, John', 'name': 'John Hall', 'personid': 30832, 'deathplace': None, 'displayorder': 1}, {'role': 'Artist after', 'birthplace': 'Springfield, PA', 'gender': 'unknown', 'displaydate': '1738 - 1820', 'prefix': 'After', 'culture': 'American', 'displayname': 'After Benjamin West', 'alphasort': 'West, Benjamin', 'name': 'Benjamin West', 'personid': 29374, 'deathplace': 'London, England', 'displayorder': 2}]\n"
     ]
    },
    {
     "data": {
      "text/html": [
       "<img src=\"https://nrs.harvard.edu/urn-3:HUAM:INV100676_dynmc\" width=\"300\"/>"
      ],
      "text/plain": [
       "<IPython.core.display.Image object>"
      ]
     },
     "metadata": {},
     "output_type": "display_data"
    },
    {
     "name": "stdout",
     "output_type": "stream",
     "text": [
      "The Widow of an Indian Chief Watching the Arms of Her Deceas'd Husband\n",
      "[{'role': 'Artist', 'birthplace': None, 'gender': 'male', 'displaydate': '1751 - 1812', 'prefix': None, 'culture': 'British', 'displayname': 'John Raphael Smith', 'alphasort': 'Smith, John Raphael', 'name': 'John Raphael Smith', 'personid': 33056, 'deathplace': None, 'displayorder': 1}, {'role': 'Artist after', 'birthplace': 'Derby, England', 'gender': 'unknown', 'displaydate': '1734 - 1797', 'prefix': 'After', 'culture': 'British', 'displayname': 'After Joseph Wright of Derby', 'alphasort': 'Wright of Derby, Joseph', 'name': 'Joseph Wright of Derby', 'personid': 29440, 'deathplace': 'Derby, England', 'displayorder': 2}]\n"
     ]
    },
    {
     "data": {
      "text/html": [
       "<img src=\"https://nrs.harvard.edu/urn-3:HUAM:INV024993_dynmc\" width=\"300\"/>"
      ],
      "text/plain": [
       "<IPython.core.display.Image object>"
      ]
     },
     "metadata": {},
     "output_type": "display_data"
    },
    {
     "name": "stdout",
     "output_type": "stream",
     "text": [
      "Sheet 80: Thomas Crawford's plaster model of \"The Indian: The Dying Chief Contemplating the Progress of Civilization\"\n",
      "[{'role': 'Artist', 'birthplace': None, 'gender': 'unidentified', 'displaydate': 'active 1850s - 1870s', 'prefix': None, 'culture': 'American', 'displayname': 'John Wood', 'alphasort': 'Wood, John', 'name': 'John Wood', 'personid': 18882, 'deathplace': None, 'displayorder': 1}]\n"
     ]
    },
    {
     "data": {
      "text/html": [
       "<img src=\"https://nrs.harvard.edu/urn-3:HUAM:INV024994_dynmc\" width=\"300\"/>"
      ],
      "text/plain": [
       "<IPython.core.display.Image object>"
      ]
     },
     "metadata": {},
     "output_type": "display_data"
    },
    {
     "name": "stdout",
     "output_type": "stream",
     "text": [
      "Sheet 81: Bust of Bee-she-kee, an Indian chief, aged 50 years, modelled from nature at the U.S. Capitol\n",
      "[{'role': 'Artist', 'birthplace': None, 'gender': 'unidentified', 'displaydate': 'active 1850s - 1870s', 'prefix': None, 'culture': 'American', 'displayname': 'John Wood', 'alphasort': 'Wood, John', 'name': 'John Wood', 'personid': 18882, 'deathplace': None, 'displayorder': 1}]\n"
     ]
    },
    {
     "data": {
      "text/html": [
       "<img src=\"https://nrs.harvard.edu/urn-3:HUAM:INV024997_dynmc\" width=\"300\"/>"
      ],
      "text/plain": [
       "<IPython.core.display.Image object>"
      ]
     },
     "metadata": {},
     "output_type": "display_data"
    },
    {
     "name": "stdout",
     "output_type": "stream",
     "text": [
      "Sheet 81: \"Indian Mother,\" one of the figures by T. Crawford in the pediment of the north wing\n",
      "[{'role': 'Artist', 'birthplace': None, 'gender': 'unidentified', 'displaydate': 'active 1850s - 1870s', 'prefix': None, 'culture': 'American', 'displayname': 'John Wood', 'alphasort': 'Wood, John', 'name': 'John Wood', 'personid': 18882, 'deathplace': None, 'displayorder': 1}]\n"
     ]
    },
    {
     "data": {
      "text/html": [
       "<img src=\"https://nrs.harvard.edu/urn-3:HUAM:INV027009_dynmc\" width=\"300\"/>"
      ],
      "text/plain": [
       "<IPython.core.display.Image object>"
      ]
     },
     "metadata": {},
     "output_type": "display_data"
    },
    {
     "name": "stdout",
     "output_type": "stream",
     "text": [
      "Indian Club Demonstration\n",
      "[{'role': 'Artist', 'birthplace': 'Fremont, Nebraska', 'gender': 'male', 'displaydate': '1903 - 1990', 'prefix': None, 'culture': 'American', 'displayname': 'Harold Edgerton', 'alphasort': 'Edgerton, Harold Eugene', 'name': 'Harold Edgerton', 'personid': 34578, 'deathplace': 'Boston, Massachusetts', 'displayorder': 1}]\n"
     ]
    },
    {
     "data": {
      "text/html": [
       "<img src=\"https://nrs.harvard.edu/urn-3:HUAM:INV022010_dynmc\" width=\"300\"/>"
      ],
      "text/plain": [
       "<IPython.core.display.Image object>"
      ]
     },
     "metadata": {},
     "output_type": "display_data"
    },
    {
     "name": "stdout",
     "output_type": "stream",
     "text": [
      "Indian Club Demonstration\n",
      "[{'role': 'Artist', 'birthplace': 'Fremont, Nebraska', 'gender': 'male', 'displaydate': '1903 - 1990', 'prefix': None, 'culture': 'American', 'displayname': 'Harold Edgerton', 'alphasort': 'Edgerton, Harold Eugene', 'name': 'Harold Edgerton', 'personid': 34578, 'deathplace': 'Boston, Massachusetts', 'displayorder': 1}]\n"
     ]
    },
    {
     "data": {
      "text/html": [
       "<img src=\"https://nrs.harvard.edu/urn-3:HUAM:INV028770_dynmc\" width=\"300\"/>"
      ],
      "text/plain": [
       "<IPython.core.display.Image object>"
      ]
     },
     "metadata": {},
     "output_type": "display_data"
    },
    {
     "name": "stdout",
     "output_type": "stream",
     "text": [
      "Basketry of the Mission Indians\n",
      "[{'role': 'Artist', 'birthplace': 'near White Water, Wisconsin', 'gender': 'male', 'displaydate': '1868 - 1952', 'prefix': None, 'culture': 'American', 'displayname': 'Edward Sheriff Curtis', 'alphasort': 'Curtis, Edward Sheriff', 'name': 'Edward Sheriff Curtis', 'personid': 34560, 'deathplace': 'Los Angeles', 'displayorder': 1}]\n"
     ]
    },
    {
     "data": {
      "text/html": [
       "<img src=\"https://nrs.harvard.edu/urn-3:HUAM:INV046705_dynmc\" width=\"300\"/>"
      ],
      "text/plain": [
       "<IPython.core.display.Image object>"
      ]
     },
     "metadata": {},
     "output_type": "display_data"
    },
    {
     "name": "stdout",
     "output_type": "stream",
     "text": [
      "Burial Mound of the Seneca Indians at the Old Castle, Kanadesaga (186)\n",
      "[{'role': 'Artist', 'birthplace': None, 'gender': 'unknown', 'displaydate': '19th century', 'prefix': None, 'culture': 'American?', 'displayname': 'James G. Vail', 'alphasort': 'Vail, James G.', 'name': 'James G. Vail', 'personid': 34496, 'deathplace': None, 'displayorder': 1}]\n"
     ]
    },
    {
     "data": {
      "text/html": [
       "<img src=\"https://nrs.harvard.edu/urn-3:HUAM:72974_dynmc\" width=\"300\"/>"
      ],
      "text/plain": [
       "<IPython.core.display.Image object>"
      ]
     },
     "metadata": {},
     "output_type": "display_data"
    },
    {
     "name": "stdout",
     "output_type": "stream",
     "text": [
      "Marriage Ritual of the Indians of Panama\n",
      "[{'role': 'Artist', 'birthplace': 'Paris', 'gender': 'male', 'displaydate': '1673 - 1733', 'prefix': None, 'culture': 'French', 'displayname': 'Bernard Picart', 'alphasort': 'Picart, Bernard', 'name': 'Bernard Picart', 'personid': 28062, 'deathplace': 'Amsterdam', 'displayorder': 1}]\n"
     ]
    },
    {
     "data": {
      "text/html": [
       "<img src=\"https://nrs.harvard.edu/urn-3:HUAM:INV203765_dynmc\" width=\"300\"/>"
      ],
      "text/plain": [
       "<IPython.core.display.Image object>"
      ]
     },
     "metadata": {},
     "output_type": "display_data"
    },
    {
     "name": "stdout",
     "output_type": "stream",
     "text": [
      "Indian Pilgrims\n",
      "[{'role': 'Artist', 'birthplace': None, 'gender': 'unknown', 'displaydate': '1884 - 1952', 'prefix': None, 'culture': 'British', 'displayname': 'Dorothy Larcher', 'alphasort': 'Larcher, Dorothy', 'name': 'Dorothy Larcher', 'personid': 27068, 'deathplace': None, 'displayorder': 1}]\n"
     ]
    },
    {
     "data": {
      "text/html": [
       "<img src=\"https://nrs.harvard.edu/urn-3:HUAM:77887_dynmc\" width=\"300\"/>"
      ],
      "text/plain": [
       "<IPython.core.display.Image object>"
      ]
     },
     "metadata": {},
     "output_type": "display_data"
    },
    {
     "name": "stdout",
     "output_type": "stream",
     "text": [
      "Album: Figure Sketches and Photographs of Sargent Works\n",
      "[{'role': 'Artist', 'birthplace': 'Florence, Italy', 'gender': 'male', 'displaydate': '1856 - 1925', 'prefix': None, 'culture': 'American', 'displayname': 'John Singer Sargent', 'alphasort': 'Sargent, John Singer', 'name': 'John Singer Sargent', 'personid': 28495, 'deathplace': 'London, England', 'displayorder': 1}]\n"
     ]
    },
    {
     "data": {
      "text/html": [
       "<img src=\"https://nrs.harvard.edu/urn-3:HUAM:73369_dynmc\" width=\"300\"/>"
      ],
      "text/plain": [
       "<IPython.core.display.Image object>"
      ]
     },
     "metadata": {},
     "output_type": "display_data"
    },
    {
     "name": "stdout",
     "output_type": "stream",
     "text": [
      "Indian Village, Adirondacks\n",
      "[{'role': 'Artist', 'birthplace': 'Boston, MA', 'gender': 'male', 'displaydate': '1836 - 1910', 'prefix': None, 'culture': 'American', 'displayname': 'Winslow Homer', 'alphasort': 'Homer, Winslow', 'name': 'Winslow Homer', 'personid': 26501, 'deathplace': 'Prouts Neck, ME', 'displayorder': 1}]\n"
     ]
    },
    {
     "data": {
      "text/html": [
       "<img src=\"https://nrs.harvard.edu/urn-3:HUAM:VRS32099_dynmc\" width=\"300\"/>"
      ],
      "text/plain": [
       "<IPython.core.display.Image object>"
      ]
     },
     "metadata": {},
     "output_type": "display_data"
    },
    {
     "name": "stdout",
     "output_type": "stream",
     "text": [
      "Indian Girl, Seated\n",
      "[{'role': 'Artist', 'birthplace': 'Tacoma, Washington', 'gender': 'male', 'displaydate': '1897 - 1948', 'prefix': None, 'culture': 'American', 'displayname': 'Thomas Schofield Handforth', 'alphasort': 'Handforth, Thomas Schofield', 'name': 'Thomas Schofield Handforth', 'personid': 24669, 'deathplace': 'Los Angeles, CA', 'displayorder': 1}]\n"
     ]
    },
    {
     "data": {
      "text/html": [
       "<img src=\"https://nrs.harvard.edu/urn-3:HUAM:777411\" width=\"300\"/>"
      ],
      "text/plain": [
       "<IPython.core.display.Image object>"
      ]
     },
     "metadata": {},
     "output_type": "display_data"
    },
    {
     "name": "stdout",
     "output_type": "stream",
     "text": [
      "double red structural study straight and curved\n",
      "[{'role': 'Artist', 'birthplace': 'Mexico, Penn.', 'gender': 'female', 'displaydate': 'born 1940', 'prefix': None, 'culture': 'American', 'displayname': 'Suzan Frecon', 'alphasort': 'Frecon, Suzan', 'name': 'Suzan Frecon', 'personid': 33958, 'deathplace': None, 'displayorder': 1}]\n"
     ]
    },
    {
     "data": {
      "text/html": [
       "<img src=\"https://nrs.harvard.edu/urn-3:HUAM:776783\" width=\"300\"/>"
      ],
      "text/plain": [
       "<IPython.core.display.Image object>"
      ]
     },
     "metadata": {},
     "output_type": "display_data"
    },
    {
     "name": "stdout",
     "output_type": "stream",
     "text": [
      "Untitled\n",
      "[{'role': 'Artist', 'birthplace': 'Mexico, Penn.', 'gender': 'female', 'displaydate': 'born 1940', 'prefix': None, 'culture': 'American', 'displayname': 'Suzan Frecon', 'alphasort': 'Frecon, Suzan', 'name': 'Suzan Frecon', 'personid': 33958, 'deathplace': None, 'displayorder': 1}]\n"
     ]
    },
    {
     "data": {
      "text/html": [
       "<img src=\"https://nrs.harvard.edu/urn-3:HUAM:INV133300N_dynmc\" width=\"300\"/>"
      ],
      "text/plain": [
       "<IPython.core.display.Image object>"
      ]
     },
     "metadata": {},
     "output_type": "display_data"
    },
    {
     "name": "stdout",
     "output_type": "stream",
     "text": [
      "Untitled (children in cowboy and Indian costumes)\n",
      "[{'role': 'Artist', 'birthplace': 'Pennsylvania', 'gender': 'unknown', 'displaydate': '1916 - 1985', 'prefix': None, 'culture': 'American', 'displayname': 'Mary Lowber Tiers', 'alphasort': 'Tiers, Mary Lowber', 'name': 'Mary Lowber Tiers', 'personid': 22495, 'deathplace': 'Florida', 'displayorder': 1}]\n"
     ]
    },
    {
     "data": {
      "text/html": [
       "<img src=\"https://nrs.harvard.edu/urn-3:HUAM:INV133303N_dynmc\" width=\"300\"/>"
      ],
      "text/plain": [
       "<IPython.core.display.Image object>"
      ]
     },
     "metadata": {},
     "output_type": "display_data"
    },
    {
     "name": "stdout",
     "output_type": "stream",
     "text": [
      "Untitled (children in cowboy and Indian costumes)\n",
      "[{'role': 'Artist', 'birthplace': 'Pennsylvania', 'gender': 'unknown', 'displaydate': '1916 - 1985', 'prefix': None, 'culture': 'American', 'displayname': 'Mary Lowber Tiers', 'alphasort': 'Tiers, Mary Lowber', 'name': 'Mary Lowber Tiers', 'personid': 22495, 'deathplace': 'Florida', 'displayorder': 1}]\n"
     ]
    },
    {
     "data": {
      "text/html": [
       "<img src=\"https://nrs.harvard.edu/urn-3:HUAM:INV133304N_dynmc\" width=\"300\"/>"
      ],
      "text/plain": [
       "<IPython.core.display.Image object>"
      ]
     },
     "metadata": {},
     "output_type": "display_data"
    },
    {
     "name": "stdout",
     "output_type": "stream",
     "text": [
      "Untitled (children in cowboy and Indian costumes)\n",
      "[{'role': 'Artist', 'birthplace': 'Pennsylvania', 'gender': 'unknown', 'displaydate': '1916 - 1985', 'prefix': None, 'culture': 'American', 'displayname': 'Mary Lowber Tiers', 'alphasort': 'Tiers, Mary Lowber', 'name': 'Mary Lowber Tiers', 'personid': 22495, 'deathplace': 'Florida', 'displayorder': 1}]\n"
     ]
    },
    {
     "data": {
      "text/html": [
       "<img src=\"https://nrs.harvard.edu/urn-3:HUAM:INV133299P_dynmc\" width=\"300\"/>"
      ],
      "text/plain": [
       "<IPython.core.display.Image object>"
      ]
     },
     "metadata": {},
     "output_type": "display_data"
    },
    {
     "name": "stdout",
     "output_type": "stream",
     "text": [
      "Untitled (children in cowboy and Indian costumes)\n",
      "[{'role': 'Artist', 'birthplace': 'Pennsylvania', 'gender': 'unknown', 'displaydate': '1916 - 1985', 'prefix': None, 'culture': 'American', 'displayname': 'Mary Lowber Tiers', 'alphasort': 'Tiers, Mary Lowber', 'name': 'Mary Lowber Tiers', 'personid': 22495, 'deathplace': 'Florida', 'displayorder': 1}]\n"
     ]
    },
    {
     "data": {
      "text/html": [
       "<img src=\"https://nrs.harvard.edu/urn-3:HUAM:DDC100961_dynmc\" width=\"300\"/>"
      ],
      "text/plain": [
       "<IPython.core.display.Image object>"
      ]
     },
     "metadata": {},
     "output_type": "display_data"
    },
    {
     "name": "stdout",
     "output_type": "stream",
     "text": [
      "Untitled (four photographs, clockwise from the top center, The Indian Hunter; Madame La Colonelle, 1863; The Young Guardsman at 9 months. March/63; The Colonel in Canada. 1863)\n",
      "[{'role': 'Artist', 'birthplace': None, 'gender': 'female', 'displaydate': '1838-1903', 'prefix': None, 'culture': 'British', 'displayname': 'Mary Georgiana Caroline Cecil Filmer', 'alphasort': 'Filmer, Mary Georgiana Caroline Cecil Lady', 'name': 'Mary Georgiana Caroline Cecil Filmer', 'personid': 34851, 'deathplace': None, 'displayorder': 1}]\n"
     ]
    },
    {
     "data": {
      "text/html": [
       "<img src=\"https://nrs.harvard.edu/urn-3:HUAM:INV148565_dynmc\" width=\"300\"/>"
      ],
      "text/plain": [
       "<IPython.core.display.Image object>"
      ]
     },
     "metadata": {},
     "output_type": "display_data"
    },
    {
     "name": "stdout",
     "output_type": "stream",
     "text": [
      "Untitled\n",
      "[{'role': 'Artist', 'birthplace': 'Indian Territory (Chickasha, OK)', 'gender': 'male', 'displaydate': '1906 - 1996', 'prefix': None, 'culture': 'American', 'displayname': 'Leon Polk Smith', 'alphasort': 'Smith, Leon Polk', 'name': 'Leon Polk Smith', 'personid': 52163, 'deathplace': 'New York, NY', 'displayorder': 1}]\n"
     ]
    },
    {
     "data": {
      "text/html": [
       "<img src=\"https://nrs.harvard.edu/urn-3:HUAM:INV148568_dynmc\" width=\"300\"/>"
      ],
      "text/plain": [
       "<IPython.core.display.Image object>"
      ]
     },
     "metadata": {},
     "output_type": "display_data"
    },
    {
     "name": "stdout",
     "output_type": "stream",
     "text": [
      "Untitled\n",
      "[{'role': 'Artist', 'birthplace': 'Indian Territory (Chickasha, OK)', 'gender': 'male', 'displaydate': '1906 - 1996', 'prefix': None, 'culture': 'American', 'displayname': 'Leon Polk Smith', 'alphasort': 'Smith, Leon Polk', 'name': 'Leon Polk Smith', 'personid': 52163, 'deathplace': 'New York, NY', 'displayorder': 1}]\n"
     ]
    },
    {
     "data": {
      "text/html": [
       "<img src=\"https://nrs.harvard.edu/urn-3:HUAM:INV148572_dynmc\" width=\"300\"/>"
      ],
      "text/plain": [
       "<IPython.core.display.Image object>"
      ]
     },
     "metadata": {},
     "output_type": "display_data"
    },
    {
     "name": "stdout",
     "output_type": "stream",
     "text": [
      "Untitled\n",
      "[{'role': 'Artist', 'birthplace': 'Indian Territory (Chickasha, OK)', 'gender': 'male', 'displaydate': '1906 - 1996', 'prefix': None, 'culture': 'American', 'displayname': 'Leon Polk Smith', 'alphasort': 'Smith, Leon Polk', 'name': 'Leon Polk Smith', 'personid': 52163, 'deathplace': 'New York, NY', 'displayorder': 1}]\n"
     ]
    },
    {
     "data": {
      "text/html": [
       "<img src=\"https://nrs.harvard.edu/urn-3:HUAM:INV173378_dynmc\" width=\"300\"/>"
      ],
      "text/plain": [
       "<IPython.core.display.Image object>"
      ]
     },
     "metadata": {},
     "output_type": "display_data"
    },
    {
     "name": "stdout",
     "output_type": "stream",
     "text": [
      "Indian with White Man\n",
      "[{'role': 'Artist', 'birthplace': 'England', 'gender': 'female', 'displaydate': 'born 1964', 'prefix': None, 'culture': 'American', 'displayname': 'Annu Palakunnathu Matthew', 'alphasort': 'Matthew, Annu Palakunnathu', 'name': 'Annu Palakunnathu Matthew', 'personid': 51583, 'deathplace': None, 'displayorder': 1}]\n"
     ]
    },
    {
     "data": {
      "text/html": [
       "<img src=\"https://nrs.harvard.edu/urn-3:HUAM:LEG266619\" width=\"300\"/>"
      ],
      "text/plain": [
       "<IPython.core.display.Image object>"
      ]
     },
     "metadata": {},
     "output_type": "display_data"
    },
    {
     "name": "stdout",
     "output_type": "stream",
     "text": [
      "Waneta, of the Ihanktonowan Dakota Oyate / Yankton Sioux Tribe of Dakota\n",
      "[{'role': 'Artist', 'birthplace': 'Wilkes-Barre, PA', 'gender': 'unknown', 'displaydate': '1796-1872', 'prefix': None, 'culture': None, 'displayname': 'George Catlin', 'alphasort': 'Catlin, George', 'name': 'George Catlin', 'personid': 54913, 'deathplace': 'Jersey City, NJ', 'displayorder': 1}]\n"
     ]
    },
    {
     "data": {
      "text/html": [
       "<img src=\"https://nrs.harvard.edu/urn-3:huam:LEG009320_dynmc\" width=\"300\"/>"
      ],
      "text/plain": [
       "<IPython.core.display.Image object>"
      ]
     },
     "metadata": {},
     "output_type": "display_data"
    },
    {
     "name": "stdout",
     "output_type": "stream",
     "text": [
      "Caleb Cheeshahteamuck\n",
      "[{'role': 'Artist', 'birthplace': 'Beverly, MA', 'gender': 'male', 'displaydate': 'born 1948', 'prefix': None, 'culture': 'American', 'displayname': 'Stephen E. Coit', 'alphasort': 'Coit, Stephen E.', 'name': 'Stephen E. Coit', 'personid': 24213, 'deathplace': None, 'displayorder': 1}, {'role': 'Sitter', 'birthplace': None, 'gender': 'unknown', 'displaydate': None, 'prefix': None, 'culture': 'Native American', 'displayname': 'Caleb Cheeshahteamuck', 'alphasort': 'Cheeshahteamuck, Caleb', 'name': 'Caleb Cheeshahteamuck', 'personid': 56120, 'deathplace': None, 'displayorder': 2}]\n"
     ]
    },
    {
     "data": {
      "text/html": [
       "<img src=\"https://nrs.harvard.edu/urn-3:huam:DDC112327_dynmc\" width=\"300\"/>"
      ],
      "text/plain": [
       "<IPython.core.display.Image object>"
      ]
     },
     "metadata": {},
     "output_type": "display_data"
    },
    {
     "name": "stdout",
     "output_type": "stream",
     "text": [
      "Kiowa Warriors in Regalia\n",
      "[{'role': 'Artist', 'birthplace': None, 'gender': 'unknown', 'displaydate': None, 'prefix': None, 'culture': None, 'displayname': 'Unidentified Artist', 'alphasort': 'Unidentified Artist', 'name': 'Unidentified Artist', 'personid': 34147, 'deathplace': None, 'displayorder': 1}]\n"
     ]
    },
    {
     "data": {
      "text/html": [
       "<img src=\"https://nrs.harvard.edu/urn-3:huam:DDC112320_dynmc\" width=\"300\"/>"
      ],
      "text/plain": [
       "<IPython.core.display.Image object>"
      ]
     },
     "metadata": {},
     "output_type": "display_data"
    },
    {
     "name": "stdout",
     "output_type": "stream",
     "text": [
      "Cheyenne Indian Ledger Drawing, Rider with Green Headdress Shoots Buffalo\n",
      "[{'role': 'Artist', 'birthplace': None, 'gender': 'unknown', 'displaydate': None, 'prefix': None, 'culture': None, 'displayname': 'Unidentified Artist', 'alphasort': 'Unidentified Artist', 'name': 'Unidentified Artist', 'personid': 34147, 'deathplace': None, 'displayorder': 1}]\n"
     ]
    },
    {
     "data": {
      "text/html": [
       "<img src=\"https://nrs.harvard.edu/urn-3:huam:DDC112328_dynmc\" width=\"300\"/>"
      ],
      "text/plain": [
       "<IPython.core.display.Image object>"
      ]
     },
     "metadata": {},
     "output_type": "display_data"
    },
    {
     "name": "stdout",
     "output_type": "stream",
     "text": [
      "Battle Scene between Plains Indians and U.S. Troops\n",
      "[{'role': 'Artist', 'birthplace': None, 'gender': 'unknown', 'displaydate': None, 'prefix': None, 'culture': None, 'displayname': 'Unidentified Artist', 'alphasort': 'Unidentified Artist', 'name': 'Unidentified Artist', 'personid': 34147, 'deathplace': None, 'displayorder': 1}]\n"
     ]
    },
    {
     "data": {
      "text/html": [
       "<img src=\"https://nrs.harvard.edu/urn-3:huam:STR006545_dynmc\" width=\"300\"/>"
      ],
      "text/plain": [
       "<IPython.core.display.Image object>"
      ]
     },
     "metadata": {},
     "output_type": "display_data"
    },
    {
     "name": "stdout",
     "output_type": "stream",
     "text": [
      "X-radiograph(s) of \"Indian\"\n",
      "[{'role': 'Related name', 'birthplace': 'Boston, MA', 'gender': 'male', 'displaydate': '1738 - 1815', 'prefix': 'Artist of original:', 'culture': 'American', 'displayname': 'Artist of original: John Singleton Copley', 'alphasort': 'Copley, John Singleton', 'name': 'John Singleton Copley', 'personid': 33430, 'deathplace': 'London, England', 'displayorder': 1}]\n"
     ]
    },
    {
     "data": {
      "text/html": [
       "<img src=\"https://nrs.harvard.edu/urn-3:HUAM:764700\" width=\"300\"/>"
      ],
      "text/plain": [
       "<IPython.core.display.Image object>"
      ]
     },
     "metadata": {},
     "output_type": "display_data"
    },
    {
     "name": "stdout",
     "output_type": "stream",
     "text": [
      "G. H. C. Melody and the Ioway Indians\n",
      "[{'role': 'Printer', 'birthplace': None, 'gender': 'unknown', 'displaydate': None, 'prefix': 'Printed by', 'culture': None, 'displayname': 'Printed by T. Morel', 'alphasort': 'Morel, T.', 'name': 'T. Morel', 'personid': 63868, 'deathplace': None, 'displayorder': 1}, {'role': 'Publisher', 'birthplace': None, 'gender': 'unknown', 'displaydate': None, 'prefix': 'Published by', 'culture': 'French', 'displayname': 'Published by Bertauts', 'alphasort': 'Bertauts', 'name': 'Bertauts', 'personid': 63944, 'deathplace': None, 'displayorder': 2}]\n"
     ]
    },
    {
     "data": {
      "text/html": [
       "<img src=\"https://nrs.harvard.edu/urn-3:HUAM:DDC107241_dynmc\" width=\"300\"/>"
      ],
      "text/plain": [
       "<IPython.core.display.Image object>"
      ]
     },
     "metadata": {},
     "output_type": "display_data"
    },
    {
     "name": "stdout",
     "output_type": "stream",
     "text": [
      "American Indian Costumes\n",
      "[{'role': 'Artist', 'birthplace': None, 'gender': 'male', 'displaydate': '1607 - 1641', 'prefix': None, 'culture': 'German', 'displayname': 'Johann Wilhelm Baur', 'alphasort': 'Baur, Johann Wilhelm', 'name': 'Johann Wilhelm Baur', 'personid': 27026, 'deathplace': None, 'displayorder': 1}]\n"
     ]
    },
    {
     "data": {
      "text/html": [
       "<img src=\"https://nrs.harvard.edu/urn-3:HUAM:DDC107439_dynmc\" width=\"300\"/>"
      ],
      "text/plain": [
       "<IPython.core.display.Image object>"
      ]
     },
     "metadata": {},
     "output_type": "display_data"
    },
    {
     "name": "stdout",
     "output_type": "stream",
     "text": [
      "American Indian Battle\n",
      "[{'role': 'Artist', 'birthplace': None, 'gender': 'male', 'displaydate': '1607 - 1641', 'prefix': None, 'culture': 'German', 'displayname': 'Johann Wilhelm Baur', 'alphasort': 'Baur, Johann Wilhelm', 'name': 'Johann Wilhelm Baur', 'personid': 27026, 'deathplace': None, 'displayorder': 1}]\n"
     ]
    },
    {
     "data": {
      "text/html": [
       "<img src=\"https://nrs.harvard.edu/urn-3:HUAM:INV208094_dynmc\" width=\"300\"/>"
      ],
      "text/plain": [
       "<IPython.core.display.Image object>"
      ]
     },
     "metadata": {},
     "output_type": "display_data"
    },
    {
     "name": "stdout",
     "output_type": "stream",
     "text": [
      "Driving Across the US / Corn Wheat Tornados / Rocky Mts Cowboys / Indians Deserts Palm / Orange Avacado / Trees Mexicans / Isomata and Palm / Springs Wrkshops / The Pacific Ocean / Hiking Bicycling / And Such / Fine / Painting Light!\n",
      "[{'role': 'Artist', 'birthplace': 'New York, New York', 'gender': 'male', 'displaydate': '1904 - 2001', 'prefix': None, 'culture': 'American', 'displayname': 'Harry Sternberg', 'alphasort': 'Sternberg, Harry', 'name': 'Harry Sternberg', 'personid': 33112, 'deathplace': None, 'displayorder': 1}]\n"
     ]
    },
    {
     "data": {
      "text/html": [
       "<img src=\"https://nrs.harvard.edu/urn-3:HUAM:INV049912_dynmc\" width=\"300\"/>"
      ],
      "text/plain": [
       "<IPython.core.display.Image object>"
      ]
     },
     "metadata": {},
     "output_type": "display_data"
    },
    {
     "name": "stdout",
     "output_type": "stream",
     "text": [
      "Seminole Indian\n",
      "[{'role': 'Artist', 'birthplace': 'Germantown, PA', 'gender': 'male', 'displaydate': '1905 - 1985', 'prefix': None, 'culture': 'American', 'displayname': 'Joseph Janney Steinmetz', 'alphasort': 'Steinmetz, Joseph Janney', 'name': 'Joseph Janney Steinmetz', 'personid': 22612, 'deathplace': 'Sarasota, FL', 'displayorder': 1}]\n"
     ]
    },
    {
     "data": {
      "text/html": [
       "<img src=\"https://nrs.harvard.edu/urn-3:HUAM:INV173989N_dynmc\" width=\"300\"/>"
      ],
      "text/plain": [
       "<IPython.core.display.Image object>"
      ]
     },
     "metadata": {},
     "output_type": "display_data"
    },
    {
     "name": "stdout",
     "output_type": "stream",
     "text": [
      "Untitled (Eugenie Stoll in Indian costume shooting arrow)\n",
      "[{'role': 'Artist', 'birthplace': None, 'gender': 'unknown', 'displaydate': '1879 - 1939', 'prefix': None, 'culture': 'American', 'displayname': 'C. Bennette Moore', 'alphasort': 'Moore, C. Bennette', 'name': 'C. Bennette Moore', 'personid': 22300, 'deathplace': None, 'displayorder': 1}]\n"
     ]
    },
    {
     "data": {
      "text/html": [
       "<img src=\"https://nrs.harvard.edu/urn-3:HUAM:INV156395N_dynmc\" width=\"300\"/>"
      ],
      "text/plain": [
       "<IPython.core.display.Image object>"
      ]
     },
     "metadata": {},
     "output_type": "display_data"
    },
    {
     "name": "stdout",
     "output_type": "stream",
     "text": [
      "Untitled (people in Indian costumes inside tipi)\n",
      "[{'role': 'Artist', 'birthplace': None, 'gender': 'unknown', 'displaydate': None, 'prefix': None, 'culture': 'American', 'displayname': 'Lucian and Mary Brown', 'alphasort': 'Brown, Lucian and Mary', 'name': 'Lucian and Mary Brown', 'personid': 23041, 'deathplace': None, 'displayorder': 1}]\n"
     ]
    },
    {
     "data": {
      "text/html": [
       "<img src=\"https://nrs.harvard.edu/urn-3:HUAM:INV129713_dynmc\" width=\"300\"/>"
      ],
      "text/plain": [
       "<IPython.core.display.Image object>"
      ]
     },
     "metadata": {},
     "output_type": "display_data"
    },
    {
     "name": "stdout",
     "output_type": "stream",
     "text": [
      "Untitled (neon lights at night; an Indian chief)\n",
      "[{'role': 'Artist', 'birthplace': None, 'gender': 'male', 'displaydate': None, 'prefix': None, 'culture': 'American', 'displayname': 'Jack Gould', 'alphasort': 'Gould, Jack', 'name': 'Jack Gould', 'personid': 21849, 'deathplace': None, 'displayorder': 1}]\n"
     ]
    },
    {
     "data": {
      "text/html": [
       "<img src=\"https://nrs.harvard.edu/urn-3:HUAM:INV133299N_dynmc\" width=\"300\"/>"
      ],
      "text/plain": [
       "<IPython.core.display.Image object>"
      ]
     },
     "metadata": {},
     "output_type": "display_data"
    },
    {
     "name": "stdout",
     "output_type": "stream",
     "text": [
      "Untitled (children in cowboy and Indian costumes)\n",
      "[{'role': 'Artist', 'birthplace': 'Pennsylvania', 'gender': 'unknown', 'displaydate': '1916 - 1985', 'prefix': None, 'culture': 'American', 'displayname': 'Mary Lowber Tiers', 'alphasort': 'Tiers, Mary Lowber', 'name': 'Mary Lowber Tiers', 'personid': 22495, 'deathplace': 'Florida', 'displayorder': 1}]\n"
     ]
    },
    {
     "data": {
      "text/html": [
       "<img src=\"https://nrs.harvard.edu/urn-3:HUAM:INV017531N_dynmc\" width=\"300\"/>"
      ],
      "text/plain": [
       "<IPython.core.display.Image object>"
      ]
     },
     "metadata": {},
     "output_type": "display_data"
    },
    {
     "name": "stdout",
     "output_type": "stream",
     "text": [
      "Untitled (San Idefonso Indian women removing bread from oven)\n",
      "[{'role': 'Artist', 'birthplace': 'Germantown, PA', 'gender': 'male', 'displaydate': '1905 - 1985', 'prefix': None, 'culture': 'American', 'displayname': 'Joseph Janney Steinmetz', 'alphasort': 'Steinmetz, Joseph Janney', 'name': 'Joseph Janney Steinmetz', 'personid': 22612, 'deathplace': 'Sarasota, FL', 'displayorder': 1}]\n"
     ]
    },
    {
     "data": {
      "text/html": [
       "<img src=\"https://nrs.harvard.edu/urn-3:HUAM:INV017535N_dynmc\" width=\"300\"/>"
      ],
      "text/plain": [
       "<IPython.core.display.Image object>"
      ]
     },
     "metadata": {},
     "output_type": "display_data"
    },
    {
     "name": "stdout",
     "output_type": "stream",
     "text": [
      "Untitled (San Idefonso Indian women removing bread from oven)\n",
      "[{'role': 'Artist', 'birthplace': 'Germantown, PA', 'gender': 'male', 'displaydate': '1905 - 1985', 'prefix': None, 'culture': 'American', 'displayname': 'Joseph Janney Steinmetz', 'alphasort': 'Steinmetz, Joseph Janney', 'name': 'Joseph Janney Steinmetz', 'personid': 22612, 'deathplace': 'Sarasota, FL', 'displayorder': 1}]\n"
     ]
    },
    {
     "data": {
      "text/html": [
       "<img src=\"https://nrs.harvard.edu/urn-3:HUAM:INV009397N_dynmc\" width=\"300\"/>"
      ],
      "text/plain": [
       "<IPython.core.display.Image object>"
      ]
     },
     "metadata": {},
     "output_type": "display_data"
    },
    {
     "name": "stdout",
     "output_type": "stream",
     "text": [
      "Untitled (cast of pilgrim and indian performers on platform of altar of church)\n",
      "[{'role': 'Artist', 'birthplace': None, 'gender': 'unknown', 'displaydate': '20th century', 'prefix': None, 'culture': 'American', 'displayname': 'Durette Studio', 'alphasort': 'Durette Studio', 'name': 'Durette Studio', 'personid': 22345, 'deathplace': None, 'displayorder': 1}]\n"
     ]
    },
    {
     "data": {
      "text/html": [
       "<img src=\"https://nrs.harvard.edu/urn-3:HUAM:INV011402_dynmc\" width=\"300\"/>"
      ],
      "text/plain": [
       "<IPython.core.display.Image object>"
      ]
     },
     "metadata": {},
     "output_type": "display_data"
    },
    {
     "name": "stdout",
     "output_type": "stream",
     "text": [
      "Untitled (white women dressed in Indian costumes)\n",
      "[{'role': 'Artist', 'birthplace': None, 'gender': 'male', 'displaydate': '1897 - 1980', 'prefix': None, 'culture': 'American', 'displayname': 'Harry Annas', 'alphasort': 'Annas, Harry', 'name': 'Harry Annas', 'personid': 22094, 'deathplace': None, 'displayorder': 1}]\n"
     ]
    },
    {
     "data": {
      "text/html": [
       "<img src=\"https://nrs.harvard.edu/urn-3:HUAM:COIN16451_dlvr\" width=\"300\"/>"
      ],
      "text/plain": [
       "<IPython.core.display.Image object>"
      ]
     },
     "metadata": {},
     "output_type": "display_data"
    },
    {
     "name": "stdout",
     "output_type": "stream",
     "text": [
      "One Cent Coin\n",
      "[{'role': 'Artist', 'birthplace': None, 'gender': 'unknown', 'displaydate': None, 'prefix': None, 'culture': None, 'displayname': 'Unidentified Artist', 'alphasort': 'Unidentified Artist', 'name': 'Unidentified Artist', 'personid': 34147, 'deathplace': None, 'displayorder': 1}]\n"
     ]
    },
    {
     "data": {
      "text/html": [
       "<img src=\"https://nrs.harvard.edu/urn-3:HUAM:77892_dynmc\" width=\"300\"/>"
      ],
      "text/plain": [
       "<IPython.core.display.Image object>"
      ]
     },
     "metadata": {},
     "output_type": "display_data"
    },
    {
     "name": "stdout",
     "output_type": "stream",
     "text": [
      "Gathering of Men, after an Indian Miniature\n",
      "[{'role': 'Artist', 'birthplace': None, 'gender': 'unknown', 'displaydate': None, 'prefix': None, 'culture': None, 'displayname': 'Unidentified Artist', 'alphasort': 'Unidentified Artist', 'name': 'Unidentified Artist', 'personid': 34147, 'deathplace': None, 'displayorder': 1}, {'role': 'Previous attribution', 'birthplace': 'Florence, Italy', 'gender': 'male', 'displaydate': '1856 - 1925', 'prefix': 'Previously attributed to', 'culture': 'American', 'displayname': 'Previously attributed to John Singer Sargent', 'alphasort': 'Sargent, John Singer', 'name': 'John Singer Sargent', 'personid': 28495, 'deathplace': 'London, England', 'displayorder': 2}]\n"
     ]
    },
    {
     "data": {
      "text/html": [
       "<img src=\"https://nrs.harvard.edu/urn-3:HUAM:INV181045_dynmc\" width=\"300\"/>"
      ],
      "text/plain": [
       "<IPython.core.display.Image object>"
      ]
     },
     "metadata": {},
     "output_type": "display_data"
    },
    {
     "name": "stdout",
     "output_type": "stream",
     "text": [
      "Untitled (Indian shot with arrows) from the portfolio \"Spur I\"\n",
      "[{'role': 'Artist', 'birthplace': 'Krefeld, Germany', 'gender': 'male', 'displaydate': '1921 - 1986', 'prefix': None, 'culture': 'German', 'displayname': 'Joseph Beuys', 'alphasort': 'Beuys, Joseph', 'name': 'Joseph Beuys', 'personid': 27839, 'deathplace': 'Düsseldorf, Germany', 'displayorder': 1}, {'role': 'Publisher', 'birthplace': None, 'gender': 'unknown', 'displaydate': None, 'prefix': 'Published by', 'culture': None, 'displayname': 'Published by Propyläen Verlag', 'alphasort': 'Propyläen Verlag', 'name': 'Propyläen Verlag', 'personid': 51088, 'deathplace': None, 'displayorder': 2}]\n"
     ]
    },
    {
     "data": {
      "text/html": [
       "<img src=\"https://nrs.harvard.edu/urn-3:HUAM:INV178069_dynmc\" width=\"300\"/>"
      ],
      "text/plain": [
       "<IPython.core.display.Image object>"
      ]
     },
     "metadata": {},
     "output_type": "display_data"
    },
    {
     "name": "stdout",
     "output_type": "stream",
     "text": [
      "Genesis:  The Five Hairs of the One Old Man (America/Thompson Indians)\n",
      "[{'role': 'Artist', 'birthplace': 'Münster, Germany', 'gender': 'unknown', 'displaydate': 'born 1935', 'prefix': None, 'culture': 'German', 'displayname': 'Rune Mields', 'alphasort': 'Mields, Rune', 'name': 'Rune Mields', 'personid': 34760, 'deathplace': None, 'displayorder': 1}]\n"
     ]
    },
    {
     "data": {
      "text/html": [
       "<img src=\"https://nrs.harvard.edu/urn-3:HUAM:73002_dynmc\" width=\"300\"/>"
      ],
      "text/plain": [
       "<IPython.core.display.Image object>"
      ]
     },
     "metadata": {},
     "output_type": "display_data"
    },
    {
     "name": "stdout",
     "output_type": "stream",
     "text": [
      "Two-handled Cup\n",
      "[{'role': 'Artist', 'birthplace': None, 'gender': 'unknown', 'displaydate': '17th century', 'prefix': None, 'culture': 'British, English', 'displayname': \"Maker's mark EC\", 'alphasort': \"Maker's mark EC\", 'name': \"Maker's mark EC\", 'personid': 20062, 'deathplace': None, 'displayorder': 1}]\n"
     ]
    },
    {
     "data": {
      "text/html": [
       "<img src=\"https://nrs.harvard.edu/urn-3:HUAM:INV019080_dynmc\" width=\"300\"/>"
      ],
      "text/plain": [
       "<IPython.core.display.Image object>"
      ]
     },
     "metadata": {},
     "output_type": "display_data"
    },
    {
     "name": "stdout",
     "output_type": "stream",
     "text": [
      "Indian Town, Juneau, Alaska\n",
      "[{'role': 'Artist', 'birthplace': None, 'gender': 'unknown', 'displaydate': None, 'prefix': None, 'culture': None, 'displayname': 'Unidentified Artist', 'alphasort': 'Unidentified Artist', 'name': 'Unidentified Artist', 'personid': 34147, 'deathplace': None, 'displayorder': 1}]\n"
     ]
    },
    {
     "data": {
      "text/html": [
       "<img src=\"https://nrs.harvard.edu/urn-3:HUAM:INV019102_dynmc\" width=\"300\"/>"
      ],
      "text/plain": [
       "<IPython.core.display.Image object>"
      ]
     },
     "metadata": {},
     "output_type": "display_data"
    },
    {
     "name": "stdout",
     "output_type": "stream",
     "text": [
      "Indian Totem Poles, Fort Wrangel, Alaska\n",
      "[{'role': 'Artist', 'birthplace': None, 'gender': 'unknown', 'displaydate': None, 'prefix': None, 'culture': None, 'displayname': 'Unidentified Artist', 'alphasort': 'Unidentified Artist', 'name': 'Unidentified Artist', 'personid': 34147, 'deathplace': None, 'displayorder': 1}]\n"
     ]
    },
    {
     "data": {
      "text/html": [
       "<img src=\"https://nrs.harvard.edu/urn-3:HUAM:INV012126_dynmc\" width=\"300\"/>"
      ],
      "text/plain": [
       "<IPython.core.display.Image object>"
      ]
     },
     "metadata": {},
     "output_type": "display_data"
    },
    {
     "name": "stdout",
     "output_type": "stream",
     "text": [
      "Sioux Indian Dance\n",
      "[{'role': 'Artist', 'birthplace': None, 'gender': 'unknown', 'displaydate': '19th century', 'prefix': None, 'culture': 'American', 'displayname': 'W. R. Cross', 'alphasort': 'Cross, W. R.', 'name': 'W. R. Cross', 'personid': 22342, 'deathplace': None, 'displayorder': 1}]\n"
     ]
    },
    {
     "data": {
      "text/html": [
       "<img src=\"https://nrs.harvard.edu/urn-3:HUAM:INV013650_dynmc\" width=\"300\"/>"
      ],
      "text/plain": [
       "<IPython.core.display.Image object>"
      ]
     },
     "metadata": {},
     "output_type": "display_data"
    },
    {
     "name": "stdout",
     "output_type": "stream",
     "text": [
      "Indian Chiefs Who Counciled with Gen. Miles and Settled the Indian War\n",
      "[{'role': 'Artist', 'birthplace': None, 'gender': 'unknown', 'displaydate': '19th century', 'prefix': None, 'culture': 'American', 'displayname': 'Grabill', 'alphasort': 'Grabill', 'name': 'Grabill', 'personid': 22370, 'deathplace': None, 'displayorder': 1}]\n"
     ]
    },
    {
     "data": {
      "text/html": [
       "<img src=\"https://nrs.harvard.edu/urn-3:HUAM:53677_dynmc\" width=\"300\"/>"
      ],
      "text/plain": [
       "<IPython.core.display.Image object>"
      ]
     },
     "metadata": {},
     "output_type": "display_data"
    },
    {
     "name": "stdout",
     "output_type": "stream",
     "text": [
      "Aboriginal Life Among the Navajoe Indians. Near old Fort Defiance, N.M.\n",
      "[{'role': 'Artist', 'birthplace': 'New York, New York', 'gender': 'male', 'displaydate': '1840 - 1882', 'prefix': None, 'culture': 'American', 'displayname': \"Timothy H. O'Sullivan\", 'alphasort': \"O'Sullivan, Timothy H.\", 'name': \"Timothy H. O'Sullivan\", 'personid': 34869, 'deathplace': 'Staten Island, New York', 'displayorder': 1}]\n"
     ]
    },
    {
     "data": {
      "text/html": [
       "<img src=\"https://nrs.harvard.edu/urn-3:HUAM:INV012127_dynmc\" width=\"300\"/>"
      ],
      "text/plain": [
       "<IPython.core.display.Image object>"
      ]
     },
     "metadata": {},
     "output_type": "display_data"
    },
    {
     "name": "stdout",
     "output_type": "stream",
     "text": [
      "View of Indian Camp, Pine Ridge Agency, S. D.\n",
      "[{'role': 'Artist', 'birthplace': None, 'gender': 'unknown', 'displaydate': '19th century', 'prefix': None, 'culture': 'American', 'displayname': 'W. R. Cross', 'alphasort': 'Cross, W. R.', 'name': 'W. R. Cross', 'personid': 22342, 'deathplace': None, 'displayorder': 1}]\n"
     ]
    },
    {
     "data": {
      "text/html": [
       "<img src=\"https://nrs.harvard.edu/urn-3:HUAM:INV028325_dynmc\" width=\"300\"/>"
      ],
      "text/plain": [
       "<IPython.core.display.Image object>"
      ]
     },
     "metadata": {},
     "output_type": "display_data"
    },
    {
     "name": "stdout",
     "output_type": "stream",
     "text": [
      "Indian Pueblo, Zuni, N. M.\n",
      "[{'role': 'Artist', 'birthplace': 'New York, New York', 'gender': 'male', 'displaydate': '1840 - 1882', 'prefix': None, 'culture': 'American', 'displayname': \"Timothy H. O'Sullivan\", 'alphasort': \"O'Sullivan, Timothy H.\", 'name': \"Timothy H. O'Sullivan\", 'personid': 34869, 'deathplace': 'Staten Island, New York', 'displayorder': 1}]\n"
     ]
    },
    {
     "data": {
      "text/html": [
       "<img src=\"https://nrs.harvard.edu/urn-3:HUAM:INV028334_dynmc\" width=\"300\"/>"
      ],
      "text/plain": [
       "<IPython.core.display.Image object>"
      ]
     },
     "metadata": {},
     "output_type": "display_data"
    },
    {
     "name": "stdout",
     "output_type": "stream",
     "text": [
      "Group of Pah-Ute Indians, Nevada\n",
      "[{'role': 'Artist', 'birthplace': 'New York, New York', 'gender': 'male', 'displaydate': '1840 - 1882', 'prefix': None, 'culture': 'American', 'displayname': \"Timothy H. O'Sullivan\", 'alphasort': \"O'Sullivan, Timothy H.\", 'name': \"Timothy H. O'Sullivan\", 'personid': 34869, 'deathplace': 'Staten Island, New York', 'displayorder': 1}]\n"
     ]
    },
    {
     "data": {
      "text/html": [
       "<img src=\"https://nrs.harvard.edu/urn-3:HUAM:INV027399_dynmc\" width=\"300\"/>"
      ],
      "text/plain": [
       "<IPython.core.display.Image object>"
      ]
     },
     "metadata": {},
     "output_type": "display_data"
    },
    {
     "name": "stdout",
     "output_type": "stream",
     "text": [
      "Hair Washing, Hopi Indians (Shoshonean)\n",
      "[{'role': 'Artist', 'birthplace': 'Hanover, Germany', 'gender': 'male', 'displaydate': 'c. 1843 - c. 1925', 'prefix': None, 'culture': 'American', 'displayname': 'John K. Hillers', 'alphasort': 'Hillers, John K.', 'name': 'John K. Hillers', 'personid': 22090, 'deathplace': 'Washington, D.C.', 'displayorder': 1}]\n"
     ]
    },
    {
     "data": {
      "text/html": [
       "<img src=\"https://nrs.harvard.edu/urn-3:HUAM:INV021586_dynmc\" width=\"300\"/>"
      ],
      "text/plain": [
       "<IPython.core.display.Image object>"
      ]
     },
     "metadata": {},
     "output_type": "display_data"
    },
    {
     "name": "stdout",
     "output_type": "stream",
     "text": [
      "Poosepatuck Indian Reservation, Mastic\n",
      "[{'role': 'Artist', 'birthplace': None, 'gender': 'unknown', 'displaydate': 'born 1953', 'prefix': None, 'culture': 'American', 'displayname': 'Per Brandin', 'alphasort': 'Brandin, Per', 'name': 'Per Brandin', 'personid': 22053, 'deathplace': None, 'displayorder': 1}]\n"
     ]
    }
   ],
   "source": [
    "\n",
    "for index, row in ind_df.iterrows():\n",
    "    if not pd.isna(row['primaryimageurl']):\n",
    "        image_path = row['primaryimageurl']\n",
    "        display(Image(url = image_path, width = 300))\n",
    "        print(row['title'])\n",
    "  \n",
    "        print(row['people'])"
   ]
  },
  {
   "cell_type": "markdown",
   "id": "cbaaff19-33d9-410f-b879-78bc1f849d6c",
   "metadata": {},
   "source": [
    "# More Ideas \n",
    "* find Missplaced Data eg: images related to women including erotic references\n",
    "* depicting minorities with passive language\n",
    "* opinions\n",
    "* negativity , discrimination concerining disabiility"
   ]
  },
  {
   "cell_type": "code",
   "execution_count": null,
   "id": "11749666-225e-4e88-8467-8978fe74ca67",
   "metadata": {},
   "outputs": [],
   "source": []
  }
 ],
 "metadata": {
  "kernelspec": {
   "display_name": "Python (myenv)",
   "language": "python",
   "name": "myenv"
  },
  "language_info": {
   "codemirror_mode": {
    "name": "ipython",
    "version": 3
   },
   "file_extension": ".py",
   "mimetype": "text/x-python",
   "name": "python",
   "nbconvert_exporter": "python",
   "pygments_lexer": "ipython3",
   "version": "3.12.2"
  }
 },
 "nbformat": 4,
 "nbformat_minor": 5
}
